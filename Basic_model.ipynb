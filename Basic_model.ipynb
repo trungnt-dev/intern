{
 "cells": [
  {
   "cell_type": "code",
   "execution_count": 1,
   "metadata": {},
   "outputs": [
    {
     "name": "stderr",
     "output_type": "stream",
     "text": [
      "/home/ta/anaconda3/envs/dyno/lib/python3.7/site-packages/sklearn/utils/__init__.py:4: DeprecationWarning: Using or importing the ABCs from 'collections' instead of from 'collections.abc' is deprecated since Python 3.3,and in 3.9 it will stop working\n",
      "  from collections import Sequence\n"
     ]
    }
   ],
   "source": [
    "import pandas as pd\n",
    "import numpy as np\n",
    "from sklearn.tree import DecisionTreeClassifier\n",
    "from sklearn import metrics"
   ]
  },
  {
   "cell_type": "code",
   "execution_count": 2,
   "metadata": {},
   "outputs": [],
   "source": [
    "train = pd.read_csv('train.csv')"
   ]
  },
  {
   "cell_type": "code",
   "execution_count": 3,
   "metadata": {},
   "outputs": [
    {
     "data": {
      "text/html": [
       "<div>\n",
       "<style scoped>\n",
       "    .dataframe tbody tr th:only-of-type {\n",
       "        vertical-align: middle;\n",
       "    }\n",
       "\n",
       "    .dataframe tbody tr th {\n",
       "        vertical-align: top;\n",
       "    }\n",
       "\n",
       "    .dataframe thead th {\n",
       "        text-align: right;\n",
       "    }\n",
       "</style>\n",
       "<table border=\"1\" class=\"dataframe\">\n",
       "  <thead>\n",
       "    <tr style=\"text-align: right;\">\n",
       "      <th></th>\n",
       "      <th>loan_status</th>\n",
       "      <th>loan_amnt</th>\n",
       "      <th>int_rate</th>\n",
       "      <th>annual_inc</th>\n",
       "    </tr>\n",
       "  </thead>\n",
       "  <tbody>\n",
       "    <tr>\n",
       "      <th>loan_status</th>\n",
       "      <td>1.000000</td>\n",
       "      <td>0.060363</td>\n",
       "      <td>0.240359</td>\n",
       "      <td>-0.063104</td>\n",
       "    </tr>\n",
       "    <tr>\n",
       "      <th>loan_amnt</th>\n",
       "      <td>0.060363</td>\n",
       "      <td>1.000000</td>\n",
       "      <td>0.210658</td>\n",
       "      <td>0.350495</td>\n",
       "    </tr>\n",
       "    <tr>\n",
       "      <th>int_rate</th>\n",
       "      <td>0.240359</td>\n",
       "      <td>0.210658</td>\n",
       "      <td>1.000000</td>\n",
       "      <td>-0.028325</td>\n",
       "    </tr>\n",
       "    <tr>\n",
       "      <th>annual_inc</th>\n",
       "      <td>-0.063104</td>\n",
       "      <td>0.350495</td>\n",
       "      <td>-0.028325</td>\n",
       "      <td>1.000000</td>\n",
       "    </tr>\n",
       "  </tbody>\n",
       "</table>\n",
       "</div>"
      ],
      "text/plain": [
       "             loan_status  loan_amnt  int_rate  annual_inc\n",
       "loan_status     1.000000   0.060363  0.240359   -0.063104\n",
       "loan_amnt       0.060363   1.000000  0.210658    0.350495\n",
       "int_rate        0.240359   0.210658  1.000000   -0.028325\n",
       "annual_inc     -0.063104   0.350495 -0.028325    1.000000"
      ]
     },
     "execution_count": 3,
     "metadata": {},
     "output_type": "execute_result"
    }
   ],
   "source": [
    "# Re-label\n",
    "train.replace(['Charged Off', 'Default', 'Fully Paid'], [1, 1, 0], inplace=True)\n",
    "train.corr()"
   ]
  },
  {
   "cell_type": "code",
   "execution_count": 4,
   "metadata": {},
   "outputs": [],
   "source": [
    "# Convert categorical features to numerical\n",
    "train.replace(['A','B','C','D','E','F','G'], [1,2,3,4,5,6,7], inplace=True)\n",
    "train.replace(['RENT', 'MORTGAGE', 'OWN', 'NONE', 'OTHER', 'ANY'], [1,2,3,4,5,6], inplace=True)\n",
    "train.replace([' 36 months', ' 60 months'], [1,2], inplace=True)"
   ]
  },
  {
   "cell_type": "code",
   "execution_count": 5,
   "metadata": {},
   "outputs": [
    {
     "data": {
      "text/html": [
       "<div>\n",
       "<style scoped>\n",
       "    .dataframe tbody tr th:only-of-type {\n",
       "        vertical-align: middle;\n",
       "    }\n",
       "\n",
       "    .dataframe tbody tr th {\n",
       "        vertical-align: top;\n",
       "    }\n",
       "\n",
       "    .dataframe thead th {\n",
       "        text-align: right;\n",
       "    }\n",
       "</style>\n",
       "<table border=\"1\" class=\"dataframe\">\n",
       "  <thead>\n",
       "    <tr style=\"text-align: right;\">\n",
       "      <th></th>\n",
       "      <th>loan_status</th>\n",
       "      <th>loan_amnt</th>\n",
       "      <th>int_rate</th>\n",
       "      <th>grade</th>\n",
       "      <th>emp_length</th>\n",
       "      <th>home_ownership</th>\n",
       "      <th>annual_inc</th>\n",
       "      <th>term</th>\n",
       "    </tr>\n",
       "  </thead>\n",
       "  <tbody>\n",
       "    <tr>\n",
       "      <th>loan_status</th>\n",
       "      <td>1.000000</td>\n",
       "      <td>0.060363</td>\n",
       "      <td>0.240359</td>\n",
       "      <td>0.229346</td>\n",
       "      <td>-0.003686</td>\n",
       "      <td>-0.037924</td>\n",
       "      <td>-0.063104</td>\n",
       "      <td>0.152834</td>\n",
       "    </tr>\n",
       "    <tr>\n",
       "      <th>loan_amnt</th>\n",
       "      <td>0.060363</td>\n",
       "      <td>1.000000</td>\n",
       "      <td>0.210658</td>\n",
       "      <td>0.208031</td>\n",
       "      <td>0.112387</td>\n",
       "      <td>0.126505</td>\n",
       "      <td>0.350495</td>\n",
       "      <td>0.402963</td>\n",
       "    </tr>\n",
       "    <tr>\n",
       "      <th>int_rate</th>\n",
       "      <td>0.240359</td>\n",
       "      <td>0.210658</td>\n",
       "      <td>1.000000</td>\n",
       "      <td>0.949896</td>\n",
       "      <td>0.028016</td>\n",
       "      <td>-0.045657</td>\n",
       "      <td>-0.028325</td>\n",
       "      <td>0.445961</td>\n",
       "    </tr>\n",
       "    <tr>\n",
       "      <th>grade</th>\n",
       "      <td>0.229346</td>\n",
       "      <td>0.208031</td>\n",
       "      <td>0.949896</td>\n",
       "      <td>1.000000</td>\n",
       "      <td>0.018977</td>\n",
       "      <td>-0.041437</td>\n",
       "      <td>-0.019112</td>\n",
       "      <td>0.467269</td>\n",
       "    </tr>\n",
       "    <tr>\n",
       "      <th>emp_length</th>\n",
       "      <td>-0.003686</td>\n",
       "      <td>0.112387</td>\n",
       "      <td>0.028016</td>\n",
       "      <td>0.018977</td>\n",
       "      <td>1.000000</td>\n",
       "      <td>0.170038</td>\n",
       "      <td>0.075455</td>\n",
       "      <td>0.068862</td>\n",
       "    </tr>\n",
       "    <tr>\n",
       "      <th>home_ownership</th>\n",
       "      <td>-0.037924</td>\n",
       "      <td>0.126505</td>\n",
       "      <td>-0.045657</td>\n",
       "      <td>-0.041437</td>\n",
       "      <td>0.170038</td>\n",
       "      <td>1.000000</td>\n",
       "      <td>0.105532</td>\n",
       "      <td>0.071636</td>\n",
       "    </tr>\n",
       "    <tr>\n",
       "      <th>annual_inc</th>\n",
       "      <td>-0.063104</td>\n",
       "      <td>0.350495</td>\n",
       "      <td>-0.028325</td>\n",
       "      <td>-0.019112</td>\n",
       "      <td>0.075455</td>\n",
       "      <td>0.105532</td>\n",
       "      <td>1.000000</td>\n",
       "      <td>0.069682</td>\n",
       "    </tr>\n",
       "    <tr>\n",
       "      <th>term</th>\n",
       "      <td>0.152834</td>\n",
       "      <td>0.402963</td>\n",
       "      <td>0.445961</td>\n",
       "      <td>0.467269</td>\n",
       "      <td>0.068862</td>\n",
       "      <td>0.071636</td>\n",
       "      <td>0.069682</td>\n",
       "      <td>1.000000</td>\n",
       "    </tr>\n",
       "  </tbody>\n",
       "</table>\n",
       "</div>"
      ],
      "text/plain": [
       "                loan_status  loan_amnt  int_rate     grade  emp_length  \\\n",
       "loan_status        1.000000   0.060363  0.240359  0.229346   -0.003686   \n",
       "loan_amnt          0.060363   1.000000  0.210658  0.208031    0.112387   \n",
       "int_rate           0.240359   0.210658  1.000000  0.949896    0.028016   \n",
       "grade              0.229346   0.208031  0.949896  1.000000    0.018977   \n",
       "emp_length        -0.003686   0.112387  0.028016  0.018977    1.000000   \n",
       "home_ownership    -0.037924   0.126505 -0.045657 -0.041437    0.170038   \n",
       "annual_inc        -0.063104   0.350495 -0.028325 -0.019112    0.075455   \n",
       "term               0.152834   0.402963  0.445961  0.467269    0.068862   \n",
       "\n",
       "                home_ownership  annual_inc      term  \n",
       "loan_status          -0.037924   -0.063104  0.152834  \n",
       "loan_amnt             0.126505    0.350495  0.402963  \n",
       "int_rate             -0.045657   -0.028325  0.445961  \n",
       "grade                -0.041437   -0.019112  0.467269  \n",
       "emp_length            0.170038    0.075455  0.068862  \n",
       "home_ownership        1.000000    0.105532  0.071636  \n",
       "annual_inc            0.105532    1.000000  0.069682  \n",
       "term                  0.071636    0.069682  1.000000  "
      ]
     },
     "execution_count": 5,
     "metadata": {},
     "output_type": "execute_result"
    }
   ],
   "source": [
    "###Fill Missing values (emp_length) with mean value\n",
    "train.isnull().sum()\n",
    "train['emp_length'].value_counts()\n",
    "train.replace(['< 1 year', '1 year', '10+ years'], ['0 years', '1 years', '10 years'], inplace=True)\n",
    "train.replace(['0 years', '1 years', '2 years', '3 years', '4 years', '5 years', '6 years', '7 years', '8 years', '9 years', '10 years'],\n",
    "              [0, 1, 2, 3, 4, 5, 6, 7, 8, 9, 10], inplace=True)\n",
    "\n",
    "emp_length_mean = train['emp_length'].mean()\n",
    "train.fillna(emp_length_mean, inplace=True)\n",
    "train.corr()"
   ]
  },
  {
   "cell_type": "code",
   "execution_count": 6,
   "metadata": {},
   "outputs": [
    {
     "data": {
      "text/html": [
       "<div>\n",
       "<style scoped>\n",
       "    .dataframe tbody tr th:only-of-type {\n",
       "        vertical-align: middle;\n",
       "    }\n",
       "\n",
       "    .dataframe tbody tr th {\n",
       "        vertical-align: top;\n",
       "    }\n",
       "\n",
       "    .dataframe thead th {\n",
       "        text-align: right;\n",
       "    }\n",
       "</style>\n",
       "<table border=\"1\" class=\"dataframe\">\n",
       "  <thead>\n",
       "    <tr style=\"text-align: right;\">\n",
       "      <th></th>\n",
       "      <th>loan_amnt</th>\n",
       "      <th>int_rate</th>\n",
       "      <th>grade</th>\n",
       "      <th>emp_length</th>\n",
       "      <th>home_ownership</th>\n",
       "      <th>annual_inc</th>\n",
       "      <th>term</th>\n",
       "    </tr>\n",
       "  </thead>\n",
       "  <tbody>\n",
       "    <tr>\n",
       "      <th>0</th>\n",
       "      <td>6000.0</td>\n",
       "      <td>9.76</td>\n",
       "      <td>2</td>\n",
       "      <td>4.0</td>\n",
       "      <td>1</td>\n",
       "      <td>33000.0</td>\n",
       "      <td>1</td>\n",
       "    </tr>\n",
       "    <tr>\n",
       "      <th>1</th>\n",
       "      <td>19700.0</td>\n",
       "      <td>6.62</td>\n",
       "      <td>1</td>\n",
       "      <td>5.0</td>\n",
       "      <td>1</td>\n",
       "      <td>45000.0</td>\n",
       "      <td>1</td>\n",
       "    </tr>\n",
       "    <tr>\n",
       "      <th>2</th>\n",
       "      <td>14000.0</td>\n",
       "      <td>6.03</td>\n",
       "      <td>1</td>\n",
       "      <td>0.0</td>\n",
       "      <td>2</td>\n",
       "      <td>75000.0</td>\n",
       "      <td>1</td>\n",
       "    </tr>\n",
       "    <tr>\n",
       "      <th>3</th>\n",
       "      <td>21000.0</td>\n",
       "      <td>13.11</td>\n",
       "      <td>2</td>\n",
       "      <td>2.0</td>\n",
       "      <td>1</td>\n",
       "      <td>51000.0</td>\n",
       "      <td>1</td>\n",
       "    </tr>\n",
       "    <tr>\n",
       "      <th>4</th>\n",
       "      <td>4500.0</td>\n",
       "      <td>16.29</td>\n",
       "      <td>4</td>\n",
       "      <td>2.0</td>\n",
       "      <td>2</td>\n",
       "      <td>96000.0</td>\n",
       "      <td>1</td>\n",
       "    </tr>\n",
       "    <tr>\n",
       "      <th>...</th>\n",
       "      <td>...</td>\n",
       "      <td>...</td>\n",
       "      <td>...</td>\n",
       "      <td>...</td>\n",
       "      <td>...</td>\n",
       "      <td>...</td>\n",
       "      <td>...</td>\n",
       "    </tr>\n",
       "    <tr>\n",
       "      <th>177928</th>\n",
       "      <td>4750.0</td>\n",
       "      <td>10.16</td>\n",
       "      <td>2</td>\n",
       "      <td>10.0</td>\n",
       "      <td>2</td>\n",
       "      <td>63000.0</td>\n",
       "      <td>1</td>\n",
       "    </tr>\n",
       "    <tr>\n",
       "      <th>177929</th>\n",
       "      <td>10000.0</td>\n",
       "      <td>9.17</td>\n",
       "      <td>2</td>\n",
       "      <td>10.0</td>\n",
       "      <td>1</td>\n",
       "      <td>70600.0</td>\n",
       "      <td>1</td>\n",
       "    </tr>\n",
       "    <tr>\n",
       "      <th>177930</th>\n",
       "      <td>9000.0</td>\n",
       "      <td>14.33</td>\n",
       "      <td>3</td>\n",
       "      <td>10.0</td>\n",
       "      <td>1</td>\n",
       "      <td>63000.0</td>\n",
       "      <td>1</td>\n",
       "    </tr>\n",
       "    <tr>\n",
       "      <th>177931</th>\n",
       "      <td>19800.0</td>\n",
       "      <td>22.99</td>\n",
       "      <td>6</td>\n",
       "      <td>6.0</td>\n",
       "      <td>2</td>\n",
       "      <td>100000.0</td>\n",
       "      <td>2</td>\n",
       "    </tr>\n",
       "    <tr>\n",
       "      <th>177932</th>\n",
       "      <td>24000.0</td>\n",
       "      <td>8.90</td>\n",
       "      <td>1</td>\n",
       "      <td>3.0</td>\n",
       "      <td>2</td>\n",
       "      <td>185000.0</td>\n",
       "      <td>2</td>\n",
       "    </tr>\n",
       "  </tbody>\n",
       "</table>\n",
       "<p>177933 rows × 7 columns</p>\n",
       "</div>"
      ],
      "text/plain": [
       "        loan_amnt  int_rate  grade  emp_length  home_ownership  annual_inc  \\\n",
       "0          6000.0      9.76      2         4.0               1     33000.0   \n",
       "1         19700.0      6.62      1         5.0               1     45000.0   \n",
       "2         14000.0      6.03      1         0.0               2     75000.0   \n",
       "3         21000.0     13.11      2         2.0               1     51000.0   \n",
       "4          4500.0     16.29      4         2.0               2     96000.0   \n",
       "...           ...       ...    ...         ...             ...         ...   \n",
       "177928     4750.0     10.16      2        10.0               2     63000.0   \n",
       "177929    10000.0      9.17      2        10.0               1     70600.0   \n",
       "177930     9000.0     14.33      3        10.0               1     63000.0   \n",
       "177931    19800.0     22.99      6         6.0               2    100000.0   \n",
       "177932    24000.0      8.90      1         3.0               2    185000.0   \n",
       "\n",
       "        term  \n",
       "0          1  \n",
       "1          1  \n",
       "2          1  \n",
       "3          1  \n",
       "4          1  \n",
       "...      ...  \n",
       "177928     1  \n",
       "177929     1  \n",
       "177930     1  \n",
       "177931     2  \n",
       "177932     2  \n",
       "\n",
       "[177933 rows x 7 columns]"
      ]
     },
     "execution_count": 6,
     "metadata": {},
     "output_type": "execute_result"
    }
   ],
   "source": [
    "label = train.loan_status\n",
    "X = train.drop(columns='loan_status')\n",
    "X"
   ]
  },
  {
   "cell_type": "code",
   "execution_count": 7,
   "metadata": {},
   "outputs": [],
   "source": [
    "clf = DecisionTreeClassifier()"
   ]
  },
  {
   "cell_type": "code",
   "execution_count": 8,
   "metadata": {},
   "outputs": [
    {
     "data": {
      "text/plain": [
       "DecisionTreeClassifier(class_weight=None, criterion='gini', max_depth=None,\n",
       "            max_features=None, max_leaf_nodes=None,\n",
       "            min_impurity_decrease=0.0, min_impurity_split=None,\n",
       "            min_samples_leaf=1, min_samples_split=2,\n",
       "            min_weight_fraction_leaf=0.0, presort=False, random_state=None,\n",
       "            splitter='best')"
      ]
     },
     "execution_count": 8,
     "metadata": {},
     "output_type": "execute_result"
    }
   ],
   "source": [
    "clf.fit(X,label)"
   ]
  },
  {
   "cell_type": "code",
   "execution_count": 9,
   "metadata": {},
   "outputs": [
    {
     "data": {
      "text/html": [
       "<div>\n",
       "<style scoped>\n",
       "    .dataframe tbody tr th:only-of-type {\n",
       "        vertical-align: middle;\n",
       "    }\n",
       "\n",
       "    .dataframe tbody tr th {\n",
       "        vertical-align: top;\n",
       "    }\n",
       "\n",
       "    .dataframe thead th {\n",
       "        text-align: right;\n",
       "    }\n",
       "</style>\n",
       "<table border=\"1\" class=\"dataframe\">\n",
       "  <thead>\n",
       "    <tr style=\"text-align: right;\">\n",
       "      <th></th>\n",
       "      <th>loan_amnt</th>\n",
       "      <th>int_rate</th>\n",
       "      <th>grade</th>\n",
       "      <th>emp_length</th>\n",
       "      <th>home_ownership</th>\n",
       "      <th>annual_inc</th>\n",
       "      <th>term</th>\n",
       "    </tr>\n",
       "    <tr>\n",
       "      <th>loan_status</th>\n",
       "      <th></th>\n",
       "      <th></th>\n",
       "      <th></th>\n",
       "      <th></th>\n",
       "      <th></th>\n",
       "      <th></th>\n",
       "      <th></th>\n",
       "    </tr>\n",
       "  </thead>\n",
       "  <tbody>\n",
       "    <tr>\n",
       "      <th>Fully Paid</th>\n",
       "      <td>9525.0</td>\n",
       "      <td>6.62</td>\n",
       "      <td>A</td>\n",
       "      <td>2 years</td>\n",
       "      <td>RENT</td>\n",
       "      <td>60000.0</td>\n",
       "      <td>36 months</td>\n",
       "    </tr>\n",
       "    <tr>\n",
       "      <th>Charged Off</th>\n",
       "      <td>17325.0</td>\n",
       "      <td>11.14</td>\n",
       "      <td>B</td>\n",
       "      <td>1 year</td>\n",
       "      <td>MORTGAGE</td>\n",
       "      <td>54000.0</td>\n",
       "      <td>36 months</td>\n",
       "    </tr>\n",
       "    <tr>\n",
       "      <th>Fully Paid</th>\n",
       "      <td>7000.0</td>\n",
       "      <td>8.49</td>\n",
       "      <td>A</td>\n",
       "      <td>5 years</td>\n",
       "      <td>RENT</td>\n",
       "      <td>118000.0</td>\n",
       "      <td>36 months</td>\n",
       "    </tr>\n",
       "    <tr>\n",
       "      <th>Fully Paid</th>\n",
       "      <td>10000.0</td>\n",
       "      <td>16.24</td>\n",
       "      <td>C</td>\n",
       "      <td>10+ years</td>\n",
       "      <td>MORTGAGE</td>\n",
       "      <td>150000.0</td>\n",
       "      <td>60 months</td>\n",
       "    </tr>\n",
       "    <tr>\n",
       "      <th>Fully Paid</th>\n",
       "      <td>9600.0</td>\n",
       "      <td>12.12</td>\n",
       "      <td>B</td>\n",
       "      <td>8 years</td>\n",
       "      <td>RENT</td>\n",
       "      <td>120000.0</td>\n",
       "      <td>36 months</td>\n",
       "    </tr>\n",
       "  </tbody>\n",
       "</table>\n",
       "</div>"
      ],
      "text/plain": [
       "             loan_amnt  int_rate grade emp_length home_ownership  annual_inc  \\\n",
       "loan_status                                                                    \n",
       "Fully Paid      9525.0      6.62     A    2 years           RENT     60000.0   \n",
       "Charged Off    17325.0     11.14     B     1 year       MORTGAGE     54000.0   \n",
       "Fully Paid      7000.0      8.49     A    5 years           RENT    118000.0   \n",
       "Fully Paid     10000.0     16.24     C  10+ years       MORTGAGE    150000.0   \n",
       "Fully Paid      9600.0     12.12     B    8 years           RENT    120000.0   \n",
       "\n",
       "                   term  \n",
       "loan_status              \n",
       "Fully Paid    36 months  \n",
       "Charged Off   36 months  \n",
       "Fully Paid    36 months  \n",
       "Fully Paid    60 months  \n",
       "Fully Paid    36 months  "
      ]
     },
     "execution_count": 9,
     "metadata": {},
     "output_type": "execute_result"
    }
   ],
   "source": [
    "test = pd.read_csv('test.csv', index_col=0)\n",
    "test.head()"
   ]
  },
  {
   "cell_type": "code",
   "execution_count": 10,
   "metadata": {},
   "outputs": [],
   "source": [
    "# Pre-Processing for test data\n",
    "test.replace(['< 1 year', '1 year', '10+ years'], ['0 years', '1 years', '10 years'], inplace=True)\n",
    "test.replace(['0 years', '1 years', '2 years', '3 years', '4 years', '5 years', '6 years', '7 years', '8 years', '9 years', '10 years'],\n",
    "              [0, 1, 2, 3, 4, 5, 6, 7, 8, 9, 10], inplace=True)\n",
    "emp_length_mean = test['emp_length'].mean()\n",
    "test.fillna(emp_length_mean, inplace=True)"
   ]
  },
  {
   "cell_type": "code",
   "execution_count": 11,
   "metadata": {},
   "outputs": [],
   "source": [
    "test.replace(['A','B','C','D','E','F','G'], [1,2,3,4,5,6,7], inplace=True)\n",
    "test.replace(['RENT', 'MORTGAGE', 'OWN', 'NONE', 'OTHER', 'ANY'], [1,2,3,4,5,6], inplace=True)\n",
    "test.replace([' 36 months', ' 60 months'], [1,2], inplace=True)"
   ]
  },
  {
   "cell_type": "code",
   "execution_count": 12,
   "metadata": {},
   "outputs": [],
   "source": [
    "#Run model"
   ]
  },
  {
   "cell_type": "code",
   "execution_count": 13,
   "metadata": {},
   "outputs": [],
   "source": [
    "y_score = clf.predict(test)"
   ]
  },
  {
   "cell_type": "code",
   "execution_count": 14,
   "metadata": {},
   "outputs": [],
   "source": [
    "y_test = pd.DataFrame(test.index)"
   ]
  },
  {
   "cell_type": "code",
   "execution_count": 15,
   "metadata": {},
   "outputs": [],
   "source": [
    "y_test.replace(['Fully Paid', 'Charged Off', 'Default'], [0,1,1], inplace=True)"
   ]
  },
  {
   "cell_type": "code",
   "execution_count": 16,
   "metadata": {},
   "outputs": [],
   "source": [
    "y_test_arr = y_test.loan_status"
   ]
  },
  {
   "cell_type": "code",
   "execution_count": 17,
   "metadata": {},
   "outputs": [],
   "source": [
    "roc_auc_score = metrics.roc_auc_score(y_test_arr, y_score)"
   ]
  },
  {
   "cell_type": "code",
   "execution_count": 18,
   "metadata": {},
   "outputs": [],
   "source": [
    "gini = 2*roc_auc_score - 1"
   ]
  },
  {
   "cell_type": "code",
   "execution_count": 19,
   "metadata": {},
   "outputs": [
    {
     "data": {
      "text/plain": [
       "0.08409553270895431"
      ]
     },
     "execution_count": 19,
     "metadata": {},
     "output_type": "execute_result"
    }
   ],
   "source": [
    "gini"
   ]
  },
  {
   "cell_type": "code",
   "execution_count": 20,
   "metadata": {
    "scrolled": true
   },
   "outputs": [
    {
     "name": "stderr",
     "output_type": "stream",
     "text": [
      "/home/ta/anaconda3/envs/dyno/lib/python3.7/site-packages/sklearn/model_selection/_split.py:18: DeprecationWarning: Using or importing the ABCs from 'collections' instead of from 'collections.abc' is deprecated since Python 3.3,and in 3.9 it will stop working\n",
      "  from collections import Iterable\n",
      "/home/ta/anaconda3/envs/dyno/lib/python3.7/site-packages/sklearn/model_selection/_search.py:16: DeprecationWarning: Using or importing the ABCs from 'collections' instead of from 'collections.abc' is deprecated since Python 3.3,and in 3.9 it will stop working\n",
      "  from collections import Mapping, namedtuple, defaultdict, Sequence\n"
     ]
    },
    {
     "data": {
      "text/plain": [
       "0.3772868041602959"
      ]
     },
     "execution_count": 20,
     "metadata": {},
     "output_type": "execute_result"
    }
   ],
   "source": [
    "from sklearn.linear_model import LinearRegression, LogisticRegression\n",
    "clf1 = LinearRegression()\n",
    "clf1.fit(X, label)\n",
    "y_score1 = clf1.predict(test)\n",
    "r1 = metrics.roc_auc_score(y_test_arr, y_score1)\n",
    "g1 = 2*r1-1\n",
    "g1"
   ]
  },
  {
   "cell_type": "code",
   "execution_count": 21,
   "metadata": {},
   "outputs": [
    {
     "data": {
      "text/plain": [
       "array([0.05491267, 0.13184013, 0.06038104, ..., 0.22215343, 0.25364019,\n",
       "       0.13580487])"
      ]
     },
     "execution_count": 21,
     "metadata": {},
     "output_type": "execute_result"
    }
   ],
   "source": [
    "y_score1"
   ]
  },
  {
   "cell_type": "code",
   "execution_count": 24,
   "metadata": {},
   "outputs": [
    {
     "data": {
      "text/plain": [
       "0.18338940986771757"
      ]
     },
     "execution_count": 24,
     "metadata": {},
     "output_type": "execute_result"
    }
   ],
   "source": [
    "clf2 = LogisticRegression()\n",
    "clf2.fit(X, label)\n",
    "y_score2 = clf2.predict_proba(test)[:,1]\n",
    "r2 = metrics.roc_auc_score(y_test_arr, y_score2)\n",
    "g2 = 2*r2-1\n",
    "g2"
   ]
  },
  {
   "cell_type": "code",
   "execution_count": null,
   "metadata": {},
   "outputs": [],
   "source": []
  }
 ],
 "metadata": {
  "kernelspec": {
   "display_name": "Python 3",
   "language": "python",
   "name": "python3"
  },
  "language_info": {
   "codemirror_mode": {
    "name": "ipython",
    "version": 3
   },
   "file_extension": ".py",
   "mimetype": "text/x-python",
   "name": "python",
   "nbconvert_exporter": "python",
   "pygments_lexer": "ipython3",
   "version": "3.7.6"
  }
 },
 "nbformat": 4,
 "nbformat_minor": 4
}
