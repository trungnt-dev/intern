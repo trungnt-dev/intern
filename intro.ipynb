{
 "cells": [
  {
   "cell_type": "markdown",
   "metadata": {},
   "source": [
    "## Introduction\n",
    "\n",
    "Credit scoring dùng để  tham khảo cho việc xét duyệt trước khi cho vay. Nhiệm vụ đặt ra xây dựng thuật toán ML phân loại hai nhóm khách hàng này."
   ]
  },
  {
   "cell_type": "markdown",
   "metadata": {},
   "source": [
    "## Description data\n",
    "\n",
    "- loan_status: Trạng thái khoản vay (Bad nếu *Charged Off* hoặc *Default*,  Good nếu *Fully Paid*)  \n",
    "- loan_amnt:   Tổng số tiền của khoản vay  \n",
    "- int_rate: Lãi suất khoản vay  \n",
    "- grade: Hạng công việc  \n",
    "- emp_length: Thời gian làm việc  \n",
    "- home_ownership: Loại hình sở hữu nhà  \n",
    "- annual_inc: Tổng thu nhập hằng năm  \n",
    "- term: Kì hạn vay"
   ]
  },
  {
   "cell_type": "code",
   "execution_count": 1,
   "metadata": {},
   "outputs": [],
   "source": [
    "import pandas as pd\n",
    "import numpy as np\n",
    "import matplotlib.pyplot as plt\n",
    "import seaborn as sns"
   ]
  },
  {
   "cell_type": "code",
   "execution_count": 2,
   "metadata": {},
   "outputs": [],
   "source": [
    "train_df = pd.read_csv('train.csv')\n",
    "test_df = pd.read_csv('test.csv')"
   ]
  },
  {
   "cell_type": "code",
   "execution_count": 3,
   "metadata": {
    "scrolled": true
   },
   "outputs": [
    {
     "data": {
      "text/html": [
       "<div>\n",
       "<style scoped>\n",
       "    .dataframe tbody tr th:only-of-type {\n",
       "        vertical-align: middle;\n",
       "    }\n",
       "\n",
       "    .dataframe tbody tr th {\n",
       "        vertical-align: top;\n",
       "    }\n",
       "\n",
       "    .dataframe thead th {\n",
       "        text-align: right;\n",
       "    }\n",
       "</style>\n",
       "<table border=\"1\" class=\"dataframe\">\n",
       "  <thead>\n",
       "    <tr style=\"text-align: right;\">\n",
       "      <th></th>\n",
       "      <th>loan_status</th>\n",
       "      <th>loan_amnt</th>\n",
       "      <th>int_rate</th>\n",
       "      <th>grade</th>\n",
       "      <th>emp_length</th>\n",
       "      <th>home_ownership</th>\n",
       "      <th>annual_inc</th>\n",
       "      <th>term</th>\n",
       "    </tr>\n",
       "  </thead>\n",
       "  <tbody>\n",
       "    <tr>\n",
       "      <th>0</th>\n",
       "      <td>Fully Paid</td>\n",
       "      <td>6000.0</td>\n",
       "      <td>9.76</td>\n",
       "      <td>B</td>\n",
       "      <td>4 years</td>\n",
       "      <td>RENT</td>\n",
       "      <td>33000.0</td>\n",
       "      <td>36 months</td>\n",
       "    </tr>\n",
       "    <tr>\n",
       "      <th>1</th>\n",
       "      <td>Fully Paid</td>\n",
       "      <td>19700.0</td>\n",
       "      <td>6.62</td>\n",
       "      <td>A</td>\n",
       "      <td>5 years</td>\n",
       "      <td>RENT</td>\n",
       "      <td>45000.0</td>\n",
       "      <td>36 months</td>\n",
       "    </tr>\n",
       "    <tr>\n",
       "      <th>2</th>\n",
       "      <td>Fully Paid</td>\n",
       "      <td>14000.0</td>\n",
       "      <td>6.03</td>\n",
       "      <td>A</td>\n",
       "      <td>&lt; 1 year</td>\n",
       "      <td>MORTGAGE</td>\n",
       "      <td>75000.0</td>\n",
       "      <td>36 months</td>\n",
       "    </tr>\n",
       "    <tr>\n",
       "      <th>3</th>\n",
       "      <td>Fully Paid</td>\n",
       "      <td>21000.0</td>\n",
       "      <td>13.11</td>\n",
       "      <td>B</td>\n",
       "      <td>2 years</td>\n",
       "      <td>RENT</td>\n",
       "      <td>51000.0</td>\n",
       "      <td>36 months</td>\n",
       "    </tr>\n",
       "    <tr>\n",
       "      <th>4</th>\n",
       "      <td>Charged Off</td>\n",
       "      <td>4500.0</td>\n",
       "      <td>16.29</td>\n",
       "      <td>D</td>\n",
       "      <td>2 years</td>\n",
       "      <td>MORTGAGE</td>\n",
       "      <td>96000.0</td>\n",
       "      <td>36 months</td>\n",
       "    </tr>\n",
       "  </tbody>\n",
       "</table>\n",
       "</div>"
      ],
      "text/plain": [
       "   loan_status  loan_amnt  int_rate grade emp_length home_ownership  \\\n",
       "0   Fully Paid     6000.0      9.76     B    4 years           RENT   \n",
       "1   Fully Paid    19700.0      6.62     A    5 years           RENT   \n",
       "2   Fully Paid    14000.0      6.03     A   < 1 year       MORTGAGE   \n",
       "3   Fully Paid    21000.0     13.11     B    2 years           RENT   \n",
       "4  Charged Off     4500.0     16.29     D    2 years       MORTGAGE   \n",
       "\n",
       "   annual_inc        term  \n",
       "0     33000.0   36 months  \n",
       "1     45000.0   36 months  \n",
       "2     75000.0   36 months  \n",
       "3     51000.0   36 months  \n",
       "4     96000.0   36 months  "
      ]
     },
     "metadata": {},
     "output_type": "display_data"
    }
   ],
   "source": [
    "display(train_df.head())"
   ]
  },
  {
   "cell_type": "code",
   "execution_count": 4,
   "metadata": {},
   "outputs": [
    {
     "data": {
      "text/html": [
       "<div>\n",
       "<style scoped>\n",
       "    .dataframe tbody tr th:only-of-type {\n",
       "        vertical-align: middle;\n",
       "    }\n",
       "\n",
       "    .dataframe tbody tr th {\n",
       "        vertical-align: top;\n",
       "    }\n",
       "\n",
       "    .dataframe thead th {\n",
       "        text-align: right;\n",
       "    }\n",
       "</style>\n",
       "<table border=\"1\" class=\"dataframe\">\n",
       "  <thead>\n",
       "    <tr style=\"text-align: right;\">\n",
       "      <th></th>\n",
       "      <th>loan_status</th>\n",
       "      <th>loan_amnt</th>\n",
       "      <th>int_rate</th>\n",
       "      <th>grade</th>\n",
       "      <th>emp_length</th>\n",
       "      <th>home_ownership</th>\n",
       "      <th>annual_inc</th>\n",
       "      <th>term</th>\n",
       "    </tr>\n",
       "  </thead>\n",
       "  <tbody>\n",
       "    <tr>\n",
       "      <th>0</th>\n",
       "      <td>Fully Paid</td>\n",
       "      <td>9525.0</td>\n",
       "      <td>6.62</td>\n",
       "      <td>A</td>\n",
       "      <td>2 years</td>\n",
       "      <td>RENT</td>\n",
       "      <td>60000.0</td>\n",
       "      <td>36 months</td>\n",
       "    </tr>\n",
       "    <tr>\n",
       "      <th>1</th>\n",
       "      <td>Charged Off</td>\n",
       "      <td>17325.0</td>\n",
       "      <td>11.14</td>\n",
       "      <td>B</td>\n",
       "      <td>1 year</td>\n",
       "      <td>MORTGAGE</td>\n",
       "      <td>54000.0</td>\n",
       "      <td>36 months</td>\n",
       "    </tr>\n",
       "    <tr>\n",
       "      <th>2</th>\n",
       "      <td>Fully Paid</td>\n",
       "      <td>7000.0</td>\n",
       "      <td>8.49</td>\n",
       "      <td>A</td>\n",
       "      <td>5 years</td>\n",
       "      <td>RENT</td>\n",
       "      <td>118000.0</td>\n",
       "      <td>36 months</td>\n",
       "    </tr>\n",
       "    <tr>\n",
       "      <th>3</th>\n",
       "      <td>Fully Paid</td>\n",
       "      <td>10000.0</td>\n",
       "      <td>16.24</td>\n",
       "      <td>C</td>\n",
       "      <td>10+ years</td>\n",
       "      <td>MORTGAGE</td>\n",
       "      <td>150000.0</td>\n",
       "      <td>60 months</td>\n",
       "    </tr>\n",
       "    <tr>\n",
       "      <th>4</th>\n",
       "      <td>Fully Paid</td>\n",
       "      <td>9600.0</td>\n",
       "      <td>12.12</td>\n",
       "      <td>B</td>\n",
       "      <td>8 years</td>\n",
       "      <td>RENT</td>\n",
       "      <td>120000.0</td>\n",
       "      <td>36 months</td>\n",
       "    </tr>\n",
       "  </tbody>\n",
       "</table>\n",
       "</div>"
      ],
      "text/plain": [
       "   loan_status  loan_amnt  int_rate grade emp_length home_ownership  \\\n",
       "0   Fully Paid     9525.0      6.62     A    2 years           RENT   \n",
       "1  Charged Off    17325.0     11.14     B     1 year       MORTGAGE   \n",
       "2   Fully Paid     7000.0      8.49     A    5 years           RENT   \n",
       "3   Fully Paid    10000.0     16.24     C  10+ years       MORTGAGE   \n",
       "4   Fully Paid     9600.0     12.12     B    8 years           RENT   \n",
       "\n",
       "   annual_inc        term  \n",
       "0     60000.0   36 months  \n",
       "1     54000.0   36 months  \n",
       "2    118000.0   36 months  \n",
       "3    150000.0   60 months  \n",
       "4    120000.0   36 months  "
      ]
     },
     "metadata": {},
     "output_type": "display_data"
    }
   ],
   "source": [
    "display(test_df.head())"
   ]
  },
  {
   "cell_type": "markdown",
   "metadata": {},
   "source": [
    "## Evaluation\n",
    "\n",
    "Đánh giá hiệu suất model dựa trên hệ số [Gini](https://en.wikipedia.org/wiki/Gini_coefficient)"
   ]
  },
  {
   "cell_type": "markdown",
   "metadata": {},
   "source": [
    "# Phân tích đánh giá dữ liệu"
   ]
  },
  {
   "cell_type": "code",
   "execution_count": 5,
   "metadata": {},
   "outputs": [
    {
     "name": "stdout",
     "output_type": "stream",
     "text": [
      "Training data shape:  (177933, 8)\n",
      "Testing data shape:  (76257, 8)\n"
     ]
    }
   ],
   "source": [
    "print('Training data shape: ', train_df.shape)\n",
    "print('Testing data shape: ', test_df.shape)"
   ]
  },
  {
   "cell_type": "markdown",
   "metadata": {},
   "source": [
    "Tập dữ liệu huấn luyện có 177933 hàng tương ứng là số  khoản vay và 8 cột thuộc tính, bao gồm **loan_status** là kết quả cần dự đoán. Tập test có 76257 bản ghi với các thuộc tính tương tự."
   ]
  },
  {
   "cell_type": "markdown",
   "metadata": {},
   "source": [
    "Tiến hành kiể m tra tương quan phân phối kết quả (nhãn **loan_status**) ở 2 tập dữ liệu."
   ]
  },
  {
   "cell_type": "code",
   "execution_count": 6,
   "metadata": {},
   "outputs": [
    {
     "data": {
      "text/plain": [
       "Fully Paid     0.817347\n",
       "Charged Off    0.177887\n",
       "Default        0.004766\n",
       "Name: loan_status, dtype: float64"
      ]
     },
     "execution_count": 6,
     "metadata": {},
     "output_type": "execute_result"
    }
   ],
   "source": [
    "train_df.loan_status.value_counts() / len(train_df)"
   ]
  },
  {
   "cell_type": "code",
   "execution_count": 7,
   "metadata": {},
   "outputs": [
    {
     "data": {
      "text/plain": [
       "Fully Paid     0.816843\n",
       "Charged Off    0.178292\n",
       "Default        0.004865\n",
       "Name: loan_status, dtype: float64"
      ]
     },
     "execution_count": 7,
     "metadata": {},
     "output_type": "execute_result"
    }
   ],
   "source": [
    "test_df.loan_status.value_counts() / len(test_df)"
   ]
  },
  {
   "cell_type": "markdown",
   "metadata": {},
   "source": [
    "Có thể nhận thấy kết quả ở hai tập là tương đương với nhau. Trong đó, tỉ lệ khách hàng tốt đều chiếm khoảng 81,7%, vượt trội so với tỉ lệ khách hàng xấu.\n",
    "Ta sẽ tạo thêm một feature *target* với giá trị 0 đại diện cho giá trị *Fully Paid* và 1 tương ứng với *Default* hoặc *Charged Off*"
   ]
  },
  {
   "cell_type": "code",
   "execution_count": 8,
   "metadata": {},
   "outputs": [],
   "source": [
    "train = train_df.copy()\n",
    "test = test_df.copy()\n",
    "\n",
    "train['target'] = np.where(train.loan_status == 'Fully Paid', 0, 1)\n",
    "test['target'] = np.where(test.loan_status == 'Fully Paid', 0, 1)\n",
    "\n",
    "train.drop(columns='loan_status', inplace=True)\n",
    "test.drop(columns='loan_status', inplace=True)"
   ]
  },
  {
   "cell_type": "code",
   "execution_count": 9,
   "metadata": {},
   "outputs": [
    {
     "data": {
      "text/html": [
       "<div>\n",
       "<style scoped>\n",
       "    .dataframe tbody tr th:only-of-type {\n",
       "        vertical-align: middle;\n",
       "    }\n",
       "\n",
       "    .dataframe tbody tr th {\n",
       "        vertical-align: top;\n",
       "    }\n",
       "\n",
       "    .dataframe thead th {\n",
       "        text-align: right;\n",
       "    }\n",
       "</style>\n",
       "<table border=\"1\" class=\"dataframe\">\n",
       "  <thead>\n",
       "    <tr style=\"text-align: right;\">\n",
       "      <th></th>\n",
       "      <th>loan_amnt</th>\n",
       "      <th>int_rate</th>\n",
       "      <th>grade</th>\n",
       "      <th>emp_length</th>\n",
       "      <th>home_ownership</th>\n",
       "      <th>annual_inc</th>\n",
       "      <th>term</th>\n",
       "      <th>target</th>\n",
       "    </tr>\n",
       "  </thead>\n",
       "  <tbody>\n",
       "    <tr>\n",
       "      <th>0</th>\n",
       "      <td>6000.0</td>\n",
       "      <td>9.76</td>\n",
       "      <td>B</td>\n",
       "      <td>4 years</td>\n",
       "      <td>RENT</td>\n",
       "      <td>33000.0</td>\n",
       "      <td>36 months</td>\n",
       "      <td>0</td>\n",
       "    </tr>\n",
       "    <tr>\n",
       "      <th>1</th>\n",
       "      <td>19700.0</td>\n",
       "      <td>6.62</td>\n",
       "      <td>A</td>\n",
       "      <td>5 years</td>\n",
       "      <td>RENT</td>\n",
       "      <td>45000.0</td>\n",
       "      <td>36 months</td>\n",
       "      <td>0</td>\n",
       "    </tr>\n",
       "    <tr>\n",
       "      <th>2</th>\n",
       "      <td>14000.0</td>\n",
       "      <td>6.03</td>\n",
       "      <td>A</td>\n",
       "      <td>&lt; 1 year</td>\n",
       "      <td>MORTGAGE</td>\n",
       "      <td>75000.0</td>\n",
       "      <td>36 months</td>\n",
       "      <td>0</td>\n",
       "    </tr>\n",
       "    <tr>\n",
       "      <th>3</th>\n",
       "      <td>21000.0</td>\n",
       "      <td>13.11</td>\n",
       "      <td>B</td>\n",
       "      <td>2 years</td>\n",
       "      <td>RENT</td>\n",
       "      <td>51000.0</td>\n",
       "      <td>36 months</td>\n",
       "      <td>0</td>\n",
       "    </tr>\n",
       "    <tr>\n",
       "      <th>4</th>\n",
       "      <td>4500.0</td>\n",
       "      <td>16.29</td>\n",
       "      <td>D</td>\n",
       "      <td>2 years</td>\n",
       "      <td>MORTGAGE</td>\n",
       "      <td>96000.0</td>\n",
       "      <td>36 months</td>\n",
       "      <td>1</td>\n",
       "    </tr>\n",
       "  </tbody>\n",
       "</table>\n",
       "</div>"
      ],
      "text/plain": [
       "   loan_amnt  int_rate grade emp_length home_ownership  annual_inc  \\\n",
       "0     6000.0      9.76     B    4 years           RENT     33000.0   \n",
       "1    19700.0      6.62     A    5 years           RENT     45000.0   \n",
       "2    14000.0      6.03     A   < 1 year       MORTGAGE     75000.0   \n",
       "3    21000.0     13.11     B    2 years           RENT     51000.0   \n",
       "4     4500.0     16.29     D    2 years       MORTGAGE     96000.0   \n",
       "\n",
       "         term  target  \n",
       "0   36 months       0  \n",
       "1   36 months       0  \n",
       "2   36 months       0  \n",
       "3   36 months       0  \n",
       "4   36 months       1  "
      ]
     },
     "execution_count": 9,
     "metadata": {},
     "output_type": "execute_result"
    }
   ],
   "source": [
    "train.head()"
   ]
  },
  {
   "cell_type": "markdown",
   "metadata": {},
   "source": [
    "### Kiểm tra Missing values"
   ]
  },
  {
   "cell_type": "code",
   "execution_count": 10,
   "metadata": {},
   "outputs": [
    {
     "data": {
      "text/plain": [
       "loan_amnt            0\n",
       "int_rate             0\n",
       "grade                0\n",
       "emp_length        7013\n",
       "home_ownership       0\n",
       "annual_inc           0\n",
       "term                 0\n",
       "target               0\n",
       "dtype: int64"
      ]
     },
     "execution_count": 10,
     "metadata": {},
     "output_type": "execute_result"
    }
   ],
   "source": [
    "train.isnull().sum()"
   ]
  },
  {
   "cell_type": "markdown",
   "metadata": {},
   "source": [
    "Trong các thuộc tính, chỉ có **emp_length** có missing value.\n",
    "Đây là thuộc tính thể hiện thời gian (kinh nghiệm) làm việc của người đi vay.\n",
    "<!-- Ta sẽ thay thế các giá trị null bằng giá trị *Mode*. -->\n",
    "Việc xử  lý mising value sẽ được đề cập ở phần dưới khi xử lý các thuộc tính rời rạc."
   ]
  },
  {
   "cell_type": "code",
   "execution_count": 11,
   "metadata": {},
   "outputs": [],
   "source": [
    "# emp_length_mode = train.emp_length.mode()\n",
    "# train.fillna(emp_length_mode, )"
   ]
  },
  {
   "cell_type": "markdown",
   "metadata": {},
   "source": [
    "#### Về kiểu dữ liệu của các thuộc tính"
   ]
  },
  {
   "cell_type": "code",
   "execution_count": 12,
   "metadata": {
    "scrolled": true
   },
   "outputs": [
    {
     "data": {
      "text/html": [
       "<div>\n",
       "<style scoped>\n",
       "    .dataframe tbody tr th:only-of-type {\n",
       "        vertical-align: middle;\n",
       "    }\n",
       "\n",
       "    .dataframe tbody tr th {\n",
       "        vertical-align: top;\n",
       "    }\n",
       "\n",
       "    .dataframe thead th {\n",
       "        text-align: right;\n",
       "    }\n",
       "</style>\n",
       "<table border=\"1\" class=\"dataframe\">\n",
       "  <thead>\n",
       "    <tr style=\"text-align: right;\">\n",
       "      <th></th>\n",
       "      <th>loan_amnt</th>\n",
       "      <th>int_rate</th>\n",
       "      <th>annual_inc</th>\n",
       "      <th>target</th>\n",
       "    </tr>\n",
       "  </thead>\n",
       "  <tbody>\n",
       "    <tr>\n",
       "      <th>count</th>\n",
       "      <td>177933.000000</td>\n",
       "      <td>177933.000000</td>\n",
       "      <td>1.779330e+05</td>\n",
       "      <td>177933.000000</td>\n",
       "    </tr>\n",
       "    <tr>\n",
       "      <th>mean</th>\n",
       "      <td>13582.523337</td>\n",
       "      <td>13.788521</td>\n",
       "      <td>7.245937e+04</td>\n",
       "      <td>0.182653</td>\n",
       "    </tr>\n",
       "    <tr>\n",
       "      <th>std</th>\n",
       "      <td>8138.463931</td>\n",
       "      <td>4.403421</td>\n",
       "      <td>5.596903e+04</td>\n",
       "      <td>0.386383</td>\n",
       "    </tr>\n",
       "    <tr>\n",
       "      <th>min</th>\n",
       "      <td>500.000000</td>\n",
       "      <td>5.320000</td>\n",
       "      <td>3.000000e+03</td>\n",
       "      <td>0.000000</td>\n",
       "    </tr>\n",
       "    <tr>\n",
       "      <th>25%</th>\n",
       "      <td>7300.000000</td>\n",
       "      <td>10.740000</td>\n",
       "      <td>4.500000e+04</td>\n",
       "      <td>0.000000</td>\n",
       "    </tr>\n",
       "    <tr>\n",
       "      <th>50%</th>\n",
       "      <td>12000.000000</td>\n",
       "      <td>13.570000</td>\n",
       "      <td>6.200000e+04</td>\n",
       "      <td>0.000000</td>\n",
       "    </tr>\n",
       "    <tr>\n",
       "      <th>75%</th>\n",
       "      <td>18375.000000</td>\n",
       "      <td>16.590000</td>\n",
       "      <td>8.700000e+04</td>\n",
       "      <td>0.000000</td>\n",
       "    </tr>\n",
       "    <tr>\n",
       "      <th>max</th>\n",
       "      <td>35000.000000</td>\n",
       "      <td>28.990000</td>\n",
       "      <td>7.141778e+06</td>\n",
       "      <td>1.000000</td>\n",
       "    </tr>\n",
       "  </tbody>\n",
       "</table>\n",
       "</div>"
      ],
      "text/plain": [
       "           loan_amnt       int_rate    annual_inc         target\n",
       "count  177933.000000  177933.000000  1.779330e+05  177933.000000\n",
       "mean    13582.523337      13.788521  7.245937e+04       0.182653\n",
       "std      8138.463931       4.403421  5.596903e+04       0.386383\n",
       "min       500.000000       5.320000  3.000000e+03       0.000000\n",
       "25%      7300.000000      10.740000  4.500000e+04       0.000000\n",
       "50%     12000.000000      13.570000  6.200000e+04       0.000000\n",
       "75%     18375.000000      16.590000  8.700000e+04       0.000000\n",
       "max     35000.000000      28.990000  7.141778e+06       1.000000"
      ]
     },
     "execution_count": 12,
     "metadata": {},
     "output_type": "execute_result"
    }
   ],
   "source": [
    "train.describe()"
   ]
  },
  {
   "cell_type": "markdown",
   "metadata": {},
   "source": [
    "Ngoài trường kết quả, có ba thuộc tính nhận giá trị liên tục là loan_amt, int_rate và annual_inc. Bốn thuộc tính còn lại nhận giá trị rời rạc.\n",
    "Bây giờ ta sẽ kiể m tra mối liên hệ giữa các thuộc tính đến kết quả khách hàng có khả năng thanh toán khoản vay hay không. Đối với các thuộc tính có giá trị số liên tục, sử dụng phân phối boxplot để biểu diễn."
   ]
  },
  {
   "cell_type": "code",
   "execution_count": 13,
   "metadata": {
    "scrolled": true
   },
   "outputs": [
    {
     "data": {
      "text/plain": [
       "<matplotlib.axes._subplots.AxesSubplot at 0x7f65b1823c50>"
      ]
     },
     "execution_count": 13,
     "metadata": {},
     "output_type": "execute_result"
    },
    {
     "data": {
      "image/png": "[encoded data removed]",
      "text/plain": [
       "<Figure size 432x288 with 1 Axes>"
      ]
     },
     "metadata": {
      "needs_background": "light"
     },
     "output_type": "display_data"
    }
   ],
   "source": [
    "# boxplot for loan amount\n",
    "sns.boxplot(train.target, train.loan_amnt)"
   ]
  },
  {
   "cell_type": "markdown",
   "metadata": {},
   "source": [
    "Qua biểu đồ, có thể thấy, những khoản nợ xấu thường có giá trị lớn hơn nợ tốt. Tuy nhiên sự chênh lệch là không nhiều."
   ]
  },
  {
   "cell_type": "code",
   "execution_count": 14,
   "metadata": {},
   "outputs": [
    {
     "data": {
      "text/plain": [
       "<matplotlib.axes._subplots.AxesSubplot at 0x7f65841adb90>"
      ]
     },
     "execution_count": 14,
     "metadata": {},
     "output_type": "execute_result"
    },
    {
     "data": {
      "image/png": "[encoded data removed]",
      "text/plain": [
       "<Figure size 432x288 with 1 Axes>"
      ]
     },
     "metadata": {
      "needs_background": "light"
     },
     "output_type": "display_data"
    }
   ],
   "source": [
    "# boxplot for int rate\n",
    "sns.boxplot(train.target, train.int_rate)"
   ]
  },
  {
   "cell_type": "markdown",
   "metadata": {},
   "source": [
    "Ở biểu đồ của lãi suất, đã có sự chênh lệch rõ ràng hơn. Có thể thấy việc vay lãi suất cao sẽ dẫn tới việc trả nợ khó khăn hơn."
   ]
  },
  {
   "cell_type": "code",
   "execution_count": 15,
   "metadata": {},
   "outputs": [
    {
     "data": {
      "text/plain": [
       "<matplotlib.axes._subplots.AxesSubplot at 0x7f658411f090>"
      ]
     },
     "execution_count": 15,
     "metadata": {},
     "output_type": "execute_result"
    },
    {
     "data": {
      "image/png": "[encoded data removed]",
      "text/plain": [
       "<Figure size 432x288 with 1 Axes>"
      ]
     },
     "metadata": {
      "needs_background": "light"
     },
     "output_type": "display_data"
    }
   ],
   "source": [
    "# boxplot for annual income\n",
    "sns.boxplot(train.target, train.annual_inc)"
   ]
  },
  {
   "cell_type": "markdown",
   "metadata": {},
   "source": [
    "Có thể thấy thu nhập của khách hàng có phân phối không chuẩn, có nhiều ngoại lệ (Outlier) với thu nhập cao hơn hẳn so với phần còn lại. Đây là những  ngoại lệ hợp lý khi đi đi cùng với thu nhập cao này là khả năng có thể trả nợ.\n",
    "Để  khắc phục điều này, áp dụng *Log transform* sẽ giúp mở rộng các giá trị nằm trong phạm vi mật độ thấp và né hoặc giảm các giá trị trong phạm vi mật độ cao."
   ]
  },
  {
   "cell_type": "code",
   "execution_count": 16,
   "metadata": {},
   "outputs": [
    {
     "data": {
      "text/html": [
       "<div>\n",
       "<style scoped>\n",
       "    .dataframe tbody tr th:only-of-type {\n",
       "        vertical-align: middle;\n",
       "    }\n",
       "\n",
       "    .dataframe tbody tr th {\n",
       "        vertical-align: top;\n",
       "    }\n",
       "\n",
       "    .dataframe thead th {\n",
       "        text-align: right;\n",
       "    }\n",
       "</style>\n",
       "<table border=\"1\" class=\"dataframe\">\n",
       "  <thead>\n",
       "    <tr style=\"text-align: right;\">\n",
       "      <th></th>\n",
       "      <th>loan_amnt</th>\n",
       "      <th>int_rate</th>\n",
       "      <th>grade</th>\n",
       "      <th>emp_length</th>\n",
       "      <th>home_ownership</th>\n",
       "      <th>annual_inc</th>\n",
       "      <th>term</th>\n",
       "      <th>target</th>\n",
       "      <th>annual_inc_log</th>\n",
       "    </tr>\n",
       "  </thead>\n",
       "  <tbody>\n",
       "    <tr>\n",
       "      <th>0</th>\n",
       "      <td>6000.0</td>\n",
       "      <td>9.76</td>\n",
       "      <td>B</td>\n",
       "      <td>4 years</td>\n",
       "      <td>RENT</td>\n",
       "      <td>33000.0</td>\n",
       "      <td>36 months</td>\n",
       "      <td>0</td>\n",
       "      <td>10.404293</td>\n",
       "    </tr>\n",
       "    <tr>\n",
       "      <th>1</th>\n",
       "      <td>19700.0</td>\n",
       "      <td>6.62</td>\n",
       "      <td>A</td>\n",
       "      <td>5 years</td>\n",
       "      <td>RENT</td>\n",
       "      <td>45000.0</td>\n",
       "      <td>36 months</td>\n",
       "      <td>0</td>\n",
       "      <td>10.714440</td>\n",
       "    </tr>\n",
       "    <tr>\n",
       "      <th>2</th>\n",
       "      <td>14000.0</td>\n",
       "      <td>6.03</td>\n",
       "      <td>A</td>\n",
       "      <td>&lt; 1 year</td>\n",
       "      <td>MORTGAGE</td>\n",
       "      <td>75000.0</td>\n",
       "      <td>36 months</td>\n",
       "      <td>0</td>\n",
       "      <td>11.225257</td>\n",
       "    </tr>\n",
       "    <tr>\n",
       "      <th>3</th>\n",
       "      <td>21000.0</td>\n",
       "      <td>13.11</td>\n",
       "      <td>B</td>\n",
       "      <td>2 years</td>\n",
       "      <td>RENT</td>\n",
       "      <td>51000.0</td>\n",
       "      <td>36 months</td>\n",
       "      <td>0</td>\n",
       "      <td>10.839601</td>\n",
       "    </tr>\n",
       "    <tr>\n",
       "      <th>4</th>\n",
       "      <td>4500.0</td>\n",
       "      <td>16.29</td>\n",
       "      <td>D</td>\n",
       "      <td>2 years</td>\n",
       "      <td>MORTGAGE</td>\n",
       "      <td>96000.0</td>\n",
       "      <td>36 months</td>\n",
       "      <td>1</td>\n",
       "      <td>11.472114</td>\n",
       "    </tr>\n",
       "  </tbody>\n",
       "</table>\n",
       "</div>"
      ],
      "text/plain": [
       "   loan_amnt  int_rate grade emp_length home_ownership  annual_inc  \\\n",
       "0     6000.0      9.76     B    4 years           RENT     33000.0   \n",
       "1    19700.0      6.62     A    5 years           RENT     45000.0   \n",
       "2    14000.0      6.03     A   < 1 year       MORTGAGE     75000.0   \n",
       "3    21000.0     13.11     B    2 years           RENT     51000.0   \n",
       "4     4500.0     16.29     D    2 years       MORTGAGE     96000.0   \n",
       "\n",
       "         term  target  annual_inc_log  \n",
       "0   36 months       0       10.404293  \n",
       "1   36 months       0       10.714440  \n",
       "2   36 months       0       11.225257  \n",
       "3   36 months       0       10.839601  \n",
       "4   36 months       1       11.472114  "
      ]
     },
     "metadata": {},
     "output_type": "display_data"
    },
    {
     "data": {
      "text/plain": [
       "<matplotlib.axes._subplots.AxesSubplot at 0x7f65840b7050>"
      ]
     },
     "execution_count": 16,
     "metadata": {},
     "output_type": "execute_result"
    },
    {
     "data": {
      "image/png": "[encoded data removed]",
      "text/plain": [
       "<Figure size 432x288 with 1 Axes>"
      ]
     },
     "metadata": {
      "needs_background": "light"
     },
     "output_type": "display_data"
    }
   ],
   "source": [
    "train['annual_inc_log'] = np.log(1 + train.annual_inc) # tạo thêm feature annual_inc_log cho tập train\n",
    "test['annual_inc_log'] = np.log(1 + test.annual_inc) # tạo thêm feature annual_inc_log cho tập train\n",
    "\n",
    "display(train.head())\n",
    "sns.boxplot(train.target, train.annual_inc_log)"
   ]
  },
  {
   "cell_type": "markdown",
   "metadata": {},
   "source": [
    "Biểu đồ cũng cho thấy phần lớn những khách hàng xấu thường có thu nhập thấp hơn (nhưng không đáng kể) so với khách hàng tốt."
   ]
  },
  {
   "cell_type": "markdown",
   "metadata": {},
   "source": [
    "## Categorical features."
   ]
  },
  {
   "cell_type": "markdown",
   "metadata": {},
   "source": [
    "Với các thuộc tính rời rạc, trước hết kiểm tra số lượng của mỗi giá trị. "
   ]
  },
  {
   "cell_type": "code",
   "execution_count": 17,
   "metadata": {
    "scrolled": true
   },
   "outputs": [
    {
     "data": {
      "text/plain": [
       "B    0.299000\n",
       "C    0.258389\n",
       "A    0.166029\n",
       "D    0.161443\n",
       "E    0.077130\n",
       "F    0.030478\n",
       "G    0.007531\n",
       "Name: grade, dtype: float64"
      ]
     },
     "execution_count": 17,
     "metadata": {},
     "output_type": "execute_result"
    }
   ],
   "source": [
    "# đếm số lượng các giá trị biến grade - các loại hạng công việc và tỉ lệ\n",
    "train.grade.value_counts() / len(train)"
   ]
  },
  {
   "cell_type": "code",
   "execution_count": 18,
   "metadata": {},
   "outputs": [
    {
     "data": {
      "text/plain": [
       "10+ years    0.303198\n",
       "2 years      0.092923\n",
       "< 1 year     0.082953\n",
       "3 years      0.080317\n",
       "5 years      0.071027\n",
       "1 year       0.067126\n",
       "4 years      0.064389\n",
       "6 years      0.058050\n",
       "7 years      0.055622\n",
       "8 years      0.047237\n",
       "NaN          0.039414\n",
       "9 years      0.037745\n",
       "Name: emp_length, dtype: float64"
      ]
     },
     "execution_count": 18,
     "metadata": {},
     "output_type": "execute_result"
    }
   ],
   "source": [
    "# đếm số lượng các giá trị emp_length - phân loại kinh nghiệm làm việc và tỉ lệ\n",
    "train.emp_length.value_counts(dropna=False) / len(train)"
   ]
  },
  {
   "cell_type": "markdown",
   "metadata": {},
   "source": [
    "Với các giá trị mising của **emp_length**, ta sẽ impute bằng giá trị mode (10+ years)"
   ]
  },
  {
   "cell_type": "code",
   "execution_count": 19,
   "metadata": {},
   "outputs": [
    {
     "data": {
      "text/plain": [
       "10+ years    0.342612\n",
       "2 years      0.092923\n",
       "< 1 year     0.082953\n",
       "3 years      0.080317\n",
       "5 years      0.071027\n",
       "1 year       0.067126\n",
       "4 years      0.064389\n",
       "6 years      0.058050\n",
       "7 years      0.055622\n",
       "8 years      0.047237\n",
       "9 years      0.037745\n",
       "Name: emp_length, dtype: float64"
      ]
     },
     "execution_count": 19,
     "metadata": {},
     "output_type": "execute_result"
    }
   ],
   "source": [
    "# chọn giá trị mode\n",
    "mode_emp_length = '10+ years'\n",
    "train.fillna(value=mode_emp_length, inplace=True)\n",
    "# kiểm tra lại emp_length sau khi impute\n",
    "train.emp_length.value_counts(dropna=False) / len(train)"
   ]
  },
  {
   "cell_type": "code",
   "execution_count": 20,
   "metadata": {},
   "outputs": [
    {
     "data": {
      "text/plain": [
       "MORTGAGE    0.494253\n",
       "RENT        0.419006\n",
       "OWN         0.086021\n",
       "OTHER       0.000523\n",
       "NONE        0.000191\n",
       "ANY         0.000006\n",
       "Name: home_ownership, dtype: float64"
      ]
     },
     "execution_count": 20,
     "metadata": {},
     "output_type": "execute_result"
    }
   ],
   "source": [
    "# đếm số lượng các giá trị biến home_ownership - các loại hình sợ hữu nhà và tỉ lệ\n",
    "train.home_ownership.value_counts() / len(train)"
   ]
  },
  {
   "cell_type": "code",
   "execution_count": 21,
   "metadata": {},
   "outputs": [
    {
     "data": {
      "text/plain": [
       " 36 months    0.775157\n",
       " 60 months    0.224843\n",
       "Name: term, dtype: float64"
      ]
     },
     "execution_count": 21,
     "metadata": {},
     "output_type": "execute_result"
    }
   ],
   "source": [
    "# đếm số loại thời hạn trả nợ\n",
    "train.term.value_counts() / len(train)"
   ]
  },
  {
   "cell_type": "markdown",
   "metadata": {},
   "source": [
    "Trong số bốn thuộc tính trên, chỉ có **term** là chỉ nhận hai giá trị 36 tháng và 60 tháng, ta sẽ encode bằng LabelEncoder của thư viện Scikit-learn. Các thuộc tính còn lại đều có (loại) giá trị nhiều hơn. Để xử lý các thuộc tính này, ta sẽ sử dụng kỹ thuật *One-hot encoding* với pandas.get_dummies(). "
   ]
  },
  {
   "cell_type": "code",
   "execution_count": 22,
   "metadata": {},
   "outputs": [],
   "source": [
    "# train.drop(columns=['emp_length'], inplace=True)\n",
    "# test.drop(columns=['emp_length'], inplace=True)"
   ]
  },
  {
   "cell_type": "markdown",
   "metadata": {},
   "source": [
    "#### Encoding for *term*"
   ]
  },
  {
   "cell_type": "markdown",
   "metadata": {},
   "source": [
    "Kiểm tra phân phối của **target** với thuộc tính **term**"
   ]
  },
  {
   "cell_type": "code",
   "execution_count": 23,
   "metadata": {},
   "outputs": [],
   "source": [
    "term_target_df = pd.crosstab(train.term, train.target, margins=True, margins_name='Total')\n",
    "# term_target_df.columns = ['Good', 'Bad']\n",
    "term_target_df['Good_per'] = term_target_df[0] / term_target_df.Total\n",
    "term_target_df['Bad_per'] = term_target_df[1] / term_target_df.Total"
   ]
  },
  {
   "cell_type": "code",
   "execution_count": 24,
   "metadata": {},
   "outputs": [
    {
     "data": {
      "text/html": [
       "<div>\n",
       "<style scoped>\n",
       "    .dataframe tbody tr th:only-of-type {\n",
       "        vertical-align: middle;\n",
       "    }\n",
       "\n",
       "    .dataframe tbody tr th {\n",
       "        vertical-align: top;\n",
       "    }\n",
       "\n",
       "    .dataframe thead th {\n",
       "        text-align: right;\n",
       "    }\n",
       "</style>\n",
       "<table border=\"1\" class=\"dataframe\">\n",
       "  <thead>\n",
       "    <tr style=\"text-align: right;\">\n",
       "      <th>target</th>\n",
       "      <th>0</th>\n",
       "      <th>1</th>\n",
       "      <th>Total</th>\n",
       "      <th>Good_per</th>\n",
       "      <th>Bad_per</th>\n",
       "    </tr>\n",
       "    <tr>\n",
       "      <th>term</th>\n",
       "      <th></th>\n",
       "      <th></th>\n",
       "      <th></th>\n",
       "      <th></th>\n",
       "      <th></th>\n",
       "    </tr>\n",
       "  </thead>\n",
       "  <tbody>\n",
       "    <tr>\n",
       "      <th>36 months</th>\n",
       "      <td>117120</td>\n",
       "      <td>20806</td>\n",
       "      <td>137926</td>\n",
       "      <td>0.849151</td>\n",
       "      <td>0.150849</td>\n",
       "    </tr>\n",
       "    <tr>\n",
       "      <th>60 months</th>\n",
       "      <td>28313</td>\n",
       "      <td>11694</td>\n",
       "      <td>40007</td>\n",
       "      <td>0.707701</td>\n",
       "      <td>0.292299</td>\n",
       "    </tr>\n",
       "    <tr>\n",
       "      <th>Total</th>\n",
       "      <td>145433</td>\n",
       "      <td>32500</td>\n",
       "      <td>177933</td>\n",
       "      <td>0.817347</td>\n",
       "      <td>0.182653</td>\n",
       "    </tr>\n",
       "  </tbody>\n",
       "</table>\n",
       "</div>"
      ],
      "text/plain": [
       "target           0      1   Total  Good_per   Bad_per\n",
       "term                                                 \n",
       " 36 months  117120  20806  137926  0.849151  0.150849\n",
       " 60 months   28313  11694   40007  0.707701  0.292299\n",
       "Total       145433  32500  177933  0.817347  0.182653"
      ]
     },
     "execution_count": 24,
     "metadata": {},
     "output_type": "execute_result"
    }
   ],
   "source": [
    "term_target_df"
   ]
  },
  {
   "cell_type": "markdown",
   "metadata": {},
   "source": [
    "Dễ dàng nhận thấy số lượng khoản vay thời hạn 36 tháng là vượt trội (hơn 77% so với 23% của khoản vay 60 thangs). Đáng chú ý là hầu hết khoản vay 36 tháng đều là nợ tốt, còn 60 tháng là ngược lại."
   ]
  },
  {
   "cell_type": "markdown",
   "metadata": {},
   "source": [
    "Bây giờ ta sẽ tiến hành encode các giá trị của **term** với LabelEncoder"
   ]
  },
  {
   "cell_type": "code",
   "execution_count": 25,
   "metadata": {},
   "outputs": [
    {
     "name": "stderr",
     "output_type": "stream",
     "text": [
      "/home/ta/anaconda3/envs/dyno/lib/python3.7/site-packages/sklearn/utils/__init__.py:4: DeprecationWarning: Using or importing the ABCs from 'collections' instead of from 'collections.abc' is deprecated since Python 3.3,and in 3.9 it will stop working\n",
      "  from collections import Sequence\n"
     ]
    },
    {
     "name": "stdout",
     "output_type": "stream",
     "text": [
      "1 columns were label encoded.\n"
     ]
    }
   ],
   "source": [
    "# Create a label encoder object\n",
    "from sklearn.preprocessing import LabelEncoder\n",
    "le = LabelEncoder()\n",
    "le_count = 0\n",
    "\n",
    "# Iterate through the columns\n",
    "for col in train:\n",
    "    if train[col].dtype == 'object':\n",
    "        # If 2 or fewer unique categories\n",
    "        if len(list(train[col].unique())) <= 2:\n",
    "            # Train on the training data\n",
    "            le.fit(train[col])\n",
    "            # Transform both training and testing data\n",
    "            train[col] = le.transform(train[col])\n",
    "            test[col] = le.transform(test[col])\n",
    "            \n",
    "            # Keep track of how many columns were label encoded\n",
    "            le_count += 1\n",
    "            \n",
    "print('%d columns were label encoded.' % le_count)"
   ]
  },
  {
   "cell_type": "code",
   "execution_count": 26,
   "metadata": {},
   "outputs": [
    {
     "data": {
      "text/html": [
       "<div>\n",
       "<style scoped>\n",
       "    .dataframe tbody tr th:only-of-type {\n",
       "        vertical-align: middle;\n",
       "    }\n",
       "\n",
       "    .dataframe tbody tr th {\n",
       "        vertical-align: top;\n",
       "    }\n",
       "\n",
       "    .dataframe thead th {\n",
       "        text-align: right;\n",
       "    }\n",
       "</style>\n",
       "<table border=\"1\" class=\"dataframe\">\n",
       "  <thead>\n",
       "    <tr style=\"text-align: right;\">\n",
       "      <th></th>\n",
       "      <th>loan_amnt</th>\n",
       "      <th>int_rate</th>\n",
       "      <th>grade</th>\n",
       "      <th>emp_length</th>\n",
       "      <th>home_ownership</th>\n",
       "      <th>annual_inc</th>\n",
       "      <th>term</th>\n",
       "      <th>target</th>\n",
       "      <th>annual_inc_log</th>\n",
       "    </tr>\n",
       "  </thead>\n",
       "  <tbody>\n",
       "    <tr>\n",
       "      <th>0</th>\n",
       "      <td>6000.0</td>\n",
       "      <td>9.76</td>\n",
       "      <td>B</td>\n",
       "      <td>4 years</td>\n",
       "      <td>RENT</td>\n",
       "      <td>33000.0</td>\n",
       "      <td>0</td>\n",
       "      <td>0</td>\n",
       "      <td>10.404293</td>\n",
       "    </tr>\n",
       "    <tr>\n",
       "      <th>1</th>\n",
       "      <td>19700.0</td>\n",
       "      <td>6.62</td>\n",
       "      <td>A</td>\n",
       "      <td>5 years</td>\n",
       "      <td>RENT</td>\n",
       "      <td>45000.0</td>\n",
       "      <td>0</td>\n",
       "      <td>0</td>\n",
       "      <td>10.714440</td>\n",
       "    </tr>\n",
       "    <tr>\n",
       "      <th>2</th>\n",
       "      <td>14000.0</td>\n",
       "      <td>6.03</td>\n",
       "      <td>A</td>\n",
       "      <td>&lt; 1 year</td>\n",
       "      <td>MORTGAGE</td>\n",
       "      <td>75000.0</td>\n",
       "      <td>0</td>\n",
       "      <td>0</td>\n",
       "      <td>11.225257</td>\n",
       "    </tr>\n",
       "    <tr>\n",
       "      <th>3</th>\n",
       "      <td>21000.0</td>\n",
       "      <td>13.11</td>\n",
       "      <td>B</td>\n",
       "      <td>2 years</td>\n",
       "      <td>RENT</td>\n",
       "      <td>51000.0</td>\n",
       "      <td>0</td>\n",
       "      <td>0</td>\n",
       "      <td>10.839601</td>\n",
       "    </tr>\n",
       "    <tr>\n",
       "      <th>4</th>\n",
       "      <td>4500.0</td>\n",
       "      <td>16.29</td>\n",
       "      <td>D</td>\n",
       "      <td>2 years</td>\n",
       "      <td>MORTGAGE</td>\n",
       "      <td>96000.0</td>\n",
       "      <td>0</td>\n",
       "      <td>1</td>\n",
       "      <td>11.472114</td>\n",
       "    </tr>\n",
       "    <tr>\n",
       "      <th>...</th>\n",
       "      <td>...</td>\n",
       "      <td>...</td>\n",
       "      <td>...</td>\n",
       "      <td>...</td>\n",
       "      <td>...</td>\n",
       "      <td>...</td>\n",
       "      <td>...</td>\n",
       "      <td>...</td>\n",
       "      <td>...</td>\n",
       "    </tr>\n",
       "    <tr>\n",
       "      <th>177928</th>\n",
       "      <td>4750.0</td>\n",
       "      <td>10.16</td>\n",
       "      <td>B</td>\n",
       "      <td>10+ years</td>\n",
       "      <td>MORTGAGE</td>\n",
       "      <td>63000.0</td>\n",
       "      <td>0</td>\n",
       "      <td>0</td>\n",
       "      <td>11.050906</td>\n",
       "    </tr>\n",
       "    <tr>\n",
       "      <th>177929</th>\n",
       "      <td>10000.0</td>\n",
       "      <td>9.17</td>\n",
       "      <td>B</td>\n",
       "      <td>10+ years</td>\n",
       "      <td>RENT</td>\n",
       "      <td>70600.0</td>\n",
       "      <td>0</td>\n",
       "      <td>0</td>\n",
       "      <td>11.164800</td>\n",
       "    </tr>\n",
       "    <tr>\n",
       "      <th>177930</th>\n",
       "      <td>9000.0</td>\n",
       "      <td>14.33</td>\n",
       "      <td>C</td>\n",
       "      <td>10+ years</td>\n",
       "      <td>RENT</td>\n",
       "      <td>63000.0</td>\n",
       "      <td>0</td>\n",
       "      <td>0</td>\n",
       "      <td>11.050906</td>\n",
       "    </tr>\n",
       "    <tr>\n",
       "      <th>177931</th>\n",
       "      <td>19800.0</td>\n",
       "      <td>22.99</td>\n",
       "      <td>F</td>\n",
       "      <td>6 years</td>\n",
       "      <td>MORTGAGE</td>\n",
       "      <td>100000.0</td>\n",
       "      <td>1</td>\n",
       "      <td>0</td>\n",
       "      <td>11.512935</td>\n",
       "    </tr>\n",
       "    <tr>\n",
       "      <th>177932</th>\n",
       "      <td>24000.0</td>\n",
       "      <td>8.90</td>\n",
       "      <td>A</td>\n",
       "      <td>3 years</td>\n",
       "      <td>MORTGAGE</td>\n",
       "      <td>185000.0</td>\n",
       "      <td>1</td>\n",
       "      <td>0</td>\n",
       "      <td>12.128117</td>\n",
       "    </tr>\n",
       "  </tbody>\n",
       "</table>\n",
       "<p>177933 rows × 9 columns</p>\n",
       "</div>"
      ],
      "text/plain": [
       "        loan_amnt  int_rate grade emp_length home_ownership  annual_inc  term  \\\n",
       "0          6000.0      9.76     B    4 years           RENT     33000.0     0   \n",
       "1         19700.0      6.62     A    5 years           RENT     45000.0     0   \n",
       "2         14000.0      6.03     A   < 1 year       MORTGAGE     75000.0     0   \n",
       "3         21000.0     13.11     B    2 years           RENT     51000.0     0   \n",
       "4          4500.0     16.29     D    2 years       MORTGAGE     96000.0     0   \n",
       "...           ...       ...   ...        ...            ...         ...   ...   \n",
       "177928     4750.0     10.16     B  10+ years       MORTGAGE     63000.0     0   \n",
       "177929    10000.0      9.17     B  10+ years           RENT     70600.0     0   \n",
       "177930     9000.0     14.33     C  10+ years           RENT     63000.0     0   \n",
       "177931    19800.0     22.99     F    6 years       MORTGAGE    100000.0     1   \n",
       "177932    24000.0      8.90     A    3 years       MORTGAGE    185000.0     1   \n",
       "\n",
       "        target  annual_inc_log  \n",
       "0            0       10.404293  \n",
       "1            0       10.714440  \n",
       "2            0       11.225257  \n",
       "3            0       10.839601  \n",
       "4            1       11.472114  \n",
       "...        ...             ...  \n",
       "177928       0       11.050906  \n",
       "177929       0       11.164800  \n",
       "177930       0       11.050906  \n",
       "177931       0       11.512935  \n",
       "177932       0       12.128117  \n",
       "\n",
       "[177933 rows x 9 columns]"
      ]
     },
     "execution_count": 26,
     "metadata": {},
     "output_type": "execute_result"
    }
   ],
   "source": [
    "train"
   ]
  },
  {
   "cell_type": "code",
   "execution_count": 27,
   "metadata": {},
   "outputs": [
    {
     "data": {
      "text/html": [
       "<div>\n",
       "<style scoped>\n",
       "    .dataframe tbody tr th:only-of-type {\n",
       "        vertical-align: middle;\n",
       "    }\n",
       "\n",
       "    .dataframe tbody tr th {\n",
       "        vertical-align: top;\n",
       "    }\n",
       "\n",
       "    .dataframe thead th {\n",
       "        text-align: right;\n",
       "    }\n",
       "</style>\n",
       "<table border=\"1\" class=\"dataframe\">\n",
       "  <thead>\n",
       "    <tr style=\"text-align: right;\">\n",
       "      <th></th>\n",
       "      <th>loan_amnt</th>\n",
       "      <th>int_rate</th>\n",
       "      <th>grade</th>\n",
       "      <th>emp_length</th>\n",
       "      <th>home_ownership</th>\n",
       "      <th>annual_inc</th>\n",
       "      <th>term</th>\n",
       "      <th>target</th>\n",
       "      <th>annual_inc_log</th>\n",
       "    </tr>\n",
       "  </thead>\n",
       "  <tbody>\n",
       "    <tr>\n",
       "      <th>0</th>\n",
       "      <td>9525.0</td>\n",
       "      <td>6.62</td>\n",
       "      <td>A</td>\n",
       "      <td>2 years</td>\n",
       "      <td>RENT</td>\n",
       "      <td>60000.0</td>\n",
       "      <td>0</td>\n",
       "      <td>0</td>\n",
       "      <td>11.002117</td>\n",
       "    </tr>\n",
       "    <tr>\n",
       "      <th>1</th>\n",
       "      <td>17325.0</td>\n",
       "      <td>11.14</td>\n",
       "      <td>B</td>\n",
       "      <td>1 year</td>\n",
       "      <td>MORTGAGE</td>\n",
       "      <td>54000.0</td>\n",
       "      <td>0</td>\n",
       "      <td>1</td>\n",
       "      <td>10.896758</td>\n",
       "    </tr>\n",
       "    <tr>\n",
       "      <th>2</th>\n",
       "      <td>7000.0</td>\n",
       "      <td>8.49</td>\n",
       "      <td>A</td>\n",
       "      <td>5 years</td>\n",
       "      <td>RENT</td>\n",
       "      <td>118000.0</td>\n",
       "      <td>0</td>\n",
       "      <td>0</td>\n",
       "      <td>11.678448</td>\n",
       "    </tr>\n",
       "    <tr>\n",
       "      <th>3</th>\n",
       "      <td>10000.0</td>\n",
       "      <td>16.24</td>\n",
       "      <td>C</td>\n",
       "      <td>10+ years</td>\n",
       "      <td>MORTGAGE</td>\n",
       "      <td>150000.0</td>\n",
       "      <td>1</td>\n",
       "      <td>0</td>\n",
       "      <td>11.918397</td>\n",
       "    </tr>\n",
       "    <tr>\n",
       "      <th>4</th>\n",
       "      <td>9600.0</td>\n",
       "      <td>12.12</td>\n",
       "      <td>B</td>\n",
       "      <td>8 years</td>\n",
       "      <td>RENT</td>\n",
       "      <td>120000.0</td>\n",
       "      <td>0</td>\n",
       "      <td>0</td>\n",
       "      <td>11.695255</td>\n",
       "    </tr>\n",
       "    <tr>\n",
       "      <th>...</th>\n",
       "      <td>...</td>\n",
       "      <td>...</td>\n",
       "      <td>...</td>\n",
       "      <td>...</td>\n",
       "      <td>...</td>\n",
       "      <td>...</td>\n",
       "      <td>...</td>\n",
       "      <td>...</td>\n",
       "      <td>...</td>\n",
       "    </tr>\n",
       "    <tr>\n",
       "      <th>76252</th>\n",
       "      <td>9175.0</td>\n",
       "      <td>15.59</td>\n",
       "      <td>D</td>\n",
       "      <td>NaN</td>\n",
       "      <td>MORTGAGE</td>\n",
       "      <td>23000.0</td>\n",
       "      <td>0</td>\n",
       "      <td>0</td>\n",
       "      <td>10.043293</td>\n",
       "    </tr>\n",
       "    <tr>\n",
       "      <th>76253</th>\n",
       "      <td>6400.0</td>\n",
       "      <td>12.12</td>\n",
       "      <td>B</td>\n",
       "      <td>4 years</td>\n",
       "      <td>RENT</td>\n",
       "      <td>85000.0</td>\n",
       "      <td>0</td>\n",
       "      <td>0</td>\n",
       "      <td>11.350418</td>\n",
       "    </tr>\n",
       "    <tr>\n",
       "      <th>76254</th>\n",
       "      <td>25000.0</td>\n",
       "      <td>13.11</td>\n",
       "      <td>B</td>\n",
       "      <td>9 years</td>\n",
       "      <td>MORTGAGE</td>\n",
       "      <td>65000.0</td>\n",
       "      <td>1</td>\n",
       "      <td>0</td>\n",
       "      <td>11.082158</td>\n",
       "    </tr>\n",
       "    <tr>\n",
       "      <th>76255</th>\n",
       "      <td>5375.0</td>\n",
       "      <td>17.77</td>\n",
       "      <td>D</td>\n",
       "      <td>4 years</td>\n",
       "      <td>MORTGAGE</td>\n",
       "      <td>20000.0</td>\n",
       "      <td>0</td>\n",
       "      <td>0</td>\n",
       "      <td>9.903538</td>\n",
       "    </tr>\n",
       "    <tr>\n",
       "      <th>76256</th>\n",
       "      <td>5000.0</td>\n",
       "      <td>12.12</td>\n",
       "      <td>B</td>\n",
       "      <td>&lt; 1 year</td>\n",
       "      <td>RENT</td>\n",
       "      <td>100377.0</td>\n",
       "      <td>0</td>\n",
       "      <td>0</td>\n",
       "      <td>11.516698</td>\n",
       "    </tr>\n",
       "  </tbody>\n",
       "</table>\n",
       "<p>76257 rows × 9 columns</p>\n",
       "</div>"
      ],
      "text/plain": [
       "       loan_amnt  int_rate grade emp_length home_ownership  annual_inc  term  \\\n",
       "0         9525.0      6.62     A    2 years           RENT     60000.0     0   \n",
       "1        17325.0     11.14     B     1 year       MORTGAGE     54000.0     0   \n",
       "2         7000.0      8.49     A    5 years           RENT    118000.0     0   \n",
       "3        10000.0     16.24     C  10+ years       MORTGAGE    150000.0     1   \n",
       "4         9600.0     12.12     B    8 years           RENT    120000.0     0   \n",
       "...          ...       ...   ...        ...            ...         ...   ...   \n",
       "76252     9175.0     15.59     D        NaN       MORTGAGE     23000.0     0   \n",
       "76253     6400.0     12.12     B    4 years           RENT     85000.0     0   \n",
       "76254    25000.0     13.11     B    9 years       MORTGAGE     65000.0     1   \n",
       "76255     5375.0     17.77     D    4 years       MORTGAGE     20000.0     0   \n",
       "76256     5000.0     12.12     B   < 1 year           RENT    100377.0     0   \n",
       "\n",
       "       target  annual_inc_log  \n",
       "0           0       11.002117  \n",
       "1           1       10.896758  \n",
       "2           0       11.678448  \n",
       "3           0       11.918397  \n",
       "4           0       11.695255  \n",
       "...       ...             ...  \n",
       "76252       0       10.043293  \n",
       "76253       0       11.350418  \n",
       "76254       0       11.082158  \n",
       "76255       0        9.903538  \n",
       "76256       0       11.516698  \n",
       "\n",
       "[76257 rows x 9 columns]"
      ]
     },
     "execution_count": 27,
     "metadata": {},
     "output_type": "execute_result"
    }
   ],
   "source": [
    "test"
   ]
  },
  {
   "cell_type": "markdown",
   "metadata": {},
   "source": [
    "##### Encoding for home_ownership, grade"
   ]
  },
  {
   "cell_type": "code",
   "execution_count": 28,
   "metadata": {},
   "outputs": [
    {
     "data": {
      "text/html": [
       "<div>\n",
       "<style scoped>\n",
       "    .dataframe tbody tr th:only-of-type {\n",
       "        vertical-align: middle;\n",
       "    }\n",
       "\n",
       "    .dataframe tbody tr th {\n",
       "        vertical-align: top;\n",
       "    }\n",
       "\n",
       "    .dataframe thead th {\n",
       "        text-align: right;\n",
       "    }\n",
       "</style>\n",
       "<table border=\"1\" class=\"dataframe\">\n",
       "  <thead>\n",
       "    <tr style=\"text-align: right;\">\n",
       "      <th></th>\n",
       "      <th>loan_amnt</th>\n",
       "      <th>int_rate</th>\n",
       "      <th>annual_inc</th>\n",
       "      <th>term</th>\n",
       "      <th>target</th>\n",
       "      <th>annual_inc_log</th>\n",
       "      <th>grade_A</th>\n",
       "      <th>grade_B</th>\n",
       "      <th>grade_C</th>\n",
       "      <th>grade_D</th>\n",
       "      <th>...</th>\n",
       "      <th>emp_length_7 years</th>\n",
       "      <th>emp_length_8 years</th>\n",
       "      <th>emp_length_9 years</th>\n",
       "      <th>emp_length_&lt; 1 year</th>\n",
       "      <th>home_ownership_ANY</th>\n",
       "      <th>home_ownership_MORTGAGE</th>\n",
       "      <th>home_ownership_NONE</th>\n",
       "      <th>home_ownership_OTHER</th>\n",
       "      <th>home_ownership_OWN</th>\n",
       "      <th>home_ownership_RENT</th>\n",
       "    </tr>\n",
       "  </thead>\n",
       "  <tbody>\n",
       "    <tr>\n",
       "      <th>0</th>\n",
       "      <td>6000.0</td>\n",
       "      <td>9.76</td>\n",
       "      <td>33000.0</td>\n",
       "      <td>0</td>\n",
       "      <td>0</td>\n",
       "      <td>10.404293</td>\n",
       "      <td>0</td>\n",
       "      <td>1</td>\n",
       "      <td>0</td>\n",
       "      <td>0</td>\n",
       "      <td>...</td>\n",
       "      <td>0</td>\n",
       "      <td>0</td>\n",
       "      <td>0</td>\n",
       "      <td>0</td>\n",
       "      <td>0</td>\n",
       "      <td>0</td>\n",
       "      <td>0</td>\n",
       "      <td>0</td>\n",
       "      <td>0</td>\n",
       "      <td>1</td>\n",
       "    </tr>\n",
       "    <tr>\n",
       "      <th>1</th>\n",
       "      <td>19700.0</td>\n",
       "      <td>6.62</td>\n",
       "      <td>45000.0</td>\n",
       "      <td>0</td>\n",
       "      <td>0</td>\n",
       "      <td>10.714440</td>\n",
       "      <td>1</td>\n",
       "      <td>0</td>\n",
       "      <td>0</td>\n",
       "      <td>0</td>\n",
       "      <td>...</td>\n",
       "      <td>0</td>\n",
       "      <td>0</td>\n",
       "      <td>0</td>\n",
       "      <td>0</td>\n",
       "      <td>0</td>\n",
       "      <td>0</td>\n",
       "      <td>0</td>\n",
       "      <td>0</td>\n",
       "      <td>0</td>\n",
       "      <td>1</td>\n",
       "    </tr>\n",
       "    <tr>\n",
       "      <th>2</th>\n",
       "      <td>14000.0</td>\n",
       "      <td>6.03</td>\n",
       "      <td>75000.0</td>\n",
       "      <td>0</td>\n",
       "      <td>0</td>\n",
       "      <td>11.225257</td>\n",
       "      <td>1</td>\n",
       "      <td>0</td>\n",
       "      <td>0</td>\n",
       "      <td>0</td>\n",
       "      <td>...</td>\n",
       "      <td>0</td>\n",
       "      <td>0</td>\n",
       "      <td>0</td>\n",
       "      <td>1</td>\n",
       "      <td>0</td>\n",
       "      <td>1</td>\n",
       "      <td>0</td>\n",
       "      <td>0</td>\n",
       "      <td>0</td>\n",
       "      <td>0</td>\n",
       "    </tr>\n",
       "    <tr>\n",
       "      <th>3</th>\n",
       "      <td>21000.0</td>\n",
       "      <td>13.11</td>\n",
       "      <td>51000.0</td>\n",
       "      <td>0</td>\n",
       "      <td>0</td>\n",
       "      <td>10.839601</td>\n",
       "      <td>0</td>\n",
       "      <td>1</td>\n",
       "      <td>0</td>\n",
       "      <td>0</td>\n",
       "      <td>...</td>\n",
       "      <td>0</td>\n",
       "      <td>0</td>\n",
       "      <td>0</td>\n",
       "      <td>0</td>\n",
       "      <td>0</td>\n",
       "      <td>0</td>\n",
       "      <td>0</td>\n",
       "      <td>0</td>\n",
       "      <td>0</td>\n",
       "      <td>1</td>\n",
       "    </tr>\n",
       "    <tr>\n",
       "      <th>4</th>\n",
       "      <td>4500.0</td>\n",
       "      <td>16.29</td>\n",
       "      <td>96000.0</td>\n",
       "      <td>0</td>\n",
       "      <td>1</td>\n",
       "      <td>11.472114</td>\n",
       "      <td>0</td>\n",
       "      <td>0</td>\n",
       "      <td>0</td>\n",
       "      <td>1</td>\n",
       "      <td>...</td>\n",
       "      <td>0</td>\n",
       "      <td>0</td>\n",
       "      <td>0</td>\n",
       "      <td>0</td>\n",
       "      <td>0</td>\n",
       "      <td>1</td>\n",
       "      <td>0</td>\n",
       "      <td>0</td>\n",
       "      <td>0</td>\n",
       "      <td>0</td>\n",
       "    </tr>\n",
       "    <tr>\n",
       "      <th>...</th>\n",
       "      <td>...</td>\n",
       "      <td>...</td>\n",
       "      <td>...</td>\n",
       "      <td>...</td>\n",
       "      <td>...</td>\n",
       "      <td>...</td>\n",
       "      <td>...</td>\n",
       "      <td>...</td>\n",
       "      <td>...</td>\n",
       "      <td>...</td>\n",
       "      <td>...</td>\n",
       "      <td>...</td>\n",
       "      <td>...</td>\n",
       "      <td>...</td>\n",
       "      <td>...</td>\n",
       "      <td>...</td>\n",
       "      <td>...</td>\n",
       "      <td>...</td>\n",
       "      <td>...</td>\n",
       "      <td>...</td>\n",
       "      <td>...</td>\n",
       "    </tr>\n",
       "    <tr>\n",
       "      <th>177928</th>\n",
       "      <td>4750.0</td>\n",
       "      <td>10.16</td>\n",
       "      <td>63000.0</td>\n",
       "      <td>0</td>\n",
       "      <td>0</td>\n",
       "      <td>11.050906</td>\n",
       "      <td>0</td>\n",
       "      <td>1</td>\n",
       "      <td>0</td>\n",
       "      <td>0</td>\n",
       "      <td>...</td>\n",
       "      <td>0</td>\n",
       "      <td>0</td>\n",
       "      <td>0</td>\n",
       "      <td>0</td>\n",
       "      <td>0</td>\n",
       "      <td>1</td>\n",
       "      <td>0</td>\n",
       "      <td>0</td>\n",
       "      <td>0</td>\n",
       "      <td>0</td>\n",
       "    </tr>\n",
       "    <tr>\n",
       "      <th>177929</th>\n",
       "      <td>10000.0</td>\n",
       "      <td>9.17</td>\n",
       "      <td>70600.0</td>\n",
       "      <td>0</td>\n",
       "      <td>0</td>\n",
       "      <td>11.164800</td>\n",
       "      <td>0</td>\n",
       "      <td>1</td>\n",
       "      <td>0</td>\n",
       "      <td>0</td>\n",
       "      <td>...</td>\n",
       "      <td>0</td>\n",
       "      <td>0</td>\n",
       "      <td>0</td>\n",
       "      <td>0</td>\n",
       "      <td>0</td>\n",
       "      <td>0</td>\n",
       "      <td>0</td>\n",
       "      <td>0</td>\n",
       "      <td>0</td>\n",
       "      <td>1</td>\n",
       "    </tr>\n",
       "    <tr>\n",
       "      <th>177930</th>\n",
       "      <td>9000.0</td>\n",
       "      <td>14.33</td>\n",
       "      <td>63000.0</td>\n",
       "      <td>0</td>\n",
       "      <td>0</td>\n",
       "      <td>11.050906</td>\n",
       "      <td>0</td>\n",
       "      <td>0</td>\n",
       "      <td>1</td>\n",
       "      <td>0</td>\n",
       "      <td>...</td>\n",
       "      <td>0</td>\n",
       "      <td>0</td>\n",
       "      <td>0</td>\n",
       "      <td>0</td>\n",
       "      <td>0</td>\n",
       "      <td>0</td>\n",
       "      <td>0</td>\n",
       "      <td>0</td>\n",
       "      <td>0</td>\n",
       "      <td>1</td>\n",
       "    </tr>\n",
       "    <tr>\n",
       "      <th>177931</th>\n",
       "      <td>19800.0</td>\n",
       "      <td>22.99</td>\n",
       "      <td>100000.0</td>\n",
       "      <td>1</td>\n",
       "      <td>0</td>\n",
       "      <td>11.512935</td>\n",
       "      <td>0</td>\n",
       "      <td>0</td>\n",
       "      <td>0</td>\n",
       "      <td>0</td>\n",
       "      <td>...</td>\n",
       "      <td>0</td>\n",
       "      <td>0</td>\n",
       "      <td>0</td>\n",
       "      <td>0</td>\n",
       "      <td>0</td>\n",
       "      <td>1</td>\n",
       "      <td>0</td>\n",
       "      <td>0</td>\n",
       "      <td>0</td>\n",
       "      <td>0</td>\n",
       "    </tr>\n",
       "    <tr>\n",
       "      <th>177932</th>\n",
       "      <td>24000.0</td>\n",
       "      <td>8.90</td>\n",
       "      <td>185000.0</td>\n",
       "      <td>1</td>\n",
       "      <td>0</td>\n",
       "      <td>12.128117</td>\n",
       "      <td>1</td>\n",
       "      <td>0</td>\n",
       "      <td>0</td>\n",
       "      <td>0</td>\n",
       "      <td>...</td>\n",
       "      <td>0</td>\n",
       "      <td>0</td>\n",
       "      <td>0</td>\n",
       "      <td>0</td>\n",
       "      <td>0</td>\n",
       "      <td>1</td>\n",
       "      <td>0</td>\n",
       "      <td>0</td>\n",
       "      <td>0</td>\n",
       "      <td>0</td>\n",
       "    </tr>\n",
       "  </tbody>\n",
       "</table>\n",
       "<p>177933 rows × 30 columns</p>\n",
       "</div>"
      ],
      "text/plain": [
       "        loan_amnt  int_rate  annual_inc  term  target  annual_inc_log  \\\n",
       "0          6000.0      9.76     33000.0     0       0       10.404293   \n",
       "1         19700.0      6.62     45000.0     0       0       10.714440   \n",
       "2         14000.0      6.03     75000.0     0       0       11.225257   \n",
       "3         21000.0     13.11     51000.0     0       0       10.839601   \n",
       "4          4500.0     16.29     96000.0     0       1       11.472114   \n",
       "...           ...       ...         ...   ...     ...             ...   \n",
       "177928     4750.0     10.16     63000.0     0       0       11.050906   \n",
       "177929    10000.0      9.17     70600.0     0       0       11.164800   \n",
       "177930     9000.0     14.33     63000.0     0       0       11.050906   \n",
       "177931    19800.0     22.99    100000.0     1       0       11.512935   \n",
       "177932    24000.0      8.90    185000.0     1       0       12.128117   \n",
       "\n",
       "        grade_A  grade_B  grade_C  grade_D  ...  emp_length_7 years  \\\n",
       "0             0        1        0        0  ...                   0   \n",
       "1             1        0        0        0  ...                   0   \n",
       "2             1        0        0        0  ...                   0   \n",
       "3             0        1        0        0  ...                   0   \n",
       "4             0        0        0        1  ...                   0   \n",
       "...         ...      ...      ...      ...  ...                 ...   \n",
       "177928        0        1        0        0  ...                   0   \n",
       "177929        0        1        0        0  ...                   0   \n",
       "177930        0        0        1        0  ...                   0   \n",
       "177931        0        0        0        0  ...                   0   \n",
       "177932        1        0        0        0  ...                   0   \n",
       "\n",
       "        emp_length_8 years  emp_length_9 years  emp_length_< 1 year  \\\n",
       "0                        0                   0                    0   \n",
       "1                        0                   0                    0   \n",
       "2                        0                   0                    1   \n",
       "3                        0                   0                    0   \n",
       "4                        0                   0                    0   \n",
       "...                    ...                 ...                  ...   \n",
       "177928                   0                   0                    0   \n",
       "177929                   0                   0                    0   \n",
       "177930                   0                   0                    0   \n",
       "177931                   0                   0                    0   \n",
       "177932                   0                   0                    0   \n",
       "\n",
       "        home_ownership_ANY  home_ownership_MORTGAGE  home_ownership_NONE  \\\n",
       "0                        0                        0                    0   \n",
       "1                        0                        0                    0   \n",
       "2                        0                        1                    0   \n",
       "3                        0                        0                    0   \n",
       "4                        0                        1                    0   \n",
       "...                    ...                      ...                  ...   \n",
       "177928                   0                        1                    0   \n",
       "177929                   0                        0                    0   \n",
       "177930                   0                        0                    0   \n",
       "177931                   0                        1                    0   \n",
       "177932                   0                        1                    0   \n",
       "\n",
       "        home_ownership_OTHER  home_ownership_OWN  home_ownership_RENT  \n",
       "0                          0                   0                    1  \n",
       "1                          0                   0                    1  \n",
       "2                          0                   0                    0  \n",
       "3                          0                   0                    1  \n",
       "4                          0                   0                    0  \n",
       "...                      ...                 ...                  ...  \n",
       "177928                     0                   0                    0  \n",
       "177929                     0                   0                    1  \n",
       "177930                     0                   0                    1  \n",
       "177931                     0                   0                    0  \n",
       "177932                     0                   0                    0  \n",
       "\n",
       "[177933 rows x 30 columns]"
      ]
     },
     "execution_count": 28,
     "metadata": {},
     "output_type": "execute_result"
    }
   ],
   "source": [
    "# one-hot encoding of categorical variables\n",
    "train = pd.get_dummies(train)\n",
    "test = pd.get_dummies(test)\n",
    "train"
   ]
  },
  {
   "cell_type": "code",
   "execution_count": 29,
   "metadata": {},
   "outputs": [
    {
     "data": {
      "text/html": [
       "<div>\n",
       "<style scoped>\n",
       "    .dataframe tbody tr th:only-of-type {\n",
       "        vertical-align: middle;\n",
       "    }\n",
       "\n",
       "    .dataframe tbody tr th {\n",
       "        vertical-align: top;\n",
       "    }\n",
       "\n",
       "    .dataframe thead th {\n",
       "        text-align: right;\n",
       "    }\n",
       "</style>\n",
       "<table border=\"1\" class=\"dataframe\">\n",
       "  <thead>\n",
       "    <tr style=\"text-align: right;\">\n",
       "      <th></th>\n",
       "      <th>loan_amnt</th>\n",
       "      <th>int_rate</th>\n",
       "      <th>annual_inc</th>\n",
       "      <th>term</th>\n",
       "      <th>target</th>\n",
       "      <th>annual_inc_log</th>\n",
       "      <th>grade_A</th>\n",
       "      <th>grade_B</th>\n",
       "      <th>grade_C</th>\n",
       "      <th>grade_D</th>\n",
       "      <th>...</th>\n",
       "      <th>emp_length_6 years</th>\n",
       "      <th>emp_length_7 years</th>\n",
       "      <th>emp_length_8 years</th>\n",
       "      <th>emp_length_9 years</th>\n",
       "      <th>emp_length_&lt; 1 year</th>\n",
       "      <th>home_ownership_MORTGAGE</th>\n",
       "      <th>home_ownership_NONE</th>\n",
       "      <th>home_ownership_OTHER</th>\n",
       "      <th>home_ownership_OWN</th>\n",
       "      <th>home_ownership_RENT</th>\n",
       "    </tr>\n",
       "  </thead>\n",
       "  <tbody>\n",
       "    <tr>\n",
       "      <th>0</th>\n",
       "      <td>9525.0</td>\n",
       "      <td>6.62</td>\n",
       "      <td>60000.0</td>\n",
       "      <td>0</td>\n",
       "      <td>0</td>\n",
       "      <td>11.002117</td>\n",
       "      <td>1</td>\n",
       "      <td>0</td>\n",
       "      <td>0</td>\n",
       "      <td>0</td>\n",
       "      <td>...</td>\n",
       "      <td>0</td>\n",
       "      <td>0</td>\n",
       "      <td>0</td>\n",
       "      <td>0</td>\n",
       "      <td>0</td>\n",
       "      <td>0</td>\n",
       "      <td>0</td>\n",
       "      <td>0</td>\n",
       "      <td>0</td>\n",
       "      <td>1</td>\n",
       "    </tr>\n",
       "    <tr>\n",
       "      <th>1</th>\n",
       "      <td>17325.0</td>\n",
       "      <td>11.14</td>\n",
       "      <td>54000.0</td>\n",
       "      <td>0</td>\n",
       "      <td>1</td>\n",
       "      <td>10.896758</td>\n",
       "      <td>0</td>\n",
       "      <td>1</td>\n",
       "      <td>0</td>\n",
       "      <td>0</td>\n",
       "      <td>...</td>\n",
       "      <td>0</td>\n",
       "      <td>0</td>\n",
       "      <td>0</td>\n",
       "      <td>0</td>\n",
       "      <td>0</td>\n",
       "      <td>1</td>\n",
       "      <td>0</td>\n",
       "      <td>0</td>\n",
       "      <td>0</td>\n",
       "      <td>0</td>\n",
       "    </tr>\n",
       "    <tr>\n",
       "      <th>2</th>\n",
       "      <td>7000.0</td>\n",
       "      <td>8.49</td>\n",
       "      <td>118000.0</td>\n",
       "      <td>0</td>\n",
       "      <td>0</td>\n",
       "      <td>11.678448</td>\n",
       "      <td>1</td>\n",
       "      <td>0</td>\n",
       "      <td>0</td>\n",
       "      <td>0</td>\n",
       "      <td>...</td>\n",
       "      <td>0</td>\n",
       "      <td>0</td>\n",
       "      <td>0</td>\n",
       "      <td>0</td>\n",
       "      <td>0</td>\n",
       "      <td>0</td>\n",
       "      <td>0</td>\n",
       "      <td>0</td>\n",
       "      <td>0</td>\n",
       "      <td>1</td>\n",
       "    </tr>\n",
       "    <tr>\n",
       "      <th>3</th>\n",
       "      <td>10000.0</td>\n",
       "      <td>16.24</td>\n",
       "      <td>150000.0</td>\n",
       "      <td>1</td>\n",
       "      <td>0</td>\n",
       "      <td>11.918397</td>\n",
       "      <td>0</td>\n",
       "      <td>0</td>\n",
       "      <td>1</td>\n",
       "      <td>0</td>\n",
       "      <td>...</td>\n",
       "      <td>0</td>\n",
       "      <td>0</td>\n",
       "      <td>0</td>\n",
       "      <td>0</td>\n",
       "      <td>0</td>\n",
       "      <td>1</td>\n",
       "      <td>0</td>\n",
       "      <td>0</td>\n",
       "      <td>0</td>\n",
       "      <td>0</td>\n",
       "    </tr>\n",
       "    <tr>\n",
       "      <th>4</th>\n",
       "      <td>9600.0</td>\n",
       "      <td>12.12</td>\n",
       "      <td>120000.0</td>\n",
       "      <td>0</td>\n",
       "      <td>0</td>\n",
       "      <td>11.695255</td>\n",
       "      <td>0</td>\n",
       "      <td>1</td>\n",
       "      <td>0</td>\n",
       "      <td>0</td>\n",
       "      <td>...</td>\n",
       "      <td>0</td>\n",
       "      <td>0</td>\n",
       "      <td>1</td>\n",
       "      <td>0</td>\n",
       "      <td>0</td>\n",
       "      <td>0</td>\n",
       "      <td>0</td>\n",
       "      <td>0</td>\n",
       "      <td>0</td>\n",
       "      <td>1</td>\n",
       "    </tr>\n",
       "    <tr>\n",
       "      <th>...</th>\n",
       "      <td>...</td>\n",
       "      <td>...</td>\n",
       "      <td>...</td>\n",
       "      <td>...</td>\n",
       "      <td>...</td>\n",
       "      <td>...</td>\n",
       "      <td>...</td>\n",
       "      <td>...</td>\n",
       "      <td>...</td>\n",
       "      <td>...</td>\n",
       "      <td>...</td>\n",
       "      <td>...</td>\n",
       "      <td>...</td>\n",
       "      <td>...</td>\n",
       "      <td>...</td>\n",
       "      <td>...</td>\n",
       "      <td>...</td>\n",
       "      <td>...</td>\n",
       "      <td>...</td>\n",
       "      <td>...</td>\n",
       "      <td>...</td>\n",
       "    </tr>\n",
       "    <tr>\n",
       "      <th>76252</th>\n",
       "      <td>9175.0</td>\n",
       "      <td>15.59</td>\n",
       "      <td>23000.0</td>\n",
       "      <td>0</td>\n",
       "      <td>0</td>\n",
       "      <td>10.043293</td>\n",
       "      <td>0</td>\n",
       "      <td>0</td>\n",
       "      <td>0</td>\n",
       "      <td>1</td>\n",
       "      <td>...</td>\n",
       "      <td>0</td>\n",
       "      <td>0</td>\n",
       "      <td>0</td>\n",
       "      <td>0</td>\n",
       "      <td>0</td>\n",
       "      <td>1</td>\n",
       "      <td>0</td>\n",
       "      <td>0</td>\n",
       "      <td>0</td>\n",
       "      <td>0</td>\n",
       "    </tr>\n",
       "    <tr>\n",
       "      <th>76253</th>\n",
       "      <td>6400.0</td>\n",
       "      <td>12.12</td>\n",
       "      <td>85000.0</td>\n",
       "      <td>0</td>\n",
       "      <td>0</td>\n",
       "      <td>11.350418</td>\n",
       "      <td>0</td>\n",
       "      <td>1</td>\n",
       "      <td>0</td>\n",
       "      <td>0</td>\n",
       "      <td>...</td>\n",
       "      <td>0</td>\n",
       "      <td>0</td>\n",
       "      <td>0</td>\n",
       "      <td>0</td>\n",
       "      <td>0</td>\n",
       "      <td>0</td>\n",
       "      <td>0</td>\n",
       "      <td>0</td>\n",
       "      <td>0</td>\n",
       "      <td>1</td>\n",
       "    </tr>\n",
       "    <tr>\n",
       "      <th>76254</th>\n",
       "      <td>25000.0</td>\n",
       "      <td>13.11</td>\n",
       "      <td>65000.0</td>\n",
       "      <td>1</td>\n",
       "      <td>0</td>\n",
       "      <td>11.082158</td>\n",
       "      <td>0</td>\n",
       "      <td>1</td>\n",
       "      <td>0</td>\n",
       "      <td>0</td>\n",
       "      <td>...</td>\n",
       "      <td>0</td>\n",
       "      <td>0</td>\n",
       "      <td>0</td>\n",
       "      <td>1</td>\n",
       "      <td>0</td>\n",
       "      <td>1</td>\n",
       "      <td>0</td>\n",
       "      <td>0</td>\n",
       "      <td>0</td>\n",
       "      <td>0</td>\n",
       "    </tr>\n",
       "    <tr>\n",
       "      <th>76255</th>\n",
       "      <td>5375.0</td>\n",
       "      <td>17.77</td>\n",
       "      <td>20000.0</td>\n",
       "      <td>0</td>\n",
       "      <td>0</td>\n",
       "      <td>9.903538</td>\n",
       "      <td>0</td>\n",
       "      <td>0</td>\n",
       "      <td>0</td>\n",
       "      <td>1</td>\n",
       "      <td>...</td>\n",
       "      <td>0</td>\n",
       "      <td>0</td>\n",
       "      <td>0</td>\n",
       "      <td>0</td>\n",
       "      <td>0</td>\n",
       "      <td>1</td>\n",
       "      <td>0</td>\n",
       "      <td>0</td>\n",
       "      <td>0</td>\n",
       "      <td>0</td>\n",
       "    </tr>\n",
       "    <tr>\n",
       "      <th>76256</th>\n",
       "      <td>5000.0</td>\n",
       "      <td>12.12</td>\n",
       "      <td>100377.0</td>\n",
       "      <td>0</td>\n",
       "      <td>0</td>\n",
       "      <td>11.516698</td>\n",
       "      <td>0</td>\n",
       "      <td>1</td>\n",
       "      <td>0</td>\n",
       "      <td>0</td>\n",
       "      <td>...</td>\n",
       "      <td>0</td>\n",
       "      <td>0</td>\n",
       "      <td>0</td>\n",
       "      <td>0</td>\n",
       "      <td>1</td>\n",
       "      <td>0</td>\n",
       "      <td>0</td>\n",
       "      <td>0</td>\n",
       "      <td>0</td>\n",
       "      <td>1</td>\n",
       "    </tr>\n",
       "  </tbody>\n",
       "</table>\n",
       "<p>76257 rows × 29 columns</p>\n",
       "</div>"
      ],
      "text/plain": [
       "       loan_amnt  int_rate  annual_inc  term  target  annual_inc_log  grade_A  \\\n",
       "0         9525.0      6.62     60000.0     0       0       11.002117        1   \n",
       "1        17325.0     11.14     54000.0     0       1       10.896758        0   \n",
       "2         7000.0      8.49    118000.0     0       0       11.678448        1   \n",
       "3        10000.0     16.24    150000.0     1       0       11.918397        0   \n",
       "4         9600.0     12.12    120000.0     0       0       11.695255        0   \n",
       "...          ...       ...         ...   ...     ...             ...      ...   \n",
       "76252     9175.0     15.59     23000.0     0       0       10.043293        0   \n",
       "76253     6400.0     12.12     85000.0     0       0       11.350418        0   \n",
       "76254    25000.0     13.11     65000.0     1       0       11.082158        0   \n",
       "76255     5375.0     17.77     20000.0     0       0        9.903538        0   \n",
       "76256     5000.0     12.12    100377.0     0       0       11.516698        0   \n",
       "\n",
       "       grade_B  grade_C  grade_D  ...  emp_length_6 years  emp_length_7 years  \\\n",
       "0            0        0        0  ...                   0                   0   \n",
       "1            1        0        0  ...                   0                   0   \n",
       "2            0        0        0  ...                   0                   0   \n",
       "3            0        1        0  ...                   0                   0   \n",
       "4            1        0        0  ...                   0                   0   \n",
       "...        ...      ...      ...  ...                 ...                 ...   \n",
       "76252        0        0        1  ...                   0                   0   \n",
       "76253        1        0        0  ...                   0                   0   \n",
       "76254        1        0        0  ...                   0                   0   \n",
       "76255        0        0        1  ...                   0                   0   \n",
       "76256        1        0        0  ...                   0                   0   \n",
       "\n",
       "       emp_length_8 years  emp_length_9 years  emp_length_< 1 year  \\\n",
       "0                       0                   0                    0   \n",
       "1                       0                   0                    0   \n",
       "2                       0                   0                    0   \n",
       "3                       0                   0                    0   \n",
       "4                       1                   0                    0   \n",
       "...                   ...                 ...                  ...   \n",
       "76252                   0                   0                    0   \n",
       "76253                   0                   0                    0   \n",
       "76254                   0                   1                    0   \n",
       "76255                   0                   0                    0   \n",
       "76256                   0                   0                    1   \n",
       "\n",
       "       home_ownership_MORTGAGE  home_ownership_NONE  home_ownership_OTHER  \\\n",
       "0                            0                    0                     0   \n",
       "1                            1                    0                     0   \n",
       "2                            0                    0                     0   \n",
       "3                            1                    0                     0   \n",
       "4                            0                    0                     0   \n",
       "...                        ...                  ...                   ...   \n",
       "76252                        1                    0                     0   \n",
       "76253                        0                    0                     0   \n",
       "76254                        1                    0                     0   \n",
       "76255                        1                    0                     0   \n",
       "76256                        0                    0                     0   \n",
       "\n",
       "       home_ownership_OWN  home_ownership_RENT  \n",
       "0                       0                    1  \n",
       "1                       0                    0  \n",
       "2                       0                    1  \n",
       "3                       0                    0  \n",
       "4                       0                    1  \n",
       "...                   ...                  ...  \n",
       "76252                   0                    0  \n",
       "76253                   0                    1  \n",
       "76254                   0                    0  \n",
       "76255                   0                    0  \n",
       "76256                   0                    1  \n",
       "\n",
       "[76257 rows x 29 columns]"
      ]
     },
     "execution_count": 29,
     "metadata": {},
     "output_type": "execute_result"
    }
   ],
   "source": [
    "test"
   ]
  },
  {
   "cell_type": "markdown",
   "metadata": {},
   "source": [
    "Hot-encoding đã sinh ra các feature mới với giá trị 0 và 1 đại diện cho các giá trị trong **grade** và **home_ownership**.\n",
    "Tuy nhiên, nếu trong tập test và tập train không đồng nhấ t về các giá trị, thì số cột mới sinh ra sẽ khác nhau ở hai tập dữ liệu. Ta sẽ kiểm tra điều này"
   ]
  },
  {
   "cell_type": "code",
   "execution_count": 30,
   "metadata": {},
   "outputs": [
    {
     "name": "stdout",
     "output_type": "stream",
     "text": [
      "Training Features shape:  (177933, 30)\n",
      "Testing Features shape:  (76257, 29)\n"
     ]
    }
   ],
   "source": [
    "print('Training Features shape: ', train.shape)\n",
    "print('Testing Features shape: ', test.shape)"
   ]
  },
  {
   "cell_type": "markdown",
   "metadata": {},
   "source": [
    "Tập train hiện có 30 cột, trong khi đó tập test chỉ có 29. Kiểm tra xem đâu là feature dẫn đến điều nayf:"
   ]
  },
  {
   "cell_type": "code",
   "execution_count": 31,
   "metadata": {},
   "outputs": [
    {
     "name": "stdout",
     "output_type": "stream",
     "text": [
      "{'home_ownership_ANY'}\n"
     ]
    }
   ],
   "source": [
    "print(set(train.columns) - set(test.columns))"
   ]
  },
  {
   "cell_type": "code",
   "execution_count": 32,
   "metadata": {},
   "outputs": [
    {
     "data": {
      "text/plain": [
       "['loan_amnt',\n",
       " 'int_rate',\n",
       " 'annual_inc',\n",
       " 'term',\n",
       " 'target',\n",
       " 'annual_inc_log',\n",
       " 'grade_A',\n",
       " 'grade_B',\n",
       " 'grade_C',\n",
       " 'grade_D',\n",
       " 'grade_E',\n",
       " 'grade_F',\n",
       " 'grade_G',\n",
       " 'emp_length_1 year',\n",
       " 'emp_length_10+ years',\n",
       " 'emp_length_2 years',\n",
       " 'emp_length_3 years',\n",
       " 'emp_length_4 years',\n",
       " 'emp_length_5 years',\n",
       " 'emp_length_6 years',\n",
       " 'emp_length_7 years',\n",
       " 'emp_length_8 years',\n",
       " 'emp_length_9 years',\n",
       " 'emp_length_< 1 year',\n",
       " 'home_ownership_MORTGAGE',\n",
       " 'home_ownership_NONE',\n",
       " 'home_ownership_OTHER',\n",
       " 'home_ownership_OWN',\n",
       " 'home_ownership_RENT']"
      ]
     },
     "execution_count": 32,
     "metadata": {},
     "output_type": "execute_result"
    }
   ],
   "source": [
    "b = list(test.columns)\n",
    "b"
   ]
  },
  {
   "cell_type": "markdown",
   "metadata": {},
   "source": [
    "Ta sẽ đồng b ộ tập features giữa hai tập dữ liệu bằng cách loại bỏ đi những feature có trong train mà không có trong test."
   ]
  },
  {
   "cell_type": "code",
   "execution_count": 33,
   "metadata": {},
   "outputs": [
    {
     "name": "stdout",
     "output_type": "stream",
     "text": [
      "Training Features shape:  (177933, 29)\n",
      "Testing Features shape:  (76257, 29)\n"
     ]
    }
   ],
   "source": [
    "# Align the training and testing data, keep only columns present in both dataframes\n",
    "train, test = train.align(test, join = 'inner', axis = 1)\n",
    "\n",
    "print('Training Features shape: ', train.shape)\n",
    "print('Testing Features shape: ', test.shape)"
   ]
  },
  {
   "cell_type": "markdown",
   "metadata": {},
   "source": [
    "## Feature Engineering"
   ]
  },
  {
   "cell_type": "markdown",
   "metadata": {},
   "source": [
    "Ta sẽ thử tạo ra các feature mới từ những domain feature có sẵn.\n",
    "-    **loan_income_percentage**: tỉ lệ giữa khoản nợ và thu nhập hàng năm của người vay\n",
    "-    **annual_interest**: lãi suất hàng năm\n",
    "-    **ann_int_income_percentage**: tỉ lệ giữa lãi và thu nhập hàng năm của người vay\n",
    "    "
   ]
  },
  {
   "cell_type": "code",
   "execution_count": 34,
   "metadata": {},
   "outputs": [],
   "source": [
    "# copy train and test data\n",
    "train_domain = train.copy()\n",
    "test_domain = test.copy()\n",
    "\n",
    "# generate new features for train data\n",
    "train_domain['loan_income_percentage'] = train_domain['loan_amnt'] / train_domain['annual_inc']\n",
    "train_domain['annual_interest'] = train_domain['int_rate'] * train_domain[\"loan_amnt\"]\n",
    "train_domain['ann_int_income_percentage'] = train_domain['annual_interest'] / train_domain['annual_inc']"
   ]
  },
  {
   "cell_type": "code",
   "execution_count": 35,
   "metadata": {},
   "outputs": [],
   "source": [
    "# generate new features for test data\n",
    "test_domain['loan_income_percentage'] = test_domain['loan_amnt'] / test_domain['annual_inc']\n",
    "test_domain['annual_interest'] = test_domain['int_rate'] * test_domain[\"loan_amnt\"]\n",
    "test_domain['ann_int_income_percentage'] = test_domain['annual_interest'] / test_domain['annual_inc']"
   ]
  },
  {
   "cell_type": "markdown",
   "metadata": {},
   "source": [
    "# Modeling"
   ]
  },
  {
   "cell_type": "markdown",
   "metadata": {},
   "source": [
    "Sau khi đã hoàn thành encoding các feature, đồng bộ giữa hai tập dữ liệu train và test, ta sẽ sử dụng Random Forest để training."
   ]
  },
  {
   "cell_type": "code",
   "execution_count": 36,
   "metadata": {
    "scrolled": true
   },
   "outputs": [
    {
     "data": {
      "text/plain": [
       "Index(['loan_amnt', 'int_rate', 'annual_inc', 'term', 'annual_inc_log',\n",
       "       'grade_A', 'grade_B', 'grade_C', 'grade_D', 'grade_E', 'grade_F',\n",
       "       'grade_G', 'emp_length_1 year', 'emp_length_10+ years',\n",
       "       'emp_length_2 years', 'emp_length_3 years', 'emp_length_4 years',\n",
       "       'emp_length_5 years', 'emp_length_6 years', 'emp_length_7 years',\n",
       "       'emp_length_8 years', 'emp_length_9 years', 'emp_length_< 1 year',\n",
       "       'home_ownership_MORTGAGE', 'home_ownership_NONE',\n",
       "       'home_ownership_OTHER', 'home_ownership_OWN', 'home_ownership_RENT'],\n",
       "      dtype='object')"
      ]
     },
     "execution_count": 36,
     "metadata": {},
     "output_type": "execute_result"
    }
   ],
   "source": [
    "# prepare data for model\n",
    "Y_train = train.target\n",
    "X_train = train.drop(columns=['target'])\n",
    "Y_test = test['target']\n",
    "X_test = test.drop(columns=['target'])\n",
    "X_train.columns"
   ]
  },
  {
   "cell_type": "code",
   "execution_count": 37,
   "metadata": {
    "scrolled": true
   },
   "outputs": [
    {
     "data": {
      "text/plain": [
       "Index(['loan_amnt', 'int_rate', 'annual_inc', 'term', 'annual_inc_log',\n",
       "       'grade_A', 'grade_B', 'grade_C', 'grade_D', 'grade_E', 'grade_F',\n",
       "       'grade_G', 'emp_length_1 year', 'emp_length_10+ years',\n",
       "       'emp_length_2 years', 'emp_length_3 years', 'emp_length_4 years',\n",
       "       'emp_length_5 years', 'emp_length_6 years', 'emp_length_7 years',\n",
       "       'emp_length_8 years', 'emp_length_9 years', 'emp_length_< 1 year',\n",
       "       'home_ownership_MORTGAGE', 'home_ownership_NONE',\n",
       "       'home_ownership_OTHER', 'home_ownership_OWN', 'home_ownership_RENT'],\n",
       "      dtype='object')"
      ]
     },
     "execution_count": 37,
     "metadata": {},
     "output_type": "execute_result"
    }
   ],
   "source": [
    "X_test.columns"
   ]
  },
  {
   "cell_type": "markdown",
   "metadata": {},
   "source": [
    "### Modeling bằng Random Forest"
   ]
  },
  {
   "cell_type": "code",
   "execution_count": 38,
   "metadata": {},
   "outputs": [
    {
     "name": "stderr",
     "output_type": "stream",
     "text": [
      "/home/ta/anaconda3/envs/dyno/lib/python3.7/site-packages/sklearn/ensemble/weight_boosting.py:29: DeprecationWarning: numpy.core.umath_tests is an internal NumPy module and should not be imported. It will be removed in a future NumPy release.\n",
      "  from numpy.core.umath_tests import inner1d\n"
     ]
    }
   ],
   "source": [
    "from sklearn.ensemble import RandomForestClassifier\n",
    "\n",
    "# create the random forest classifier\n",
    "random_forest = RandomForestClassifier()"
   ]
  },
  {
   "cell_type": "code",
   "execution_count": 39,
   "metadata": {},
   "outputs": [
    {
     "data": {
      "text/plain": [
       "RandomForestClassifier(bootstrap=True, class_weight=None, criterion='gini',\n",
       "            max_depth=None, max_features='auto', max_leaf_nodes=None,\n",
       "            min_impurity_decrease=0.0, min_impurity_split=None,\n",
       "            min_samples_leaf=1, min_samples_split=2,\n",
       "            min_weight_fraction_leaf=0.0, n_estimators=10, n_jobs=1,\n",
       "            oob_score=False, random_state=None, verbose=0,\n",
       "            warm_start=False)"
      ]
     },
     "execution_count": 39,
     "metadata": {},
     "output_type": "execute_result"
    }
   ],
   "source": [
    "random_forest.fit(X_train, Y_train)"
   ]
  },
  {
   "cell_type": "code",
   "execution_count": 40,
   "metadata": {
    "scrolled": true
   },
   "outputs": [
    {
     "name": "stdout",
     "output_type": "stream",
     "text": [
      "AUC of RF:  0.6144815291342827\n",
      "Gini of RF:  0.22896305826856533\n"
     ]
    }
   ],
   "source": [
    "from sklearn import metrics\n",
    "from sklearn.metrics import roc_auc_score, roc_curve, auc\n",
    "\n",
    "# # Extract feature importances\n",
    "# feature_importance_values = random_forest.feature_importances_\n",
    "# feature_importances = pd.DataFrame({'feature': features, 'importance': feature_importance_values})\n",
    "\n",
    "# Make predictions on the test data\n",
    "predictions = random_forest.predict_proba(X_test)[:,1]\n",
    "\n",
    "# auc for random forest\n",
    "auc_rf = metrics.roc_auc_score(Y_test, predictions)\n",
    "print('AUC of RF: ', auc_rf)\n",
    "\n",
    "# gini for random forest\n",
    "gini_rf = 2 * auc_rf - 1\n",
    "print('Gini of RF: ',gini_rf)"
   ]
  },
  {
   "cell_type": "markdown",
   "metadata": {},
   "source": [
    "Hiệu suất của model được đánh giá bằng hệ số Gini.\n",
    "Sau đây ta sẽ minh họa và tính gini của model."
   ]
  },
  {
   "cell_type": "code",
   "execution_count": 41,
   "metadata": {},
   "outputs": [],
   "source": [
    "from sklearn import metrics\n",
    "from itertools import cycle\n",
    "import scipy.interpolate\n",
    "import scipy.integrate"
   ]
  },
  {
   "cell_type": "markdown",
   "metadata": {},
   "source": [
    "Tạo một df mới gồm 2 feature là prediction và target của model vừa dự đoán."
   ]
  },
  {
   "cell_type": "code",
   "execution_count": 42,
   "metadata": {},
   "outputs": [
    {
     "data": {
      "text/html": [
       "<div>\n",
       "<style scoped>\n",
       "    .dataframe tbody tr th:only-of-type {\n",
       "        vertical-align: middle;\n",
       "    }\n",
       "\n",
       "    .dataframe tbody tr th {\n",
       "        vertical-align: top;\n",
       "    }\n",
       "\n",
       "    .dataframe thead th {\n",
       "        text-align: right;\n",
       "    }\n",
       "</style>\n",
       "<table border=\"1\" class=\"dataframe\">\n",
       "  <thead>\n",
       "    <tr style=\"text-align: right;\">\n",
       "      <th></th>\n",
       "      <th>prediction</th>\n",
       "      <th>target</th>\n",
       "    </tr>\n",
       "  </thead>\n",
       "  <tbody>\n",
       "    <tr>\n",
       "      <th>0</th>\n",
       "      <td>0.0</td>\n",
       "      <td>0</td>\n",
       "    </tr>\n",
       "    <tr>\n",
       "      <th>1</th>\n",
       "      <td>0.0</td>\n",
       "      <td>1</td>\n",
       "    </tr>\n",
       "    <tr>\n",
       "      <th>2</th>\n",
       "      <td>0.2</td>\n",
       "      <td>0</td>\n",
       "    </tr>\n",
       "    <tr>\n",
       "      <th>3</th>\n",
       "      <td>0.4</td>\n",
       "      <td>0</td>\n",
       "    </tr>\n",
       "    <tr>\n",
       "      <th>4</th>\n",
       "      <td>0.1</td>\n",
       "      <td>0</td>\n",
       "    </tr>\n",
       "    <tr>\n",
       "      <th>...</th>\n",
       "      <td>...</td>\n",
       "      <td>...</td>\n",
       "    </tr>\n",
       "    <tr>\n",
       "      <th>76252</th>\n",
       "      <td>0.6</td>\n",
       "      <td>0</td>\n",
       "    </tr>\n",
       "    <tr>\n",
       "      <th>76253</th>\n",
       "      <td>0.1</td>\n",
       "      <td>0</td>\n",
       "    </tr>\n",
       "    <tr>\n",
       "      <th>76254</th>\n",
       "      <td>0.4</td>\n",
       "      <td>0</td>\n",
       "    </tr>\n",
       "    <tr>\n",
       "      <th>76255</th>\n",
       "      <td>0.0</td>\n",
       "      <td>0</td>\n",
       "    </tr>\n",
       "    <tr>\n",
       "      <th>76256</th>\n",
       "      <td>0.6</td>\n",
       "      <td>0</td>\n",
       "    </tr>\n",
       "  </tbody>\n",
       "</table>\n",
       "<p>76257 rows × 2 columns</p>\n",
       "</div>"
      ],
      "text/plain": [
       "       prediction  target\n",
       "0             0.0       0\n",
       "1             0.0       1\n",
       "2             0.2       0\n",
       "3             0.4       0\n",
       "4             0.1       0\n",
       "...           ...     ...\n",
       "76252         0.6       0\n",
       "76253         0.1       0\n",
       "76254         0.4       0\n",
       "76255         0.0       0\n",
       "76256         0.6       0\n",
       "\n",
       "[76257 rows x 2 columns]"
      ]
     },
     "execution_count": 42,
     "metadata": {},
     "output_type": "execute_result"
    }
   ],
   "source": [
    "dic = {'prediction': predictions, 'target': Y_test}\n",
    "new_df = pd.DataFrame(dic)\n",
    "new_df"
   ]
  },
  {
   "cell_type": "code",
   "execution_count": 43,
   "metadata": {
    "scrolled": true
   },
   "outputs": [
    {
     "data": {
      "text/html": [
       "<div>\n",
       "<style scoped>\n",
       "    .dataframe tbody tr th:only-of-type {\n",
       "        vertical-align: middle;\n",
       "    }\n",
       "\n",
       "    .dataframe tbody tr th {\n",
       "        vertical-align: top;\n",
       "    }\n",
       "\n",
       "    .dataframe thead th {\n",
       "        text-align: right;\n",
       "    }\n",
       "</style>\n",
       "<table border=\"1\" class=\"dataframe\">\n",
       "  <thead>\n",
       "    <tr style=\"text-align: right;\">\n",
       "      <th></th>\n",
       "      <th>prediction</th>\n",
       "      <th>target</th>\n",
       "    </tr>\n",
       "  </thead>\n",
       "  <tbody>\n",
       "    <tr>\n",
       "      <th>0</th>\n",
       "      <td>0.0</td>\n",
       "      <td>0</td>\n",
       "    </tr>\n",
       "    <tr>\n",
       "      <th>32291</th>\n",
       "      <td>0.0</td>\n",
       "      <td>1</td>\n",
       "    </tr>\n",
       "    <tr>\n",
       "      <th>32290</th>\n",
       "      <td>0.0</td>\n",
       "      <td>0</td>\n",
       "    </tr>\n",
       "    <tr>\n",
       "      <th>32285</th>\n",
       "      <td>0.0</td>\n",
       "      <td>0</td>\n",
       "    </tr>\n",
       "    <tr>\n",
       "      <th>32284</th>\n",
       "      <td>0.0</td>\n",
       "      <td>0</td>\n",
       "    </tr>\n",
       "    <tr>\n",
       "      <th>...</th>\n",
       "      <td>...</td>\n",
       "      <td>...</td>\n",
       "    </tr>\n",
       "    <tr>\n",
       "      <th>18667</th>\n",
       "      <td>1.0</td>\n",
       "      <td>1</td>\n",
       "    </tr>\n",
       "    <tr>\n",
       "      <th>16786</th>\n",
       "      <td>1.0</td>\n",
       "      <td>1</td>\n",
       "    </tr>\n",
       "    <tr>\n",
       "      <th>3181</th>\n",
       "      <td>1.0</td>\n",
       "      <td>0</td>\n",
       "    </tr>\n",
       "    <tr>\n",
       "      <th>30408</th>\n",
       "      <td>1.0</td>\n",
       "      <td>1</td>\n",
       "    </tr>\n",
       "    <tr>\n",
       "      <th>54116</th>\n",
       "      <td>1.0</td>\n",
       "      <td>0</td>\n",
       "    </tr>\n",
       "  </tbody>\n",
       "</table>\n",
       "<p>76257 rows × 2 columns</p>\n",
       "</div>"
      ],
      "text/plain": [
       "       prediction  target\n",
       "0             0.0       0\n",
       "32291         0.0       1\n",
       "32290         0.0       0\n",
       "32285         0.0       0\n",
       "32284         0.0       0\n",
       "...           ...     ...\n",
       "18667         1.0       1\n",
       "16786         1.0       1\n",
       "3181          1.0       0\n",
       "30408         1.0       1\n",
       "54116         1.0       0\n",
       "\n",
       "[76257 rows x 2 columns]"
      ]
     },
     "execution_count": 43,
     "metadata": {},
     "output_type": "execute_result"
    }
   ],
   "source": [
    "# sort by prediction\n",
    "new_df.sort_values(by='prediction', inplace=True)\n",
    "new_df"
   ]
  },
  {
   "cell_type": "markdown",
   "metadata": {},
   "source": [
    "Đếm số lượng target bằng 0 và bằng 1 tương ứng với từng giá trị prediction"
   ]
  },
  {
   "cell_type": "code",
   "execution_count": 44,
   "metadata": {},
   "outputs": [
    {
     "data": {
      "text/html": [
       "<div>\n",
       "<style scoped>\n",
       "    .dataframe tbody tr th:only-of-type {\n",
       "        vertical-align: middle;\n",
       "    }\n",
       "\n",
       "    .dataframe tbody tr th {\n",
       "        vertical-align: top;\n",
       "    }\n",
       "\n",
       "    .dataframe thead th {\n",
       "        text-align: right;\n",
       "    }\n",
       "</style>\n",
       "<table border=\"1\" class=\"dataframe\">\n",
       "  <thead>\n",
       "    <tr style=\"text-align: right;\">\n",
       "      <th></th>\n",
       "      <th>prediction</th>\n",
       "      <th>pos_count</th>\n",
       "    </tr>\n",
       "  </thead>\n",
       "  <tbody>\n",
       "    <tr>\n",
       "      <th>0</th>\n",
       "      <td>0.000000</td>\n",
       "      <td>2704</td>\n",
       "    </tr>\n",
       "    <tr>\n",
       "      <th>1</th>\n",
       "      <td>0.020000</td>\n",
       "      <td>4</td>\n",
       "    </tr>\n",
       "    <tr>\n",
       "      <th>2</th>\n",
       "      <td>0.025000</td>\n",
       "      <td>4</td>\n",
       "    </tr>\n",
       "    <tr>\n",
       "      <th>3</th>\n",
       "      <td>0.033333</td>\n",
       "      <td>10</td>\n",
       "    </tr>\n",
       "    <tr>\n",
       "      <th>4</th>\n",
       "      <td>0.040000</td>\n",
       "      <td>2</td>\n",
       "    </tr>\n",
       "    <tr>\n",
       "      <th>...</th>\n",
       "      <td>...</td>\n",
       "      <td>...</td>\n",
       "    </tr>\n",
       "    <tr>\n",
       "      <th>129</th>\n",
       "      <td>0.875000</td>\n",
       "      <td>1</td>\n",
       "    </tr>\n",
       "    <tr>\n",
       "      <th>130</th>\n",
       "      <td>0.900000</td>\n",
       "      <td>105</td>\n",
       "    </tr>\n",
       "    <tr>\n",
       "      <th>131</th>\n",
       "      <td>0.910000</td>\n",
       "      <td>1</td>\n",
       "    </tr>\n",
       "    <tr>\n",
       "      <th>132</th>\n",
       "      <td>0.933333</td>\n",
       "      <td>1</td>\n",
       "    </tr>\n",
       "    <tr>\n",
       "      <th>133</th>\n",
       "      <td>1.000000</td>\n",
       "      <td>29</td>\n",
       "    </tr>\n",
       "  </tbody>\n",
       "</table>\n",
       "<p>134 rows × 2 columns</p>\n",
       "</div>"
      ],
      "text/plain": [
       "     prediction  pos_count\n",
       "0      0.000000       2704\n",
       "1      0.020000          4\n",
       "2      0.025000          4\n",
       "3      0.033333         10\n",
       "4      0.040000          2\n",
       "..          ...        ...\n",
       "129    0.875000          1\n",
       "130    0.900000        105\n",
       "131    0.910000          1\n",
       "132    0.933333          1\n",
       "133    1.000000         29\n",
       "\n",
       "[134 rows x 2 columns]"
      ]
     },
     "execution_count": 44,
     "metadata": {},
     "output_type": "execute_result"
    }
   ],
   "source": [
    "positive_count = new_df[new_df.target==1].groupby('prediction', as_index=False).count()\n",
    "positive_count.columns = ['prediction', 'pos_count']\n",
    "positive_count"
   ]
  },
  {
   "cell_type": "code",
   "execution_count": 45,
   "metadata": {},
   "outputs": [
    {
     "data": {
      "text/html": [
       "<div>\n",
       "<style scoped>\n",
       "    .dataframe tbody tr th:only-of-type {\n",
       "        vertical-align: middle;\n",
       "    }\n",
       "\n",
       "    .dataframe tbody tr th {\n",
       "        vertical-align: top;\n",
       "    }\n",
       "\n",
       "    .dataframe thead th {\n",
       "        text-align: right;\n",
       "    }\n",
       "</style>\n",
       "<table border=\"1\" class=\"dataframe\">\n",
       "  <thead>\n",
       "    <tr style=\"text-align: right;\">\n",
       "      <th></th>\n",
       "      <th>prediction</th>\n",
       "      <th>neg_count</th>\n",
       "    </tr>\n",
       "  </thead>\n",
       "  <tbody>\n",
       "    <tr>\n",
       "      <th>0</th>\n",
       "      <td>0.000000</td>\n",
       "      <td>21072</td>\n",
       "    </tr>\n",
       "    <tr>\n",
       "      <th>1</th>\n",
       "      <td>0.012500</td>\n",
       "      <td>1</td>\n",
       "    </tr>\n",
       "    <tr>\n",
       "      <th>2</th>\n",
       "      <td>0.014286</td>\n",
       "      <td>1</td>\n",
       "    </tr>\n",
       "    <tr>\n",
       "      <th>3</th>\n",
       "      <td>0.016667</td>\n",
       "      <td>6</td>\n",
       "    </tr>\n",
       "    <tr>\n",
       "      <th>4</th>\n",
       "      <td>0.020000</td>\n",
       "      <td>6</td>\n",
       "    </tr>\n",
       "    <tr>\n",
       "      <th>...</th>\n",
       "      <td>...</td>\n",
       "      <td>...</td>\n",
       "    </tr>\n",
       "    <tr>\n",
       "      <th>289</th>\n",
       "      <td>0.850000</td>\n",
       "      <td>3</td>\n",
       "    </tr>\n",
       "    <tr>\n",
       "      <th>290</th>\n",
       "      <td>0.866667</td>\n",
       "      <td>1</td>\n",
       "    </tr>\n",
       "    <tr>\n",
       "      <th>291</th>\n",
       "      <td>0.875000</td>\n",
       "      <td>1</td>\n",
       "    </tr>\n",
       "    <tr>\n",
       "      <th>292</th>\n",
       "      <td>0.900000</td>\n",
       "      <td>216</td>\n",
       "    </tr>\n",
       "    <tr>\n",
       "      <th>293</th>\n",
       "      <td>1.000000</td>\n",
       "      <td>63</td>\n",
       "    </tr>\n",
       "  </tbody>\n",
       "</table>\n",
       "<p>294 rows × 2 columns</p>\n",
       "</div>"
      ],
      "text/plain": [
       "     prediction  neg_count\n",
       "0      0.000000      21072\n",
       "1      0.012500          1\n",
       "2      0.014286          1\n",
       "3      0.016667          6\n",
       "4      0.020000          6\n",
       "..          ...        ...\n",
       "289    0.850000          3\n",
       "290    0.866667          1\n",
       "291    0.875000          1\n",
       "292    0.900000        216\n",
       "293    1.000000         63\n",
       "\n",
       "[294 rows x 2 columns]"
      ]
     },
     "execution_count": 45,
     "metadata": {},
     "output_type": "execute_result"
    }
   ],
   "source": [
    "negative_count = new_df[new_df.target==0].groupby('prediction', as_index=False).count()\n",
    "negative_count.columns = ['prediction', 'neg_count']\n",
    "negative_count"
   ]
  },
  {
   "cell_type": "markdown",
   "metadata": {},
   "source": [
    "Tạo một DF gồm các trường là giá trị tăng dần của prediction, số lượng khách hàng xấu và tốt ứng với từng prediction và tích lũy tỉ lệ của từng loại khách hàng."
   ]
  },
  {
   "cell_type": "code",
   "execution_count": 46,
   "metadata": {},
   "outputs": [
    {
     "data": {
      "text/html": [
       "<div>\n",
       "<style scoped>\n",
       "    .dataframe tbody tr th:only-of-type {\n",
       "        vertical-align: middle;\n",
       "    }\n",
       "\n",
       "    .dataframe tbody tr th {\n",
       "        vertical-align: top;\n",
       "    }\n",
       "\n",
       "    .dataframe thead th {\n",
       "        text-align: right;\n",
       "    }\n",
       "</style>\n",
       "<table border=\"1\" class=\"dataframe\">\n",
       "  <thead>\n",
       "    <tr style=\"text-align: right;\">\n",
       "      <th></th>\n",
       "      <th>prediction</th>\n",
       "      <th>neg_count</th>\n",
       "      <th>pos_count</th>\n",
       "    </tr>\n",
       "  </thead>\n",
       "  <tbody>\n",
       "    <tr>\n",
       "      <th>0.0</th>\n",
       "      <td>0.000000</td>\n",
       "      <td>21072.0</td>\n",
       "      <td>2704.0</td>\n",
       "    </tr>\n",
       "    <tr>\n",
       "      <th>1.0</th>\n",
       "      <td>0.012500</td>\n",
       "      <td>1.0</td>\n",
       "      <td>0.0</td>\n",
       "    </tr>\n",
       "    <tr>\n",
       "      <th>2.0</th>\n",
       "      <td>0.014286</td>\n",
       "      <td>1.0</td>\n",
       "      <td>0.0</td>\n",
       "    </tr>\n",
       "    <tr>\n",
       "      <th>3.0</th>\n",
       "      <td>0.016667</td>\n",
       "      <td>6.0</td>\n",
       "      <td>0.0</td>\n",
       "    </tr>\n",
       "    <tr>\n",
       "      <th>4.0</th>\n",
       "      <td>0.020000</td>\n",
       "      <td>6.0</td>\n",
       "      <td>4.0</td>\n",
       "    </tr>\n",
       "    <tr>\n",
       "      <th>...</th>\n",
       "      <td>...</td>\n",
       "      <td>...</td>\n",
       "      <td>...</td>\n",
       "    </tr>\n",
       "    <tr>\n",
       "      <th>291.0</th>\n",
       "      <td>0.875000</td>\n",
       "      <td>1.0</td>\n",
       "      <td>1.0</td>\n",
       "    </tr>\n",
       "    <tr>\n",
       "      <th>292.0</th>\n",
       "      <td>0.900000</td>\n",
       "      <td>216.0</td>\n",
       "      <td>105.0</td>\n",
       "    </tr>\n",
       "    <tr>\n",
       "      <th>NaN</th>\n",
       "      <td>0.910000</td>\n",
       "      <td>0.0</td>\n",
       "      <td>1.0</td>\n",
       "    </tr>\n",
       "    <tr>\n",
       "      <th>NaN</th>\n",
       "      <td>0.933333</td>\n",
       "      <td>0.0</td>\n",
       "      <td>1.0</td>\n",
       "    </tr>\n",
       "    <tr>\n",
       "      <th>293.0</th>\n",
       "      <td>1.000000</td>\n",
       "      <td>63.0</td>\n",
       "      <td>29.0</td>\n",
       "    </tr>\n",
       "  </tbody>\n",
       "</table>\n",
       "<p>334 rows × 3 columns</p>\n",
       "</div>"
      ],
      "text/plain": [
       "       prediction  neg_count  pos_count\n",
       "0.0      0.000000    21072.0     2704.0\n",
       "1.0      0.012500        1.0        0.0\n",
       "2.0      0.014286        1.0        0.0\n",
       "3.0      0.016667        6.0        0.0\n",
       "4.0      0.020000        6.0        4.0\n",
       "...           ...        ...        ...\n",
       "291.0    0.875000        1.0        1.0\n",
       "292.0    0.900000      216.0      105.0\n",
       "NaN      0.910000        0.0        1.0\n",
       "NaN      0.933333        0.0        1.0\n",
       "293.0    1.000000       63.0       29.0\n",
       "\n",
       "[334 rows x 3 columns]"
      ]
     },
     "execution_count": 46,
     "metadata": {},
     "output_type": "execute_result"
    }
   ],
   "source": [
    "###\n",
    "cumsum_df = negative_count.join(positive_count.set_index('prediction'), on='prediction', how='outer')\n",
    "cumsum_df.fillna(value=0, inplace=True)\n",
    "cumsum_df.sort_values(by='prediction', inplace=True)\n",
    "cumsum_df"
   ]
  },
  {
   "cell_type": "code",
   "execution_count": 47,
   "metadata": {},
   "outputs": [
    {
     "data": {
      "text/plain": [
       "1.0"
      ]
     },
     "execution_count": 47,
     "metadata": {},
     "output_type": "execute_result"
    }
   ],
   "source": [
    "cumsum_df.prediction.max()"
   ]
  },
  {
   "cell_type": "code",
   "execution_count": 48,
   "metadata": {},
   "outputs": [
    {
     "data": {
      "text/html": [
       "<div>\n",
       "<style scoped>\n",
       "    .dataframe tbody tr th:only-of-type {\n",
       "        vertical-align: middle;\n",
       "    }\n",
       "\n",
       "    .dataframe tbody tr th {\n",
       "        vertical-align: top;\n",
       "    }\n",
       "\n",
       "    .dataframe thead th {\n",
       "        text-align: right;\n",
       "    }\n",
       "</style>\n",
       "<table border=\"1\" class=\"dataframe\">\n",
       "  <thead>\n",
       "    <tr style=\"text-align: right;\">\n",
       "      <th></th>\n",
       "      <th>prediction</th>\n",
       "      <th>neg_count</th>\n",
       "      <th>pos_count</th>\n",
       "      <th>neg_cumsum_share</th>\n",
       "      <th>pos_cumsum_share</th>\n",
       "    </tr>\n",
       "  </thead>\n",
       "  <tbody>\n",
       "    <tr>\n",
       "      <th>0</th>\n",
       "      <td>0.000000</td>\n",
       "      <td>21072.0</td>\n",
       "      <td>2704.0</td>\n",
       "      <td>0.338289</td>\n",
       "      <td>0.193599</td>\n",
       "    </tr>\n",
       "    <tr>\n",
       "      <th>1</th>\n",
       "      <td>0.012500</td>\n",
       "      <td>1.0</td>\n",
       "      <td>0.0</td>\n",
       "      <td>0.338305</td>\n",
       "      <td>0.193599</td>\n",
       "    </tr>\n",
       "    <tr>\n",
       "      <th>2</th>\n",
       "      <td>0.014286</td>\n",
       "      <td>1.0</td>\n",
       "      <td>0.0</td>\n",
       "      <td>0.338321</td>\n",
       "      <td>0.193599</td>\n",
       "    </tr>\n",
       "    <tr>\n",
       "      <th>3</th>\n",
       "      <td>0.016667</td>\n",
       "      <td>6.0</td>\n",
       "      <td>0.0</td>\n",
       "      <td>0.338417</td>\n",
       "      <td>0.193599</td>\n",
       "    </tr>\n",
       "    <tr>\n",
       "      <th>4</th>\n",
       "      <td>0.020000</td>\n",
       "      <td>6.0</td>\n",
       "      <td>4.0</td>\n",
       "      <td>0.338513</td>\n",
       "      <td>0.193886</td>\n",
       "    </tr>\n",
       "    <tr>\n",
       "      <th>...</th>\n",
       "      <td>...</td>\n",
       "      <td>...</td>\n",
       "      <td>...</td>\n",
       "      <td>...</td>\n",
       "      <td>...</td>\n",
       "    </tr>\n",
       "    <tr>\n",
       "      <th>329</th>\n",
       "      <td>0.875000</td>\n",
       "      <td>1.0</td>\n",
       "      <td>1.0</td>\n",
       "      <td>0.995521</td>\n",
       "      <td>0.990263</td>\n",
       "    </tr>\n",
       "    <tr>\n",
       "      <th>330</th>\n",
       "      <td>0.900000</td>\n",
       "      <td>216.0</td>\n",
       "      <td>105.0</td>\n",
       "      <td>0.998989</td>\n",
       "      <td>0.997780</td>\n",
       "    </tr>\n",
       "    <tr>\n",
       "      <th>331</th>\n",
       "      <td>0.910000</td>\n",
       "      <td>0.0</td>\n",
       "      <td>1.0</td>\n",
       "      <td>0.998989</td>\n",
       "      <td>0.997852</td>\n",
       "    </tr>\n",
       "    <tr>\n",
       "      <th>332</th>\n",
       "      <td>0.933333</td>\n",
       "      <td>0.0</td>\n",
       "      <td>1.0</td>\n",
       "      <td>0.998989</td>\n",
       "      <td>0.997924</td>\n",
       "    </tr>\n",
       "    <tr>\n",
       "      <th>333</th>\n",
       "      <td>1.000000</td>\n",
       "      <td>63.0</td>\n",
       "      <td>29.0</td>\n",
       "      <td>1.000000</td>\n",
       "      <td>1.000000</td>\n",
       "    </tr>\n",
       "  </tbody>\n",
       "</table>\n",
       "<p>334 rows × 5 columns</p>\n",
       "</div>"
      ],
      "text/plain": [
       "     prediction  neg_count  pos_count  neg_cumsum_share  pos_cumsum_share\n",
       "0      0.000000    21072.0     2704.0          0.338289          0.193599\n",
       "1      0.012500        1.0        0.0          0.338305          0.193599\n",
       "2      0.014286        1.0        0.0          0.338321          0.193599\n",
       "3      0.016667        6.0        0.0          0.338417          0.193599\n",
       "4      0.020000        6.0        4.0          0.338513          0.193886\n",
       "..          ...        ...        ...               ...               ...\n",
       "329    0.875000        1.0        1.0          0.995521          0.990263\n",
       "330    0.900000      216.0      105.0          0.998989          0.997780\n",
       "331    0.910000        0.0        1.0          0.998989          0.997852\n",
       "332    0.933333        0.0        1.0          0.998989          0.997924\n",
       "333    1.000000       63.0       29.0          1.000000          1.000000\n",
       "\n",
       "[334 rows x 5 columns]"
      ]
     },
     "execution_count": 48,
     "metadata": {},
     "output_type": "execute_result"
    }
   ],
   "source": [
    "cumsum_df['neg_cumsum_share'] = cumsum_df['neg_count'].cumsum() / cumsum_df.neg_count.sum()\n",
    "cumsum_df['pos_cumsum_share'] = cumsum_df['pos_count'].cumsum() / cumsum_df.pos_count.sum()\n",
    "cumsum_df.index = np.arange(0, len(cumsum_df))\n",
    "# pd.options.display.float_format = '{:,.7f}'.format\n",
    "cumsum_df"
   ]
  },
  {
   "cell_type": "markdown",
   "metadata": {},
   "source": [
    "#### Visualize"
   ]
  },
  {
   "cell_type": "markdown",
   "metadata": {},
   "source": [
    "Vẽ biểu đồ thể hiện quan hệ của prediction và tỉ lệ tích lũy khách hàng tốt/xấu"
   ]
  },
  {
   "cell_type": "code",
   "execution_count": 49,
   "metadata": {
    "scrolled": true
   },
   "outputs": [
    {
     "data": {
      "image/png": "[encoded data removed]",
      "text/plain": [
       "<Figure size 432x288 with 1 Axes>"
      ]
     },
     "metadata": {
      "needs_background": "light"
     },
     "output_type": "display_data"
    }
   ],
   "source": [
    "# Sum up the actual values\n",
    "cumulative_negative = cumsum_df['neg_cumsum_share']\n",
    "cumulative_positive = cumsum_df['pos_cumsum_share']\n",
    "cumulative_index = cumsum_df['prediction']\n",
    "\n",
    "plt1 = plt.plot(cumulative_positive, cumulative_index, label='Negative')\n",
    "# plt2 = plt.plot(cumulative_positive, cumulative_index, label='Positive')\n",
    "plt.xlabel('Cumulative Positive Share')\n",
    "plt.ylabel('Value of Predictions')\n",
    "plt.legend(loc='lower right')\n",
    "plt.show()"
   ]
  },
  {
   "cell_type": "markdown",
   "metadata": {},
   "source": [
    "### Normalize"
   ]
  },
  {
   "cell_type": "code",
   "execution_count": 50,
   "metadata": {
    "scrolled": false
   },
   "outputs": [
    {
     "data": {
      "image/png": "[encoded data removed]",
      "text/plain": [
       "<Figure size 432x288 with 1 Axes>"
      ]
     },
     "metadata": {
      "needs_background": "light"
     },
     "output_type": "display_data"
    }
   ],
   "source": [
    "# cumulative_target_rate = cumulative_positive / sum(new_df['target'])\n",
    "# cumulative_index_rate = cumulative_index / len(new_df)\n",
    "\n",
    "# Add (0, 0) to the plot\n",
    "x_values = [0] + list(cumulative_positive)\n",
    "y_values = [0] + list(cumulative_index)\n",
    "\n",
    "# Display the 45° line stacked on top of the y values\n",
    "diagonal = [x - y for (x, y) in zip(x_values, y_values)]\n",
    "\n",
    "plt.stackplot(x_values, y_values, diagonal)\n",
    "plt.ylabel('Cumulative Rate of Predictions')\n",
    "plt.xlabel('Cumulative Rate of Target')\n",
    "# plt.margins(0)\n",
    "plt.show()"
   ]
  },
  {
   "cell_type": "code",
   "execution_count": 51,
   "metadata": {
    "scrolled": false
   },
   "outputs": [
    {
     "name": "stdout",
     "output_type": "stream",
     "text": [
      "Orange Area: 0.248\n"
     ]
    }
   ],
   "source": [
    "fy = scipy.interpolate.interp1d(x_values, y_values)\n",
    "blue_area, _ = scipy.integrate.quad(fy, 0, 1, points=x_values, limit=len(cumsum_df))\n",
    "orange_area = 0.5 - blue_area\n",
    "print('Orange Area: %.3f' % orange_area)"
   ]
  },
  {
   "cell_type": "markdown",
   "metadata": {},
   "source": [
    "### Calibrating"
   ]
  },
  {
   "cell_type": "code",
   "execution_count": 52,
   "metadata": {},
   "outputs": [
    {
     "name": "stderr",
     "output_type": "stream",
     "text": [
      "/home/ta/anaconda3/envs/dyno/lib/python3.7/site-packages/sklearn/model_selection/_split.py:18: DeprecationWarning: Using or importing the ABCs from 'collections' instead of from 'collections.abc' is deprecated since Python 3.3,and in 3.9 it will stop working\n",
      "  from collections import Iterable\n",
      "/home/ta/anaconda3/envs/dyno/lib/python3.7/site-packages/sklearn/model_selection/_search.py:16: DeprecationWarning: Using or importing the ABCs from 'collections' instead of from 'collections.abc' is deprecated since Python 3.3,and in 3.9 it will stop working\n",
      "  from collections import Mapping, namedtuple, defaultdict, Sequence\n"
     ]
    },
    {
     "data": {
      "text/plain": [
       "CalibratedClassifierCV(base_estimator=RandomForestClassifier(bootstrap=True, class_weight=None, criterion='gini',\n",
       "            max_depth=None, max_features='auto', max_leaf_nodes=None,\n",
       "            min_impurity_decrease=0.0, min_impurity_split=None,\n",
       "            min_samples_leaf=1, min_samples_split=2,\n",
       "            min_weight_fraction_leaf=0.0, n_estimators=10, n_jobs=1,\n",
       "            oob_score=False, random_state=None, verbose=0,\n",
       "            warm_start=False),\n",
       "            cv=5, method='isotonic')"
      ]
     },
     "execution_count": 52,
     "metadata": {},
     "output_type": "execute_result"
    }
   ],
   "source": [
    "from sklearn.calibration import CalibratedClassifierCV, calibration_curve\n",
    "\n",
    "calibrated_random_forest = CalibratedClassifierCV(random_forest, cv=5, method='isotonic')\n",
    "calibrated_random_forest.fit(X_train, Y_train)"
   ]
  },
  {
   "cell_type": "code",
   "execution_count": 53,
   "metadata": {},
   "outputs": [
    {
     "data": {
      "text/plain": [
       "array([0.03883768, 0.13226688, 0.05325736, ..., 0.19982993, 0.11751393,\n",
       "       0.18133586])"
      ]
     },
     "execution_count": 53,
     "metadata": {},
     "output_type": "execute_result"
    }
   ],
   "source": [
    "calibrated_prd = calibrated_random_forest.predict_proba(X_test)[:,1]\n",
    "calibrated_prd"
   ]
  },
  {
   "cell_type": "markdown",
   "metadata": {},
   "source": [
    "#### Sử dụng engineered features"
   ]
  },
  {
   "cell_type": "code",
   "execution_count": 54,
   "metadata": {},
   "outputs": [],
   "source": [
    "X_train_domain = train_domain.drop(columns='target')\n",
    "X_test_domain = test_domain.drop(columns='target')"
   ]
  },
  {
   "cell_type": "code",
   "execution_count": 55,
   "metadata": {},
   "outputs": [],
   "source": [
    "rf_domain = RandomForestClassifier()"
   ]
  },
  {
   "cell_type": "code",
   "execution_count": 56,
   "metadata": {
    "scrolled": true
   },
   "outputs": [
    {
     "data": {
      "text/plain": [
       "RandomForestClassifier(bootstrap=True, class_weight=None, criterion='gini',\n",
       "            max_depth=None, max_features='auto', max_leaf_nodes=None,\n",
       "            min_impurity_decrease=0.0, min_impurity_split=None,\n",
       "            min_samples_leaf=1, min_samples_split=2,\n",
       "            min_weight_fraction_leaf=0.0, n_estimators=10, n_jobs=1,\n",
       "            oob_score=False, random_state=None, verbose=0,\n",
       "            warm_start=False)"
      ]
     },
     "execution_count": 56,
     "metadata": {},
     "output_type": "execute_result"
    }
   ],
   "source": [
    "rf_domain.fit(X_train_domain, Y_train)"
   ]
  },
  {
   "cell_type": "code",
   "execution_count": 57,
   "metadata": {},
   "outputs": [],
   "source": [
    "rf_domain_pred = rf_domain.predict_proba(X_test_domain)"
   ]
  },
  {
   "cell_type": "code",
   "execution_count": 58,
   "metadata": {},
   "outputs": [
    {
     "name": "stdout",
     "output_type": "stream",
     "text": [
      "Gini domain:  0.2397966168976866\n"
     ]
    }
   ],
   "source": [
    "gini_rf_domain = metrics.roc_auc_score(Y_test, rf_domain_pred[:, 1]) * 2 - 1\n",
    "print('Gini domain: ', gini_rf_domain)"
   ]
  },
  {
   "cell_type": "markdown",
   "metadata": {},
   "source": [
    "### Tunning by adjusting model parameters"
   ]
  },
  {
   "cell_type": "markdown",
   "metadata": {},
   "source": [
    "### Extract feature importances"
   ]
  },
  {
   "cell_type": "code",
   "execution_count": 59,
   "metadata": {},
   "outputs": [],
   "source": [
    "feature_importance_values = rf_domain.feature_importances_\n",
    "features = X_train_domain.columns\n",
    "feature_importances = pd.DataFrame({'feature': features, 'importance': feature_importance_values})"
   ]
  },
  {
   "cell_type": "code",
   "execution_count": 60,
   "metadata": {},
   "outputs": [
    {
     "data": {
      "text/html": [
       "<div>\n",
       "<style scoped>\n",
       "    .dataframe tbody tr th:only-of-type {\n",
       "        vertical-align: middle;\n",
       "    }\n",
       "\n",
       "    .dataframe tbody tr th {\n",
       "        vertical-align: top;\n",
       "    }\n",
       "\n",
       "    .dataframe thead th {\n",
       "        text-align: right;\n",
       "    }\n",
       "</style>\n",
       "<table border=\"1\" class=\"dataframe\">\n",
       "  <thead>\n",
       "    <tr style=\"text-align: right;\">\n",
       "      <th></th>\n",
       "      <th>feature</th>\n",
       "      <th>importance</th>\n",
       "    </tr>\n",
       "  </thead>\n",
       "  <tbody>\n",
       "    <tr>\n",
       "      <th>0</th>\n",
       "      <td>home_ownership_NONE</td>\n",
       "      <td>0.000131</td>\n",
       "    </tr>\n",
       "    <tr>\n",
       "      <th>1</th>\n",
       "      <td>home_ownership_OTHER</td>\n",
       "      <td>0.000301</td>\n",
       "    </tr>\n",
       "    <tr>\n",
       "      <th>2</th>\n",
       "      <td>grade_G</td>\n",
       "      <td>0.000970</td>\n",
       "    </tr>\n",
       "    <tr>\n",
       "      <th>3</th>\n",
       "      <td>grade_F</td>\n",
       "      <td>0.002648</td>\n",
       "    </tr>\n",
       "    <tr>\n",
       "      <th>4</th>\n",
       "      <td>grade_B</td>\n",
       "      <td>0.003127</td>\n",
       "    </tr>\n",
       "    <tr>\n",
       "      <th>5</th>\n",
       "      <td>grade_A</td>\n",
       "      <td>0.005135</td>\n",
       "    </tr>\n",
       "    <tr>\n",
       "      <th>6</th>\n",
       "      <td>grade_C</td>\n",
       "      <td>0.005328</td>\n",
       "    </tr>\n",
       "    <tr>\n",
       "      <th>7</th>\n",
       "      <td>grade_E</td>\n",
       "      <td>0.005506</td>\n",
       "    </tr>\n",
       "    <tr>\n",
       "      <th>8</th>\n",
       "      <td>grade_D</td>\n",
       "      <td>0.006007</td>\n",
       "    </tr>\n",
       "    <tr>\n",
       "      <th>9</th>\n",
       "      <td>emp_length_9 years</td>\n",
       "      <td>0.006731</td>\n",
       "    </tr>\n",
       "    <tr>\n",
       "      <th>10</th>\n",
       "      <td>home_ownership_OWN</td>\n",
       "      <td>0.007358</td>\n",
       "    </tr>\n",
       "    <tr>\n",
       "      <th>11</th>\n",
       "      <td>emp_length_8 years</td>\n",
       "      <td>0.007707</td>\n",
       "    </tr>\n",
       "    <tr>\n",
       "      <th>12</th>\n",
       "      <td>emp_length_7 years</td>\n",
       "      <td>0.007980</td>\n",
       "    </tr>\n",
       "    <tr>\n",
       "      <th>13</th>\n",
       "      <td>emp_length_6 years</td>\n",
       "      <td>0.008496</td>\n",
       "    </tr>\n",
       "    <tr>\n",
       "      <th>14</th>\n",
       "      <td>emp_length_4 years</td>\n",
       "      <td>0.008834</td>\n",
       "    </tr>\n",
       "    <tr>\n",
       "      <th>15</th>\n",
       "      <td>emp_length_1 year</td>\n",
       "      <td>0.009072</td>\n",
       "    </tr>\n",
       "    <tr>\n",
       "      <th>16</th>\n",
       "      <td>emp_length_5 years</td>\n",
       "      <td>0.009257</td>\n",
       "    </tr>\n",
       "    <tr>\n",
       "      <th>17</th>\n",
       "      <td>emp_length_&lt; 1 year</td>\n",
       "      <td>0.009728</td>\n",
       "    </tr>\n",
       "    <tr>\n",
       "      <th>18</th>\n",
       "      <td>emp_length_3 years</td>\n",
       "      <td>0.010003</td>\n",
       "    </tr>\n",
       "    <tr>\n",
       "      <th>19</th>\n",
       "      <td>home_ownership_MORTGAGE</td>\n",
       "      <td>0.010134</td>\n",
       "    </tr>\n",
       "    <tr>\n",
       "      <th>20</th>\n",
       "      <td>emp_length_2 years</td>\n",
       "      <td>0.010319</td>\n",
       "    </tr>\n",
       "    <tr>\n",
       "      <th>21</th>\n",
       "      <td>home_ownership_RENT</td>\n",
       "      <td>0.010520</td>\n",
       "    </tr>\n",
       "    <tr>\n",
       "      <th>22</th>\n",
       "      <td>term</td>\n",
       "      <td>0.013248</td>\n",
       "    </tr>\n",
       "    <tr>\n",
       "      <th>23</th>\n",
       "      <td>emp_length_10+ years</td>\n",
       "      <td>0.016850</td>\n",
       "    </tr>\n",
       "    <tr>\n",
       "      <th>24</th>\n",
       "      <td>loan_amnt</td>\n",
       "      <td>0.091231</td>\n",
       "    </tr>\n",
       "    <tr>\n",
       "      <th>25</th>\n",
       "      <td>annual_inc</td>\n",
       "      <td>0.095550</td>\n",
       "    </tr>\n",
       "    <tr>\n",
       "      <th>26</th>\n",
       "      <td>annual_inc_log</td>\n",
       "      <td>0.098363</td>\n",
       "    </tr>\n",
       "    <tr>\n",
       "      <th>27</th>\n",
       "      <td>int_rate</td>\n",
       "      <td>0.124757</td>\n",
       "    </tr>\n",
       "    <tr>\n",
       "      <th>28</th>\n",
       "      <td>annual_interest</td>\n",
       "      <td>0.126854</td>\n",
       "    </tr>\n",
       "    <tr>\n",
       "      <th>29</th>\n",
       "      <td>loan_income_percentage</td>\n",
       "      <td>0.129508</td>\n",
       "    </tr>\n",
       "    <tr>\n",
       "      <th>30</th>\n",
       "      <td>ann_int_income_percentage</td>\n",
       "      <td>0.158348</td>\n",
       "    </tr>\n",
       "  </tbody>\n",
       "</table>\n",
       "</div>"
      ],
      "text/plain": [
       "                      feature  importance\n",
       "0         home_ownership_NONE    0.000131\n",
       "1        home_ownership_OTHER    0.000301\n",
       "2                     grade_G    0.000970\n",
       "3                     grade_F    0.002648\n",
       "4                     grade_B    0.003127\n",
       "5                     grade_A    0.005135\n",
       "6                     grade_C    0.005328\n",
       "7                     grade_E    0.005506\n",
       "8                     grade_D    0.006007\n",
       "9          emp_length_9 years    0.006731\n",
       "10         home_ownership_OWN    0.007358\n",
       "11         emp_length_8 years    0.007707\n",
       "12         emp_length_7 years    0.007980\n",
       "13         emp_length_6 years    0.008496\n",
       "14         emp_length_4 years    0.008834\n",
       "15          emp_length_1 year    0.009072\n",
       "16         emp_length_5 years    0.009257\n",
       "17        emp_length_< 1 year    0.009728\n",
       "18         emp_length_3 years    0.010003\n",
       "19    home_ownership_MORTGAGE    0.010134\n",
       "20         emp_length_2 years    0.010319\n",
       "21        home_ownership_RENT    0.010520\n",
       "22                       term    0.013248\n",
       "23       emp_length_10+ years    0.016850\n",
       "24                  loan_amnt    0.091231\n",
       "25                 annual_inc    0.095550\n",
       "26             annual_inc_log    0.098363\n",
       "27                   int_rate    0.124757\n",
       "28            annual_interest    0.126854\n",
       "29     loan_income_percentage    0.129508\n",
       "30  ann_int_income_percentage    0.158348"
      ]
     },
     "execution_count": 60,
     "metadata": {},
     "output_type": "execute_result"
    }
   ],
   "source": [
    "feature_importances.sort_values(by='importance', inplace=True, ignore_index=True)\n",
    "feature_importances"
   ]
  },
  {
   "cell_type": "markdown",
   "metadata": {},
   "source": [
    "Ta thấy 2 feature home_ownership_NONE và home_ownership_OTHER có ảnh hưởng ít nhất tới kết quả.\n",
    "Tiến hành loại bỏ 2 feature này."
   ]
  },
  {
   "cell_type": "code",
   "execution_count": 61,
   "metadata": {
    "scrolled": true
   },
   "outputs": [],
   "source": [
    "# drop 2 least important features\n",
    "X_train_important = X_train_domain.drop(columns=feature_importances.feature[0:2])\n",
    "X_test_important = X_test_domain.drop(columns=feature_importances.feature[0:2])"
   ]
  },
  {
   "cell_type": "code",
   "execution_count": 62,
   "metadata": {},
   "outputs": [
    {
     "data": {
      "text/html": [
       "<div>\n",
       "<style scoped>\n",
       "    .dataframe tbody tr th:only-of-type {\n",
       "        vertical-align: middle;\n",
       "    }\n",
       "\n",
       "    .dataframe tbody tr th {\n",
       "        vertical-align: top;\n",
       "    }\n",
       "\n",
       "    .dataframe thead th {\n",
       "        text-align: right;\n",
       "    }\n",
       "</style>\n",
       "<table border=\"1\" class=\"dataframe\">\n",
       "  <thead>\n",
       "    <tr style=\"text-align: right;\">\n",
       "      <th></th>\n",
       "      <th>loan_amnt</th>\n",
       "      <th>int_rate</th>\n",
       "      <th>annual_inc</th>\n",
       "      <th>term</th>\n",
       "      <th>annual_inc_log</th>\n",
       "      <th>grade_A</th>\n",
       "      <th>grade_B</th>\n",
       "      <th>grade_C</th>\n",
       "      <th>grade_D</th>\n",
       "      <th>grade_E</th>\n",
       "      <th>...</th>\n",
       "      <th>emp_length_7 years</th>\n",
       "      <th>emp_length_8 years</th>\n",
       "      <th>emp_length_9 years</th>\n",
       "      <th>emp_length_&lt; 1 year</th>\n",
       "      <th>home_ownership_MORTGAGE</th>\n",
       "      <th>home_ownership_OWN</th>\n",
       "      <th>home_ownership_RENT</th>\n",
       "      <th>loan_income_percentage</th>\n",
       "      <th>annual_interest</th>\n",
       "      <th>ann_int_income_percentage</th>\n",
       "    </tr>\n",
       "  </thead>\n",
       "  <tbody>\n",
       "    <tr>\n",
       "      <th>0</th>\n",
       "      <td>6000.0</td>\n",
       "      <td>9.76</td>\n",
       "      <td>33000.0</td>\n",
       "      <td>0</td>\n",
       "      <td>10.404293</td>\n",
       "      <td>0</td>\n",
       "      <td>1</td>\n",
       "      <td>0</td>\n",
       "      <td>0</td>\n",
       "      <td>0</td>\n",
       "      <td>...</td>\n",
       "      <td>0</td>\n",
       "      <td>0</td>\n",
       "      <td>0</td>\n",
       "      <td>0</td>\n",
       "      <td>0</td>\n",
       "      <td>0</td>\n",
       "      <td>1</td>\n",
       "      <td>0.181818</td>\n",
       "      <td>58560.0</td>\n",
       "      <td>1.774545</td>\n",
       "    </tr>\n",
       "    <tr>\n",
       "      <th>1</th>\n",
       "      <td>19700.0</td>\n",
       "      <td>6.62</td>\n",
       "      <td>45000.0</td>\n",
       "      <td>0</td>\n",
       "      <td>10.714440</td>\n",
       "      <td>1</td>\n",
       "      <td>0</td>\n",
       "      <td>0</td>\n",
       "      <td>0</td>\n",
       "      <td>0</td>\n",
       "      <td>...</td>\n",
       "      <td>0</td>\n",
       "      <td>0</td>\n",
       "      <td>0</td>\n",
       "      <td>0</td>\n",
       "      <td>0</td>\n",
       "      <td>0</td>\n",
       "      <td>1</td>\n",
       "      <td>0.437778</td>\n",
       "      <td>130414.0</td>\n",
       "      <td>2.898089</td>\n",
       "    </tr>\n",
       "    <tr>\n",
       "      <th>2</th>\n",
       "      <td>14000.0</td>\n",
       "      <td>6.03</td>\n",
       "      <td>75000.0</td>\n",
       "      <td>0</td>\n",
       "      <td>11.225257</td>\n",
       "      <td>1</td>\n",
       "      <td>0</td>\n",
       "      <td>0</td>\n",
       "      <td>0</td>\n",
       "      <td>0</td>\n",
       "      <td>...</td>\n",
       "      <td>0</td>\n",
       "      <td>0</td>\n",
       "      <td>0</td>\n",
       "      <td>1</td>\n",
       "      <td>1</td>\n",
       "      <td>0</td>\n",
       "      <td>0</td>\n",
       "      <td>0.186667</td>\n",
       "      <td>84420.0</td>\n",
       "      <td>1.125600</td>\n",
       "    </tr>\n",
       "    <tr>\n",
       "      <th>3</th>\n",
       "      <td>21000.0</td>\n",
       "      <td>13.11</td>\n",
       "      <td>51000.0</td>\n",
       "      <td>0</td>\n",
       "      <td>10.839601</td>\n",
       "      <td>0</td>\n",
       "      <td>1</td>\n",
       "      <td>0</td>\n",
       "      <td>0</td>\n",
       "      <td>0</td>\n",
       "      <td>...</td>\n",
       "      <td>0</td>\n",
       "      <td>0</td>\n",
       "      <td>0</td>\n",
       "      <td>0</td>\n",
       "      <td>0</td>\n",
       "      <td>0</td>\n",
       "      <td>1</td>\n",
       "      <td>0.411765</td>\n",
       "      <td>275310.0</td>\n",
       "      <td>5.398235</td>\n",
       "    </tr>\n",
       "    <tr>\n",
       "      <th>4</th>\n",
       "      <td>4500.0</td>\n",
       "      <td>16.29</td>\n",
       "      <td>96000.0</td>\n",
       "      <td>0</td>\n",
       "      <td>11.472114</td>\n",
       "      <td>0</td>\n",
       "      <td>0</td>\n",
       "      <td>0</td>\n",
       "      <td>1</td>\n",
       "      <td>0</td>\n",
       "      <td>...</td>\n",
       "      <td>0</td>\n",
       "      <td>0</td>\n",
       "      <td>0</td>\n",
       "      <td>0</td>\n",
       "      <td>1</td>\n",
       "      <td>0</td>\n",
       "      <td>0</td>\n",
       "      <td>0.046875</td>\n",
       "      <td>73305.0</td>\n",
       "      <td>0.763594</td>\n",
       "    </tr>\n",
       "    <tr>\n",
       "      <th>...</th>\n",
       "      <td>...</td>\n",
       "      <td>...</td>\n",
       "      <td>...</td>\n",
       "      <td>...</td>\n",
       "      <td>...</td>\n",
       "      <td>...</td>\n",
       "      <td>...</td>\n",
       "      <td>...</td>\n",
       "      <td>...</td>\n",
       "      <td>...</td>\n",
       "      <td>...</td>\n",
       "      <td>...</td>\n",
       "      <td>...</td>\n",
       "      <td>...</td>\n",
       "      <td>...</td>\n",
       "      <td>...</td>\n",
       "      <td>...</td>\n",
       "      <td>...</td>\n",
       "      <td>...</td>\n",
       "      <td>...</td>\n",
       "      <td>...</td>\n",
       "    </tr>\n",
       "    <tr>\n",
       "      <th>177928</th>\n",
       "      <td>4750.0</td>\n",
       "      <td>10.16</td>\n",
       "      <td>63000.0</td>\n",
       "      <td>0</td>\n",
       "      <td>11.050906</td>\n",
       "      <td>0</td>\n",
       "      <td>1</td>\n",
       "      <td>0</td>\n",
       "      <td>0</td>\n",
       "      <td>0</td>\n",
       "      <td>...</td>\n",
       "      <td>0</td>\n",
       "      <td>0</td>\n",
       "      <td>0</td>\n",
       "      <td>0</td>\n",
       "      <td>1</td>\n",
       "      <td>0</td>\n",
       "      <td>0</td>\n",
       "      <td>0.075397</td>\n",
       "      <td>48260.0</td>\n",
       "      <td>0.766032</td>\n",
       "    </tr>\n",
       "    <tr>\n",
       "      <th>177929</th>\n",
       "      <td>10000.0</td>\n",
       "      <td>9.17</td>\n",
       "      <td>70600.0</td>\n",
       "      <td>0</td>\n",
       "      <td>11.164800</td>\n",
       "      <td>0</td>\n",
       "      <td>1</td>\n",
       "      <td>0</td>\n",
       "      <td>0</td>\n",
       "      <td>0</td>\n",
       "      <td>...</td>\n",
       "      <td>0</td>\n",
       "      <td>0</td>\n",
       "      <td>0</td>\n",
       "      <td>0</td>\n",
       "      <td>0</td>\n",
       "      <td>0</td>\n",
       "      <td>1</td>\n",
       "      <td>0.141643</td>\n",
       "      <td>91700.0</td>\n",
       "      <td>1.298867</td>\n",
       "    </tr>\n",
       "    <tr>\n",
       "      <th>177930</th>\n",
       "      <td>9000.0</td>\n",
       "      <td>14.33</td>\n",
       "      <td>63000.0</td>\n",
       "      <td>0</td>\n",
       "      <td>11.050906</td>\n",
       "      <td>0</td>\n",
       "      <td>0</td>\n",
       "      <td>1</td>\n",
       "      <td>0</td>\n",
       "      <td>0</td>\n",
       "      <td>...</td>\n",
       "      <td>0</td>\n",
       "      <td>0</td>\n",
       "      <td>0</td>\n",
       "      <td>0</td>\n",
       "      <td>0</td>\n",
       "      <td>0</td>\n",
       "      <td>1</td>\n",
       "      <td>0.142857</td>\n",
       "      <td>128970.0</td>\n",
       "      <td>2.047143</td>\n",
       "    </tr>\n",
       "    <tr>\n",
       "      <th>177931</th>\n",
       "      <td>19800.0</td>\n",
       "      <td>22.99</td>\n",
       "      <td>100000.0</td>\n",
       "      <td>1</td>\n",
       "      <td>11.512935</td>\n",
       "      <td>0</td>\n",
       "      <td>0</td>\n",
       "      <td>0</td>\n",
       "      <td>0</td>\n",
       "      <td>0</td>\n",
       "      <td>...</td>\n",
       "      <td>0</td>\n",
       "      <td>0</td>\n",
       "      <td>0</td>\n",
       "      <td>0</td>\n",
       "      <td>1</td>\n",
       "      <td>0</td>\n",
       "      <td>0</td>\n",
       "      <td>0.198000</td>\n",
       "      <td>455202.0</td>\n",
       "      <td>4.552020</td>\n",
       "    </tr>\n",
       "    <tr>\n",
       "      <th>177932</th>\n",
       "      <td>24000.0</td>\n",
       "      <td>8.90</td>\n",
       "      <td>185000.0</td>\n",
       "      <td>1</td>\n",
       "      <td>12.128117</td>\n",
       "      <td>1</td>\n",
       "      <td>0</td>\n",
       "      <td>0</td>\n",
       "      <td>0</td>\n",
       "      <td>0</td>\n",
       "      <td>...</td>\n",
       "      <td>0</td>\n",
       "      <td>0</td>\n",
       "      <td>0</td>\n",
       "      <td>0</td>\n",
       "      <td>1</td>\n",
       "      <td>0</td>\n",
       "      <td>0</td>\n",
       "      <td>0.129730</td>\n",
       "      <td>213600.0</td>\n",
       "      <td>1.154595</td>\n",
       "    </tr>\n",
       "  </tbody>\n",
       "</table>\n",
       "<p>177933 rows × 29 columns</p>\n",
       "</div>"
      ],
      "text/plain": [
       "        loan_amnt  int_rate  annual_inc  term  annual_inc_log  grade_A  \\\n",
       "0          6000.0      9.76     33000.0     0       10.404293        0   \n",
       "1         19700.0      6.62     45000.0     0       10.714440        1   \n",
       "2         14000.0      6.03     75000.0     0       11.225257        1   \n",
       "3         21000.0     13.11     51000.0     0       10.839601        0   \n",
       "4          4500.0     16.29     96000.0     0       11.472114        0   \n",
       "...           ...       ...         ...   ...             ...      ...   \n",
       "177928     4750.0     10.16     63000.0     0       11.050906        0   \n",
       "177929    10000.0      9.17     70600.0     0       11.164800        0   \n",
       "177930     9000.0     14.33     63000.0     0       11.050906        0   \n",
       "177931    19800.0     22.99    100000.0     1       11.512935        0   \n",
       "177932    24000.0      8.90    185000.0     1       12.128117        1   \n",
       "\n",
       "        grade_B  grade_C  grade_D  grade_E  ...  emp_length_7 years  \\\n",
       "0             1        0        0        0  ...                   0   \n",
       "1             0        0        0        0  ...                   0   \n",
       "2             0        0        0        0  ...                   0   \n",
       "3             1        0        0        0  ...                   0   \n",
       "4             0        0        1        0  ...                   0   \n",
       "...         ...      ...      ...      ...  ...                 ...   \n",
       "177928        1        0        0        0  ...                   0   \n",
       "177929        1        0        0        0  ...                   0   \n",
       "177930        0        1        0        0  ...                   0   \n",
       "177931        0        0        0        0  ...                   0   \n",
       "177932        0        0        0        0  ...                   0   \n",
       "\n",
       "        emp_length_8 years  emp_length_9 years  emp_length_< 1 year  \\\n",
       "0                        0                   0                    0   \n",
       "1                        0                   0                    0   \n",
       "2                        0                   0                    1   \n",
       "3                        0                   0                    0   \n",
       "4                        0                   0                    0   \n",
       "...                    ...                 ...                  ...   \n",
       "177928                   0                   0                    0   \n",
       "177929                   0                   0                    0   \n",
       "177930                   0                   0                    0   \n",
       "177931                   0                   0                    0   \n",
       "177932                   0                   0                    0   \n",
       "\n",
       "        home_ownership_MORTGAGE  home_ownership_OWN  home_ownership_RENT  \\\n",
       "0                             0                   0                    1   \n",
       "1                             0                   0                    1   \n",
       "2                             1                   0                    0   \n",
       "3                             0                   0                    1   \n",
       "4                             1                   0                    0   \n",
       "...                         ...                 ...                  ...   \n",
       "177928                        1                   0                    0   \n",
       "177929                        0                   0                    1   \n",
       "177930                        0                   0                    1   \n",
       "177931                        1                   0                    0   \n",
       "177932                        1                   0                    0   \n",
       "\n",
       "        loan_income_percentage  annual_interest  ann_int_income_percentage  \n",
       "0                     0.181818          58560.0                   1.774545  \n",
       "1                     0.437778         130414.0                   2.898089  \n",
       "2                     0.186667          84420.0                   1.125600  \n",
       "3                     0.411765         275310.0                   5.398235  \n",
       "4                     0.046875          73305.0                   0.763594  \n",
       "...                        ...              ...                        ...  \n",
       "177928                0.075397          48260.0                   0.766032  \n",
       "177929                0.141643          91700.0                   1.298867  \n",
       "177930                0.142857         128970.0                   2.047143  \n",
       "177931                0.198000         455202.0                   4.552020  \n",
       "177932                0.129730         213600.0                   1.154595  \n",
       "\n",
       "[177933 rows x 29 columns]"
      ]
     },
     "execution_count": 62,
     "metadata": {},
     "output_type": "execute_result"
    }
   ],
   "source": [
    "X_train_important"
   ]
  },
  {
   "cell_type": "code",
   "execution_count": 63,
   "metadata": {},
   "outputs": [
    {
     "name": "stdout",
     "output_type": "stream",
     "text": [
      "Gini after important feature:  0.29916612838396706\n"
     ]
    }
   ],
   "source": [
    "rf_important = RandomForestClassifier(n_estimators=100)\n",
    "rf_important.fit(X_train_important, Y_train)\n",
    "rf_important_pred = rf_important.predict_proba(X_test_important)\n",
    "gini_rf_important = metrics.roc_auc_score(Y_test, rf_important_pred[:, 1]) * 2 - 1\n",
    "print('Gini after important feature: ', gini_rf_important)"
   ]
  },
  {
   "cell_type": "markdown",
   "metadata": {},
   "source": [
    "### Manual tunning"
   ]
  },
  {
   "cell_type": "code",
   "execution_count": 64,
   "metadata": {},
   "outputs": [],
   "source": [
    "rf_random = RandomForestClassifier(n_estimators = 150, random_state = 50, verbose = 1, n_jobs = -1, max_features='log2', criterion='entropy')"
   ]
  },
  {
   "cell_type": "code",
   "execution_count": 65,
   "metadata": {},
   "outputs": [
    {
     "name": "stderr",
     "output_type": "stream",
     "text": [
      "[Parallel(n_jobs=-1)]: Done  42 tasks      | elapsed:    9.3s\n",
      "[Parallel(n_jobs=-1)]: Done 150 out of 150 | elapsed:   39.0s finished\n"
     ]
    },
    {
     "data": {
      "text/plain": [
       "RandomForestClassifier(bootstrap=True, class_weight=None, criterion='entropy',\n",
       "            max_depth=None, max_features='log2', max_leaf_nodes=None,\n",
       "            min_impurity_decrease=0.0, min_impurity_split=None,\n",
       "            min_samples_leaf=1, min_samples_split=2,\n",
       "            min_weight_fraction_leaf=0.0, n_estimators=150, n_jobs=-1,\n",
       "            oob_score=False, random_state=50, verbose=1, warm_start=False)"
      ]
     },
     "execution_count": 65,
     "metadata": {},
     "output_type": "execute_result"
    }
   ],
   "source": [
    "rf_random.fit(X_train_important, Y_train)"
   ]
  },
  {
   "cell_type": "code",
   "execution_count": 66,
   "metadata": {},
   "outputs": [
    {
     "name": "stderr",
     "output_type": "stream",
     "text": [
      "[Parallel(n_jobs=4)]: Done  42 tasks      | elapsed:    0.9s\n",
      "[Parallel(n_jobs=4)]: Done 150 out of 150 | elapsed:    3.1s finished\n"
     ]
    }
   ],
   "source": [
    "Y_score_random = rf_random.predict_proba(X_test_important)[:,1]"
   ]
  },
  {
   "cell_type": "code",
   "execution_count": 67,
   "metadata": {
    "scrolled": true
   },
   "outputs": [
    {
     "name": "stdout",
     "output_type": "stream",
     "text": [
      "Gini after hyper:  0.3060758679125346\n"
     ]
    }
   ],
   "source": [
    "gini_random = 2 * metrics.roc_auc_score(Y_test, Y_score_random) - 1\n",
    "print('Gini after hyper: ', gini_random)"
   ]
  },
  {
   "cell_type": "markdown",
   "metadata": {},
   "source": [
    "### Hyperparameter tunning by Cross Validation"
   ]
  },
  {
   "cell_type": "markdown",
   "metadata": {},
   "source": [
    "Ta sẽ thực hiện chạy model với nhiều bộ tham số khác nhau và so sánh kết quả để tìm ra bộ tham số tối ưu nhất cho model."
   ]
  },
  {
   "cell_type": "markdown",
   "metadata": {},
   "source": [
    "Đầu tiên, ta sẽ tạo ra một bộ tham số ngẫu nhiên cho các tham số : \n",
    "- n_estimators\n",
    "- max_features\n",
    "- max_depth\n",
    "- min_samples_split\n",
    "- min_sample_leaf\n",
    "- bootstrap"
   ]
  },
  {
   "cell_type": "code",
   "execution_count": 68,
   "metadata": {},
   "outputs": [
    {
     "name": "stdout",
     "output_type": "stream",
     "text": [
      "{'bootstrap': [True, False],\n",
      " 'max_depth': [10, 20, 30, 40, 50, 60, 70, 80, 90, 100, 110, None],\n",
      " 'max_features': ['auto', 'log2'],\n",
      " 'min_samples_leaf': [1, 2, 4],\n",
      " 'min_samples_split': [2, 5, 10],\n",
      " 'n_estimators': [50, 100, 150, 200, 250, 300, 350, 400, 450, 500]}\n"
     ]
    }
   ],
   "source": [
    "from sklearn.model_selection import RandomizedSearchCV\n",
    "from pprint import pprint\n",
    "# Number of trees in random forest\n",
    "n_estimators = [int(x) for x in np.linspace(start = 50, stop = 500, num = 10)]\n",
    "\n",
    "# Number of features to consider at every split\n",
    "max_features = ['auto', 'log2']\n",
    "\n",
    "# Maximum number of levels in tree\n",
    "max_depth = [int(x) for x in np.linspace(10, 110, num = 11)]\n",
    "max_depth.append(None)\n",
    "\n",
    "# Minimum number of samples required to split a node\n",
    "min_samples_split = [2, 5, 10]\n",
    "\n",
    "# Minimum number of samples required at each leaf node\n",
    "min_samples_leaf = [1, 2, 4]\n",
    "\n",
    "# Method of selecting samples for training each tree\n",
    "bootstrap = [True, False]\n",
    "\n",
    "# Create the random grid\n",
    "random_grid = {'n_estimators': n_estimators,\n",
    "               'max_features': max_features,\n",
    "               'max_depth': max_depth,\n",
    "               'min_samples_split': min_samples_split,\n",
    "               'min_samples_leaf': min_samples_leaf,\n",
    "               'bootstrap': bootstrap}\n",
    "pprint(random_grid)"
   ]
  },
  {
   "cell_type": "markdown",
   "metadata": {},
   "source": [
    "Với tập tham số trên, ta sẽ có tất cả 2 * 11 * 2 * 3 * 3 * 10 = 3960 bộ setting cho RandomForest.\n",
    "Ta sẽ sử dụng RandomizedSearchCV để thực hiện các trường hợp đó. Ở đây chọn n_iter = 10 và cv = 3, tức là chọn ngẫu nhiên 20 bộ tham số trong 3960 bộ để thực hiện với K-fold bằng 3."
   ]
  },
  {
   "cell_type": "code",
   "execution_count": 69,
   "metadata": {},
   "outputs": [
    {
     "name": "stdout",
     "output_type": "stream",
     "text": [
      "Fitting 3 folds for each of 10 candidates, totalling 30 fits\n",
      "[CV] n_estimators=50, min_samples_split=10, min_samples_leaf=2, max_features=log2, max_depth=50, bootstrap=True \n",
      "[CV] n_estimators=50, min_samples_split=10, min_samples_leaf=2, max_features=log2, max_depth=50, bootstrap=True \n",
      "[CV] n_estimators=50, min_samples_split=10, min_samples_leaf=2, max_features=log2, max_depth=50, bootstrap=True \n",
      "[CV] n_estimators=150, min_samples_split=10, min_samples_leaf=4, max_features=log2, max_depth=90, bootstrap=False \n",
      "[CV]  n_estimators=50, min_samples_split=10, min_samples_leaf=2, max_features=log2, max_depth=50, bootstrap=True, total=  21.0s\n",
      "[CV] n_estimators=150, min_samples_split=10, min_samples_leaf=4, max_features=log2, max_depth=90, bootstrap=False \n",
      "[CV]  n_estimators=50, min_samples_split=10, min_samples_leaf=2, max_features=log2, max_depth=50, bootstrap=True, total=  22.4s\n",
      "[CV] n_estimators=150, min_samples_split=10, min_samples_leaf=4, max_features=log2, max_depth=90, bootstrap=False \n",
      "[CV]  n_estimators=50, min_samples_split=10, min_samples_leaf=2, max_features=log2, max_depth=50, bootstrap=True, total=  22.2s\n",
      "[CV] n_estimators=150, min_samples_split=2, min_samples_leaf=2, max_features=auto, max_depth=60, bootstrap=False \n",
      "[CV]  n_estimators=150, min_samples_split=10, min_samples_leaf=4, max_features=log2, max_depth=90, bootstrap=False, total= 1.4min\n",
      "[CV] n_estimators=150, min_samples_split=2, min_samples_leaf=2, max_features=auto, max_depth=60, bootstrap=False \n",
      "[CV]  n_estimators=150, min_samples_split=10, min_samples_leaf=4, max_features=log2, max_depth=90, bootstrap=False, total= 1.4min\n",
      "[CV] n_estimators=150, min_samples_split=2, min_samples_leaf=2, max_features=auto, max_depth=60, bootstrap=False \n",
      "[CV]  n_estimators=150, min_samples_split=10, min_samples_leaf=4, max_features=log2, max_depth=90, bootstrap=False, total= 1.3min\n",
      "[CV] n_estimators=350, min_samples_split=5, min_samples_leaf=1, max_features=log2, max_depth=30, bootstrap=True \n",
      "[CV]  n_estimators=150, min_samples_split=2, min_samples_leaf=2, max_features=auto, max_depth=60, bootstrap=False, total= 1.7min\n",
      "[CV] n_estimators=350, min_samples_split=5, min_samples_leaf=1, max_features=log2, max_depth=30, bootstrap=True \n",
      "[CV]  n_estimators=150, min_samples_split=2, min_samples_leaf=2, max_features=auto, max_depth=60, bootstrap=False, total= 1.7min\n",
      "[CV] n_estimators=350, min_samples_split=5, min_samples_leaf=1, max_features=log2, max_depth=30, bootstrap=True \n",
      "[CV]  n_estimators=150, min_samples_split=2, min_samples_leaf=2, max_features=auto, max_depth=60, bootstrap=False, total= 1.8min\n",
      "[CV] n_estimators=250, min_samples_split=10, min_samples_leaf=1, max_features=auto, max_depth=80, bootstrap=False \n",
      "[CV]  n_estimators=350, min_samples_split=5, min_samples_leaf=1, max_features=log2, max_depth=30, bootstrap=True, total= 2.4min\n",
      "[CV] n_estimators=250, min_samples_split=10, min_samples_leaf=1, max_features=auto, max_depth=80, bootstrap=False \n",
      "[CV]  n_estimators=350, min_samples_split=5, min_samples_leaf=1, max_features=log2, max_depth=30, bootstrap=True, total= 2.3min\n",
      "[CV] n_estimators=250, min_samples_split=10, min_samples_leaf=1, max_features=auto, max_depth=80, bootstrap=False \n",
      "[CV]  n_estimators=350, min_samples_split=5, min_samples_leaf=1, max_features=log2, max_depth=30, bootstrap=True, total= 2.1min\n",
      "[CV] n_estimators=100, min_samples_split=10, min_samples_leaf=1, max_features=log2, max_depth=60, bootstrap=False \n",
      "[CV]  n_estimators=250, min_samples_split=10, min_samples_leaf=1, max_features=auto, max_depth=80, bootstrap=False, total= 2.5min\n",
      "[CV] n_estimators=100, min_samples_split=10, min_samples_leaf=1, max_features=log2, max_depth=60, bootstrap=False \n",
      "[CV]  n_estimators=100, min_samples_split=10, min_samples_leaf=1, max_features=log2, max_depth=60, bootstrap=False, total=  50.6s\n",
      "[CV] n_estimators=100, min_samples_split=10, min_samples_leaf=1, max_features=log2, max_depth=60, bootstrap=False \n",
      "[CV]  n_estimators=250, min_samples_split=10, min_samples_leaf=1, max_features=auto, max_depth=80, bootstrap=False, total= 2.5min\n",
      "[CV] n_estimators=500, min_samples_split=2, min_samples_leaf=2, max_features=auto, max_depth=50, bootstrap=False \n",
      "[CV]  n_estimators=100, min_samples_split=10, min_samples_leaf=1, max_features=log2, max_depth=60, bootstrap=False, total=  52.3s\n",
      "[CV] n_estimators=500, min_samples_split=2, min_samples_leaf=2, max_features=auto, max_depth=50, bootstrap=False \n",
      "[CV]  n_estimators=250, min_samples_split=10, min_samples_leaf=1, max_features=auto, max_depth=80, bootstrap=False, total= 2.4min\n",
      "[CV] n_estimators=500, min_samples_split=2, min_samples_leaf=2, max_features=auto, max_depth=50, bootstrap=False \n",
      "[CV]  n_estimators=100, min_samples_split=10, min_samples_leaf=1, max_features=log2, max_depth=60, bootstrap=False, total=  51.1s\n",
      "[CV] n_estimators=50, min_samples_split=5, min_samples_leaf=2, max_features=log2, max_depth=10, bootstrap=True \n",
      "[CV]  n_estimators=50, min_samples_split=5, min_samples_leaf=2, max_features=log2, max_depth=10, bootstrap=True, total=   9.3s\n",
      "[CV] n_estimators=50, min_samples_split=5, min_samples_leaf=2, max_features=log2, max_depth=10, bootstrap=True \n",
      "[CV]  n_estimators=50, min_samples_split=5, min_samples_leaf=2, max_features=log2, max_depth=10, bootstrap=True, total=   9.6s\n",
      "[CV] n_estimators=50, min_samples_split=5, min_samples_leaf=2, max_features=log2, max_depth=10, bootstrap=True \n",
      "[CV]  n_estimators=50, min_samples_split=5, min_samples_leaf=2, max_features=log2, max_depth=10, bootstrap=True, total=   9.0s\n",
      "[CV] n_estimators=300, min_samples_split=2, min_samples_leaf=4, max_features=auto, max_depth=100, bootstrap=True \n",
      "[CV]  n_estimators=300, min_samples_split=2, min_samples_leaf=4, max_features=auto, max_depth=100, bootstrap=True, total= 1.9min\n",
      "[CV] n_estimators=300, min_samples_split=2, min_samples_leaf=4, max_features=auto, max_depth=100, bootstrap=True \n",
      "[CV]  n_estimators=300, min_samples_split=2, min_samples_leaf=4, max_features=auto, max_depth=100, bootstrap=True, total= 1.9min\n",
      "[CV] n_estimators=300, min_samples_split=2, min_samples_leaf=4, max_features=auto, max_depth=100, bootstrap=True \n",
      "[CV]  n_estimators=500, min_samples_split=2, min_samples_leaf=2, max_features=auto, max_depth=50, bootstrap=False, total= 4.9min\n",
      "[CV] n_estimators=500, min_samples_split=5, min_samples_leaf=2, max_features=auto, max_depth=50, bootstrap=True \n",
      "[CV]  n_estimators=500, min_samples_split=2, min_samples_leaf=2, max_features=auto, max_depth=50, bootstrap=False, total= 4.9min\n",
      "[CV] n_estimators=500, min_samples_split=5, min_samples_leaf=2, max_features=auto, max_depth=50, bootstrap=True \n",
      "[CV]  n_estimators=500, min_samples_split=2, min_samples_leaf=2, max_features=auto, max_depth=50, bootstrap=False, total= 4.9min\n",
      "[CV] n_estimators=500, min_samples_split=5, min_samples_leaf=2, max_features=auto, max_depth=50, bootstrap=True \n",
      "[CV]  n_estimators=300, min_samples_split=2, min_samples_leaf=4, max_features=auto, max_depth=100, bootstrap=True, total= 2.0min\n",
      "[CV]  n_estimators=500, min_samples_split=5, min_samples_leaf=2, max_features=auto, max_depth=50, bootstrap=True, total= 3.0min\n",
      "[CV]  n_estimators=500, min_samples_split=5, min_samples_leaf=2, max_features=auto, max_depth=50, bootstrap=True, total= 3.3min\n",
      "[CV]  n_estimators=500, min_samples_split=5, min_samples_leaf=2, max_features=auto, max_depth=50, bootstrap=True, total= 3.2min\n"
     ]
    },
    {
     "name": "stderr",
     "output_type": "stream",
     "text": [
      "[Parallel(n_jobs=-1)]: Done  30 out of  30 | elapsed: 16.5min finished\n"
     ]
    },
    {
     "data": {
      "text/plain": [
       "RandomizedSearchCV(cv=3, error_score='raise',\n",
       "          estimator=RandomForestClassifier(bootstrap=True, class_weight=None, criterion='gini',\n",
       "            max_depth=None, max_features='auto', max_leaf_nodes=None,\n",
       "            min_impurity_decrease=0.0, min_impurity_split=None,\n",
       "            min_samples_leaf=1, min_samples_split=2,\n",
       "            min_weight_fraction_leaf=0.0, n_estimators=10, n_jobs=1,\n",
       "            oob_score=False, random_state=None, verbose=0,\n",
       "            warm_start=False),\n",
       "          fit_params=None, iid=True, n_iter=10, n_jobs=-1,\n",
       "          param_distributions={'n_estimators': [50, 100, 150, 200, 250, 300, 350, 400, 450, 500], 'max_features': ['auto', 'log2'], 'max_depth': [10, 20, 30, 40, 50, 60, 70, 80, 90, 100, 110, None], 'min_samples_split': [2, 5, 10], 'min_samples_leaf': [1, 2, 4], 'bootstrap': [True, False]},\n",
       "          pre_dispatch='2*n_jobs', random_state=42, refit=True,\n",
       "          return_train_score='warn', scoring=None, verbose=2)"
      ]
     },
     "execution_count": 69,
     "metadata": {},
     "output_type": "execute_result"
    }
   ],
   "source": [
    "# Use the random grid to search for best hyperparameters\n",
    "# First create the base model to tune\n",
    "rf = RandomForestClassifier()\n",
    "\n",
    "# Random search of parameters, using 3 fold cross validation, \n",
    "# search across 100 different combinations, and use all available cores\n",
    "rf_random = RandomizedSearchCV(estimator = rf, param_distributions = random_grid, n_iter = 10, cv = 3, verbose=2, random_state=42, n_jobs = -1)\n",
    "\n",
    "# Fit the random search model\n",
    "rf_random.fit(X_train_important, Y_train)"
   ]
  },
  {
   "cell_type": "markdown",
   "metadata": {},
   "source": [
    "Chọn ra model tốt nhất: "
   ]
  },
  {
   "cell_type": "code",
   "execution_count": 70,
   "metadata": {},
   "outputs": [
    {
     "data": {
      "text/plain": [
       "{'n_estimators': 50,\n",
       " 'min_samples_split': 5,\n",
       " 'min_samples_leaf': 2,\n",
       " 'max_features': 'log2',\n",
       " 'max_depth': 10,\n",
       " 'bootstrap': True}"
      ]
     },
     "execution_count": 70,
     "metadata": {},
     "output_type": "execute_result"
    }
   ],
   "source": [
    "from sklearn.model_selection import GridSearchCV\n",
    "rf_random.best_params_"
   ]
  },
  {
   "cell_type": "markdown",
   "metadata": {},
   "source": [
    "Kiểm tra kết quả với best_params_"
   ]
  },
  {
   "cell_type": "code",
   "execution_count": 71,
   "metadata": {},
   "outputs": [],
   "source": [
    "best_random = rf_random.best_estimator_\n",
    "Y_score_best = best_random.predict_proba(X_test_important)[:,1]"
   ]
  },
  {
   "cell_type": "code",
   "execution_count": 72,
   "metadata": {},
   "outputs": [
    {
     "data": {
      "text/plain": [
       "0.3937896592089767"
      ]
     },
     "execution_count": 72,
     "metadata": {},
     "output_type": "execute_result"
    }
   ],
   "source": [
    "metrics.roc_auc_score(Y_test, Y_score_best) * 2 -1"
   ]
  },
  {
   "cell_type": "markdown",
   "metadata": {},
   "source": [
    "Kết quả thu được gini là tốt nhất so với các kết quả từ trước tới giờ."
   ]
  }
 ],
 "metadata": {
  "kernelspec": {
   "display_name": "Python 3",
   "language": "python",
   "name": "python3"
  },
  "language_info": {
   "codemirror_mode": {
    "name": "ipython",
    "version": 3
   },
   "file_extension": ".py",
   "mimetype": "text/x-python",
   "name": "python",
   "nbconvert_exporter": "python",
   "pygments_lexer": "ipython3",
   "version": "3.7.6"
  }
 },
 "nbformat": 4,
 "nbformat_minor": 4
}
