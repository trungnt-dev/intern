{
 "cells": [
  {
   "cell_type": "markdown",
   "metadata": {},
   "source": [
    "## Introduction\n",
    "\n",
    "Credit scoring dùng để  tham khảo cho việc xét duyệt trước khi cho vay. Nhiệm vụ đặt ra xây dựng thuật toán ML phân loại hai nhóm khách hàng này."
   ]
  },
  {
   "cell_type": "markdown",
   "metadata": {},
   "source": [
    "## Description data\n",
    "\n",
    "- loan_status: Trạng thái khoản vay (Bad nếu *Charged Off* hoặc *Default*,  Good nếu *Fully Paid*)  \n",
    "- loan_amnt:   Tổng số tiền của khoản vay  \n",
    "- int_rate: Lãi suất khoản vay  \n",
    "- grade: Hạng công việc  \n",
    "- emp_length: Thời gian làm việc  \n",
    "- home_ownership: Loại hình sở hữu nhà  \n",
    "- annual_inc: Tổng thu nhập hằng năm  \n",
    "- term: Kì hạn vay"
   ]
  },
  {
   "cell_type": "code",
   "execution_count": 1,
   "metadata": {},
   "outputs": [],
   "source": [
    "import pandas as pd\n",
    "import numpy as np\n",
    "import matplotlib.pyplot as plt\n",
    "import seaborn as sns"
   ]
  },
  {
   "cell_type": "code",
   "execution_count": 2,
   "metadata": {},
   "outputs": [],
   "source": [
    "train = pd.read_csv('train.csv')\n",
    "test = pd.read_csv('test.csv')"
   ]
  },
  {
   "cell_type": "code",
   "execution_count": 3,
   "metadata": {
    "scrolled": true
   },
   "outputs": [
    {
     "data": {
      "text/html": [
       "<div>\n",
       "<style scoped>\n",
       "    .dataframe tbody tr th:only-of-type {\n",
       "        vertical-align: middle;\n",
       "    }\n",
       "\n",
       "    .dataframe tbody tr th {\n",
       "        vertical-align: top;\n",
       "    }\n",
       "\n",
       "    .dataframe thead th {\n",
       "        text-align: right;\n",
       "    }\n",
       "</style>\n",
       "<table border=\"1\" class=\"dataframe\">\n",
       "  <thead>\n",
       "    <tr style=\"text-align: right;\">\n",
       "      <th></th>\n",
       "      <th>loan_status</th>\n",
       "      <th>loan_amnt</th>\n",
       "      <th>int_rate</th>\n",
       "      <th>grade</th>\n",
       "      <th>emp_length</th>\n",
       "      <th>home_ownership</th>\n",
       "      <th>annual_inc</th>\n",
       "      <th>term</th>\n",
       "    </tr>\n",
       "  </thead>\n",
       "  <tbody>\n",
       "    <tr>\n",
       "      <th>0</th>\n",
       "      <td>Fully Paid</td>\n",
       "      <td>6000.0</td>\n",
       "      <td>9.76</td>\n",
       "      <td>B</td>\n",
       "      <td>4 years</td>\n",
       "      <td>RENT</td>\n",
       "      <td>33000.0</td>\n",
       "      <td>36 months</td>\n",
       "    </tr>\n",
       "    <tr>\n",
       "      <th>1</th>\n",
       "      <td>Fully Paid</td>\n",
       "      <td>19700.0</td>\n",
       "      <td>6.62</td>\n",
       "      <td>A</td>\n",
       "      <td>5 years</td>\n",
       "      <td>RENT</td>\n",
       "      <td>45000.0</td>\n",
       "      <td>36 months</td>\n",
       "    </tr>\n",
       "    <tr>\n",
       "      <th>2</th>\n",
       "      <td>Fully Paid</td>\n",
       "      <td>14000.0</td>\n",
       "      <td>6.03</td>\n",
       "      <td>A</td>\n",
       "      <td>&lt; 1 year</td>\n",
       "      <td>MORTGAGE</td>\n",
       "      <td>75000.0</td>\n",
       "      <td>36 months</td>\n",
       "    </tr>\n",
       "    <tr>\n",
       "      <th>3</th>\n",
       "      <td>Fully Paid</td>\n",
       "      <td>21000.0</td>\n",
       "      <td>13.11</td>\n",
       "      <td>B</td>\n",
       "      <td>2 years</td>\n",
       "      <td>RENT</td>\n",
       "      <td>51000.0</td>\n",
       "      <td>36 months</td>\n",
       "    </tr>\n",
       "    <tr>\n",
       "      <th>4</th>\n",
       "      <td>Charged Off</td>\n",
       "      <td>4500.0</td>\n",
       "      <td>16.29</td>\n",
       "      <td>D</td>\n",
       "      <td>2 years</td>\n",
       "      <td>MORTGAGE</td>\n",
       "      <td>96000.0</td>\n",
       "      <td>36 months</td>\n",
       "    </tr>\n",
       "  </tbody>\n",
       "</table>\n",
       "</div>"
      ],
      "text/plain": [
       "   loan_status  loan_amnt  int_rate grade emp_length home_ownership  \\\n",
       "0   Fully Paid     6000.0      9.76     B    4 years           RENT   \n",
       "1   Fully Paid    19700.0      6.62     A    5 years           RENT   \n",
       "2   Fully Paid    14000.0      6.03     A   < 1 year       MORTGAGE   \n",
       "3   Fully Paid    21000.0     13.11     B    2 years           RENT   \n",
       "4  Charged Off     4500.0     16.29     D    2 years       MORTGAGE   \n",
       "\n",
       "   annual_inc        term  \n",
       "0     33000.0   36 months  \n",
       "1     45000.0   36 months  \n",
       "2     75000.0   36 months  \n",
       "3     51000.0   36 months  \n",
       "4     96000.0   36 months  "
      ]
     },
     "metadata": {},
     "output_type": "display_data"
    }
   ],
   "source": [
    "display(train.head())"
   ]
  },
  {
   "cell_type": "code",
   "execution_count": 4,
   "metadata": {},
   "outputs": [
    {
     "data": {
      "text/html": [
       "<div>\n",
       "<style scoped>\n",
       "    .dataframe tbody tr th:only-of-type {\n",
       "        vertical-align: middle;\n",
       "    }\n",
       "\n",
       "    .dataframe tbody tr th {\n",
       "        vertical-align: top;\n",
       "    }\n",
       "\n",
       "    .dataframe thead th {\n",
       "        text-align: right;\n",
       "    }\n",
       "</style>\n",
       "<table border=\"1\" class=\"dataframe\">\n",
       "  <thead>\n",
       "    <tr style=\"text-align: right;\">\n",
       "      <th></th>\n",
       "      <th>loan_status</th>\n",
       "      <th>loan_amnt</th>\n",
       "      <th>int_rate</th>\n",
       "      <th>grade</th>\n",
       "      <th>emp_length</th>\n",
       "      <th>home_ownership</th>\n",
       "      <th>annual_inc</th>\n",
       "      <th>term</th>\n",
       "    </tr>\n",
       "  </thead>\n",
       "  <tbody>\n",
       "    <tr>\n",
       "      <th>0</th>\n",
       "      <td>Fully Paid</td>\n",
       "      <td>9525.0</td>\n",
       "      <td>6.62</td>\n",
       "      <td>A</td>\n",
       "      <td>2 years</td>\n",
       "      <td>RENT</td>\n",
       "      <td>60000.0</td>\n",
       "      <td>36 months</td>\n",
       "    </tr>\n",
       "    <tr>\n",
       "      <th>1</th>\n",
       "      <td>Charged Off</td>\n",
       "      <td>17325.0</td>\n",
       "      <td>11.14</td>\n",
       "      <td>B</td>\n",
       "      <td>1 year</td>\n",
       "      <td>MORTGAGE</td>\n",
       "      <td>54000.0</td>\n",
       "      <td>36 months</td>\n",
       "    </tr>\n",
       "    <tr>\n",
       "      <th>2</th>\n",
       "      <td>Fully Paid</td>\n",
       "      <td>7000.0</td>\n",
       "      <td>8.49</td>\n",
       "      <td>A</td>\n",
       "      <td>5 years</td>\n",
       "      <td>RENT</td>\n",
       "      <td>118000.0</td>\n",
       "      <td>36 months</td>\n",
       "    </tr>\n",
       "    <tr>\n",
       "      <th>3</th>\n",
       "      <td>Fully Paid</td>\n",
       "      <td>10000.0</td>\n",
       "      <td>16.24</td>\n",
       "      <td>C</td>\n",
       "      <td>10+ years</td>\n",
       "      <td>MORTGAGE</td>\n",
       "      <td>150000.0</td>\n",
       "      <td>60 months</td>\n",
       "    </tr>\n",
       "    <tr>\n",
       "      <th>4</th>\n",
       "      <td>Fully Paid</td>\n",
       "      <td>9600.0</td>\n",
       "      <td>12.12</td>\n",
       "      <td>B</td>\n",
       "      <td>8 years</td>\n",
       "      <td>RENT</td>\n",
       "      <td>120000.0</td>\n",
       "      <td>36 months</td>\n",
       "    </tr>\n",
       "  </tbody>\n",
       "</table>\n",
       "</div>"
      ],
      "text/plain": [
       "   loan_status  loan_amnt  int_rate grade emp_length home_ownership  \\\n",
       "0   Fully Paid     9525.0      6.62     A    2 years           RENT   \n",
       "1  Charged Off    17325.0     11.14     B     1 year       MORTGAGE   \n",
       "2   Fully Paid     7000.0      8.49     A    5 years           RENT   \n",
       "3   Fully Paid    10000.0     16.24     C  10+ years       MORTGAGE   \n",
       "4   Fully Paid     9600.0     12.12     B    8 years           RENT   \n",
       "\n",
       "   annual_inc        term  \n",
       "0     60000.0   36 months  \n",
       "1     54000.0   36 months  \n",
       "2    118000.0   36 months  \n",
       "3    150000.0   60 months  \n",
       "4    120000.0   36 months  "
      ]
     },
     "metadata": {},
     "output_type": "display_data"
    }
   ],
   "source": [
    "display(test.head())"
   ]
  },
  {
   "cell_type": "markdown",
   "metadata": {},
   "source": [
    "## Evaluation\n",
    "\n",
    "Đánh giá hiệu suất model dựa trên hệ số [Gini](https://en.wikipedia.org/wiki/Gini_coefficient)"
   ]
  },
  {
   "cell_type": "markdown",
   "metadata": {},
   "source": [
    "# Phân tích đánh giá dữ liệu"
   ]
  },
  {
   "cell_type": "code",
   "execution_count": 5,
   "metadata": {},
   "outputs": [
    {
     "name": "stdout",
     "output_type": "stream",
     "text": [
      "Training data shape:  (177933, 8)\n",
      "Testing data shape:  (76257, 8)\n"
     ]
    }
   ],
   "source": [
    "print('Training data shape: ', train.shape)\n",
    "print('Testing data shape: ', test.shape)"
   ]
  },
  {
   "cell_type": "markdown",
   "metadata": {},
   "source": [
    "Tập dữ liệu huấn luyện có 177933 hàng tương ứng là số  khoản vay và 8 cột thuộc tính, bao gồm **loan_status** là kết quả cần dự đoán. Tập test có 76257 bản ghi với các thuộc tính tương tự."
   ]
  },
  {
   "cell_type": "markdown",
   "metadata": {},
   "source": [
    "Tiến hành kiể m tra tương quan phân phối kết quả (nhãn **loan_status**) ở 2 tập dữ liệu."
   ]
  },
  {
   "cell_type": "code",
   "execution_count": 6,
   "metadata": {},
   "outputs": [
    {
     "data": {
      "text/plain": [
       "Fully Paid     0.817347\n",
       "Charged Off    0.177887\n",
       "Default        0.004766\n",
       "Name: loan_status, dtype: float64"
      ]
     },
     "execution_count": 6,
     "metadata": {},
     "output_type": "execute_result"
    }
   ],
   "source": [
    "train.loan_status.value_counts() / len(train)"
   ]
  },
  {
   "cell_type": "code",
   "execution_count": 7,
   "metadata": {},
   "outputs": [
    {
     "data": {
      "text/plain": [
       "Fully Paid     0.816843\n",
       "Charged Off    0.178292\n",
       "Default        0.004865\n",
       "Name: loan_status, dtype: float64"
      ]
     },
     "execution_count": 7,
     "metadata": {},
     "output_type": "execute_result"
    }
   ],
   "source": [
    "test.loan_status.value_counts() / len(test)"
   ]
  },
  {
   "cell_type": "markdown",
   "metadata": {},
   "source": [
    "Có thể nhận thấy kết quả ở hai tập là tương đương với nhau. Trong đó, tỉ lệ khách hàng tốt đều chiếm khoảng 81,7%, vượt trội so với tỉ lệ khách hàng xấu.\n",
    "Ta sẽ tạo thêm một feature *target* với giá trị 0 đại diện cho giá trị *Fully Paid* và 1 tương ứng với *Default* hoặc *Charged Off*"
   ]
  },
  {
   "cell_type": "code",
   "execution_count": 8,
   "metadata": {
    "scrolled": true
   },
   "outputs": [
    {
     "data": {
      "text/html": [
       "<div>\n",
       "<style scoped>\n",
       "    .dataframe tbody tr th:only-of-type {\n",
       "        vertical-align: middle;\n",
       "    }\n",
       "\n",
       "    .dataframe tbody tr th {\n",
       "        vertical-align: top;\n",
       "    }\n",
       "\n",
       "    .dataframe thead th {\n",
       "        text-align: right;\n",
       "    }\n",
       "</style>\n",
       "<table border=\"1\" class=\"dataframe\">\n",
       "  <thead>\n",
       "    <tr style=\"text-align: right;\">\n",
       "      <th></th>\n",
       "      <th>loan_status</th>\n",
       "      <th>loan_amnt</th>\n",
       "      <th>int_rate</th>\n",
       "      <th>grade</th>\n",
       "      <th>emp_length</th>\n",
       "      <th>home_ownership</th>\n",
       "      <th>annual_inc</th>\n",
       "      <th>term</th>\n",
       "      <th>target</th>\n",
       "    </tr>\n",
       "  </thead>\n",
       "  <tbody>\n",
       "    <tr>\n",
       "      <th>0</th>\n",
       "      <td>Fully Paid</td>\n",
       "      <td>6000.0</td>\n",
       "      <td>9.76</td>\n",
       "      <td>B</td>\n",
       "      <td>4 years</td>\n",
       "      <td>RENT</td>\n",
       "      <td>33000.0</td>\n",
       "      <td>36 months</td>\n",
       "      <td>0</td>\n",
       "    </tr>\n",
       "    <tr>\n",
       "      <th>1</th>\n",
       "      <td>Fully Paid</td>\n",
       "      <td>19700.0</td>\n",
       "      <td>6.62</td>\n",
       "      <td>A</td>\n",
       "      <td>5 years</td>\n",
       "      <td>RENT</td>\n",
       "      <td>45000.0</td>\n",
       "      <td>36 months</td>\n",
       "      <td>0</td>\n",
       "    </tr>\n",
       "    <tr>\n",
       "      <th>2</th>\n",
       "      <td>Fully Paid</td>\n",
       "      <td>14000.0</td>\n",
       "      <td>6.03</td>\n",
       "      <td>A</td>\n",
       "      <td>&lt; 1 year</td>\n",
       "      <td>MORTGAGE</td>\n",
       "      <td>75000.0</td>\n",
       "      <td>36 months</td>\n",
       "      <td>0</td>\n",
       "    </tr>\n",
       "    <tr>\n",
       "      <th>3</th>\n",
       "      <td>Fully Paid</td>\n",
       "      <td>21000.0</td>\n",
       "      <td>13.11</td>\n",
       "      <td>B</td>\n",
       "      <td>2 years</td>\n",
       "      <td>RENT</td>\n",
       "      <td>51000.0</td>\n",
       "      <td>36 months</td>\n",
       "      <td>0</td>\n",
       "    </tr>\n",
       "    <tr>\n",
       "      <th>4</th>\n",
       "      <td>Charged Off</td>\n",
       "      <td>4500.0</td>\n",
       "      <td>16.29</td>\n",
       "      <td>D</td>\n",
       "      <td>2 years</td>\n",
       "      <td>MORTGAGE</td>\n",
       "      <td>96000.0</td>\n",
       "      <td>36 months</td>\n",
       "      <td>1</td>\n",
       "    </tr>\n",
       "  </tbody>\n",
       "</table>\n",
       "</div>"
      ],
      "text/plain": [
       "   loan_status  loan_amnt  int_rate grade emp_length home_ownership  \\\n",
       "0   Fully Paid     6000.0      9.76     B    4 years           RENT   \n",
       "1   Fully Paid    19700.0      6.62     A    5 years           RENT   \n",
       "2   Fully Paid    14000.0      6.03     A   < 1 year       MORTGAGE   \n",
       "3   Fully Paid    21000.0     13.11     B    2 years           RENT   \n",
       "4  Charged Off     4500.0     16.29     D    2 years       MORTGAGE   \n",
       "\n",
       "   annual_inc        term  target  \n",
       "0     33000.0   36 months       0  \n",
       "1     45000.0   36 months       0  \n",
       "2     75000.0   36 months       0  \n",
       "3     51000.0   36 months       0  \n",
       "4     96000.0   36 months       1  "
      ]
     },
     "execution_count": 8,
     "metadata": {},
     "output_type": "execute_result"
    }
   ],
   "source": [
    "train['target'] = np.where(train.loan_status == 'Fully Paid', 0, 1)\n",
    "test['target'] = np.where(test.loan_status == 'Fully Paid', 0, 1)\n",
    "train.head()"
   ]
  },
  {
   "cell_type": "markdown",
   "metadata": {},
   "source": [
    "### Kiểm tra Missing values"
   ]
  },
  {
   "cell_type": "code",
   "execution_count": 9,
   "metadata": {},
   "outputs": [
    {
     "data": {
      "text/plain": [
       "loan_status          0\n",
       "loan_amnt            0\n",
       "int_rate             0\n",
       "grade                0\n",
       "emp_length        7013\n",
       "home_ownership       0\n",
       "annual_inc           0\n",
       "term                 0\n",
       "target               0\n",
       "dtype: int64"
      ]
     },
     "execution_count": 9,
     "metadata": {},
     "output_type": "execute_result"
    }
   ],
   "source": [
    "train.isnull().sum()"
   ]
  },
  {
   "cell_type": "markdown",
   "metadata": {},
   "source": [
    "Trong các thuộc tính, chỉ có **emp_length** có missing value.\n",
    "Đây là thuộc tính thể hiện thời gian (kinh nghiệm) làm việc của người đi vay.\n",
    "<!-- Ta sẽ thay thế các giá trị null bằng giá trị *Mode*. -->\n",
    "Việc xử  lý mising value sẽ được đề cập ở phần dưới khi xử lý các thuộc tính rời rạc."
   ]
  },
  {
   "cell_type": "code",
   "execution_count": 10,
   "metadata": {},
   "outputs": [],
   "source": [
    "# emp_length_mode = train.emp_length.mode()\n",
    "# train.fillna(emp_length_mode, )"
   ]
  },
  {
   "cell_type": "markdown",
   "metadata": {},
   "source": [
    "#### Về kiểu dữ liệu của các thuộc tính"
   ]
  },
  {
   "cell_type": "code",
   "execution_count": 11,
   "metadata": {
    "scrolled": true
   },
   "outputs": [
    {
     "data": {
      "text/html": [
       "<div>\n",
       "<style scoped>\n",
       "    .dataframe tbody tr th:only-of-type {\n",
       "        vertical-align: middle;\n",
       "    }\n",
       "\n",
       "    .dataframe tbody tr th {\n",
       "        vertical-align: top;\n",
       "    }\n",
       "\n",
       "    .dataframe thead th {\n",
       "        text-align: right;\n",
       "    }\n",
       "</style>\n",
       "<table border=\"1\" class=\"dataframe\">\n",
       "  <thead>\n",
       "    <tr style=\"text-align: right;\">\n",
       "      <th></th>\n",
       "      <th>loan_amnt</th>\n",
       "      <th>int_rate</th>\n",
       "      <th>annual_inc</th>\n",
       "      <th>target</th>\n",
       "    </tr>\n",
       "  </thead>\n",
       "  <tbody>\n",
       "    <tr>\n",
       "      <th>count</th>\n",
       "      <td>177933.000000</td>\n",
       "      <td>177933.000000</td>\n",
       "      <td>1.779330e+05</td>\n",
       "      <td>177933.000000</td>\n",
       "    </tr>\n",
       "    <tr>\n",
       "      <th>mean</th>\n",
       "      <td>13582.523337</td>\n",
       "      <td>13.788521</td>\n",
       "      <td>7.245937e+04</td>\n",
       "      <td>0.182653</td>\n",
       "    </tr>\n",
       "    <tr>\n",
       "      <th>std</th>\n",
       "      <td>8138.463931</td>\n",
       "      <td>4.403421</td>\n",
       "      <td>5.596903e+04</td>\n",
       "      <td>0.386383</td>\n",
       "    </tr>\n",
       "    <tr>\n",
       "      <th>min</th>\n",
       "      <td>500.000000</td>\n",
       "      <td>5.320000</td>\n",
       "      <td>3.000000e+03</td>\n",
       "      <td>0.000000</td>\n",
       "    </tr>\n",
       "    <tr>\n",
       "      <th>25%</th>\n",
       "      <td>7300.000000</td>\n",
       "      <td>10.740000</td>\n",
       "      <td>4.500000e+04</td>\n",
       "      <td>0.000000</td>\n",
       "    </tr>\n",
       "    <tr>\n",
       "      <th>50%</th>\n",
       "      <td>12000.000000</td>\n",
       "      <td>13.570000</td>\n",
       "      <td>6.200000e+04</td>\n",
       "      <td>0.000000</td>\n",
       "    </tr>\n",
       "    <tr>\n",
       "      <th>75%</th>\n",
       "      <td>18375.000000</td>\n",
       "      <td>16.590000</td>\n",
       "      <td>8.700000e+04</td>\n",
       "      <td>0.000000</td>\n",
       "    </tr>\n",
       "    <tr>\n",
       "      <th>max</th>\n",
       "      <td>35000.000000</td>\n",
       "      <td>28.990000</td>\n",
       "      <td>7.141778e+06</td>\n",
       "      <td>1.000000</td>\n",
       "    </tr>\n",
       "  </tbody>\n",
       "</table>\n",
       "</div>"
      ],
      "text/plain": [
       "           loan_amnt       int_rate    annual_inc         target\n",
       "count  177933.000000  177933.000000  1.779330e+05  177933.000000\n",
       "mean    13582.523337      13.788521  7.245937e+04       0.182653\n",
       "std      8138.463931       4.403421  5.596903e+04       0.386383\n",
       "min       500.000000       5.320000  3.000000e+03       0.000000\n",
       "25%      7300.000000      10.740000  4.500000e+04       0.000000\n",
       "50%     12000.000000      13.570000  6.200000e+04       0.000000\n",
       "75%     18375.000000      16.590000  8.700000e+04       0.000000\n",
       "max     35000.000000      28.990000  7.141778e+06       1.000000"
      ]
     },
     "execution_count": 11,
     "metadata": {},
     "output_type": "execute_result"
    }
   ],
   "source": [
    "train.describe()"
   ]
  },
  {
   "cell_type": "markdown",
   "metadata": {},
   "source": [
    "Ngoài trường kết quả, có ba thuộc tính nhận giá trị liên tục là loan_amt, int_rate và annual_inc. Bốn thuộc tính còn lại nhận giá trị rời rạc.\n",
    "Bây giờ ta sẽ kiể m tra mối liên hệ giữa các thuộc tính đến kết quả khách hàng có khả năng thanh toán khoản vay hay không. Đối với các thuộc tính có giá trị số liên tục, sử dụng phân phối boxplot để biểu diễn."
   ]
  },
  {
   "cell_type": "code",
   "execution_count": 12,
   "metadata": {
    "scrolled": true
   },
   "outputs": [
    {
     "data": {
      "text/plain": [
       "<matplotlib.axes._subplots.AxesSubplot at 0x7f18455fc5d0>"
      ]
     },
     "execution_count": 12,
     "metadata": {},
     "output_type": "execute_result"
    },
    {
     "data": {
      "image/png": "[encoded data removed]",
      "text/plain": [
       "<Figure size 432x288 with 1 Axes>"
      ]
     },
     "metadata": {
      "needs_background": "light"
     },
     "output_type": "display_data"
    }
   ],
   "source": [
    "# boxplot for loan amount\n",
    "sns.boxplot(train.target, train.loan_amnt)"
   ]
  },
  {
   "cell_type": "markdown",
   "metadata": {},
   "source": [
    "Qua biểu đồ, có thể thấy, những khoản nợ xấu thường có giá trị lớn hơn nợ tốt. Tuy nhiên sự chênh lệch là không nhiều."
   ]
  },
  {
   "cell_type": "code",
   "execution_count": 13,
   "metadata": {},
   "outputs": [
    {
     "data": {
      "text/plain": [
       "<matplotlib.axes._subplots.AxesSubplot at 0x7f1845d31390>"
      ]
     },
     "execution_count": 13,
     "metadata": {},
     "output_type": "execute_result"
    },
    {
     "data": {
      "image/png": "[encoded data removed]",
      "text/plain": [
       "<Figure size 432x288 with 1 Axes>"
      ]
     },
     "metadata": {
      "needs_background": "light"
     },
     "output_type": "display_data"
    }
   ],
   "source": [
    "# boxplot for int rate\n",
    "sns.boxplot(train.target, train.int_rate)"
   ]
  },
  {
   "cell_type": "markdown",
   "metadata": {},
   "source": [
    "Ở biểu đồ của lãi suất, đã có sự chênh lệch rõ ràng hơn. Có thể thấy việc vay lãi suất cao sẽ dẫn tới việc trả nợ khó khăn hơn."
   ]
  },
  {
   "cell_type": "code",
   "execution_count": 14,
   "metadata": {},
   "outputs": [
    {
     "data": {
      "text/plain": [
       "<matplotlib.axes._subplots.AxesSubplot at 0x7f1845ca0210>"
      ]
     },
     "execution_count": 14,
     "metadata": {},
     "output_type": "execute_result"
    },
    {
     "data": {
      "image/png": "[encoded data removed]",
      "text/plain": [
       "<Figure size 432x288 with 1 Axes>"
      ]
     },
     "metadata": {
      "needs_background": "light"
     },
     "output_type": "display_data"
    }
   ],
   "source": [
    "# boxplot for annual income\n",
    "sns.boxplot(train.target, train.annual_inc)"
   ]
  },
  {
   "cell_type": "markdown",
   "metadata": {},
   "source": [
    "Có thể thấy thu nhập của khách hàng có phân phối không chuẩn, có nhiều ngoại lệ (Outlier) với thu nhập cao hơn hẳn so với phần còn lại. Đây là những  ngoại lệ hợp lý khi đi đi cùng với thu nhập cao này là khả năng có thể trả nợ.\n",
    "Để  khắc phục điều này, áp dụng *Log transform* sẽ giúp mở rộng các giá trị nằm trong phạm vi mật độ thấp và né hoặc giảm các giá trị trong phạm vi mật độ cao."
   ]
  },
  {
   "cell_type": "code",
   "execution_count": 15,
   "metadata": {},
   "outputs": [
    {
     "data": {
      "text/html": [
       "<div>\n",
       "<style scoped>\n",
       "    .dataframe tbody tr th:only-of-type {\n",
       "        vertical-align: middle;\n",
       "    }\n",
       "\n",
       "    .dataframe tbody tr th {\n",
       "        vertical-align: top;\n",
       "    }\n",
       "\n",
       "    .dataframe thead th {\n",
       "        text-align: right;\n",
       "    }\n",
       "</style>\n",
       "<table border=\"1\" class=\"dataframe\">\n",
       "  <thead>\n",
       "    <tr style=\"text-align: right;\">\n",
       "      <th></th>\n",
       "      <th>loan_status</th>\n",
       "      <th>loan_amnt</th>\n",
       "      <th>int_rate</th>\n",
       "      <th>grade</th>\n",
       "      <th>emp_length</th>\n",
       "      <th>home_ownership</th>\n",
       "      <th>annual_inc</th>\n",
       "      <th>term</th>\n",
       "      <th>target</th>\n",
       "      <th>annual_inc_log</th>\n",
       "    </tr>\n",
       "  </thead>\n",
       "  <tbody>\n",
       "    <tr>\n",
       "      <th>0</th>\n",
       "      <td>Fully Paid</td>\n",
       "      <td>6000.0</td>\n",
       "      <td>9.76</td>\n",
       "      <td>B</td>\n",
       "      <td>4 years</td>\n",
       "      <td>RENT</td>\n",
       "      <td>33000.0</td>\n",
       "      <td>36 months</td>\n",
       "      <td>0</td>\n",
       "      <td>10.404293</td>\n",
       "    </tr>\n",
       "    <tr>\n",
       "      <th>1</th>\n",
       "      <td>Fully Paid</td>\n",
       "      <td>19700.0</td>\n",
       "      <td>6.62</td>\n",
       "      <td>A</td>\n",
       "      <td>5 years</td>\n",
       "      <td>RENT</td>\n",
       "      <td>45000.0</td>\n",
       "      <td>36 months</td>\n",
       "      <td>0</td>\n",
       "      <td>10.714440</td>\n",
       "    </tr>\n",
       "    <tr>\n",
       "      <th>2</th>\n",
       "      <td>Fully Paid</td>\n",
       "      <td>14000.0</td>\n",
       "      <td>6.03</td>\n",
       "      <td>A</td>\n",
       "      <td>&lt; 1 year</td>\n",
       "      <td>MORTGAGE</td>\n",
       "      <td>75000.0</td>\n",
       "      <td>36 months</td>\n",
       "      <td>0</td>\n",
       "      <td>11.225257</td>\n",
       "    </tr>\n",
       "    <tr>\n",
       "      <th>3</th>\n",
       "      <td>Fully Paid</td>\n",
       "      <td>21000.0</td>\n",
       "      <td>13.11</td>\n",
       "      <td>B</td>\n",
       "      <td>2 years</td>\n",
       "      <td>RENT</td>\n",
       "      <td>51000.0</td>\n",
       "      <td>36 months</td>\n",
       "      <td>0</td>\n",
       "      <td>10.839601</td>\n",
       "    </tr>\n",
       "    <tr>\n",
       "      <th>4</th>\n",
       "      <td>Charged Off</td>\n",
       "      <td>4500.0</td>\n",
       "      <td>16.29</td>\n",
       "      <td>D</td>\n",
       "      <td>2 years</td>\n",
       "      <td>MORTGAGE</td>\n",
       "      <td>96000.0</td>\n",
       "      <td>36 months</td>\n",
       "      <td>1</td>\n",
       "      <td>11.472114</td>\n",
       "    </tr>\n",
       "  </tbody>\n",
       "</table>\n",
       "</div>"
      ],
      "text/plain": [
       "   loan_status  loan_amnt  int_rate grade emp_length home_ownership  \\\n",
       "0   Fully Paid     6000.0      9.76     B    4 years           RENT   \n",
       "1   Fully Paid    19700.0      6.62     A    5 years           RENT   \n",
       "2   Fully Paid    14000.0      6.03     A   < 1 year       MORTGAGE   \n",
       "3   Fully Paid    21000.0     13.11     B    2 years           RENT   \n",
       "4  Charged Off     4500.0     16.29     D    2 years       MORTGAGE   \n",
       "\n",
       "   annual_inc        term  target  annual_inc_log  \n",
       "0     33000.0   36 months       0       10.404293  \n",
       "1     45000.0   36 months       0       10.714440  \n",
       "2     75000.0   36 months       0       11.225257  \n",
       "3     51000.0   36 months       0       10.839601  \n",
       "4     96000.0   36 months       1       11.472114  "
      ]
     },
     "metadata": {},
     "output_type": "display_data"
    },
    {
     "data": {
      "text/plain": [
       "<matplotlib.axes._subplots.AxesSubplot at 0x7f1845d7d250>"
      ]
     },
     "execution_count": 15,
     "metadata": {},
     "output_type": "execute_result"
    },
    {
     "data": {
      "image/png": "[encoded data removed]",
      "text/plain": [
       "<Figure size 432x288 with 1 Axes>"
      ]
     },
     "metadata": {
      "needs_background": "light"
     },
     "output_type": "display_data"
    }
   ],
   "source": [
    "train['annual_inc_log'] = np.log(1 + train.annual_inc) # tạo thêm feature annual_inc_log cho tập train\n",
    "test['annual_inc_log'] = np.log(1 + test.annual_inc) # tạo thêm feature annual_inc_log cho tập train\n",
    "\n",
    "display(train.head())\n",
    "sns.boxplot(train.target, train.annual_inc_log)"
   ]
  },
  {
   "cell_type": "markdown",
   "metadata": {},
   "source": [
    "Biểu đồ cũng cho thấy phần lớn những khách hàng xấu thường có thu nhập thấp hơn (nhưng không đáng kể) so với khách hàng tốt."
   ]
  },
  {
   "cell_type": "markdown",
   "metadata": {},
   "source": [
    "## Categorical features."
   ]
  },
  {
   "cell_type": "markdown",
   "metadata": {},
   "source": [
    "Với các thuộc tính rời rạc, trước hết kiểm tra số lượng của mỗi giá trị. "
   ]
  },
  {
   "cell_type": "code",
   "execution_count": 16,
   "metadata": {
    "scrolled": true
   },
   "outputs": [
    {
     "data": {
      "text/plain": [
       "B    0.299000\n",
       "C    0.258389\n",
       "A    0.166029\n",
       "D    0.161443\n",
       "E    0.077130\n",
       "F    0.030478\n",
       "G    0.007531\n",
       "Name: grade, dtype: float64"
      ]
     },
     "execution_count": 16,
     "metadata": {},
     "output_type": "execute_result"
    }
   ],
   "source": [
    "# đếm số lượng các giá trị biến grade - các loại hạng công việc và tỉ lệ\n",
    "train.grade.value_counts() / len(train)"
   ]
  },
  {
   "cell_type": "code",
   "execution_count": 17,
   "metadata": {},
   "outputs": [
    {
     "data": {
      "text/plain": [
       "10+ years    0.303198\n",
       "2 years      0.092923\n",
       "< 1 year     0.082953\n",
       "3 years      0.080317\n",
       "5 years      0.071027\n",
       "1 year       0.067126\n",
       "4 years      0.064389\n",
       "6 years      0.058050\n",
       "7 years      0.055622\n",
       "8 years      0.047237\n",
       "NaN          0.039414\n",
       "9 years      0.037745\n",
       "Name: emp_length, dtype: float64"
      ]
     },
     "execution_count": 17,
     "metadata": {},
     "output_type": "execute_result"
    }
   ],
   "source": [
    "# đếm số lượng các giá trị emp_length - phân loại kinh nghiệm làm việc và tỉ lệ\n",
    "train.emp_length.value_counts(dropna=False) / len(train)"
   ]
  },
  {
   "cell_type": "markdown",
   "metadata": {},
   "source": [
    "Với các giá trị mising của **emp_length**, ta sẽ impute bằng giá trị mode (10+ years)"
   ]
  },
  {
   "cell_type": "code",
   "execution_count": 18,
   "metadata": {},
   "outputs": [
    {
     "data": {
      "text/plain": [
       "10+ years    0.342612\n",
       "2 years      0.092923\n",
       "< 1 year     0.082953\n",
       "3 years      0.080317\n",
       "5 years      0.071027\n",
       "1 year       0.067126\n",
       "4 years      0.064389\n",
       "6 years      0.058050\n",
       "7 years      0.055622\n",
       "8 years      0.047237\n",
       "9 years      0.037745\n",
       "Name: emp_length, dtype: float64"
      ]
     },
     "execution_count": 18,
     "metadata": {},
     "output_type": "execute_result"
    }
   ],
   "source": [
    "# chọn giá trị mode\n",
    "mode_emp_length = '10+ years'\n",
    "train.fillna(value=mode_emp_length, inplace=True)\n",
    "# kiểm tra lại emp_length sau khi impute\n",
    "train.emp_length.value_counts(dropna=False) / len(train)"
   ]
  },
  {
   "cell_type": "code",
   "execution_count": 19,
   "metadata": {},
   "outputs": [
    {
     "data": {
      "text/plain": [
       "MORTGAGE    0.494253\n",
       "RENT        0.419006\n",
       "OWN         0.086021\n",
       "OTHER       0.000523\n",
       "NONE        0.000191\n",
       "ANY         0.000006\n",
       "Name: home_ownership, dtype: float64"
      ]
     },
     "execution_count": 19,
     "metadata": {},
     "output_type": "execute_result"
    }
   ],
   "source": [
    "# đếm số lượng các giá trị biến home_ownership - các loại hình sợ hữu nhà và tỉ lệ\n",
    "train.home_ownership.value_counts() / len(train)"
   ]
  },
  {
   "cell_type": "code",
   "execution_count": 20,
   "metadata": {},
   "outputs": [
    {
     "data": {
      "text/plain": [
       " 36 months    0.775157\n",
       " 60 months    0.224843\n",
       "Name: term, dtype: float64"
      ]
     },
     "execution_count": 20,
     "metadata": {},
     "output_type": "execute_result"
    }
   ],
   "source": [
    "# đếm số loại thời hạn trả nợ\n",
    "train.term.value_counts() / len(train)"
   ]
  },
  {
   "cell_type": "markdown",
   "metadata": {},
   "source": [
    "Trong số bốn thuộc tính trên, chỉ có **term** là chỉ nhận hai giá trị 36 tháng và 60 tháng, ta sẽ encode bằng LabelEncoder của thư viện Scikit-learn. Các thuộc tính còn lại đều có (loại) giá trị nhiều hơn. Để xử lý các thuộc tính này, ta sẽ sử dụng kỹ thuật *One-hot encoding* với pandas.get_dummies(). "
   ]
  },
  {
   "cell_type": "code",
   "execution_count": 21,
   "metadata": {},
   "outputs": [],
   "source": [
    "# train.drop(columns=['emp_length'], inplace=True)\n",
    "# test.drop(columns=['emp_length'], inplace=True)"
   ]
  },
  {
   "cell_type": "markdown",
   "metadata": {},
   "source": [
    "#### Encoding for *term*"
   ]
  },
  {
   "cell_type": "markdown",
   "metadata": {},
   "source": [
    "Kiểm tra phân phối của **target** với thuộc tính **term**"
   ]
  },
  {
   "cell_type": "code",
   "execution_count": 22,
   "metadata": {},
   "outputs": [],
   "source": [
    "term_target_df = pd.crosstab(train.term, train.target, margins=True, margins_name='Total')\n",
    "# term_target_df.columns = ['Good', 'Bad']\n",
    "term_target_df['Good_per'] = term_target_df[0] / term_target_df.Total\n",
    "term_target_df['Bad_per'] = term_target_df[1] / term_target_df.Total"
   ]
  },
  {
   "cell_type": "code",
   "execution_count": 23,
   "metadata": {},
   "outputs": [
    {
     "data": {
      "text/html": [
       "<div>\n",
       "<style scoped>\n",
       "    .dataframe tbody tr th:only-of-type {\n",
       "        vertical-align: middle;\n",
       "    }\n",
       "\n",
       "    .dataframe tbody tr th {\n",
       "        vertical-align: top;\n",
       "    }\n",
       "\n",
       "    .dataframe thead th {\n",
       "        text-align: right;\n",
       "    }\n",
       "</style>\n",
       "<table border=\"1\" class=\"dataframe\">\n",
       "  <thead>\n",
       "    <tr style=\"text-align: right;\">\n",
       "      <th>target</th>\n",
       "      <th>0</th>\n",
       "      <th>1</th>\n",
       "      <th>Total</th>\n",
       "      <th>Good_per</th>\n",
       "      <th>Bad_per</th>\n",
       "    </tr>\n",
       "    <tr>\n",
       "      <th>term</th>\n",
       "      <th></th>\n",
       "      <th></th>\n",
       "      <th></th>\n",
       "      <th></th>\n",
       "      <th></th>\n",
       "    </tr>\n",
       "  </thead>\n",
       "  <tbody>\n",
       "    <tr>\n",
       "      <th>36 months</th>\n",
       "      <td>117120</td>\n",
       "      <td>20806</td>\n",
       "      <td>137926</td>\n",
       "      <td>0.849151</td>\n",
       "      <td>0.150849</td>\n",
       "    </tr>\n",
       "    <tr>\n",
       "      <th>60 months</th>\n",
       "      <td>28313</td>\n",
       "      <td>11694</td>\n",
       "      <td>40007</td>\n",
       "      <td>0.707701</td>\n",
       "      <td>0.292299</td>\n",
       "    </tr>\n",
       "    <tr>\n",
       "      <th>Total</th>\n",
       "      <td>145433</td>\n",
       "      <td>32500</td>\n",
       "      <td>177933</td>\n",
       "      <td>0.817347</td>\n",
       "      <td>0.182653</td>\n",
       "    </tr>\n",
       "  </tbody>\n",
       "</table>\n",
       "</div>"
      ],
      "text/plain": [
       "target           0      1   Total  Good_per   Bad_per\n",
       "term                                                 \n",
       " 36 months  117120  20806  137926  0.849151  0.150849\n",
       " 60 months   28313  11694   40007  0.707701  0.292299\n",
       "Total       145433  32500  177933  0.817347  0.182653"
      ]
     },
     "execution_count": 23,
     "metadata": {},
     "output_type": "execute_result"
    }
   ],
   "source": [
    "term_target_df"
   ]
  },
  {
   "cell_type": "markdown",
   "metadata": {},
   "source": [
    "Dễ dàng nhận thấy số lượng khoản vay thời hạn 36 tháng là vượt trội (hơn 77% so với 23% của khoản vay 60 thangs). Đáng chú ý là hầu hết khoản vay 36 tháng đều là nợ tốt, còn 60 tháng là ngược lại."
   ]
  },
  {
   "cell_type": "markdown",
   "metadata": {},
   "source": [
    "Bây giờ ta sẽ tiến hành encode các giá trị của **term** với LabelEncoder"
   ]
  },
  {
   "cell_type": "code",
   "execution_count": 24,
   "metadata": {},
   "outputs": [
    {
     "name": "stderr",
     "output_type": "stream",
     "text": [
      "/home/ta/anaconda3/envs/dyno/lib/python3.7/site-packages/sklearn/utils/__init__.py:4: DeprecationWarning: Using or importing the ABCs from 'collections' instead of from 'collections.abc' is deprecated since Python 3.3,and in 3.9 it will stop working\n",
      "  from collections import Sequence\n"
     ]
    },
    {
     "name": "stdout",
     "output_type": "stream",
     "text": [
      "1 columns were label encoded.\n"
     ]
    }
   ],
   "source": [
    "# Create a label encoder object\n",
    "from sklearn.preprocessing import LabelEncoder\n",
    "le = LabelEncoder()\n",
    "le_count = 0\n",
    "\n",
    "# Iterate through the columns\n",
    "for col in train:\n",
    "    if train[col].dtype == 'object':\n",
    "        # If 2 or fewer unique categories\n",
    "        if len(list(train[col].unique())) <= 2:\n",
    "            # Train on the training data\n",
    "            le.fit(train[col])\n",
    "            # Transform both training and testing data\n",
    "            train[col] = le.transform(train[col])\n",
    "            test[col] = le.transform(test[col])\n",
    "            \n",
    "            # Keep track of how many columns were label encoded\n",
    "            le_count += 1\n",
    "            \n",
    "print('%d columns were label encoded.' % le_count)"
   ]
  },
  {
   "cell_type": "code",
   "execution_count": 25,
   "metadata": {},
   "outputs": [
    {
     "data": {
      "text/html": [
       "<div>\n",
       "<style scoped>\n",
       "    .dataframe tbody tr th:only-of-type {\n",
       "        vertical-align: middle;\n",
       "    }\n",
       "\n",
       "    .dataframe tbody tr th {\n",
       "        vertical-align: top;\n",
       "    }\n",
       "\n",
       "    .dataframe thead th {\n",
       "        text-align: right;\n",
       "    }\n",
       "</style>\n",
       "<table border=\"1\" class=\"dataframe\">\n",
       "  <thead>\n",
       "    <tr style=\"text-align: right;\">\n",
       "      <th></th>\n",
       "      <th>loan_status</th>\n",
       "      <th>loan_amnt</th>\n",
       "      <th>int_rate</th>\n",
       "      <th>grade</th>\n",
       "      <th>emp_length</th>\n",
       "      <th>home_ownership</th>\n",
       "      <th>annual_inc</th>\n",
       "      <th>term</th>\n",
       "      <th>target</th>\n",
       "      <th>annual_inc_log</th>\n",
       "    </tr>\n",
       "  </thead>\n",
       "  <tbody>\n",
       "    <tr>\n",
       "      <th>0</th>\n",
       "      <td>Fully Paid</td>\n",
       "      <td>6000.0</td>\n",
       "      <td>9.76</td>\n",
       "      <td>B</td>\n",
       "      <td>4 years</td>\n",
       "      <td>RENT</td>\n",
       "      <td>33000.0</td>\n",
       "      <td>0</td>\n",
       "      <td>0</td>\n",
       "      <td>10.404293</td>\n",
       "    </tr>\n",
       "    <tr>\n",
       "      <th>1</th>\n",
       "      <td>Fully Paid</td>\n",
       "      <td>19700.0</td>\n",
       "      <td>6.62</td>\n",
       "      <td>A</td>\n",
       "      <td>5 years</td>\n",
       "      <td>RENT</td>\n",
       "      <td>45000.0</td>\n",
       "      <td>0</td>\n",
       "      <td>0</td>\n",
       "      <td>10.714440</td>\n",
       "    </tr>\n",
       "    <tr>\n",
       "      <th>2</th>\n",
       "      <td>Fully Paid</td>\n",
       "      <td>14000.0</td>\n",
       "      <td>6.03</td>\n",
       "      <td>A</td>\n",
       "      <td>&lt; 1 year</td>\n",
       "      <td>MORTGAGE</td>\n",
       "      <td>75000.0</td>\n",
       "      <td>0</td>\n",
       "      <td>0</td>\n",
       "      <td>11.225257</td>\n",
       "    </tr>\n",
       "    <tr>\n",
       "      <th>3</th>\n",
       "      <td>Fully Paid</td>\n",
       "      <td>21000.0</td>\n",
       "      <td>13.11</td>\n",
       "      <td>B</td>\n",
       "      <td>2 years</td>\n",
       "      <td>RENT</td>\n",
       "      <td>51000.0</td>\n",
       "      <td>0</td>\n",
       "      <td>0</td>\n",
       "      <td>10.839601</td>\n",
       "    </tr>\n",
       "    <tr>\n",
       "      <th>4</th>\n",
       "      <td>Charged Off</td>\n",
       "      <td>4500.0</td>\n",
       "      <td>16.29</td>\n",
       "      <td>D</td>\n",
       "      <td>2 years</td>\n",
       "      <td>MORTGAGE</td>\n",
       "      <td>96000.0</td>\n",
       "      <td>0</td>\n",
       "      <td>1</td>\n",
       "      <td>11.472114</td>\n",
       "    </tr>\n",
       "    <tr>\n",
       "      <th>...</th>\n",
       "      <td>...</td>\n",
       "      <td>...</td>\n",
       "      <td>...</td>\n",
       "      <td>...</td>\n",
       "      <td>...</td>\n",
       "      <td>...</td>\n",
       "      <td>...</td>\n",
       "      <td>...</td>\n",
       "      <td>...</td>\n",
       "      <td>...</td>\n",
       "    </tr>\n",
       "    <tr>\n",
       "      <th>177928</th>\n",
       "      <td>Fully Paid</td>\n",
       "      <td>4750.0</td>\n",
       "      <td>10.16</td>\n",
       "      <td>B</td>\n",
       "      <td>10+ years</td>\n",
       "      <td>MORTGAGE</td>\n",
       "      <td>63000.0</td>\n",
       "      <td>0</td>\n",
       "      <td>0</td>\n",
       "      <td>11.050906</td>\n",
       "    </tr>\n",
       "    <tr>\n",
       "      <th>177929</th>\n",
       "      <td>Fully Paid</td>\n",
       "      <td>10000.0</td>\n",
       "      <td>9.17</td>\n",
       "      <td>B</td>\n",
       "      <td>10+ years</td>\n",
       "      <td>RENT</td>\n",
       "      <td>70600.0</td>\n",
       "      <td>0</td>\n",
       "      <td>0</td>\n",
       "      <td>11.164800</td>\n",
       "    </tr>\n",
       "    <tr>\n",
       "      <th>177930</th>\n",
       "      <td>Fully Paid</td>\n",
       "      <td>9000.0</td>\n",
       "      <td>14.33</td>\n",
       "      <td>C</td>\n",
       "      <td>10+ years</td>\n",
       "      <td>RENT</td>\n",
       "      <td>63000.0</td>\n",
       "      <td>0</td>\n",
       "      <td>0</td>\n",
       "      <td>11.050906</td>\n",
       "    </tr>\n",
       "    <tr>\n",
       "      <th>177931</th>\n",
       "      <td>Fully Paid</td>\n",
       "      <td>19800.0</td>\n",
       "      <td>22.99</td>\n",
       "      <td>F</td>\n",
       "      <td>6 years</td>\n",
       "      <td>MORTGAGE</td>\n",
       "      <td>100000.0</td>\n",
       "      <td>1</td>\n",
       "      <td>0</td>\n",
       "      <td>11.512935</td>\n",
       "    </tr>\n",
       "    <tr>\n",
       "      <th>177932</th>\n",
       "      <td>Fully Paid</td>\n",
       "      <td>24000.0</td>\n",
       "      <td>8.90</td>\n",
       "      <td>A</td>\n",
       "      <td>3 years</td>\n",
       "      <td>MORTGAGE</td>\n",
       "      <td>185000.0</td>\n",
       "      <td>1</td>\n",
       "      <td>0</td>\n",
       "      <td>12.128117</td>\n",
       "    </tr>\n",
       "  </tbody>\n",
       "</table>\n",
       "<p>177933 rows × 10 columns</p>\n",
       "</div>"
      ],
      "text/plain": [
       "        loan_status  loan_amnt  int_rate grade emp_length home_ownership  \\\n",
       "0        Fully Paid     6000.0      9.76     B    4 years           RENT   \n",
       "1        Fully Paid    19700.0      6.62     A    5 years           RENT   \n",
       "2        Fully Paid    14000.0      6.03     A   < 1 year       MORTGAGE   \n",
       "3        Fully Paid    21000.0     13.11     B    2 years           RENT   \n",
       "4       Charged Off     4500.0     16.29     D    2 years       MORTGAGE   \n",
       "...             ...        ...       ...   ...        ...            ...   \n",
       "177928   Fully Paid     4750.0     10.16     B  10+ years       MORTGAGE   \n",
       "177929   Fully Paid    10000.0      9.17     B  10+ years           RENT   \n",
       "177930   Fully Paid     9000.0     14.33     C  10+ years           RENT   \n",
       "177931   Fully Paid    19800.0     22.99     F    6 years       MORTGAGE   \n",
       "177932   Fully Paid    24000.0      8.90     A    3 years       MORTGAGE   \n",
       "\n",
       "        annual_inc  term  target  annual_inc_log  \n",
       "0          33000.0     0       0       10.404293  \n",
       "1          45000.0     0       0       10.714440  \n",
       "2          75000.0     0       0       11.225257  \n",
       "3          51000.0     0       0       10.839601  \n",
       "4          96000.0     0       1       11.472114  \n",
       "...            ...   ...     ...             ...  \n",
       "177928     63000.0     0       0       11.050906  \n",
       "177929     70600.0     0       0       11.164800  \n",
       "177930     63000.0     0       0       11.050906  \n",
       "177931    100000.0     1       0       11.512935  \n",
       "177932    185000.0     1       0       12.128117  \n",
       "\n",
       "[177933 rows x 10 columns]"
      ]
     },
     "execution_count": 25,
     "metadata": {},
     "output_type": "execute_result"
    }
   ],
   "source": [
    "train"
   ]
  },
  {
   "cell_type": "code",
   "execution_count": 26,
   "metadata": {},
   "outputs": [
    {
     "data": {
      "text/html": [
       "<div>\n",
       "<style scoped>\n",
       "    .dataframe tbody tr th:only-of-type {\n",
       "        vertical-align: middle;\n",
       "    }\n",
       "\n",
       "    .dataframe tbody tr th {\n",
       "        vertical-align: top;\n",
       "    }\n",
       "\n",
       "    .dataframe thead th {\n",
       "        text-align: right;\n",
       "    }\n",
       "</style>\n",
       "<table border=\"1\" class=\"dataframe\">\n",
       "  <thead>\n",
       "    <tr style=\"text-align: right;\">\n",
       "      <th></th>\n",
       "      <th>loan_status</th>\n",
       "      <th>loan_amnt</th>\n",
       "      <th>int_rate</th>\n",
       "      <th>grade</th>\n",
       "      <th>emp_length</th>\n",
       "      <th>home_ownership</th>\n",
       "      <th>annual_inc</th>\n",
       "      <th>term</th>\n",
       "      <th>target</th>\n",
       "      <th>annual_inc_log</th>\n",
       "    </tr>\n",
       "  </thead>\n",
       "  <tbody>\n",
       "    <tr>\n",
       "      <th>0</th>\n",
       "      <td>Fully Paid</td>\n",
       "      <td>9525.0</td>\n",
       "      <td>6.62</td>\n",
       "      <td>A</td>\n",
       "      <td>2 years</td>\n",
       "      <td>RENT</td>\n",
       "      <td>60000.0</td>\n",
       "      <td>0</td>\n",
       "      <td>0</td>\n",
       "      <td>11.002117</td>\n",
       "    </tr>\n",
       "    <tr>\n",
       "      <th>1</th>\n",
       "      <td>Charged Off</td>\n",
       "      <td>17325.0</td>\n",
       "      <td>11.14</td>\n",
       "      <td>B</td>\n",
       "      <td>1 year</td>\n",
       "      <td>MORTGAGE</td>\n",
       "      <td>54000.0</td>\n",
       "      <td>0</td>\n",
       "      <td>1</td>\n",
       "      <td>10.896758</td>\n",
       "    </tr>\n",
       "    <tr>\n",
       "      <th>2</th>\n",
       "      <td>Fully Paid</td>\n",
       "      <td>7000.0</td>\n",
       "      <td>8.49</td>\n",
       "      <td>A</td>\n",
       "      <td>5 years</td>\n",
       "      <td>RENT</td>\n",
       "      <td>118000.0</td>\n",
       "      <td>0</td>\n",
       "      <td>0</td>\n",
       "      <td>11.678448</td>\n",
       "    </tr>\n",
       "    <tr>\n",
       "      <th>3</th>\n",
       "      <td>Fully Paid</td>\n",
       "      <td>10000.0</td>\n",
       "      <td>16.24</td>\n",
       "      <td>C</td>\n",
       "      <td>10+ years</td>\n",
       "      <td>MORTGAGE</td>\n",
       "      <td>150000.0</td>\n",
       "      <td>1</td>\n",
       "      <td>0</td>\n",
       "      <td>11.918397</td>\n",
       "    </tr>\n",
       "    <tr>\n",
       "      <th>4</th>\n",
       "      <td>Fully Paid</td>\n",
       "      <td>9600.0</td>\n",
       "      <td>12.12</td>\n",
       "      <td>B</td>\n",
       "      <td>8 years</td>\n",
       "      <td>RENT</td>\n",
       "      <td>120000.0</td>\n",
       "      <td>0</td>\n",
       "      <td>0</td>\n",
       "      <td>11.695255</td>\n",
       "    </tr>\n",
       "    <tr>\n",
       "      <th>...</th>\n",
       "      <td>...</td>\n",
       "      <td>...</td>\n",
       "      <td>...</td>\n",
       "      <td>...</td>\n",
       "      <td>...</td>\n",
       "      <td>...</td>\n",
       "      <td>...</td>\n",
       "      <td>...</td>\n",
       "      <td>...</td>\n",
       "      <td>...</td>\n",
       "    </tr>\n",
       "    <tr>\n",
       "      <th>76252</th>\n",
       "      <td>Fully Paid</td>\n",
       "      <td>9175.0</td>\n",
       "      <td>15.59</td>\n",
       "      <td>D</td>\n",
       "      <td>NaN</td>\n",
       "      <td>MORTGAGE</td>\n",
       "      <td>23000.0</td>\n",
       "      <td>0</td>\n",
       "      <td>0</td>\n",
       "      <td>10.043293</td>\n",
       "    </tr>\n",
       "    <tr>\n",
       "      <th>76253</th>\n",
       "      <td>Fully Paid</td>\n",
       "      <td>6400.0</td>\n",
       "      <td>12.12</td>\n",
       "      <td>B</td>\n",
       "      <td>4 years</td>\n",
       "      <td>RENT</td>\n",
       "      <td>85000.0</td>\n",
       "      <td>0</td>\n",
       "      <td>0</td>\n",
       "      <td>11.350418</td>\n",
       "    </tr>\n",
       "    <tr>\n",
       "      <th>76254</th>\n",
       "      <td>Fully Paid</td>\n",
       "      <td>25000.0</td>\n",
       "      <td>13.11</td>\n",
       "      <td>B</td>\n",
       "      <td>9 years</td>\n",
       "      <td>MORTGAGE</td>\n",
       "      <td>65000.0</td>\n",
       "      <td>1</td>\n",
       "      <td>0</td>\n",
       "      <td>11.082158</td>\n",
       "    </tr>\n",
       "    <tr>\n",
       "      <th>76255</th>\n",
       "      <td>Fully Paid</td>\n",
       "      <td>5375.0</td>\n",
       "      <td>17.77</td>\n",
       "      <td>D</td>\n",
       "      <td>4 years</td>\n",
       "      <td>MORTGAGE</td>\n",
       "      <td>20000.0</td>\n",
       "      <td>0</td>\n",
       "      <td>0</td>\n",
       "      <td>9.903538</td>\n",
       "    </tr>\n",
       "    <tr>\n",
       "      <th>76256</th>\n",
       "      <td>Fully Paid</td>\n",
       "      <td>5000.0</td>\n",
       "      <td>12.12</td>\n",
       "      <td>B</td>\n",
       "      <td>&lt; 1 year</td>\n",
       "      <td>RENT</td>\n",
       "      <td>100377.0</td>\n",
       "      <td>0</td>\n",
       "      <td>0</td>\n",
       "      <td>11.516698</td>\n",
       "    </tr>\n",
       "  </tbody>\n",
       "</table>\n",
       "<p>76257 rows × 10 columns</p>\n",
       "</div>"
      ],
      "text/plain": [
       "       loan_status  loan_amnt  int_rate grade emp_length home_ownership  \\\n",
       "0       Fully Paid     9525.0      6.62     A    2 years           RENT   \n",
       "1      Charged Off    17325.0     11.14     B     1 year       MORTGAGE   \n",
       "2       Fully Paid     7000.0      8.49     A    5 years           RENT   \n",
       "3       Fully Paid    10000.0     16.24     C  10+ years       MORTGAGE   \n",
       "4       Fully Paid     9600.0     12.12     B    8 years           RENT   \n",
       "...            ...        ...       ...   ...        ...            ...   \n",
       "76252   Fully Paid     9175.0     15.59     D        NaN       MORTGAGE   \n",
       "76253   Fully Paid     6400.0     12.12     B    4 years           RENT   \n",
       "76254   Fully Paid    25000.0     13.11     B    9 years       MORTGAGE   \n",
       "76255   Fully Paid     5375.0     17.77     D    4 years       MORTGAGE   \n",
       "76256   Fully Paid     5000.0     12.12     B   < 1 year           RENT   \n",
       "\n",
       "       annual_inc  term  target  annual_inc_log  \n",
       "0         60000.0     0       0       11.002117  \n",
       "1         54000.0     0       1       10.896758  \n",
       "2        118000.0     0       0       11.678448  \n",
       "3        150000.0     1       0       11.918397  \n",
       "4        120000.0     0       0       11.695255  \n",
       "...           ...   ...     ...             ...  \n",
       "76252     23000.0     0       0       10.043293  \n",
       "76253     85000.0     0       0       11.350418  \n",
       "76254     65000.0     1       0       11.082158  \n",
       "76255     20000.0     0       0        9.903538  \n",
       "76256    100377.0     0       0       11.516698  \n",
       "\n",
       "[76257 rows x 10 columns]"
      ]
     },
     "execution_count": 26,
     "metadata": {},
     "output_type": "execute_result"
    }
   ],
   "source": [
    "test"
   ]
  },
  {
   "cell_type": "markdown",
   "metadata": {},
   "source": [
    "##### Encoding for home_ownership, grade"
   ]
  },
  {
   "cell_type": "code",
   "execution_count": 27,
   "metadata": {},
   "outputs": [
    {
     "data": {
      "text/html": [
       "<div>\n",
       "<style scoped>\n",
       "    .dataframe tbody tr th:only-of-type {\n",
       "        vertical-align: middle;\n",
       "    }\n",
       "\n",
       "    .dataframe tbody tr th {\n",
       "        vertical-align: top;\n",
       "    }\n",
       "\n",
       "    .dataframe thead th {\n",
       "        text-align: right;\n",
       "    }\n",
       "</style>\n",
       "<table border=\"1\" class=\"dataframe\">\n",
       "  <thead>\n",
       "    <tr style=\"text-align: right;\">\n",
       "      <th></th>\n",
       "      <th>loan_amnt</th>\n",
       "      <th>int_rate</th>\n",
       "      <th>annual_inc</th>\n",
       "      <th>term</th>\n",
       "      <th>target</th>\n",
       "      <th>annual_inc_log</th>\n",
       "      <th>loan_status_Charged Off</th>\n",
       "      <th>loan_status_Default</th>\n",
       "      <th>loan_status_Fully Paid</th>\n",
       "      <th>grade_A</th>\n",
       "      <th>...</th>\n",
       "      <th>emp_length_7 years</th>\n",
       "      <th>emp_length_8 years</th>\n",
       "      <th>emp_length_9 years</th>\n",
       "      <th>emp_length_&lt; 1 year</th>\n",
       "      <th>home_ownership_ANY</th>\n",
       "      <th>home_ownership_MORTGAGE</th>\n",
       "      <th>home_ownership_NONE</th>\n",
       "      <th>home_ownership_OTHER</th>\n",
       "      <th>home_ownership_OWN</th>\n",
       "      <th>home_ownership_RENT</th>\n",
       "    </tr>\n",
       "  </thead>\n",
       "  <tbody>\n",
       "    <tr>\n",
       "      <th>0</th>\n",
       "      <td>6000.0</td>\n",
       "      <td>9.76</td>\n",
       "      <td>33000.0</td>\n",
       "      <td>0</td>\n",
       "      <td>0</td>\n",
       "      <td>10.404293</td>\n",
       "      <td>0</td>\n",
       "      <td>0</td>\n",
       "      <td>1</td>\n",
       "      <td>0</td>\n",
       "      <td>...</td>\n",
       "      <td>0</td>\n",
       "      <td>0</td>\n",
       "      <td>0</td>\n",
       "      <td>0</td>\n",
       "      <td>0</td>\n",
       "      <td>0</td>\n",
       "      <td>0</td>\n",
       "      <td>0</td>\n",
       "      <td>0</td>\n",
       "      <td>1</td>\n",
       "    </tr>\n",
       "    <tr>\n",
       "      <th>1</th>\n",
       "      <td>19700.0</td>\n",
       "      <td>6.62</td>\n",
       "      <td>45000.0</td>\n",
       "      <td>0</td>\n",
       "      <td>0</td>\n",
       "      <td>10.714440</td>\n",
       "      <td>0</td>\n",
       "      <td>0</td>\n",
       "      <td>1</td>\n",
       "      <td>1</td>\n",
       "      <td>...</td>\n",
       "      <td>0</td>\n",
       "      <td>0</td>\n",
       "      <td>0</td>\n",
       "      <td>0</td>\n",
       "      <td>0</td>\n",
       "      <td>0</td>\n",
       "      <td>0</td>\n",
       "      <td>0</td>\n",
       "      <td>0</td>\n",
       "      <td>1</td>\n",
       "    </tr>\n",
       "    <tr>\n",
       "      <th>2</th>\n",
       "      <td>14000.0</td>\n",
       "      <td>6.03</td>\n",
       "      <td>75000.0</td>\n",
       "      <td>0</td>\n",
       "      <td>0</td>\n",
       "      <td>11.225257</td>\n",
       "      <td>0</td>\n",
       "      <td>0</td>\n",
       "      <td>1</td>\n",
       "      <td>1</td>\n",
       "      <td>...</td>\n",
       "      <td>0</td>\n",
       "      <td>0</td>\n",
       "      <td>0</td>\n",
       "      <td>1</td>\n",
       "      <td>0</td>\n",
       "      <td>1</td>\n",
       "      <td>0</td>\n",
       "      <td>0</td>\n",
       "      <td>0</td>\n",
       "      <td>0</td>\n",
       "    </tr>\n",
       "    <tr>\n",
       "      <th>3</th>\n",
       "      <td>21000.0</td>\n",
       "      <td>13.11</td>\n",
       "      <td>51000.0</td>\n",
       "      <td>0</td>\n",
       "      <td>0</td>\n",
       "      <td>10.839601</td>\n",
       "      <td>0</td>\n",
       "      <td>0</td>\n",
       "      <td>1</td>\n",
       "      <td>0</td>\n",
       "      <td>...</td>\n",
       "      <td>0</td>\n",
       "      <td>0</td>\n",
       "      <td>0</td>\n",
       "      <td>0</td>\n",
       "      <td>0</td>\n",
       "      <td>0</td>\n",
       "      <td>0</td>\n",
       "      <td>0</td>\n",
       "      <td>0</td>\n",
       "      <td>1</td>\n",
       "    </tr>\n",
       "    <tr>\n",
       "      <th>4</th>\n",
       "      <td>4500.0</td>\n",
       "      <td>16.29</td>\n",
       "      <td>96000.0</td>\n",
       "      <td>0</td>\n",
       "      <td>1</td>\n",
       "      <td>11.472114</td>\n",
       "      <td>1</td>\n",
       "      <td>0</td>\n",
       "      <td>0</td>\n",
       "      <td>0</td>\n",
       "      <td>...</td>\n",
       "      <td>0</td>\n",
       "      <td>0</td>\n",
       "      <td>0</td>\n",
       "      <td>0</td>\n",
       "      <td>0</td>\n",
       "      <td>1</td>\n",
       "      <td>0</td>\n",
       "      <td>0</td>\n",
       "      <td>0</td>\n",
       "      <td>0</td>\n",
       "    </tr>\n",
       "    <tr>\n",
       "      <th>...</th>\n",
       "      <td>...</td>\n",
       "      <td>...</td>\n",
       "      <td>...</td>\n",
       "      <td>...</td>\n",
       "      <td>...</td>\n",
       "      <td>...</td>\n",
       "      <td>...</td>\n",
       "      <td>...</td>\n",
       "      <td>...</td>\n",
       "      <td>...</td>\n",
       "      <td>...</td>\n",
       "      <td>...</td>\n",
       "      <td>...</td>\n",
       "      <td>...</td>\n",
       "      <td>...</td>\n",
       "      <td>...</td>\n",
       "      <td>...</td>\n",
       "      <td>...</td>\n",
       "      <td>...</td>\n",
       "      <td>...</td>\n",
       "      <td>...</td>\n",
       "    </tr>\n",
       "    <tr>\n",
       "      <th>177928</th>\n",
       "      <td>4750.0</td>\n",
       "      <td>10.16</td>\n",
       "      <td>63000.0</td>\n",
       "      <td>0</td>\n",
       "      <td>0</td>\n",
       "      <td>11.050906</td>\n",
       "      <td>0</td>\n",
       "      <td>0</td>\n",
       "      <td>1</td>\n",
       "      <td>0</td>\n",
       "      <td>...</td>\n",
       "      <td>0</td>\n",
       "      <td>0</td>\n",
       "      <td>0</td>\n",
       "      <td>0</td>\n",
       "      <td>0</td>\n",
       "      <td>1</td>\n",
       "      <td>0</td>\n",
       "      <td>0</td>\n",
       "      <td>0</td>\n",
       "      <td>0</td>\n",
       "    </tr>\n",
       "    <tr>\n",
       "      <th>177929</th>\n",
       "      <td>10000.0</td>\n",
       "      <td>9.17</td>\n",
       "      <td>70600.0</td>\n",
       "      <td>0</td>\n",
       "      <td>0</td>\n",
       "      <td>11.164800</td>\n",
       "      <td>0</td>\n",
       "      <td>0</td>\n",
       "      <td>1</td>\n",
       "      <td>0</td>\n",
       "      <td>...</td>\n",
       "      <td>0</td>\n",
       "      <td>0</td>\n",
       "      <td>0</td>\n",
       "      <td>0</td>\n",
       "      <td>0</td>\n",
       "      <td>0</td>\n",
       "      <td>0</td>\n",
       "      <td>0</td>\n",
       "      <td>0</td>\n",
       "      <td>1</td>\n",
       "    </tr>\n",
       "    <tr>\n",
       "      <th>177930</th>\n",
       "      <td>9000.0</td>\n",
       "      <td>14.33</td>\n",
       "      <td>63000.0</td>\n",
       "      <td>0</td>\n",
       "      <td>0</td>\n",
       "      <td>11.050906</td>\n",
       "      <td>0</td>\n",
       "      <td>0</td>\n",
       "      <td>1</td>\n",
       "      <td>0</td>\n",
       "      <td>...</td>\n",
       "      <td>0</td>\n",
       "      <td>0</td>\n",
       "      <td>0</td>\n",
       "      <td>0</td>\n",
       "      <td>0</td>\n",
       "      <td>0</td>\n",
       "      <td>0</td>\n",
       "      <td>0</td>\n",
       "      <td>0</td>\n",
       "      <td>1</td>\n",
       "    </tr>\n",
       "    <tr>\n",
       "      <th>177931</th>\n",
       "      <td>19800.0</td>\n",
       "      <td>22.99</td>\n",
       "      <td>100000.0</td>\n",
       "      <td>1</td>\n",
       "      <td>0</td>\n",
       "      <td>11.512935</td>\n",
       "      <td>0</td>\n",
       "      <td>0</td>\n",
       "      <td>1</td>\n",
       "      <td>0</td>\n",
       "      <td>...</td>\n",
       "      <td>0</td>\n",
       "      <td>0</td>\n",
       "      <td>0</td>\n",
       "      <td>0</td>\n",
       "      <td>0</td>\n",
       "      <td>1</td>\n",
       "      <td>0</td>\n",
       "      <td>0</td>\n",
       "      <td>0</td>\n",
       "      <td>0</td>\n",
       "    </tr>\n",
       "    <tr>\n",
       "      <th>177932</th>\n",
       "      <td>24000.0</td>\n",
       "      <td>8.90</td>\n",
       "      <td>185000.0</td>\n",
       "      <td>1</td>\n",
       "      <td>0</td>\n",
       "      <td>12.128117</td>\n",
       "      <td>0</td>\n",
       "      <td>0</td>\n",
       "      <td>1</td>\n",
       "      <td>1</td>\n",
       "      <td>...</td>\n",
       "      <td>0</td>\n",
       "      <td>0</td>\n",
       "      <td>0</td>\n",
       "      <td>0</td>\n",
       "      <td>0</td>\n",
       "      <td>1</td>\n",
       "      <td>0</td>\n",
       "      <td>0</td>\n",
       "      <td>0</td>\n",
       "      <td>0</td>\n",
       "    </tr>\n",
       "  </tbody>\n",
       "</table>\n",
       "<p>177933 rows × 33 columns</p>\n",
       "</div>"
      ],
      "text/plain": [
       "        loan_amnt  int_rate  annual_inc  term  target  annual_inc_log  \\\n",
       "0          6000.0      9.76     33000.0     0       0       10.404293   \n",
       "1         19700.0      6.62     45000.0     0       0       10.714440   \n",
       "2         14000.0      6.03     75000.0     0       0       11.225257   \n",
       "3         21000.0     13.11     51000.0     0       0       10.839601   \n",
       "4          4500.0     16.29     96000.0     0       1       11.472114   \n",
       "...           ...       ...         ...   ...     ...             ...   \n",
       "177928     4750.0     10.16     63000.0     0       0       11.050906   \n",
       "177929    10000.0      9.17     70600.0     0       0       11.164800   \n",
       "177930     9000.0     14.33     63000.0     0       0       11.050906   \n",
       "177931    19800.0     22.99    100000.0     1       0       11.512935   \n",
       "177932    24000.0      8.90    185000.0     1       0       12.128117   \n",
       "\n",
       "        loan_status_Charged Off  loan_status_Default  loan_status_Fully Paid  \\\n",
       "0                             0                    0                       1   \n",
       "1                             0                    0                       1   \n",
       "2                             0                    0                       1   \n",
       "3                             0                    0                       1   \n",
       "4                             1                    0                       0   \n",
       "...                         ...                  ...                     ...   \n",
       "177928                        0                    0                       1   \n",
       "177929                        0                    0                       1   \n",
       "177930                        0                    0                       1   \n",
       "177931                        0                    0                       1   \n",
       "177932                        0                    0                       1   \n",
       "\n",
       "        grade_A  ...  emp_length_7 years  emp_length_8 years  \\\n",
       "0             0  ...                   0                   0   \n",
       "1             1  ...                   0                   0   \n",
       "2             1  ...                   0                   0   \n",
       "3             0  ...                   0                   0   \n",
       "4             0  ...                   0                   0   \n",
       "...         ...  ...                 ...                 ...   \n",
       "177928        0  ...                   0                   0   \n",
       "177929        0  ...                   0                   0   \n",
       "177930        0  ...                   0                   0   \n",
       "177931        0  ...                   0                   0   \n",
       "177932        1  ...                   0                   0   \n",
       "\n",
       "        emp_length_9 years  emp_length_< 1 year  home_ownership_ANY  \\\n",
       "0                        0                    0                   0   \n",
       "1                        0                    0                   0   \n",
       "2                        0                    1                   0   \n",
       "3                        0                    0                   0   \n",
       "4                        0                    0                   0   \n",
       "...                    ...                  ...                 ...   \n",
       "177928                   0                    0                   0   \n",
       "177929                   0                    0                   0   \n",
       "177930                   0                    0                   0   \n",
       "177931                   0                    0                   0   \n",
       "177932                   0                    0                   0   \n",
       "\n",
       "        home_ownership_MORTGAGE  home_ownership_NONE  home_ownership_OTHER  \\\n",
       "0                             0                    0                     0   \n",
       "1                             0                    0                     0   \n",
       "2                             1                    0                     0   \n",
       "3                             0                    0                     0   \n",
       "4                             1                    0                     0   \n",
       "...                         ...                  ...                   ...   \n",
       "177928                        1                    0                     0   \n",
       "177929                        0                    0                     0   \n",
       "177930                        0                    0                     0   \n",
       "177931                        1                    0                     0   \n",
       "177932                        1                    0                     0   \n",
       "\n",
       "        home_ownership_OWN  home_ownership_RENT  \n",
       "0                        0                    1  \n",
       "1                        0                    1  \n",
       "2                        0                    0  \n",
       "3                        0                    1  \n",
       "4                        0                    0  \n",
       "...                    ...                  ...  \n",
       "177928                   0                    0  \n",
       "177929                   0                    1  \n",
       "177930                   0                    1  \n",
       "177931                   0                    0  \n",
       "177932                   0                    0  \n",
       "\n",
       "[177933 rows x 33 columns]"
      ]
     },
     "execution_count": 27,
     "metadata": {},
     "output_type": "execute_result"
    }
   ],
   "source": [
    "# one-hot encoding of categorical variables\n",
    "train = pd.get_dummies(train)\n",
    "test = pd.get_dummies(test)\n",
    "train"
   ]
  },
  {
   "cell_type": "code",
   "execution_count": 28,
   "metadata": {},
   "outputs": [
    {
     "data": {
      "text/html": [
       "<div>\n",
       "<style scoped>\n",
       "    .dataframe tbody tr th:only-of-type {\n",
       "        vertical-align: middle;\n",
       "    }\n",
       "\n",
       "    .dataframe tbody tr th {\n",
       "        vertical-align: top;\n",
       "    }\n",
       "\n",
       "    .dataframe thead th {\n",
       "        text-align: right;\n",
       "    }\n",
       "</style>\n",
       "<table border=\"1\" class=\"dataframe\">\n",
       "  <thead>\n",
       "    <tr style=\"text-align: right;\">\n",
       "      <th></th>\n",
       "      <th>loan_amnt</th>\n",
       "      <th>int_rate</th>\n",
       "      <th>annual_inc</th>\n",
       "      <th>term</th>\n",
       "      <th>target</th>\n",
       "      <th>annual_inc_log</th>\n",
       "      <th>loan_status_Charged Off</th>\n",
       "      <th>loan_status_Default</th>\n",
       "      <th>loan_status_Fully Paid</th>\n",
       "      <th>grade_A</th>\n",
       "      <th>...</th>\n",
       "      <th>emp_length_6 years</th>\n",
       "      <th>emp_length_7 years</th>\n",
       "      <th>emp_length_8 years</th>\n",
       "      <th>emp_length_9 years</th>\n",
       "      <th>emp_length_&lt; 1 year</th>\n",
       "      <th>home_ownership_MORTGAGE</th>\n",
       "      <th>home_ownership_NONE</th>\n",
       "      <th>home_ownership_OTHER</th>\n",
       "      <th>home_ownership_OWN</th>\n",
       "      <th>home_ownership_RENT</th>\n",
       "    </tr>\n",
       "  </thead>\n",
       "  <tbody>\n",
       "    <tr>\n",
       "      <th>0</th>\n",
       "      <td>9525.0</td>\n",
       "      <td>6.62</td>\n",
       "      <td>60000.0</td>\n",
       "      <td>0</td>\n",
       "      <td>0</td>\n",
       "      <td>11.002117</td>\n",
       "      <td>0</td>\n",
       "      <td>0</td>\n",
       "      <td>1</td>\n",
       "      <td>1</td>\n",
       "      <td>...</td>\n",
       "      <td>0</td>\n",
       "      <td>0</td>\n",
       "      <td>0</td>\n",
       "      <td>0</td>\n",
       "      <td>0</td>\n",
       "      <td>0</td>\n",
       "      <td>0</td>\n",
       "      <td>0</td>\n",
       "      <td>0</td>\n",
       "      <td>1</td>\n",
       "    </tr>\n",
       "    <tr>\n",
       "      <th>1</th>\n",
       "      <td>17325.0</td>\n",
       "      <td>11.14</td>\n",
       "      <td>54000.0</td>\n",
       "      <td>0</td>\n",
       "      <td>1</td>\n",
       "      <td>10.896758</td>\n",
       "      <td>1</td>\n",
       "      <td>0</td>\n",
       "      <td>0</td>\n",
       "      <td>0</td>\n",
       "      <td>...</td>\n",
       "      <td>0</td>\n",
       "      <td>0</td>\n",
       "      <td>0</td>\n",
       "      <td>0</td>\n",
       "      <td>0</td>\n",
       "      <td>1</td>\n",
       "      <td>0</td>\n",
       "      <td>0</td>\n",
       "      <td>0</td>\n",
       "      <td>0</td>\n",
       "    </tr>\n",
       "    <tr>\n",
       "      <th>2</th>\n",
       "      <td>7000.0</td>\n",
       "      <td>8.49</td>\n",
       "      <td>118000.0</td>\n",
       "      <td>0</td>\n",
       "      <td>0</td>\n",
       "      <td>11.678448</td>\n",
       "      <td>0</td>\n",
       "      <td>0</td>\n",
       "      <td>1</td>\n",
       "      <td>1</td>\n",
       "      <td>...</td>\n",
       "      <td>0</td>\n",
       "      <td>0</td>\n",
       "      <td>0</td>\n",
       "      <td>0</td>\n",
       "      <td>0</td>\n",
       "      <td>0</td>\n",
       "      <td>0</td>\n",
       "      <td>0</td>\n",
       "      <td>0</td>\n",
       "      <td>1</td>\n",
       "    </tr>\n",
       "    <tr>\n",
       "      <th>3</th>\n",
       "      <td>10000.0</td>\n",
       "      <td>16.24</td>\n",
       "      <td>150000.0</td>\n",
       "      <td>1</td>\n",
       "      <td>0</td>\n",
       "      <td>11.918397</td>\n",
       "      <td>0</td>\n",
       "      <td>0</td>\n",
       "      <td>1</td>\n",
       "      <td>0</td>\n",
       "      <td>...</td>\n",
       "      <td>0</td>\n",
       "      <td>0</td>\n",
       "      <td>0</td>\n",
       "      <td>0</td>\n",
       "      <td>0</td>\n",
       "      <td>1</td>\n",
       "      <td>0</td>\n",
       "      <td>0</td>\n",
       "      <td>0</td>\n",
       "      <td>0</td>\n",
       "    </tr>\n",
       "    <tr>\n",
       "      <th>4</th>\n",
       "      <td>9600.0</td>\n",
       "      <td>12.12</td>\n",
       "      <td>120000.0</td>\n",
       "      <td>0</td>\n",
       "      <td>0</td>\n",
       "      <td>11.695255</td>\n",
       "      <td>0</td>\n",
       "      <td>0</td>\n",
       "      <td>1</td>\n",
       "      <td>0</td>\n",
       "      <td>...</td>\n",
       "      <td>0</td>\n",
       "      <td>0</td>\n",
       "      <td>1</td>\n",
       "      <td>0</td>\n",
       "      <td>0</td>\n",
       "      <td>0</td>\n",
       "      <td>0</td>\n",
       "      <td>0</td>\n",
       "      <td>0</td>\n",
       "      <td>1</td>\n",
       "    </tr>\n",
       "    <tr>\n",
       "      <th>...</th>\n",
       "      <td>...</td>\n",
       "      <td>...</td>\n",
       "      <td>...</td>\n",
       "      <td>...</td>\n",
       "      <td>...</td>\n",
       "      <td>...</td>\n",
       "      <td>...</td>\n",
       "      <td>...</td>\n",
       "      <td>...</td>\n",
       "      <td>...</td>\n",
       "      <td>...</td>\n",
       "      <td>...</td>\n",
       "      <td>...</td>\n",
       "      <td>...</td>\n",
       "      <td>...</td>\n",
       "      <td>...</td>\n",
       "      <td>...</td>\n",
       "      <td>...</td>\n",
       "      <td>...</td>\n",
       "      <td>...</td>\n",
       "      <td>...</td>\n",
       "    </tr>\n",
       "    <tr>\n",
       "      <th>76252</th>\n",
       "      <td>9175.0</td>\n",
       "      <td>15.59</td>\n",
       "      <td>23000.0</td>\n",
       "      <td>0</td>\n",
       "      <td>0</td>\n",
       "      <td>10.043293</td>\n",
       "      <td>0</td>\n",
       "      <td>0</td>\n",
       "      <td>1</td>\n",
       "      <td>0</td>\n",
       "      <td>...</td>\n",
       "      <td>0</td>\n",
       "      <td>0</td>\n",
       "      <td>0</td>\n",
       "      <td>0</td>\n",
       "      <td>0</td>\n",
       "      <td>1</td>\n",
       "      <td>0</td>\n",
       "      <td>0</td>\n",
       "      <td>0</td>\n",
       "      <td>0</td>\n",
       "    </tr>\n",
       "    <tr>\n",
       "      <th>76253</th>\n",
       "      <td>6400.0</td>\n",
       "      <td>12.12</td>\n",
       "      <td>85000.0</td>\n",
       "      <td>0</td>\n",
       "      <td>0</td>\n",
       "      <td>11.350418</td>\n",
       "      <td>0</td>\n",
       "      <td>0</td>\n",
       "      <td>1</td>\n",
       "      <td>0</td>\n",
       "      <td>...</td>\n",
       "      <td>0</td>\n",
       "      <td>0</td>\n",
       "      <td>0</td>\n",
       "      <td>0</td>\n",
       "      <td>0</td>\n",
       "      <td>0</td>\n",
       "      <td>0</td>\n",
       "      <td>0</td>\n",
       "      <td>0</td>\n",
       "      <td>1</td>\n",
       "    </tr>\n",
       "    <tr>\n",
       "      <th>76254</th>\n",
       "      <td>25000.0</td>\n",
       "      <td>13.11</td>\n",
       "      <td>65000.0</td>\n",
       "      <td>1</td>\n",
       "      <td>0</td>\n",
       "      <td>11.082158</td>\n",
       "      <td>0</td>\n",
       "      <td>0</td>\n",
       "      <td>1</td>\n",
       "      <td>0</td>\n",
       "      <td>...</td>\n",
       "      <td>0</td>\n",
       "      <td>0</td>\n",
       "      <td>0</td>\n",
       "      <td>1</td>\n",
       "      <td>0</td>\n",
       "      <td>1</td>\n",
       "      <td>0</td>\n",
       "      <td>0</td>\n",
       "      <td>0</td>\n",
       "      <td>0</td>\n",
       "    </tr>\n",
       "    <tr>\n",
       "      <th>76255</th>\n",
       "      <td>5375.0</td>\n",
       "      <td>17.77</td>\n",
       "      <td>20000.0</td>\n",
       "      <td>0</td>\n",
       "      <td>0</td>\n",
       "      <td>9.903538</td>\n",
       "      <td>0</td>\n",
       "      <td>0</td>\n",
       "      <td>1</td>\n",
       "      <td>0</td>\n",
       "      <td>...</td>\n",
       "      <td>0</td>\n",
       "      <td>0</td>\n",
       "      <td>0</td>\n",
       "      <td>0</td>\n",
       "      <td>0</td>\n",
       "      <td>1</td>\n",
       "      <td>0</td>\n",
       "      <td>0</td>\n",
       "      <td>0</td>\n",
       "      <td>0</td>\n",
       "    </tr>\n",
       "    <tr>\n",
       "      <th>76256</th>\n",
       "      <td>5000.0</td>\n",
       "      <td>12.12</td>\n",
       "      <td>100377.0</td>\n",
       "      <td>0</td>\n",
       "      <td>0</td>\n",
       "      <td>11.516698</td>\n",
       "      <td>0</td>\n",
       "      <td>0</td>\n",
       "      <td>1</td>\n",
       "      <td>0</td>\n",
       "      <td>...</td>\n",
       "      <td>0</td>\n",
       "      <td>0</td>\n",
       "      <td>0</td>\n",
       "      <td>0</td>\n",
       "      <td>1</td>\n",
       "      <td>0</td>\n",
       "      <td>0</td>\n",
       "      <td>0</td>\n",
       "      <td>0</td>\n",
       "      <td>1</td>\n",
       "    </tr>\n",
       "  </tbody>\n",
       "</table>\n",
       "<p>76257 rows × 32 columns</p>\n",
       "</div>"
      ],
      "text/plain": [
       "       loan_amnt  int_rate  annual_inc  term  target  annual_inc_log  \\\n",
       "0         9525.0      6.62     60000.0     0       0       11.002117   \n",
       "1        17325.0     11.14     54000.0     0       1       10.896758   \n",
       "2         7000.0      8.49    118000.0     0       0       11.678448   \n",
       "3        10000.0     16.24    150000.0     1       0       11.918397   \n",
       "4         9600.0     12.12    120000.0     0       0       11.695255   \n",
       "...          ...       ...         ...   ...     ...             ...   \n",
       "76252     9175.0     15.59     23000.0     0       0       10.043293   \n",
       "76253     6400.0     12.12     85000.0     0       0       11.350418   \n",
       "76254    25000.0     13.11     65000.0     1       0       11.082158   \n",
       "76255     5375.0     17.77     20000.0     0       0        9.903538   \n",
       "76256     5000.0     12.12    100377.0     0       0       11.516698   \n",
       "\n",
       "       loan_status_Charged Off  loan_status_Default  loan_status_Fully Paid  \\\n",
       "0                            0                    0                       1   \n",
       "1                            1                    0                       0   \n",
       "2                            0                    0                       1   \n",
       "3                            0                    0                       1   \n",
       "4                            0                    0                       1   \n",
       "...                        ...                  ...                     ...   \n",
       "76252                        0                    0                       1   \n",
       "76253                        0                    0                       1   \n",
       "76254                        0                    0                       1   \n",
       "76255                        0                    0                       1   \n",
       "76256                        0                    0                       1   \n",
       "\n",
       "       grade_A  ...  emp_length_6 years  emp_length_7 years  \\\n",
       "0            1  ...                   0                   0   \n",
       "1            0  ...                   0                   0   \n",
       "2            1  ...                   0                   0   \n",
       "3            0  ...                   0                   0   \n",
       "4            0  ...                   0                   0   \n",
       "...        ...  ...                 ...                 ...   \n",
       "76252        0  ...                   0                   0   \n",
       "76253        0  ...                   0                   0   \n",
       "76254        0  ...                   0                   0   \n",
       "76255        0  ...                   0                   0   \n",
       "76256        0  ...                   0                   0   \n",
       "\n",
       "       emp_length_8 years  emp_length_9 years  emp_length_< 1 year  \\\n",
       "0                       0                   0                    0   \n",
       "1                       0                   0                    0   \n",
       "2                       0                   0                    0   \n",
       "3                       0                   0                    0   \n",
       "4                       1                   0                    0   \n",
       "...                   ...                 ...                  ...   \n",
       "76252                   0                   0                    0   \n",
       "76253                   0                   0                    0   \n",
       "76254                   0                   1                    0   \n",
       "76255                   0                   0                    0   \n",
       "76256                   0                   0                    1   \n",
       "\n",
       "       home_ownership_MORTGAGE  home_ownership_NONE  home_ownership_OTHER  \\\n",
       "0                            0                    0                     0   \n",
       "1                            1                    0                     0   \n",
       "2                            0                    0                     0   \n",
       "3                            1                    0                     0   \n",
       "4                            0                    0                     0   \n",
       "...                        ...                  ...                   ...   \n",
       "76252                        1                    0                     0   \n",
       "76253                        0                    0                     0   \n",
       "76254                        1                    0                     0   \n",
       "76255                        1                    0                     0   \n",
       "76256                        0                    0                     0   \n",
       "\n",
       "       home_ownership_OWN  home_ownership_RENT  \n",
       "0                       0                    1  \n",
       "1                       0                    0  \n",
       "2                       0                    1  \n",
       "3                       0                    0  \n",
       "4                       0                    1  \n",
       "...                   ...                  ...  \n",
       "76252                   0                    0  \n",
       "76253                   0                    1  \n",
       "76254                   0                    0  \n",
       "76255                   0                    0  \n",
       "76256                   0                    1  \n",
       "\n",
       "[76257 rows x 32 columns]"
      ]
     },
     "execution_count": 28,
     "metadata": {},
     "output_type": "execute_result"
    }
   ],
   "source": [
    "test"
   ]
  },
  {
   "cell_type": "markdown",
   "metadata": {},
   "source": [
    "Hot-encoding đã sinh ra các feature mới với giá trị 0 và 1 đại diện cho các giá trị trong **grade** và **home_ownership**.\n",
    "Tuy nhiên, nếu trong tập test và tập train không đồng nhấ t về các giá trị, thì số cột mới sinh ra sẽ khác nhau ở hai tập dữ liệu. Ta sẽ kiểm tra điều này"
   ]
  },
  {
   "cell_type": "code",
   "execution_count": 29,
   "metadata": {},
   "outputs": [
    {
     "name": "stdout",
     "output_type": "stream",
     "text": [
      "Training Features shape:  (177933, 33)\n",
      "Testing Features shape:  (76257, 32)\n"
     ]
    }
   ],
   "source": [
    "print('Training Features shape: ', train.shape)\n",
    "print('Testing Features shape: ', test.shape)"
   ]
  },
  {
   "cell_type": "markdown",
   "metadata": {},
   "source": [
    "Tập train hiện có 33 cột, trong khi đó tập test chỉ có 32. Vì vậy, cần có một vước đồng bộ tập features giữa hai tập dữ liệu bằng cách loại bỏ đi những feature có trong train mà không có trong test."
   ]
  },
  {
   "cell_type": "code",
   "execution_count": 30,
   "metadata": {},
   "outputs": [
    {
     "name": "stdout",
     "output_type": "stream",
     "text": [
      "Training Features shape:  (177933, 32)\n",
      "Testing Features shape:  (76257, 32)\n"
     ]
    }
   ],
   "source": [
    "# Align the training and testing data, keep only columns present in both dataframes\n",
    "train, test = train.align(test, join = 'inner', axis = 1)\n",
    "\n",
    "print('Training Features shape: ', train.shape)\n",
    "print('Testing Features shape: ', test.shape)"
   ]
  },
  {
   "cell_type": "markdown",
   "metadata": {},
   "source": [
    "## Feature Engineering"
   ]
  },
  {
   "cell_type": "markdown",
   "metadata": {},
   "source": [
    "Ta sẽ thử tạo ra các feature mới từ những domain feature có sẵn.\n",
    "-    **loan_income_percentage**: tỉ lệ giữa khoản nợ và thu nhập hàng năm của người vay\n",
    "-    **annual_interest**: lãi suất hàng năm\n",
    "-    **ann_int_income_percentage**: tỉ lệ giữa lãi và thu nhập hàng năm của người vay\n",
    "    "
   ]
  },
  {
   "cell_type": "code",
   "execution_count": 56,
   "metadata": {},
   "outputs": [],
   "source": [
    "# copy train and test data\n",
    "train_domain = train.copy()\n",
    "test_domain = test.copy()\n",
    "\n",
    "# generate new features for train data\n",
    "train_domain['loan_income_percentage'] = train_domain['loan_amnt'] / train_domain['annual_inc']\n",
    "train_domain['annual_interest'] = train_domain['int_rate'] * train_domain[\"loan_amnt\"]\n",
    "train_domain['ann_int_income_percentage'] = train_domain['annual_interest'] / train_domain['annual_inc']"
   ]
  },
  {
   "cell_type": "code",
   "execution_count": 57,
   "metadata": {},
   "outputs": [],
   "source": [
    "# generate new features for test data\n",
    "test_domain['loan_income_percentage'] = test_domain['loan_amnt'] / test_domain['annual_inc']\n",
    "test_domain['annual_interest'] = test_domain['int_rate'] * test_domain[\"loan_amnt\"]\n",
    "test_domain['ann_int_income_percentage'] = test_domain['annual_interest'] / test_domain['annual_inc']"
   ]
  },
  {
   "cell_type": "markdown",
   "metadata": {},
   "source": [
    "# Modeling"
   ]
  },
  {
   "cell_type": "markdown",
   "metadata": {},
   "source": [
    "Sau khi đã hoàn thành encoding các feature, đồng bộ giữa hai tập dữ liệu train và test, ta sẽ áp dụng machine learning model vào các tập dữ liệu.\n",
    "Ở đây, LinearRegression là thuật toán được chọn."
   ]
  },
  {
   "cell_type": "code",
   "execution_count": 31,
   "metadata": {
    "scrolled": true
   },
   "outputs": [],
   "source": [
    "# prepare data for model\n",
    "Y_train = train.target\n",
    "X_train = train.drop(columns=['target'])\n",
    "Y_test = test.target\n",
    "X_test = test.drop(columns=['target'])"
   ]
  },
  {
   "cell_type": "code",
   "execution_count": 32,
   "metadata": {},
   "outputs": [
    {
     "name": "stderr",
     "output_type": "stream",
     "text": [
      "/home/ta/anaconda3/envs/dyno/lib/python3.7/site-packages/sklearn/model_selection/_split.py:18: DeprecationWarning: Using or importing the ABCs from 'collections' instead of from 'collections.abc' is deprecated since Python 3.3,and in 3.9 it will stop working\n",
      "  from collections import Iterable\n",
      "/home/ta/anaconda3/envs/dyno/lib/python3.7/site-packages/sklearn/model_selection/_search.py:16: DeprecationWarning: Using or importing the ABCs from 'collections' instead of from 'collections.abc' is deprecated since Python 3.3,and in 3.9 it will stop working\n",
      "  from collections import Mapping, namedtuple, defaultdict, Sequence\n"
     ]
    }
   ],
   "source": [
    "from sklearn.linear_model import LogisticRegression\n",
    "# Make the model\n",
    "clf = LogisticRegression()\n",
    "# train on training set\n",
    "clf.fit(X_train, Y_train)\n",
    "# make prediction\n",
    "Y_score = clf.predict_proba(X_test)[:,1]"
   ]
  },
  {
   "cell_type": "code",
   "execution_count": 52,
   "metadata": {},
   "outputs": [
    {
     "data": {
      "text/plain": [
       "array([0.18762961, 0.26035378, 0.08421534, ..., 0.2631632 , 0.26302615,\n",
       "       0.09744434])"
      ]
     },
     "execution_count": 52,
     "metadata": {},
     "output_type": "execute_result"
    }
   ],
   "source": [
    "Y_score"
   ]
  },
  {
   "cell_type": "markdown",
   "metadata": {},
   "source": [
    "Ta sẽ đánh giá hiệu suất của model bằng hệ số Gini, được tính theo công thức:\n",
    "    Gini = 2 * AUC - 1\n",
    "với AUC (Area Under the Curve) có thể  tính qua sklearn metrics."
   ]
  },
  {
   "cell_type": "code",
   "execution_count": 34,
   "metadata": {},
   "outputs": [
    {
     "data": {
      "text/plain": [
       "0.34562235045170975"
      ]
     },
     "execution_count": 34,
     "metadata": {},
     "output_type": "execute_result"
    }
   ],
   "source": [
    "from sklearn import metrics\n",
    "# compute the roc_auc\n",
    "roc  = metrics.roc_auc_score(Y_test, Y_score)\n",
    "# compute gini\n",
    "gini = 2 * roc -1\n",
    "gini"
   ]
  },
  {
   "cell_type": "markdown",
   "metadata": {},
   "source": [
    "## Model Tuning"
   ]
  },
  {
   "cell_type": "markdown",
   "metadata": {},
   "source": [
    "#### Update model\n",
    "Ta thử cải thiện hiệu suất bằng cách sử dụng model Random Forest với số cây bằng 100."
   ]
  },
  {
   "cell_type": "code",
   "execution_count": 35,
   "metadata": {},
   "outputs": [
    {
     "name": "stderr",
     "output_type": "stream",
     "text": [
      "/home/ta/anaconda3/envs/dyno/lib/python3.7/site-packages/sklearn/ensemble/weight_boosting.py:29: DeprecationWarning: numpy.core.umath_tests is an internal NumPy module and should not be imported. It will be removed in a future NumPy release.\n",
      "  from numpy.core.umath_tests import inner1d\n"
     ]
    }
   ],
   "source": [
    "from sklearn.ensemble import RandomForestClassifier\n",
    "\n",
    "# create the random forest classifier\n",
    "random_forest = RandomForestClassifier(n_estimators = 100, random_state = 50, verbose = 1, n_jobs = -1)"
   ]
  },
  {
   "cell_type": "code",
   "execution_count": 38,
   "metadata": {},
   "outputs": [
    {
     "name": "stderr",
     "output_type": "stream",
     "text": [
      "[Parallel(n_jobs=-1)]: Done  42 tasks      | elapsed:    1.5s\n",
      "[Parallel(n_jobs=-1)]: Done 100 out of 100 | elapsed:    3.6s finished\n",
      "[Parallel(n_jobs=4)]: Done  42 tasks      | elapsed:    0.2s\n",
      "[Parallel(n_jobs=4)]: Done 100 out of 100 | elapsed:    0.3s finished\n"
     ]
    }
   ],
   "source": [
    "random_forest.fit(X_train, Y_train)\n",
    "\n",
    "# # Extract feature importances\n",
    "# feature_importance_values = random_forest.feature_importances_\n",
    "# feature_importances = pd.DataFrame({'feature': features, 'importance': feature_importance_values})\n",
    "\n",
    "# Make predictions on the test data\n",
    "predictions = random_forest.predict_proba(X_test)[:,1]\n",
    "\n",
    "#gini score for random forest\n",
    "# gini_rf = metrics.roc_auc_score(Y_test, predictions)"
   ]
  },
  {
   "cell_type": "code",
   "execution_count": 53,
   "metadata": {},
   "outputs": [],
   "source": [
    "roc_rf = metrics.roc_auc_score(Y_test, predictions)"
   ]
  },
  {
   "cell_type": "code",
   "execution_count": 54,
   "metadata": {},
   "outputs": [
    {
     "data": {
      "text/plain": [
       "1.0"
      ]
     },
     "execution_count": 54,
     "metadata": {},
     "output_type": "execute_result"
    }
   ],
   "source": [
    "gini_rf = 2 * roc_rf - 1"
   ]
  },
  {
   "cell_type": "markdown",
   "metadata": {},
   "source": [
    "#### Sử dụng engineered features"
   ]
  },
  {
   "cell_type": "code",
   "execution_count": 58,
   "metadata": {},
   "outputs": [
    {
     "data": {
      "text/plain": [
       "LogisticRegression(C=1.0, class_weight=None, dual=False, fit_intercept=True,\n",
       "          intercept_scaling=1, max_iter=100, multi_class='ovr', n_jobs=1,\n",
       "          penalty='l2', random_state=None, solver='liblinear', tol=0.0001,\n",
       "          verbose=0, warm_start=False)"
      ]
     },
     "execution_count": 58,
     "metadata": {},
     "output_type": "execute_result"
    }
   ],
   "source": [
    "X_train_domain = train_domain.drop(columns='target')\n",
    "X_test_domain = test_domain.drop(columns='target')\n",
    "\n",
    "#create clf using domain_feature\n",
    "clf_domain = LogisticRegression()\n",
    "clf_domain.fit(X_train_domain, Y_train)\n"
   ]
  },
  {
   "cell_type": "code",
   "execution_count": 61,
   "metadata": {},
   "outputs": [],
   "source": [
    "#make prediction\n",
    "Y_score_domain = clf_domain.predict_proba(X_test_domain)[:,1]"
   ]
  },
  {
   "cell_type": "code",
   "execution_count": 62,
   "metadata": {},
   "outputs": [
    {
     "data": {
      "text/plain": [
       "0.3197261696701936"
      ]
     },
     "execution_count": 62,
     "metadata": {},
     "output_type": "execute_result"
    }
   ],
   "source": [
    "#compute the roc_auc\n",
    "roc_domain = metrics.roc_auc_score(Y_test, Y_score_domain)\n",
    "gini = 2 * roc_domain -1\n",
    "gini"
   ]
  },
  {
   "cell_type": "code",
   "execution_count": null,
   "metadata": {},
   "outputs": [],
   "source": []
  }
 ],
 "metadata": {
  "kernelspec": {
   "display_name": "Python 3",
   "language": "python",
   "name": "python3"
  },
  "language_info": {
   "codemirror_mode": {
    "name": "ipython",
    "version": 3
   },
   "file_extension": ".py",
   "mimetype": "text/x-python",
   "name": "python",
   "nbconvert_exporter": "python",
   "pygments_lexer": "ipython3",
   "version": "3.7.6"
  }
 },
 "nbformat": 4,
 "nbformat_minor": 4
}
