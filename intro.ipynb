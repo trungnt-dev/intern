{
 "cells": [
  {
   "cell_type": "markdown",
   "metadata": {},
   "source": [
    "## Introduction\n",
    "\n",
    "Credit scoring dùng để  tham khảo cho việc xét duyệt trước khi cho vay. Nhiệm vụ đặt ra xây dựng thuật toán ML phân loại hai nhóm khách hàng này."
   ]
  },
  {
   "cell_type": "markdown",
   "metadata": {},
   "source": [
    "## Description data\n",
    "\n",
    "- loan_status: Trạng thái khoản vay (Bad nếu *Charged Off* hoặc *Default*,  Good nếu *Fully Paid*)  \n",
    "- loan_amnt:   Tổng số tiền của khoản vay  \n",
    "- int_rate: Lãi suất khoản vay  \n",
    "- grade: Hạng công việc  \n",
    "- emp_length: Thời gian làm việc  \n",
    "- home_ownership: Loại hình sở hữu nhà  \n",
    "- annual_inc: Tổng thu nhập hằng năm  \n",
    "- term: Kì hạn vay"
   ]
  },
  {
   "cell_type": "code",
   "execution_count": 1,
   "metadata": {},
   "outputs": [],
   "source": [
    "import pandas as pd\n",
    "import numpy as np\n",
    "import matplotlib.pyplot as plt\n",
    "import matplotlib\n",
    "import seaborn as sns"
   ]
  },
  {
   "cell_type": "code",
   "execution_count": 2,
   "metadata": {},
   "outputs": [],
   "source": [
    "train_df = pd.read_csv('train.csv')\n",
    "test_df = pd.read_csv('test.csv')"
   ]
  },
  {
   "cell_type": "code",
   "execution_count": 3,
   "metadata": {
    "scrolled": true
   },
   "outputs": [
    {
     "data": {
      "text/html": [
       "<div>\n",
       "<style scoped>\n",
       "    .dataframe tbody tr th:only-of-type {\n",
       "        vertical-align: middle;\n",
       "    }\n",
       "\n",
       "    .dataframe tbody tr th {\n",
       "        vertical-align: top;\n",
       "    }\n",
       "\n",
       "    .dataframe thead th {\n",
       "        text-align: right;\n",
       "    }\n",
       "</style>\n",
       "<table border=\"1\" class=\"dataframe\">\n",
       "  <thead>\n",
       "    <tr style=\"text-align: right;\">\n",
       "      <th></th>\n",
       "      <th>loan_status</th>\n",
       "      <th>loan_amnt</th>\n",
       "      <th>int_rate</th>\n",
       "      <th>grade</th>\n",
       "      <th>emp_length</th>\n",
       "      <th>home_ownership</th>\n",
       "      <th>annual_inc</th>\n",
       "      <th>term</th>\n",
       "    </tr>\n",
       "  </thead>\n",
       "  <tbody>\n",
       "    <tr>\n",
       "      <th>0</th>\n",
       "      <td>Fully Paid</td>\n",
       "      <td>6000.0</td>\n",
       "      <td>9.76</td>\n",
       "      <td>B</td>\n",
       "      <td>4 years</td>\n",
       "      <td>RENT</td>\n",
       "      <td>33000.0</td>\n",
       "      <td>36 months</td>\n",
       "    </tr>\n",
       "    <tr>\n",
       "      <th>1</th>\n",
       "      <td>Fully Paid</td>\n",
       "      <td>19700.0</td>\n",
       "      <td>6.62</td>\n",
       "      <td>A</td>\n",
       "      <td>5 years</td>\n",
       "      <td>RENT</td>\n",
       "      <td>45000.0</td>\n",
       "      <td>36 months</td>\n",
       "    </tr>\n",
       "    <tr>\n",
       "      <th>2</th>\n",
       "      <td>Fully Paid</td>\n",
       "      <td>14000.0</td>\n",
       "      <td>6.03</td>\n",
       "      <td>A</td>\n",
       "      <td>&lt; 1 year</td>\n",
       "      <td>MORTGAGE</td>\n",
       "      <td>75000.0</td>\n",
       "      <td>36 months</td>\n",
       "    </tr>\n",
       "    <tr>\n",
       "      <th>3</th>\n",
       "      <td>Fully Paid</td>\n",
       "      <td>21000.0</td>\n",
       "      <td>13.11</td>\n",
       "      <td>B</td>\n",
       "      <td>2 years</td>\n",
       "      <td>RENT</td>\n",
       "      <td>51000.0</td>\n",
       "      <td>36 months</td>\n",
       "    </tr>\n",
       "    <tr>\n",
       "      <th>4</th>\n",
       "      <td>Charged Off</td>\n",
       "      <td>4500.0</td>\n",
       "      <td>16.29</td>\n",
       "      <td>D</td>\n",
       "      <td>2 years</td>\n",
       "      <td>MORTGAGE</td>\n",
       "      <td>96000.0</td>\n",
       "      <td>36 months</td>\n",
       "    </tr>\n",
       "  </tbody>\n",
       "</table>\n",
       "</div>"
      ],
      "text/plain": [
       "   loan_status  loan_amnt  int_rate grade emp_length home_ownership  \\\n",
       "0   Fully Paid     6000.0      9.76     B    4 years           RENT   \n",
       "1   Fully Paid    19700.0      6.62     A    5 years           RENT   \n",
       "2   Fully Paid    14000.0      6.03     A   < 1 year       MORTGAGE   \n",
       "3   Fully Paid    21000.0     13.11     B    2 years           RENT   \n",
       "4  Charged Off     4500.0     16.29     D    2 years       MORTGAGE   \n",
       "\n",
       "   annual_inc        term  \n",
       "0     33000.0   36 months  \n",
       "1     45000.0   36 months  \n",
       "2     75000.0   36 months  \n",
       "3     51000.0   36 months  \n",
       "4     96000.0   36 months  "
      ]
     },
     "metadata": {},
     "output_type": "display_data"
    }
   ],
   "source": [
    "display(train_df.head())"
   ]
  },
  {
   "cell_type": "code",
   "execution_count": 4,
   "metadata": {},
   "outputs": [
    {
     "data": {
      "text/html": [
       "<div>\n",
       "<style scoped>\n",
       "    .dataframe tbody tr th:only-of-type {\n",
       "        vertical-align: middle;\n",
       "    }\n",
       "\n",
       "    .dataframe tbody tr th {\n",
       "        vertical-align: top;\n",
       "    }\n",
       "\n",
       "    .dataframe thead th {\n",
       "        text-align: right;\n",
       "    }\n",
       "</style>\n",
       "<table border=\"1\" class=\"dataframe\">\n",
       "  <thead>\n",
       "    <tr style=\"text-align: right;\">\n",
       "      <th></th>\n",
       "      <th>loan_status</th>\n",
       "      <th>loan_amnt</th>\n",
       "      <th>int_rate</th>\n",
       "      <th>grade</th>\n",
       "      <th>emp_length</th>\n",
       "      <th>home_ownership</th>\n",
       "      <th>annual_inc</th>\n",
       "      <th>term</th>\n",
       "    </tr>\n",
       "  </thead>\n",
       "  <tbody>\n",
       "    <tr>\n",
       "      <th>0</th>\n",
       "      <td>Fully Paid</td>\n",
       "      <td>9525.0</td>\n",
       "      <td>6.62</td>\n",
       "      <td>A</td>\n",
       "      <td>2 years</td>\n",
       "      <td>RENT</td>\n",
       "      <td>60000.0</td>\n",
       "      <td>36 months</td>\n",
       "    </tr>\n",
       "    <tr>\n",
       "      <th>1</th>\n",
       "      <td>Charged Off</td>\n",
       "      <td>17325.0</td>\n",
       "      <td>11.14</td>\n",
       "      <td>B</td>\n",
       "      <td>1 year</td>\n",
       "      <td>MORTGAGE</td>\n",
       "      <td>54000.0</td>\n",
       "      <td>36 months</td>\n",
       "    </tr>\n",
       "    <tr>\n",
       "      <th>2</th>\n",
       "      <td>Fully Paid</td>\n",
       "      <td>7000.0</td>\n",
       "      <td>8.49</td>\n",
       "      <td>A</td>\n",
       "      <td>5 years</td>\n",
       "      <td>RENT</td>\n",
       "      <td>118000.0</td>\n",
       "      <td>36 months</td>\n",
       "    </tr>\n",
       "    <tr>\n",
       "      <th>3</th>\n",
       "      <td>Fully Paid</td>\n",
       "      <td>10000.0</td>\n",
       "      <td>16.24</td>\n",
       "      <td>C</td>\n",
       "      <td>10+ years</td>\n",
       "      <td>MORTGAGE</td>\n",
       "      <td>150000.0</td>\n",
       "      <td>60 months</td>\n",
       "    </tr>\n",
       "    <tr>\n",
       "      <th>4</th>\n",
       "      <td>Fully Paid</td>\n",
       "      <td>9600.0</td>\n",
       "      <td>12.12</td>\n",
       "      <td>B</td>\n",
       "      <td>8 years</td>\n",
       "      <td>RENT</td>\n",
       "      <td>120000.0</td>\n",
       "      <td>36 months</td>\n",
       "    </tr>\n",
       "  </tbody>\n",
       "</table>\n",
       "</div>"
      ],
      "text/plain": [
       "   loan_status  loan_amnt  int_rate grade emp_length home_ownership  \\\n",
       "0   Fully Paid     9525.0      6.62     A    2 years           RENT   \n",
       "1  Charged Off    17325.0     11.14     B     1 year       MORTGAGE   \n",
       "2   Fully Paid     7000.0      8.49     A    5 years           RENT   \n",
       "3   Fully Paid    10000.0     16.24     C  10+ years       MORTGAGE   \n",
       "4   Fully Paid     9600.0     12.12     B    8 years           RENT   \n",
       "\n",
       "   annual_inc        term  \n",
       "0     60000.0   36 months  \n",
       "1     54000.0   36 months  \n",
       "2    118000.0   36 months  \n",
       "3    150000.0   60 months  \n",
       "4    120000.0   36 months  "
      ]
     },
     "metadata": {},
     "output_type": "display_data"
    }
   ],
   "source": [
    "display(test_df.head())"
   ]
  },
  {
   "cell_type": "markdown",
   "metadata": {},
   "source": [
    "## Evaluation\n",
    "\n",
    "Đánh giá hiệu suất model dựa trên hệ số [Gini](https://en.wikipedia.org/wiki/Gini_coefficient)"
   ]
  },
  {
   "cell_type": "markdown",
   "metadata": {},
   "source": [
    "# Phân tích đánh giá dữ liệu"
   ]
  },
  {
   "cell_type": "code",
   "execution_count": 5,
   "metadata": {},
   "outputs": [
    {
     "name": "stdout",
     "output_type": "stream",
     "text": [
      "Training data shape:  (177933, 8)\n",
      "Testing data shape:  (76257, 8)\n"
     ]
    }
   ],
   "source": [
    "print('Training data shape: ', train_df.shape)\n",
    "print('Testing data shape: ', test_df.shape)"
   ]
  },
  {
   "cell_type": "markdown",
   "metadata": {},
   "source": [
    "Tập dữ liệu huấn luyện có 177933 hàng tương ứng là số  khoản vay và 8 cột thuộc tính, bao gồm **loan_status** là kết quả cần dự đoán. Tập test có 76257 bản ghi với các thuộc tính tương tự."
   ]
  },
  {
   "cell_type": "markdown",
   "metadata": {},
   "source": [
    "Tiến hành kiể m tra tương quan phân phối kết quả (nhãn **loan_status**) ở 2 tập dữ liệu."
   ]
  },
  {
   "cell_type": "code",
   "execution_count": 6,
   "metadata": {},
   "outputs": [
    {
     "data": {
      "text/plain": [
       "Fully Paid     0.817347\n",
       "Charged Off    0.177887\n",
       "Default        0.004766\n",
       "Name: loan_status, dtype: float64"
      ]
     },
     "execution_count": 6,
     "metadata": {},
     "output_type": "execute_result"
    }
   ],
   "source": [
    "train_df.loan_status.value_counts() / len(train_df)"
   ]
  },
  {
   "cell_type": "code",
   "execution_count": 7,
   "metadata": {},
   "outputs": [
    {
     "data": {
      "text/plain": [
       "Fully Paid     0.816843\n",
       "Charged Off    0.178292\n",
       "Default        0.004865\n",
       "Name: loan_status, dtype: float64"
      ]
     },
     "execution_count": 7,
     "metadata": {},
     "output_type": "execute_result"
    }
   ],
   "source": [
    "test_df.loan_status.value_counts() / len(test_df)"
   ]
  },
  {
   "cell_type": "markdown",
   "metadata": {},
   "source": [
    "Có thể nhận thấy kết quả ở hai tập là tương đương với nhau. Trong đó, tỉ lệ khách hàng tốt đều chiếm khoảng 81,7%, vượt trội so với tỉ lệ khách hàng xấu.\n",
    "Ta sẽ tạo thêm một feature **target** với giá trị 0 đại diện cho giá trị **Fully Paid** và 1 tương ứng với **Default* hoặc **Charged Off**"
   ]
  },
  {
   "cell_type": "code",
   "execution_count": 8,
   "metadata": {},
   "outputs": [],
   "source": [
    "train = train_df.copy()\n",
    "test = test_df.copy()\n",
    "\n",
    "train['target'] = np.where(train.loan_status == 'Fully Paid', 0, 1)\n",
    "test['target'] = np.where(test.loan_status == 'Fully Paid', 0, 1)\n",
    "\n",
    "train.drop(columns='loan_status', inplace=True)\n",
    "test.drop(columns='loan_status', inplace=True)"
   ]
  },
  {
   "cell_type": "code",
   "execution_count": 9,
   "metadata": {},
   "outputs": [
    {
     "data": {
      "text/html": [
       "<div>\n",
       "<style scoped>\n",
       "    .dataframe tbody tr th:only-of-type {\n",
       "        vertical-align: middle;\n",
       "    }\n",
       "\n",
       "    .dataframe tbody tr th {\n",
       "        vertical-align: top;\n",
       "    }\n",
       "\n",
       "    .dataframe thead th {\n",
       "        text-align: right;\n",
       "    }\n",
       "</style>\n",
       "<table border=\"1\" class=\"dataframe\">\n",
       "  <thead>\n",
       "    <tr style=\"text-align: right;\">\n",
       "      <th></th>\n",
       "      <th>loan_amnt</th>\n",
       "      <th>int_rate</th>\n",
       "      <th>grade</th>\n",
       "      <th>emp_length</th>\n",
       "      <th>home_ownership</th>\n",
       "      <th>annual_inc</th>\n",
       "      <th>term</th>\n",
       "      <th>target</th>\n",
       "    </tr>\n",
       "  </thead>\n",
       "  <tbody>\n",
       "    <tr>\n",
       "      <th>0</th>\n",
       "      <td>6000.0</td>\n",
       "      <td>9.76</td>\n",
       "      <td>B</td>\n",
       "      <td>4 years</td>\n",
       "      <td>RENT</td>\n",
       "      <td>33000.0</td>\n",
       "      <td>36 months</td>\n",
       "      <td>0</td>\n",
       "    </tr>\n",
       "    <tr>\n",
       "      <th>1</th>\n",
       "      <td>19700.0</td>\n",
       "      <td>6.62</td>\n",
       "      <td>A</td>\n",
       "      <td>5 years</td>\n",
       "      <td>RENT</td>\n",
       "      <td>45000.0</td>\n",
       "      <td>36 months</td>\n",
       "      <td>0</td>\n",
       "    </tr>\n",
       "    <tr>\n",
       "      <th>2</th>\n",
       "      <td>14000.0</td>\n",
       "      <td>6.03</td>\n",
       "      <td>A</td>\n",
       "      <td>&lt; 1 year</td>\n",
       "      <td>MORTGAGE</td>\n",
       "      <td>75000.0</td>\n",
       "      <td>36 months</td>\n",
       "      <td>0</td>\n",
       "    </tr>\n",
       "    <tr>\n",
       "      <th>3</th>\n",
       "      <td>21000.0</td>\n",
       "      <td>13.11</td>\n",
       "      <td>B</td>\n",
       "      <td>2 years</td>\n",
       "      <td>RENT</td>\n",
       "      <td>51000.0</td>\n",
       "      <td>36 months</td>\n",
       "      <td>0</td>\n",
       "    </tr>\n",
       "    <tr>\n",
       "      <th>4</th>\n",
       "      <td>4500.0</td>\n",
       "      <td>16.29</td>\n",
       "      <td>D</td>\n",
       "      <td>2 years</td>\n",
       "      <td>MORTGAGE</td>\n",
       "      <td>96000.0</td>\n",
       "      <td>36 months</td>\n",
       "      <td>1</td>\n",
       "    </tr>\n",
       "  </tbody>\n",
       "</table>\n",
       "</div>"
      ],
      "text/plain": [
       "   loan_amnt  int_rate grade emp_length home_ownership  annual_inc  \\\n",
       "0     6000.0      9.76     B    4 years           RENT     33000.0   \n",
       "1    19700.0      6.62     A    5 years           RENT     45000.0   \n",
       "2    14000.0      6.03     A   < 1 year       MORTGAGE     75000.0   \n",
       "3    21000.0     13.11     B    2 years           RENT     51000.0   \n",
       "4     4500.0     16.29     D    2 years       MORTGAGE     96000.0   \n",
       "\n",
       "         term  target  \n",
       "0   36 months       0  \n",
       "1   36 months       0  \n",
       "2   36 months       0  \n",
       "3   36 months       0  \n",
       "4   36 months       1  "
      ]
     },
     "execution_count": 9,
     "metadata": {},
     "output_type": "execute_result"
    }
   ],
   "source": [
    "train.head()"
   ]
  },
  {
   "cell_type": "markdown",
   "metadata": {},
   "source": [
    "### Kiểm tra Missing values"
   ]
  },
  {
   "cell_type": "code",
   "execution_count": 10,
   "metadata": {},
   "outputs": [
    {
     "data": {
      "text/plain": [
       "loan_amnt            0\n",
       "int_rate             0\n",
       "grade                0\n",
       "emp_length        7013\n",
       "home_ownership       0\n",
       "annual_inc           0\n",
       "term                 0\n",
       "target               0\n",
       "dtype: int64"
      ]
     },
     "execution_count": 10,
     "metadata": {},
     "output_type": "execute_result"
    }
   ],
   "source": [
    "train.isnull().sum()"
   ]
  },
  {
   "cell_type": "markdown",
   "metadata": {},
   "source": [
    "Trong các thuộc tính, chỉ có **emp_length** có missing value.\n",
    "Đây là thuộc tính thể hiện thời gian (kinh nghiệm) làm việc của người đi vay.\n",
    "<!-- Ta sẽ thay thế các giá trị null bằng giá trị *Mode*. -->\n",
    "Việc xử  lý mising value sẽ được đề cập ở phần dưới khi xử lý các thuộc tính rời rạc."
   ]
  },
  {
   "cell_type": "markdown",
   "metadata": {},
   "source": [
    "#### Về kiểu dữ liệu của các thuộc tính"
   ]
  },
  {
   "cell_type": "code",
   "execution_count": 11,
   "metadata": {
    "scrolled": true
   },
   "outputs": [
    {
     "data": {
      "text/html": [
       "<div>\n",
       "<style scoped>\n",
       "    .dataframe tbody tr th:only-of-type {\n",
       "        vertical-align: middle;\n",
       "    }\n",
       "\n",
       "    .dataframe tbody tr th {\n",
       "        vertical-align: top;\n",
       "    }\n",
       "\n",
       "    .dataframe thead th {\n",
       "        text-align: right;\n",
       "    }\n",
       "</style>\n",
       "<table border=\"1\" class=\"dataframe\">\n",
       "  <thead>\n",
       "    <tr style=\"text-align: right;\">\n",
       "      <th></th>\n",
       "      <th>loan_amnt</th>\n",
       "      <th>int_rate</th>\n",
       "      <th>annual_inc</th>\n",
       "      <th>target</th>\n",
       "    </tr>\n",
       "  </thead>\n",
       "  <tbody>\n",
       "    <tr>\n",
       "      <th>count</th>\n",
       "      <td>177933.000000</td>\n",
       "      <td>177933.000000</td>\n",
       "      <td>1.779330e+05</td>\n",
       "      <td>177933.000000</td>\n",
       "    </tr>\n",
       "    <tr>\n",
       "      <th>mean</th>\n",
       "      <td>13582.523337</td>\n",
       "      <td>13.788521</td>\n",
       "      <td>7.245937e+04</td>\n",
       "      <td>0.182653</td>\n",
       "    </tr>\n",
       "    <tr>\n",
       "      <th>std</th>\n",
       "      <td>8138.463931</td>\n",
       "      <td>4.403421</td>\n",
       "      <td>5.596903e+04</td>\n",
       "      <td>0.386383</td>\n",
       "    </tr>\n",
       "    <tr>\n",
       "      <th>min</th>\n",
       "      <td>500.000000</td>\n",
       "      <td>5.320000</td>\n",
       "      <td>3.000000e+03</td>\n",
       "      <td>0.000000</td>\n",
       "    </tr>\n",
       "    <tr>\n",
       "      <th>25%</th>\n",
       "      <td>7300.000000</td>\n",
       "      <td>10.740000</td>\n",
       "      <td>4.500000e+04</td>\n",
       "      <td>0.000000</td>\n",
       "    </tr>\n",
       "    <tr>\n",
       "      <th>50%</th>\n",
       "      <td>12000.000000</td>\n",
       "      <td>13.570000</td>\n",
       "      <td>6.200000e+04</td>\n",
       "      <td>0.000000</td>\n",
       "    </tr>\n",
       "    <tr>\n",
       "      <th>75%</th>\n",
       "      <td>18375.000000</td>\n",
       "      <td>16.590000</td>\n",
       "      <td>8.700000e+04</td>\n",
       "      <td>0.000000</td>\n",
       "    </tr>\n",
       "    <tr>\n",
       "      <th>max</th>\n",
       "      <td>35000.000000</td>\n",
       "      <td>28.990000</td>\n",
       "      <td>7.141778e+06</td>\n",
       "      <td>1.000000</td>\n",
       "    </tr>\n",
       "  </tbody>\n",
       "</table>\n",
       "</div>"
      ],
      "text/plain": [
       "           loan_amnt       int_rate    annual_inc         target\n",
       "count  177933.000000  177933.000000  1.779330e+05  177933.000000\n",
       "mean    13582.523337      13.788521  7.245937e+04       0.182653\n",
       "std      8138.463931       4.403421  5.596903e+04       0.386383\n",
       "min       500.000000       5.320000  3.000000e+03       0.000000\n",
       "25%      7300.000000      10.740000  4.500000e+04       0.000000\n",
       "50%     12000.000000      13.570000  6.200000e+04       0.000000\n",
       "75%     18375.000000      16.590000  8.700000e+04       0.000000\n",
       "max     35000.000000      28.990000  7.141778e+06       1.000000"
      ]
     },
     "execution_count": 11,
     "metadata": {},
     "output_type": "execute_result"
    }
   ],
   "source": [
    "train.describe()"
   ]
  },
  {
   "cell_type": "markdown",
   "metadata": {},
   "source": [
    "Ngoài **target**, có ba thuộc tính nhận giá trị liên tục là **loan_amt**, **int_rate** và **annual_inc**. Bốn thuộc tính còn lại nhận giá trị rời rạc.\n",
    "Bây giờ ta sẽ kiể m tra mối liên hệ giữa các thuộc tính đến kết quả khách hàng có khả năng thanh toán khoản vay hay không. Đối với các thuộc tính có giá trị số liên tục, sử dụng phân phối boxplot để biểu diễn."
   ]
  },
  {
   "cell_type": "code",
   "execution_count": 12,
   "metadata": {
    "scrolled": true
   },
   "outputs": [
    {
     "data": {
      "text/plain": [
       "<matplotlib.axes._subplots.AxesSubplot at 0x7f665cbc6450>"
      ]
     },
     "execution_count": 12,
     "metadata": {},
     "output_type": "execute_result"
    },
    {
     "data": {
      "image/png": "[encoded data removed]",
      "text/plain": [
       "<Figure size 432x288 with 1 Axes>"
      ]
     },
     "metadata": {
      "needs_background": "light"
     },
     "output_type": "display_data"
    }
   ],
   "source": [
    "# boxplot for loan amount\n",
    "sns.boxplot(train.target, train.loan_amnt)"
   ]
  },
  {
   "cell_type": "markdown",
   "metadata": {},
   "source": [
    "Qua biểu đồ, có thể thấy, những khoản nợ xấu thường có giá trị lớn hơn nợ tốt. Tuy nhiên sự chênh lệch là không nhiều."
   ]
  },
  {
   "cell_type": "code",
   "execution_count": 13,
   "metadata": {},
   "outputs": [
    {
     "data": {
      "text/plain": [
       "<matplotlib.axes._subplots.AxesSubplot at 0x7f665bf0c850>"
      ]
     },
     "execution_count": 13,
     "metadata": {},
     "output_type": "execute_result"
    },
    {
     "data": {
      "image/png": "[encoded data removed]",
      "text/plain": [
       "<Figure size 432x288 with 1 Axes>"
      ]
     },
     "metadata": {
      "needs_background": "light"
     },
     "output_type": "display_data"
    }
   ],
   "source": [
    "# boxplot for int rate\n",
    "sns.boxplot(train.target, train.int_rate)"
   ]
  },
  {
   "cell_type": "markdown",
   "metadata": {},
   "source": [
    "Ở biểu đồ của lãi suất, đã có sự chênh lệch rõ ràng hơn. Có thể thấy việc vay lãi suất cao sẽ dẫn tới việc trả nợ khó khăn hơn."
   ]
  },
  {
   "cell_type": "code",
   "execution_count": 14,
   "metadata": {},
   "outputs": [
    {
     "data": {
      "text/plain": [
       "<matplotlib.axes._subplots.AxesSubplot at 0x7f665be9e650>"
      ]
     },
     "execution_count": 14,
     "metadata": {},
     "output_type": "execute_result"
    },
    {
     "data": {
      "image/png": "[encoded data removed]",
      "text/plain": [
       "<Figure size 432x288 with 1 Axes>"
      ]
     },
     "metadata": {
      "needs_background": "light"
     },
     "output_type": "display_data"
    }
   ],
   "source": [
    "# boxplot for annual income\n",
    "sns.boxplot(train.target, train.annual_inc)"
   ]
  },
  {
   "cell_type": "markdown",
   "metadata": {},
   "source": [
    "Có thể thấy thu nhập của khách hàng có phân phối không chuẩn, có nhiều ngoại lệ (Outlier) với thu nhập cao hơn hẳn so với phần còn lại. Đây là những  ngoại lệ hợp lý khi đi đi cùng với thu nhập cao này là khả năng có thể trả nợ.\n",
    "Để  khắc phục điều này, áp dụng *Log transform* sẽ giúp mở rộng các giá trị nằm trong phạm vi mật độ thấp và né hoặc giảm các giá trị trong phạm vi mật độ cao."
   ]
  },
  {
   "cell_type": "code",
   "execution_count": 15,
   "metadata": {},
   "outputs": [
    {
     "data": {
      "text/html": [
       "<div>\n",
       "<style scoped>\n",
       "    .dataframe tbody tr th:only-of-type {\n",
       "        vertical-align: middle;\n",
       "    }\n",
       "\n",
       "    .dataframe tbody tr th {\n",
       "        vertical-align: top;\n",
       "    }\n",
       "\n",
       "    .dataframe thead th {\n",
       "        text-align: right;\n",
       "    }\n",
       "</style>\n",
       "<table border=\"1\" class=\"dataframe\">\n",
       "  <thead>\n",
       "    <tr style=\"text-align: right;\">\n",
       "      <th></th>\n",
       "      <th>loan_amnt</th>\n",
       "      <th>int_rate</th>\n",
       "      <th>grade</th>\n",
       "      <th>emp_length</th>\n",
       "      <th>home_ownership</th>\n",
       "      <th>annual_inc</th>\n",
       "      <th>term</th>\n",
       "      <th>target</th>\n",
       "      <th>annual_inc_log</th>\n",
       "    </tr>\n",
       "  </thead>\n",
       "  <tbody>\n",
       "    <tr>\n",
       "      <th>0</th>\n",
       "      <td>6000.0</td>\n",
       "      <td>9.76</td>\n",
       "      <td>B</td>\n",
       "      <td>4 years</td>\n",
       "      <td>RENT</td>\n",
       "      <td>33000.0</td>\n",
       "      <td>36 months</td>\n",
       "      <td>0</td>\n",
       "      <td>10.404293</td>\n",
       "    </tr>\n",
       "    <tr>\n",
       "      <th>1</th>\n",
       "      <td>19700.0</td>\n",
       "      <td>6.62</td>\n",
       "      <td>A</td>\n",
       "      <td>5 years</td>\n",
       "      <td>RENT</td>\n",
       "      <td>45000.0</td>\n",
       "      <td>36 months</td>\n",
       "      <td>0</td>\n",
       "      <td>10.714440</td>\n",
       "    </tr>\n",
       "    <tr>\n",
       "      <th>2</th>\n",
       "      <td>14000.0</td>\n",
       "      <td>6.03</td>\n",
       "      <td>A</td>\n",
       "      <td>&lt; 1 year</td>\n",
       "      <td>MORTGAGE</td>\n",
       "      <td>75000.0</td>\n",
       "      <td>36 months</td>\n",
       "      <td>0</td>\n",
       "      <td>11.225257</td>\n",
       "    </tr>\n",
       "    <tr>\n",
       "      <th>3</th>\n",
       "      <td>21000.0</td>\n",
       "      <td>13.11</td>\n",
       "      <td>B</td>\n",
       "      <td>2 years</td>\n",
       "      <td>RENT</td>\n",
       "      <td>51000.0</td>\n",
       "      <td>36 months</td>\n",
       "      <td>0</td>\n",
       "      <td>10.839601</td>\n",
       "    </tr>\n",
       "    <tr>\n",
       "      <th>4</th>\n",
       "      <td>4500.0</td>\n",
       "      <td>16.29</td>\n",
       "      <td>D</td>\n",
       "      <td>2 years</td>\n",
       "      <td>MORTGAGE</td>\n",
       "      <td>96000.0</td>\n",
       "      <td>36 months</td>\n",
       "      <td>1</td>\n",
       "      <td>11.472114</td>\n",
       "    </tr>\n",
       "  </tbody>\n",
       "</table>\n",
       "</div>"
      ],
      "text/plain": [
       "   loan_amnt  int_rate grade emp_length home_ownership  annual_inc  \\\n",
       "0     6000.0      9.76     B    4 years           RENT     33000.0   \n",
       "1    19700.0      6.62     A    5 years           RENT     45000.0   \n",
       "2    14000.0      6.03     A   < 1 year       MORTGAGE     75000.0   \n",
       "3    21000.0     13.11     B    2 years           RENT     51000.0   \n",
       "4     4500.0     16.29     D    2 years       MORTGAGE     96000.0   \n",
       "\n",
       "         term  target  annual_inc_log  \n",
       "0   36 months       0       10.404293  \n",
       "1   36 months       0       10.714440  \n",
       "2   36 months       0       11.225257  \n",
       "3   36 months       0       10.839601  \n",
       "4   36 months       1       11.472114  "
      ]
     },
     "metadata": {},
     "output_type": "display_data"
    },
    {
     "data": {
      "text/plain": [
       "<matplotlib.axes._subplots.AxesSubplot at 0x7f665be1c890>"
      ]
     },
     "execution_count": 15,
     "metadata": {},
     "output_type": "execute_result"
    },
    {
     "data": {
      "image/png": "[encoded data removed]",
      "text/plain": [
       "<Figure size 432x288 with 1 Axes>"
      ]
     },
     "metadata": {
      "needs_background": "light"
     },
     "output_type": "display_data"
    }
   ],
   "source": [
    "train['annual_inc_log'] = np.log(1 + train.annual_inc) # tạo thêm feature annual_inc_log cho tập train\n",
    "test['annual_inc_log'] = np.log(1 + test.annual_inc) # tạo thêm feature annual_inc_log cho tập train\n",
    "\n",
    "display(train.head())\n",
    "sns.boxplot(train.target, train.annual_inc_log)"
   ]
  },
  {
   "cell_type": "markdown",
   "metadata": {},
   "source": [
    "Biểu đồ cũng cho thấy phần lớn những khách hàng xấu thường có thu nhập thấp hơn (nhưng không đáng kể) so với khách hàng tốt."
   ]
  },
  {
   "cell_type": "markdown",
   "metadata": {},
   "source": [
    "## Categorical features."
   ]
  },
  {
   "cell_type": "markdown",
   "metadata": {},
   "source": [
    "Với các thuộc tính rời rạc, trước hết kiểm tra số lượng - tỉ lệ của mỗi giá trị. "
   ]
  },
  {
   "cell_type": "code",
   "execution_count": 16,
   "metadata": {
    "scrolled": true
   },
   "outputs": [
    {
     "data": {
      "text/plain": [
       "B    0.299000\n",
       "C    0.258389\n",
       "A    0.166029\n",
       "D    0.161443\n",
       "E    0.077130\n",
       "F    0.030478\n",
       "G    0.007531\n",
       "Name: grade, dtype: float64"
      ]
     },
     "execution_count": 16,
     "metadata": {},
     "output_type": "execute_result"
    }
   ],
   "source": [
    "# đếm số lượng các giá trị biến grade - các loại hạng công việc và tỉ lệ\n",
    "train.grade.value_counts() / len(train)"
   ]
  },
  {
   "cell_type": "code",
   "execution_count": 17,
   "metadata": {},
   "outputs": [
    {
     "data": {
      "text/plain": [
       "10+ years    0.303198\n",
       "2 years      0.092923\n",
       "< 1 year     0.082953\n",
       "3 years      0.080317\n",
       "5 years      0.071027\n",
       "1 year       0.067126\n",
       "4 years      0.064389\n",
       "6 years      0.058050\n",
       "7 years      0.055622\n",
       "8 years      0.047237\n",
       "NaN          0.039414\n",
       "9 years      0.037745\n",
       "Name: emp_length, dtype: float64"
      ]
     },
     "execution_count": 17,
     "metadata": {},
     "output_type": "execute_result"
    }
   ],
   "source": [
    "# đếm số lượng các giá trị emp_length - phân loại kinh nghiệm làm việc và tỉ lệ\n",
    "train.emp_length.value_counts(dropna=False) / len(train)"
   ]
  },
  {
   "cell_type": "markdown",
   "metadata": {},
   "source": [
    "Với các giá trị mising của **emp_length**, ta sẽ impute bằng giá trị mode (10+ years)"
   ]
  },
  {
   "cell_type": "code",
   "execution_count": 18,
   "metadata": {},
   "outputs": [
    {
     "data": {
      "text/plain": [
       "10+ years    0.342612\n",
       "2 years      0.092923\n",
       "< 1 year     0.082953\n",
       "3 years      0.080317\n",
       "5 years      0.071027\n",
       "1 year       0.067126\n",
       "4 years      0.064389\n",
       "6 years      0.058050\n",
       "7 years      0.055622\n",
       "8 years      0.047237\n",
       "9 years      0.037745\n",
       "Name: emp_length, dtype: float64"
      ]
     },
     "execution_count": 18,
     "metadata": {},
     "output_type": "execute_result"
    }
   ],
   "source": [
    "# chọn giá trị mode\n",
    "mode_emp_length = '10+ years'\n",
    "train.fillna(value=mode_emp_length, inplace=True)\n",
    "# kiểm tra lại emp_length sau khi impute\n",
    "train.emp_length.value_counts(dropna=False) / len(train)"
   ]
  },
  {
   "cell_type": "code",
   "execution_count": 19,
   "metadata": {},
   "outputs": [
    {
     "data": {
      "text/plain": [
       "MORTGAGE    0.494253\n",
       "RENT        0.419006\n",
       "OWN         0.086021\n",
       "OTHER       0.000523\n",
       "NONE        0.000191\n",
       "ANY         0.000006\n",
       "Name: home_ownership, dtype: float64"
      ]
     },
     "execution_count": 19,
     "metadata": {},
     "output_type": "execute_result"
    }
   ],
   "source": [
    "# đếm số lượng các giá trị biến home_ownership - các loại hình sợ hữu nhà và tỉ lệ\n",
    "train.home_ownership.value_counts() / len(train)"
   ]
  },
  {
   "cell_type": "code",
   "execution_count": 20,
   "metadata": {},
   "outputs": [
    {
     "data": {
      "text/plain": [
       " 36 months    0.775157\n",
       " 60 months    0.224843\n",
       "Name: term, dtype: float64"
      ]
     },
     "execution_count": 20,
     "metadata": {},
     "output_type": "execute_result"
    }
   ],
   "source": [
    "# đếm số loại thời hạn trả nợ\n",
    "train.term.value_counts() / len(train)"
   ]
  },
  {
   "cell_type": "markdown",
   "metadata": {},
   "source": [
    "## Feature Engineering"
   ]
  },
  {
   "cell_type": "markdown",
   "metadata": {},
   "source": [
    "### 1. Feature Encoding"
   ]
  },
  {
   "cell_type": "markdown",
   "metadata": {},
   "source": [
    "Trước khi training model, cần phải encode các categorical features.\n",
    "Ta sẽ dùng kỹ thuật *One-hot encoding* để thực hiện encode."
   ]
  },
  {
   "cell_type": "code",
   "execution_count": 21,
   "metadata": {},
   "outputs": [
    {
     "data": {
      "text/html": [
       "<div>\n",
       "<style scoped>\n",
       "    .dataframe tbody tr th:only-of-type {\n",
       "        vertical-align: middle;\n",
       "    }\n",
       "\n",
       "    .dataframe tbody tr th {\n",
       "        vertical-align: top;\n",
       "    }\n",
       "\n",
       "    .dataframe thead th {\n",
       "        text-align: right;\n",
       "    }\n",
       "</style>\n",
       "<table border=\"1\" class=\"dataframe\">\n",
       "  <thead>\n",
       "    <tr style=\"text-align: right;\">\n",
       "      <th></th>\n",
       "      <th>loan_amnt</th>\n",
       "      <th>int_rate</th>\n",
       "      <th>annual_inc</th>\n",
       "      <th>target</th>\n",
       "      <th>annual_inc_log</th>\n",
       "      <th>grade_A</th>\n",
       "      <th>grade_B</th>\n",
       "      <th>grade_C</th>\n",
       "      <th>grade_D</th>\n",
       "      <th>grade_E</th>\n",
       "      <th>...</th>\n",
       "      <th>emp_length_9 years</th>\n",
       "      <th>emp_length_&lt; 1 year</th>\n",
       "      <th>home_ownership_ANY</th>\n",
       "      <th>home_ownership_MORTGAGE</th>\n",
       "      <th>home_ownership_NONE</th>\n",
       "      <th>home_ownership_OTHER</th>\n",
       "      <th>home_ownership_OWN</th>\n",
       "      <th>home_ownership_RENT</th>\n",
       "      <th>term_ 36 months</th>\n",
       "      <th>term_ 60 months</th>\n",
       "    </tr>\n",
       "  </thead>\n",
       "  <tbody>\n",
       "    <tr>\n",
       "      <th>0</th>\n",
       "      <td>6000.0</td>\n",
       "      <td>9.76</td>\n",
       "      <td>33000.0</td>\n",
       "      <td>0</td>\n",
       "      <td>10.404293</td>\n",
       "      <td>0</td>\n",
       "      <td>1</td>\n",
       "      <td>0</td>\n",
       "      <td>0</td>\n",
       "      <td>0</td>\n",
       "      <td>...</td>\n",
       "      <td>0</td>\n",
       "      <td>0</td>\n",
       "      <td>0</td>\n",
       "      <td>0</td>\n",
       "      <td>0</td>\n",
       "      <td>0</td>\n",
       "      <td>0</td>\n",
       "      <td>1</td>\n",
       "      <td>1</td>\n",
       "      <td>0</td>\n",
       "    </tr>\n",
       "    <tr>\n",
       "      <th>1</th>\n",
       "      <td>19700.0</td>\n",
       "      <td>6.62</td>\n",
       "      <td>45000.0</td>\n",
       "      <td>0</td>\n",
       "      <td>10.714440</td>\n",
       "      <td>1</td>\n",
       "      <td>0</td>\n",
       "      <td>0</td>\n",
       "      <td>0</td>\n",
       "      <td>0</td>\n",
       "      <td>...</td>\n",
       "      <td>0</td>\n",
       "      <td>0</td>\n",
       "      <td>0</td>\n",
       "      <td>0</td>\n",
       "      <td>0</td>\n",
       "      <td>0</td>\n",
       "      <td>0</td>\n",
       "      <td>1</td>\n",
       "      <td>1</td>\n",
       "      <td>0</td>\n",
       "    </tr>\n",
       "    <tr>\n",
       "      <th>2</th>\n",
       "      <td>14000.0</td>\n",
       "      <td>6.03</td>\n",
       "      <td>75000.0</td>\n",
       "      <td>0</td>\n",
       "      <td>11.225257</td>\n",
       "      <td>1</td>\n",
       "      <td>0</td>\n",
       "      <td>0</td>\n",
       "      <td>0</td>\n",
       "      <td>0</td>\n",
       "      <td>...</td>\n",
       "      <td>0</td>\n",
       "      <td>1</td>\n",
       "      <td>0</td>\n",
       "      <td>1</td>\n",
       "      <td>0</td>\n",
       "      <td>0</td>\n",
       "      <td>0</td>\n",
       "      <td>0</td>\n",
       "      <td>1</td>\n",
       "      <td>0</td>\n",
       "    </tr>\n",
       "    <tr>\n",
       "      <th>3</th>\n",
       "      <td>21000.0</td>\n",
       "      <td>13.11</td>\n",
       "      <td>51000.0</td>\n",
       "      <td>0</td>\n",
       "      <td>10.839601</td>\n",
       "      <td>0</td>\n",
       "      <td>1</td>\n",
       "      <td>0</td>\n",
       "      <td>0</td>\n",
       "      <td>0</td>\n",
       "      <td>...</td>\n",
       "      <td>0</td>\n",
       "      <td>0</td>\n",
       "      <td>0</td>\n",
       "      <td>0</td>\n",
       "      <td>0</td>\n",
       "      <td>0</td>\n",
       "      <td>0</td>\n",
       "      <td>1</td>\n",
       "      <td>1</td>\n",
       "      <td>0</td>\n",
       "    </tr>\n",
       "    <tr>\n",
       "      <th>4</th>\n",
       "      <td>4500.0</td>\n",
       "      <td>16.29</td>\n",
       "      <td>96000.0</td>\n",
       "      <td>1</td>\n",
       "      <td>11.472114</td>\n",
       "      <td>0</td>\n",
       "      <td>0</td>\n",
       "      <td>0</td>\n",
       "      <td>1</td>\n",
       "      <td>0</td>\n",
       "      <td>...</td>\n",
       "      <td>0</td>\n",
       "      <td>0</td>\n",
       "      <td>0</td>\n",
       "      <td>1</td>\n",
       "      <td>0</td>\n",
       "      <td>0</td>\n",
       "      <td>0</td>\n",
       "      <td>0</td>\n",
       "      <td>1</td>\n",
       "      <td>0</td>\n",
       "    </tr>\n",
       "    <tr>\n",
       "      <th>...</th>\n",
       "      <td>...</td>\n",
       "      <td>...</td>\n",
       "      <td>...</td>\n",
       "      <td>...</td>\n",
       "      <td>...</td>\n",
       "      <td>...</td>\n",
       "      <td>...</td>\n",
       "      <td>...</td>\n",
       "      <td>...</td>\n",
       "      <td>...</td>\n",
       "      <td>...</td>\n",
       "      <td>...</td>\n",
       "      <td>...</td>\n",
       "      <td>...</td>\n",
       "      <td>...</td>\n",
       "      <td>...</td>\n",
       "      <td>...</td>\n",
       "      <td>...</td>\n",
       "      <td>...</td>\n",
       "      <td>...</td>\n",
       "      <td>...</td>\n",
       "    </tr>\n",
       "    <tr>\n",
       "      <th>177928</th>\n",
       "      <td>4750.0</td>\n",
       "      <td>10.16</td>\n",
       "      <td>63000.0</td>\n",
       "      <td>0</td>\n",
       "      <td>11.050906</td>\n",
       "      <td>0</td>\n",
       "      <td>1</td>\n",
       "      <td>0</td>\n",
       "      <td>0</td>\n",
       "      <td>0</td>\n",
       "      <td>...</td>\n",
       "      <td>0</td>\n",
       "      <td>0</td>\n",
       "      <td>0</td>\n",
       "      <td>1</td>\n",
       "      <td>0</td>\n",
       "      <td>0</td>\n",
       "      <td>0</td>\n",
       "      <td>0</td>\n",
       "      <td>1</td>\n",
       "      <td>0</td>\n",
       "    </tr>\n",
       "    <tr>\n",
       "      <th>177929</th>\n",
       "      <td>10000.0</td>\n",
       "      <td>9.17</td>\n",
       "      <td>70600.0</td>\n",
       "      <td>0</td>\n",
       "      <td>11.164800</td>\n",
       "      <td>0</td>\n",
       "      <td>1</td>\n",
       "      <td>0</td>\n",
       "      <td>0</td>\n",
       "      <td>0</td>\n",
       "      <td>...</td>\n",
       "      <td>0</td>\n",
       "      <td>0</td>\n",
       "      <td>0</td>\n",
       "      <td>0</td>\n",
       "      <td>0</td>\n",
       "      <td>0</td>\n",
       "      <td>0</td>\n",
       "      <td>1</td>\n",
       "      <td>1</td>\n",
       "      <td>0</td>\n",
       "    </tr>\n",
       "    <tr>\n",
       "      <th>177930</th>\n",
       "      <td>9000.0</td>\n",
       "      <td>14.33</td>\n",
       "      <td>63000.0</td>\n",
       "      <td>0</td>\n",
       "      <td>11.050906</td>\n",
       "      <td>0</td>\n",
       "      <td>0</td>\n",
       "      <td>1</td>\n",
       "      <td>0</td>\n",
       "      <td>0</td>\n",
       "      <td>...</td>\n",
       "      <td>0</td>\n",
       "      <td>0</td>\n",
       "      <td>0</td>\n",
       "      <td>0</td>\n",
       "      <td>0</td>\n",
       "      <td>0</td>\n",
       "      <td>0</td>\n",
       "      <td>1</td>\n",
       "      <td>1</td>\n",
       "      <td>0</td>\n",
       "    </tr>\n",
       "    <tr>\n",
       "      <th>177931</th>\n",
       "      <td>19800.0</td>\n",
       "      <td>22.99</td>\n",
       "      <td>100000.0</td>\n",
       "      <td>0</td>\n",
       "      <td>11.512935</td>\n",
       "      <td>0</td>\n",
       "      <td>0</td>\n",
       "      <td>0</td>\n",
       "      <td>0</td>\n",
       "      <td>0</td>\n",
       "      <td>...</td>\n",
       "      <td>0</td>\n",
       "      <td>0</td>\n",
       "      <td>0</td>\n",
       "      <td>1</td>\n",
       "      <td>0</td>\n",
       "      <td>0</td>\n",
       "      <td>0</td>\n",
       "      <td>0</td>\n",
       "      <td>0</td>\n",
       "      <td>1</td>\n",
       "    </tr>\n",
       "    <tr>\n",
       "      <th>177932</th>\n",
       "      <td>24000.0</td>\n",
       "      <td>8.90</td>\n",
       "      <td>185000.0</td>\n",
       "      <td>0</td>\n",
       "      <td>12.128117</td>\n",
       "      <td>1</td>\n",
       "      <td>0</td>\n",
       "      <td>0</td>\n",
       "      <td>0</td>\n",
       "      <td>0</td>\n",
       "      <td>...</td>\n",
       "      <td>0</td>\n",
       "      <td>0</td>\n",
       "      <td>0</td>\n",
       "      <td>1</td>\n",
       "      <td>0</td>\n",
       "      <td>0</td>\n",
       "      <td>0</td>\n",
       "      <td>0</td>\n",
       "      <td>0</td>\n",
       "      <td>1</td>\n",
       "    </tr>\n",
       "  </tbody>\n",
       "</table>\n",
       "<p>177933 rows × 31 columns</p>\n",
       "</div>"
      ],
      "text/plain": [
       "        loan_amnt  int_rate  annual_inc  target  annual_inc_log  grade_A  \\\n",
       "0          6000.0      9.76     33000.0       0       10.404293        0   \n",
       "1         19700.0      6.62     45000.0       0       10.714440        1   \n",
       "2         14000.0      6.03     75000.0       0       11.225257        1   \n",
       "3         21000.0     13.11     51000.0       0       10.839601        0   \n",
       "4          4500.0     16.29     96000.0       1       11.472114        0   \n",
       "...           ...       ...         ...     ...             ...      ...   \n",
       "177928     4750.0     10.16     63000.0       0       11.050906        0   \n",
       "177929    10000.0      9.17     70600.0       0       11.164800        0   \n",
       "177930     9000.0     14.33     63000.0       0       11.050906        0   \n",
       "177931    19800.0     22.99    100000.0       0       11.512935        0   \n",
       "177932    24000.0      8.90    185000.0       0       12.128117        1   \n",
       "\n",
       "        grade_B  grade_C  grade_D  grade_E  ...  emp_length_9 years  \\\n",
       "0             1        0        0        0  ...                   0   \n",
       "1             0        0        0        0  ...                   0   \n",
       "2             0        0        0        0  ...                   0   \n",
       "3             1        0        0        0  ...                   0   \n",
       "4             0        0        1        0  ...                   0   \n",
       "...         ...      ...      ...      ...  ...                 ...   \n",
       "177928        1        0        0        0  ...                   0   \n",
       "177929        1        0        0        0  ...                   0   \n",
       "177930        0        1        0        0  ...                   0   \n",
       "177931        0        0        0        0  ...                   0   \n",
       "177932        0        0        0        0  ...                   0   \n",
       "\n",
       "        emp_length_< 1 year  home_ownership_ANY  home_ownership_MORTGAGE  \\\n",
       "0                         0                   0                        0   \n",
       "1                         0                   0                        0   \n",
       "2                         1                   0                        1   \n",
       "3                         0                   0                        0   \n",
       "4                         0                   0                        1   \n",
       "...                     ...                 ...                      ...   \n",
       "177928                    0                   0                        1   \n",
       "177929                    0                   0                        0   \n",
       "177930                    0                   0                        0   \n",
       "177931                    0                   0                        1   \n",
       "177932                    0                   0                        1   \n",
       "\n",
       "        home_ownership_NONE  home_ownership_OTHER  home_ownership_OWN  \\\n",
       "0                         0                     0                   0   \n",
       "1                         0                     0                   0   \n",
       "2                         0                     0                   0   \n",
       "3                         0                     0                   0   \n",
       "4                         0                     0                   0   \n",
       "...                     ...                   ...                 ...   \n",
       "177928                    0                     0                   0   \n",
       "177929                    0                     0                   0   \n",
       "177930                    0                     0                   0   \n",
       "177931                    0                     0                   0   \n",
       "177932                    0                     0                   0   \n",
       "\n",
       "        home_ownership_RENT  term_ 36 months  term_ 60 months  \n",
       "0                         1                1                0  \n",
       "1                         1                1                0  \n",
       "2                         0                1                0  \n",
       "3                         1                1                0  \n",
       "4                         0                1                0  \n",
       "...                     ...              ...              ...  \n",
       "177928                    0                1                0  \n",
       "177929                    1                1                0  \n",
       "177930                    1                1                0  \n",
       "177931                    0                0                1  \n",
       "177932                    0                0                1  \n",
       "\n",
       "[177933 rows x 31 columns]"
      ]
     },
     "execution_count": 21,
     "metadata": {},
     "output_type": "execute_result"
    }
   ],
   "source": [
    "# one-hot encoding of categorical variables\n",
    "train = pd.get_dummies(train)\n",
    "test = pd.get_dummies(test)\n",
    "train"
   ]
  },
  {
   "cell_type": "code",
   "execution_count": 22,
   "metadata": {},
   "outputs": [
    {
     "data": {
      "text/html": [
       "<div>\n",
       "<style scoped>\n",
       "    .dataframe tbody tr th:only-of-type {\n",
       "        vertical-align: middle;\n",
       "    }\n",
       "\n",
       "    .dataframe tbody tr th {\n",
       "        vertical-align: top;\n",
       "    }\n",
       "\n",
       "    .dataframe thead th {\n",
       "        text-align: right;\n",
       "    }\n",
       "</style>\n",
       "<table border=\"1\" class=\"dataframe\">\n",
       "  <thead>\n",
       "    <tr style=\"text-align: right;\">\n",
       "      <th></th>\n",
       "      <th>loan_amnt</th>\n",
       "      <th>int_rate</th>\n",
       "      <th>annual_inc</th>\n",
       "      <th>target</th>\n",
       "      <th>annual_inc_log</th>\n",
       "      <th>grade_A</th>\n",
       "      <th>grade_B</th>\n",
       "      <th>grade_C</th>\n",
       "      <th>grade_D</th>\n",
       "      <th>grade_E</th>\n",
       "      <th>...</th>\n",
       "      <th>emp_length_8 years</th>\n",
       "      <th>emp_length_9 years</th>\n",
       "      <th>emp_length_&lt; 1 year</th>\n",
       "      <th>home_ownership_MORTGAGE</th>\n",
       "      <th>home_ownership_NONE</th>\n",
       "      <th>home_ownership_OTHER</th>\n",
       "      <th>home_ownership_OWN</th>\n",
       "      <th>home_ownership_RENT</th>\n",
       "      <th>term_ 36 months</th>\n",
       "      <th>term_ 60 months</th>\n",
       "    </tr>\n",
       "  </thead>\n",
       "  <tbody>\n",
       "    <tr>\n",
       "      <th>0</th>\n",
       "      <td>9525.0</td>\n",
       "      <td>6.62</td>\n",
       "      <td>60000.0</td>\n",
       "      <td>0</td>\n",
       "      <td>11.002117</td>\n",
       "      <td>1</td>\n",
       "      <td>0</td>\n",
       "      <td>0</td>\n",
       "      <td>0</td>\n",
       "      <td>0</td>\n",
       "      <td>...</td>\n",
       "      <td>0</td>\n",
       "      <td>0</td>\n",
       "      <td>0</td>\n",
       "      <td>0</td>\n",
       "      <td>0</td>\n",
       "      <td>0</td>\n",
       "      <td>0</td>\n",
       "      <td>1</td>\n",
       "      <td>1</td>\n",
       "      <td>0</td>\n",
       "    </tr>\n",
       "    <tr>\n",
       "      <th>1</th>\n",
       "      <td>17325.0</td>\n",
       "      <td>11.14</td>\n",
       "      <td>54000.0</td>\n",
       "      <td>1</td>\n",
       "      <td>10.896758</td>\n",
       "      <td>0</td>\n",
       "      <td>1</td>\n",
       "      <td>0</td>\n",
       "      <td>0</td>\n",
       "      <td>0</td>\n",
       "      <td>...</td>\n",
       "      <td>0</td>\n",
       "      <td>0</td>\n",
       "      <td>0</td>\n",
       "      <td>1</td>\n",
       "      <td>0</td>\n",
       "      <td>0</td>\n",
       "      <td>0</td>\n",
       "      <td>0</td>\n",
       "      <td>1</td>\n",
       "      <td>0</td>\n",
       "    </tr>\n",
       "    <tr>\n",
       "      <th>2</th>\n",
       "      <td>7000.0</td>\n",
       "      <td>8.49</td>\n",
       "      <td>118000.0</td>\n",
       "      <td>0</td>\n",
       "      <td>11.678448</td>\n",
       "      <td>1</td>\n",
       "      <td>0</td>\n",
       "      <td>0</td>\n",
       "      <td>0</td>\n",
       "      <td>0</td>\n",
       "      <td>...</td>\n",
       "      <td>0</td>\n",
       "      <td>0</td>\n",
       "      <td>0</td>\n",
       "      <td>0</td>\n",
       "      <td>0</td>\n",
       "      <td>0</td>\n",
       "      <td>0</td>\n",
       "      <td>1</td>\n",
       "      <td>1</td>\n",
       "      <td>0</td>\n",
       "    </tr>\n",
       "    <tr>\n",
       "      <th>3</th>\n",
       "      <td>10000.0</td>\n",
       "      <td>16.24</td>\n",
       "      <td>150000.0</td>\n",
       "      <td>0</td>\n",
       "      <td>11.918397</td>\n",
       "      <td>0</td>\n",
       "      <td>0</td>\n",
       "      <td>1</td>\n",
       "      <td>0</td>\n",
       "      <td>0</td>\n",
       "      <td>...</td>\n",
       "      <td>0</td>\n",
       "      <td>0</td>\n",
       "      <td>0</td>\n",
       "      <td>1</td>\n",
       "      <td>0</td>\n",
       "      <td>0</td>\n",
       "      <td>0</td>\n",
       "      <td>0</td>\n",
       "      <td>0</td>\n",
       "      <td>1</td>\n",
       "    </tr>\n",
       "    <tr>\n",
       "      <th>4</th>\n",
       "      <td>9600.0</td>\n",
       "      <td>12.12</td>\n",
       "      <td>120000.0</td>\n",
       "      <td>0</td>\n",
       "      <td>11.695255</td>\n",
       "      <td>0</td>\n",
       "      <td>1</td>\n",
       "      <td>0</td>\n",
       "      <td>0</td>\n",
       "      <td>0</td>\n",
       "      <td>...</td>\n",
       "      <td>1</td>\n",
       "      <td>0</td>\n",
       "      <td>0</td>\n",
       "      <td>0</td>\n",
       "      <td>0</td>\n",
       "      <td>0</td>\n",
       "      <td>0</td>\n",
       "      <td>1</td>\n",
       "      <td>1</td>\n",
       "      <td>0</td>\n",
       "    </tr>\n",
       "    <tr>\n",
       "      <th>...</th>\n",
       "      <td>...</td>\n",
       "      <td>...</td>\n",
       "      <td>...</td>\n",
       "      <td>...</td>\n",
       "      <td>...</td>\n",
       "      <td>...</td>\n",
       "      <td>...</td>\n",
       "      <td>...</td>\n",
       "      <td>...</td>\n",
       "      <td>...</td>\n",
       "      <td>...</td>\n",
       "      <td>...</td>\n",
       "      <td>...</td>\n",
       "      <td>...</td>\n",
       "      <td>...</td>\n",
       "      <td>...</td>\n",
       "      <td>...</td>\n",
       "      <td>...</td>\n",
       "      <td>...</td>\n",
       "      <td>...</td>\n",
       "      <td>...</td>\n",
       "    </tr>\n",
       "    <tr>\n",
       "      <th>76252</th>\n",
       "      <td>9175.0</td>\n",
       "      <td>15.59</td>\n",
       "      <td>23000.0</td>\n",
       "      <td>0</td>\n",
       "      <td>10.043293</td>\n",
       "      <td>0</td>\n",
       "      <td>0</td>\n",
       "      <td>0</td>\n",
       "      <td>1</td>\n",
       "      <td>0</td>\n",
       "      <td>...</td>\n",
       "      <td>0</td>\n",
       "      <td>0</td>\n",
       "      <td>0</td>\n",
       "      <td>1</td>\n",
       "      <td>0</td>\n",
       "      <td>0</td>\n",
       "      <td>0</td>\n",
       "      <td>0</td>\n",
       "      <td>1</td>\n",
       "      <td>0</td>\n",
       "    </tr>\n",
       "    <tr>\n",
       "      <th>76253</th>\n",
       "      <td>6400.0</td>\n",
       "      <td>12.12</td>\n",
       "      <td>85000.0</td>\n",
       "      <td>0</td>\n",
       "      <td>11.350418</td>\n",
       "      <td>0</td>\n",
       "      <td>1</td>\n",
       "      <td>0</td>\n",
       "      <td>0</td>\n",
       "      <td>0</td>\n",
       "      <td>...</td>\n",
       "      <td>0</td>\n",
       "      <td>0</td>\n",
       "      <td>0</td>\n",
       "      <td>0</td>\n",
       "      <td>0</td>\n",
       "      <td>0</td>\n",
       "      <td>0</td>\n",
       "      <td>1</td>\n",
       "      <td>1</td>\n",
       "      <td>0</td>\n",
       "    </tr>\n",
       "    <tr>\n",
       "      <th>76254</th>\n",
       "      <td>25000.0</td>\n",
       "      <td>13.11</td>\n",
       "      <td>65000.0</td>\n",
       "      <td>0</td>\n",
       "      <td>11.082158</td>\n",
       "      <td>0</td>\n",
       "      <td>1</td>\n",
       "      <td>0</td>\n",
       "      <td>0</td>\n",
       "      <td>0</td>\n",
       "      <td>...</td>\n",
       "      <td>0</td>\n",
       "      <td>1</td>\n",
       "      <td>0</td>\n",
       "      <td>1</td>\n",
       "      <td>0</td>\n",
       "      <td>0</td>\n",
       "      <td>0</td>\n",
       "      <td>0</td>\n",
       "      <td>0</td>\n",
       "      <td>1</td>\n",
       "    </tr>\n",
       "    <tr>\n",
       "      <th>76255</th>\n",
       "      <td>5375.0</td>\n",
       "      <td>17.77</td>\n",
       "      <td>20000.0</td>\n",
       "      <td>0</td>\n",
       "      <td>9.903538</td>\n",
       "      <td>0</td>\n",
       "      <td>0</td>\n",
       "      <td>0</td>\n",
       "      <td>1</td>\n",
       "      <td>0</td>\n",
       "      <td>...</td>\n",
       "      <td>0</td>\n",
       "      <td>0</td>\n",
       "      <td>0</td>\n",
       "      <td>1</td>\n",
       "      <td>0</td>\n",
       "      <td>0</td>\n",
       "      <td>0</td>\n",
       "      <td>0</td>\n",
       "      <td>1</td>\n",
       "      <td>0</td>\n",
       "    </tr>\n",
       "    <tr>\n",
       "      <th>76256</th>\n",
       "      <td>5000.0</td>\n",
       "      <td>12.12</td>\n",
       "      <td>100377.0</td>\n",
       "      <td>0</td>\n",
       "      <td>11.516698</td>\n",
       "      <td>0</td>\n",
       "      <td>1</td>\n",
       "      <td>0</td>\n",
       "      <td>0</td>\n",
       "      <td>0</td>\n",
       "      <td>...</td>\n",
       "      <td>0</td>\n",
       "      <td>0</td>\n",
       "      <td>1</td>\n",
       "      <td>0</td>\n",
       "      <td>0</td>\n",
       "      <td>0</td>\n",
       "      <td>0</td>\n",
       "      <td>1</td>\n",
       "      <td>1</td>\n",
       "      <td>0</td>\n",
       "    </tr>\n",
       "  </tbody>\n",
       "</table>\n",
       "<p>76257 rows × 30 columns</p>\n",
       "</div>"
      ],
      "text/plain": [
       "       loan_amnt  int_rate  annual_inc  target  annual_inc_log  grade_A  \\\n",
       "0         9525.0      6.62     60000.0       0       11.002117        1   \n",
       "1        17325.0     11.14     54000.0       1       10.896758        0   \n",
       "2         7000.0      8.49    118000.0       0       11.678448        1   \n",
       "3        10000.0     16.24    150000.0       0       11.918397        0   \n",
       "4         9600.0     12.12    120000.0       0       11.695255        0   \n",
       "...          ...       ...         ...     ...             ...      ...   \n",
       "76252     9175.0     15.59     23000.0       0       10.043293        0   \n",
       "76253     6400.0     12.12     85000.0       0       11.350418        0   \n",
       "76254    25000.0     13.11     65000.0       0       11.082158        0   \n",
       "76255     5375.0     17.77     20000.0       0        9.903538        0   \n",
       "76256     5000.0     12.12    100377.0       0       11.516698        0   \n",
       "\n",
       "       grade_B  grade_C  grade_D  grade_E  ...  emp_length_8 years  \\\n",
       "0            0        0        0        0  ...                   0   \n",
       "1            1        0        0        0  ...                   0   \n",
       "2            0        0        0        0  ...                   0   \n",
       "3            0        1        0        0  ...                   0   \n",
       "4            1        0        0        0  ...                   1   \n",
       "...        ...      ...      ...      ...  ...                 ...   \n",
       "76252        0        0        1        0  ...                   0   \n",
       "76253        1        0        0        0  ...                   0   \n",
       "76254        1        0        0        0  ...                   0   \n",
       "76255        0        0        1        0  ...                   0   \n",
       "76256        1        0        0        0  ...                   0   \n",
       "\n",
       "       emp_length_9 years  emp_length_< 1 year  home_ownership_MORTGAGE  \\\n",
       "0                       0                    0                        0   \n",
       "1                       0                    0                        1   \n",
       "2                       0                    0                        0   \n",
       "3                       0                    0                        1   \n",
       "4                       0                    0                        0   \n",
       "...                   ...                  ...                      ...   \n",
       "76252                   0                    0                        1   \n",
       "76253                   0                    0                        0   \n",
       "76254                   1                    0                        1   \n",
       "76255                   0                    0                        1   \n",
       "76256                   0                    1                        0   \n",
       "\n",
       "       home_ownership_NONE  home_ownership_OTHER  home_ownership_OWN  \\\n",
       "0                        0                     0                   0   \n",
       "1                        0                     0                   0   \n",
       "2                        0                     0                   0   \n",
       "3                        0                     0                   0   \n",
       "4                        0                     0                   0   \n",
       "...                    ...                   ...                 ...   \n",
       "76252                    0                     0                   0   \n",
       "76253                    0                     0                   0   \n",
       "76254                    0                     0                   0   \n",
       "76255                    0                     0                   0   \n",
       "76256                    0                     0                   0   \n",
       "\n",
       "       home_ownership_RENT  term_ 36 months  term_ 60 months  \n",
       "0                        1                1                0  \n",
       "1                        0                1                0  \n",
       "2                        1                1                0  \n",
       "3                        0                0                1  \n",
       "4                        1                1                0  \n",
       "...                    ...              ...              ...  \n",
       "76252                    0                1                0  \n",
       "76253                    1                1                0  \n",
       "76254                    0                0                1  \n",
       "76255                    0                1                0  \n",
       "76256                    1                1                0  \n",
       "\n",
       "[76257 rows x 30 columns]"
      ]
     },
     "execution_count": 22,
     "metadata": {},
     "output_type": "execute_result"
    }
   ],
   "source": [
    "test"
   ]
  },
  {
   "cell_type": "markdown",
   "metadata": {},
   "source": [
    "Hot-encoding đã sinh ra các feature mới với giá trị 0 và 1 đại diện cho các giá trị trong **grade** và **home_ownership**.\n",
    "Tuy nhiên, nếu trong tập test và tập train không đồng nhấ t về các giá trị, thì số cột mới sinh ra sẽ khác nhau ở hai tập dữ liệu. Ta sẽ kiểm tra điều này"
   ]
  },
  {
   "cell_type": "code",
   "execution_count": 23,
   "metadata": {},
   "outputs": [
    {
     "name": "stdout",
     "output_type": "stream",
     "text": [
      "Training Features shape:  (177933, 31)\n",
      "Testing Features shape:  (76257, 30)\n"
     ]
    }
   ],
   "source": [
    "print('Training Features shape: ', train.shape)\n",
    "print('Testing Features shape: ', test.shape)"
   ]
  },
  {
   "cell_type": "markdown",
   "metadata": {},
   "source": [
    "Tập train hiện có 30 cột, trong khi đó tập test chỉ có 29. Kiểm tra xem đâu là feature dẫn đến điều nayf:"
   ]
  },
  {
   "cell_type": "code",
   "execution_count": 24,
   "metadata": {},
   "outputs": [
    {
     "name": "stdout",
     "output_type": "stream",
     "text": [
      "{'home_ownership_ANY'}\n"
     ]
    }
   ],
   "source": [
    "print(set(train.columns) - set(test.columns))"
   ]
  },
  {
   "cell_type": "code",
   "execution_count": 25,
   "metadata": {},
   "outputs": [
    {
     "data": {
      "text/plain": [
       "['loan_amnt',\n",
       " 'int_rate',\n",
       " 'annual_inc',\n",
       " 'target',\n",
       " 'annual_inc_log',\n",
       " 'grade_A',\n",
       " 'grade_B',\n",
       " 'grade_C',\n",
       " 'grade_D',\n",
       " 'grade_E',\n",
       " 'grade_F',\n",
       " 'grade_G',\n",
       " 'emp_length_1 year',\n",
       " 'emp_length_10+ years',\n",
       " 'emp_length_2 years',\n",
       " 'emp_length_3 years',\n",
       " 'emp_length_4 years',\n",
       " 'emp_length_5 years',\n",
       " 'emp_length_6 years',\n",
       " 'emp_length_7 years',\n",
       " 'emp_length_8 years',\n",
       " 'emp_length_9 years',\n",
       " 'emp_length_< 1 year',\n",
       " 'home_ownership_MORTGAGE',\n",
       " 'home_ownership_NONE',\n",
       " 'home_ownership_OTHER',\n",
       " 'home_ownership_OWN',\n",
       " 'home_ownership_RENT',\n",
       " 'term_ 36 months',\n",
       " 'term_ 60 months']"
      ]
     },
     "execution_count": 25,
     "metadata": {},
     "output_type": "execute_result"
    }
   ],
   "source": [
    "b = list(test.columns)\n",
    "b"
   ]
  },
  {
   "cell_type": "markdown",
   "metadata": {},
   "source": [
    "Ta sẽ đồng bộ tập features giữa hai tập dữ liệu bằng cách loại bỏ đi những feature có trong train mà không có trong test."
   ]
  },
  {
   "cell_type": "code",
   "execution_count": 26,
   "metadata": {},
   "outputs": [
    {
     "name": "stdout",
     "output_type": "stream",
     "text": [
      "Training Features shape:  (177933, 30)\n",
      "Testing Features shape:  (76257, 30)\n"
     ]
    }
   ],
   "source": [
    "# Align the training and testing data, keep only columns present in both dataframes\n",
    "train, test = train.align(test, join = 'inner', axis = 1)\n",
    "\n",
    "print('Training Features shape: ', train.shape)\n",
    "print('Testing Features shape: ', test.shape)"
   ]
  },
  {
   "cell_type": "markdown",
   "metadata": {},
   "source": [
    "Sau khi đồng bộ, tập train và test đều đã có 30 features."
   ]
  },
  {
   "cell_type": "markdown",
   "metadata": {},
   "source": [
    "### 2. Feature Construction"
   ]
  },
  {
   "cell_type": "markdown",
   "metadata": {},
   "source": [
    "Sau khi encoding, ta sẽ tạo ra thêm các feature mới từ những domain feature có sẵn.\n",
    "-    **loan_income_percentage**: tỉ lệ giữa khoản nợ và thu nhập hàng năm của người vay\n",
    "-    **annual_interest**: lãi suất hàng năm\n",
    "-    **ann_int_income_percentage**: tỉ lệ giữa lãi và thu nhập hàng năm của người vay\n",
    "    "
   ]
  },
  {
   "cell_type": "code",
   "execution_count": 27,
   "metadata": {},
   "outputs": [],
   "source": [
    "# generate new features for train data\n",
    "train['loan_income_percentage'] = train['loan_amnt'] / train['annual_inc']\n",
    "train['annual_interest'] = train['int_rate'] * train[\"loan_amnt\"]\n",
    "train['ann_int_income_percentage'] = train['annual_interest'] / train['annual_inc']"
   ]
  },
  {
   "cell_type": "code",
   "execution_count": 28,
   "metadata": {},
   "outputs": [],
   "source": [
    "# generate new features for test data\n",
    "test['loan_income_percentage'] = test['loan_amnt'] / test['annual_inc']\n",
    "test['annual_interest'] = test['int_rate'] * test[\"loan_amnt\"]\n",
    "test['ann_int_income_percentage'] = test['annual_interest'] / test['annual_inc']"
   ]
  },
  {
   "cell_type": "markdown",
   "metadata": {},
   "source": [
    "### 3. Data spliting"
   ]
  },
  {
   "cell_type": "markdown",
   "metadata": {},
   "source": [
    "Chia tập train và test thành tập các features X và nhãn Y"
   ]
  },
  {
   "cell_type": "code",
   "execution_count": 29,
   "metadata": {
    "scrolled": true
   },
   "outputs": [],
   "source": [
    "# prepare train data\n",
    "Y_train = train.target\n",
    "X_train = train.drop(columns=['target'])\n",
    "\n",
    "# prepare test data\n",
    "Y_test = test['target']\n",
    "X_test = test.drop(columns=['target'])\n"
   ]
  },
  {
   "cell_type": "code",
   "execution_count": 30,
   "metadata": {},
   "outputs": [
    {
     "data": {
      "text/plain": [
       "Index(['loan_amnt', 'int_rate', 'annual_inc', 'annual_inc_log', 'grade_A',\n",
       "       'grade_B', 'grade_C', 'grade_D', 'grade_E', 'grade_F', 'grade_G',\n",
       "       'emp_length_1 year', 'emp_length_10+ years', 'emp_length_2 years',\n",
       "       'emp_length_3 years', 'emp_length_4 years', 'emp_length_5 years',\n",
       "       'emp_length_6 years', 'emp_length_7 years', 'emp_length_8 years',\n",
       "       'emp_length_9 years', 'emp_length_< 1 year', 'home_ownership_MORTGAGE',\n",
       "       'home_ownership_NONE', 'home_ownership_OTHER', 'home_ownership_OWN',\n",
       "       'home_ownership_RENT', 'term_ 36 months', 'term_ 60 months',\n",
       "       'loan_income_percentage', 'annual_interest',\n",
       "       'ann_int_income_percentage'],\n",
       "      dtype='object')"
      ]
     },
     "execution_count": 30,
     "metadata": {},
     "output_type": "execute_result"
    }
   ],
   "source": [
    "X_train.columns"
   ]
  },
  {
   "cell_type": "code",
   "execution_count": 31,
   "metadata": {
    "scrolled": true
   },
   "outputs": [
    {
     "data": {
      "text/plain": [
       "Index(['loan_amnt', 'int_rate', 'annual_inc', 'annual_inc_log', 'grade_A',\n",
       "       'grade_B', 'grade_C', 'grade_D', 'grade_E', 'grade_F', 'grade_G',\n",
       "       'emp_length_1 year', 'emp_length_10+ years', 'emp_length_2 years',\n",
       "       'emp_length_3 years', 'emp_length_4 years', 'emp_length_5 years',\n",
       "       'emp_length_6 years', 'emp_length_7 years', 'emp_length_8 years',\n",
       "       'emp_length_9 years', 'emp_length_< 1 year', 'home_ownership_MORTGAGE',\n",
       "       'home_ownership_NONE', 'home_ownership_OTHER', 'home_ownership_OWN',\n",
       "       'home_ownership_RENT', 'term_ 36 months', 'term_ 60 months',\n",
       "       'loan_income_percentage', 'annual_interest',\n",
       "       'ann_int_income_percentage'],\n",
       "      dtype='object')"
      ]
     },
     "execution_count": 31,
     "metadata": {},
     "output_type": "execute_result"
    }
   ],
   "source": [
    "X_test.columns"
   ]
  },
  {
   "cell_type": "markdown",
   "metadata": {},
   "source": [
    "## Modeling bằng Random Forest"
   ]
  },
  {
   "cell_type": "markdown",
   "metadata": {},
   "source": [
    "Sau khi đã hoàn thành encoding các feature, đồng bộ giữa hai tập dữ liệu train và test, ta sẽ sử dụng Random Forest để training."
   ]
  },
  {
   "cell_type": "code",
   "execution_count": 32,
   "metadata": {},
   "outputs": [],
   "source": [
    "from sklearn.ensemble import RandomForestClassifier\n",
    "from sklearn import metrics\n",
    "from sklearn.metrics import roc_auc_score, roc_curve, auc\n"
   ]
  },
  {
   "cell_type": "code",
   "execution_count": 33,
   "metadata": {},
   "outputs": [],
   "source": [
    "def evaluate(forest, X_train, Y_train, X_test, Y_test):\n",
    "    forest.fit(X_train, Y_train)\n",
    "    train_predictions = forest.predict_proba(X_train)[:,1]\n",
    "    test_predictions = forest.predict_proba(X_test)[:,1]\n",
    "    \n",
    "    AUC_train = metrics.roc_auc_score(Y_train, train_predictions)\n",
    "    AUC_test = metrics.roc_auc_score(Y_test, test_predictions)\n",
    "    \n",
    "    gini_train = 2 * AUC_train - 1\n",
    "    gini_test = 2 * AUC_test - 1\n",
    "    \n",
    "#     print([gini_train, gini_test])\n",
    "    return [gini_train, gini_test]"
   ]
  },
  {
   "cell_type": "markdown",
   "metadata": {},
   "source": [
    "Tạo một random forest với tham số mặc định"
   ]
  },
  {
   "cell_type": "code",
   "execution_count": 34,
   "metadata": {},
   "outputs": [],
   "source": [
    "random_forest = RandomForestClassifier()"
   ]
  },
  {
   "cell_type": "code",
   "execution_count": 35,
   "metadata": {
    "scrolled": true
   },
   "outputs": [
    {
     "data": {
      "text/plain": [
       "[0.9997385092474516, 0.29925919112848653]"
      ]
     },
     "execution_count": 35,
     "metadata": {},
     "output_type": "execute_result"
    }
   ],
   "source": [
    "# evaluating\n",
    "evaluate(random_forest, X_train, Y_train, X_test, Y_test)"
   ]
  },
  {
   "cell_type": "markdown",
   "metadata": {},
   "source": [
    "Model với bộ tham số mặc định cho kết quả gini đạt 0.996 với tập train và 0.241 với tập test."
   ]
  },
  {
   "cell_type": "markdown",
   "metadata": {},
   "source": [
    "## Model Tuning"
   ]
  },
  {
   "cell_type": "markdown",
   "metadata": {},
   "source": [
    "Sau đây ta sẽ điều chỉnh các tham số của Random Forest để cải thiện hiệu suất của model."
   ]
  },
  {
   "cell_type": "markdown",
   "metadata": {},
   "source": [
    "**n_estimators**: Số cây trong forest. Thông thường, tăng số cây làm tăng hiệu suất của model nhưng cũng mất nhiều thời gian xử lý hơn."
   ]
  },
  {
   "cell_type": "markdown",
   "metadata": {},
   "source": [
    "Ở đây ta sẽ thử với số cây lần lượt bằng 1, 25, 50, 100, 250, 500."
   ]
  },
  {
   "cell_type": "code",
   "execution_count": 36,
   "metadata": {},
   "outputs": [
    {
     "name": "stdout",
     "output_type": "stream",
     "text": [
      "Gini with n_estimators = 1: \n",
      "Train: 0.662 \t \t Test: 0.082\n",
      "Gini with n_estimators = 25: \n",
      "Train: 0.999 \t \t Test: 0.275\n",
      "Gini with n_estimators = 50: \n",
      "Train: 1.000 \t \t Test: 0.290\n",
      "Gini with n_estimators = 100: \n",
      "Train: 1.000 \t \t Test: 0.300\n",
      "Gini with n_estimators = 200: \n",
      "Train: 1.000 \t \t Test: 0.305\n",
      "Gini with n_estimators = 400: \n",
      "Train: 1.000 \t \t Test: 0.308\n"
     ]
    },
    {
     "data": {
      "image/png": "[encoded data removed]",
      "text/plain": [
       "<Figure size 432x288 with 1 Axes>"
      ]
     },
     "metadata": {
      "needs_background": "light"
     },
     "output_type": "display_data"
    }
   ],
   "source": [
    "n_estimators = [1, 25, 50, 100, 200, 400]\n",
    "\n",
    "train_results = []\n",
    "test_results = []\n",
    "for estimator in n_estimators:\n",
    "    rf = RandomForestClassifier(n_estimators=estimator, n_jobs=-1, random_state=42)\n",
    "    \n",
    "    print(\"Gini with n_estimators = %d: \" % (estimator))\n",
    "    print('Train: %.3f \\t \\t Test: %.3f' % (evaluate(rf, X_train, Y_train, X_test, Y_test)[0], evaluate(rf, X_train, Y_train, X_test, Y_test)[1] ))\n",
    "    train_results.append(evaluate(rf, X_train, Y_train, X_test, Y_test)[0])\n",
    "    test_results.append(evaluate(rf, X_train, Y_train, X_test, Y_test)[1])\n",
    "    \n",
    "from matplotlib.legend_handler import HandlerLine2D\n",
    "\n",
    "line1, = plt.plot(n_estimators, train_results, 'b', label='Train gini')\n",
    "line2, = plt.plot(n_estimators, test_results, 'r', label='Test gini')\n",
    "plt.legend(handler_map={line1: HandlerLine2D(numpoints=2)})\n",
    "plt.ylabel('Gini score')\n",
    "plt.xlabel('n_estimators')\n",
    "plt.show()"
   ]
  },
  {
   "cell_type": "markdown",
   "metadata": {},
   "source": [
    "Có thể thấy nếu chỉ dùng 1 cây, không còn ý nghĩa của \"random forest\" thì kết quả là rất thấp. Ngoài ra, model cho kết quả với tập train tốt hơn hẳn so với tập test. Và khi tăng số cây thì tăng chất lượng của model, nhưng khi đến mốc 25 cây thì sự cải thiện không còn đáng kể."
   ]
  },
  {
   "cell_type": "markdown",
   "metadata": {},
   "source": [
    "**max_depth**: độ sâu của mỗi cây trong forest."
   ]
  },
  {
   "cell_type": "markdown",
   "metadata": {},
   "source": [
    "Sau khi thử các giá trị của n_estimators, ta chọn số cây dùng cho model là 100 (số cây mặc định của random forest). Tiếp theo ta sẽ thử với max_depth chạy từ 1 đến 15."
   ]
  },
  {
   "cell_type": "code",
   "execution_count": 38,
   "metadata": {},
   "outputs": [
    {
     "name": "stdout",
     "output_type": "stream",
     "text": [
      "Gini with max_depth = 1: \n",
      "Train: 0.361 \t \t Test: 0.358\n",
      "Gini with max_depth = 2: \n",
      "Train: 0.377 \t \t Test: 0.374\n",
      "Gini with max_depth = 3: \n",
      "Train: 0.385 \t \t Test: 0.382\n",
      "Gini with max_depth = 4: \n",
      "Train: 0.391 \t \t Test: 0.387\n",
      "Gini with max_depth = 5: \n",
      "Train: 0.396 \t \t Test: 0.391\n",
      "Gini with max_depth = 6: \n",
      "Train: 0.402 \t \t Test: 0.393\n",
      "Gini with max_depth = 7: \n",
      "Train: 0.409 \t \t Test: 0.394\n",
      "Gini with max_depth = 8: \n",
      "Train: 0.421 \t \t Test: 0.396\n",
      "Gini with max_depth = 9: \n",
      "Train: 0.438 \t \t Test: 0.396\n",
      "Gini with max_depth = 10: \n",
      "Train: 0.462 \t \t Test: 0.396\n",
      "Gini with max_depth = 11: \n",
      "Train: 0.495 \t \t Test: 0.397\n",
      "Gini with max_depth = 12: \n",
      "Train: 0.539 \t \t Test: 0.395\n",
      "Gini with max_depth = 13: \n",
      "Train: 0.590 \t \t Test: 0.393\n",
      "Gini with max_depth = 14: \n",
      "Train: 0.649 \t \t Test: 0.392\n",
      "Gini with max_depth = 15: \n",
      "Train: 0.719 \t \t Test: 0.386\n"
     ]
    },
    {
     "data": {
      "image/png": "[encoded data removed]",
      "text/plain": [
       "<Figure size 432x288 with 1 Axes>"
      ]
     },
     "metadata": {
      "needs_background": "light"
     },
     "output_type": "display_data"
    }
   ],
   "source": [
    "max_depths = np.linspace(1, 15, 15, endpoint=True)\n",
    "train_results = []\n",
    "test_results = []\n",
    "\n",
    "for max_depth in max_depths:\n",
    "    rf = RandomForestClassifier(max_depth=max_depth, n_jobs=-1, random_state=42)\n",
    "    \n",
    "    print(\"Gini with max_depth = %d: \" % (max_depth))\n",
    "    print('Train: %.3f \\t \\t Test: %.3f' % (evaluate(rf, X_train, Y_train, X_test, Y_test)[0], evaluate(rf, X_train, Y_train, X_test, Y_test)[1] ))\n",
    "    \n",
    "    train_results.append(evaluate(rf, X_train, Y_train, X_test, Y_test)[0])\n",
    "    test_results.append(evaluate(rf, X_train, Y_train, X_test, Y_test)[1])\n",
    "    \n",
    "from matplotlib.legend_handler import HandlerLine2D\n",
    "\n",
    "line1, = plt.plot(max_depths, train_results, 'b', label='Train gini')\n",
    "line2, = plt.plot(max_depths, test_results, 'r', label='Test gini')\n",
    "plt.legend(handler_map={line1: HandlerLine2D(numpoints=2)})\n",
    "plt.ylabel('gini score')\n",
    "plt.xlabel('max_depth')\n",
    "plt.show()"
   ]
  },
  {
   "cell_type": "markdown",
   "metadata": {},
   "source": [
    "Có thể thấy model bị overfit khi các cây có độ sâu lớn dần. Chọn max_depth bằng 11 sẽ cho hiệu suất tốt trên tập test."
   ]
  },
  {
   "cell_type": "markdown",
   "metadata": {},
   "source": [
    "**max_feature**: số feature được chọn cho mỗi cây.\n",
    "Ở đây ta sẽ thử chọn lần lượt tăng dần số lương các feature."
   ]
  },
  {
   "cell_type": "code",
   "execution_count": 39,
   "metadata": {},
   "outputs": [
    {
     "name": "stdout",
     "output_type": "stream",
     "text": [
      "Gini with max_features = 1: \n",
      "Train: 0.466 \t \t Test: 0.390\n",
      "Gini with max_features = 5: \n",
      "Train: 0.495 \t \t Test: 0.397\n",
      "Gini with max_features = 9: \n",
      "Train: 0.516 \t \t Test: 0.395\n",
      "Gini with max_features = 13: \n",
      "Train: 0.524 \t \t Test: 0.394\n",
      "Gini with max_features = 17: \n",
      "Train: 0.531 \t \t Test: 0.393\n",
      "Gini with max_features = 21: \n",
      "Train: 0.532 \t \t Test: 0.394\n",
      "Gini with max_features = 25: \n",
      "Train: 0.534 \t \t Test: 0.392\n",
      "Gini with max_features = 29: \n",
      "Train: 0.536 \t \t Test: 0.392\n"
     ]
    },
    {
     "data": {
      "image/png": "[encoded data removed]",
      "text/plain": [
       "<Figure size 432x288 with 1 Axes>"
      ]
     },
     "metadata": {
      "needs_background": "light"
     },
     "output_type": "display_data"
    }
   ],
   "source": [
    "max_features = list(range(1, X_train.shape[1], 4))\n",
    "train_results = []\n",
    "test_results = []\n",
    "for max_feature in max_features:\n",
    "    rf = RandomForestClassifier(max_features=max_feature, n_jobs=-1, random_state=42, max_depth=11)\n",
    "    \n",
    "    print(\"Gini with max_features = %d: \" % (max_feature))\n",
    "    print('Train: %.3f \\t \\t Test: %.3f' % (evaluate(rf, X_train, Y_train, X_test, Y_test)[0], evaluate(rf, X_train, Y_train, X_test, Y_test)[1] ))\n",
    "    \n",
    "    train_results.append(evaluate(rf, X_train, Y_train, X_test, Y_test)[0])\n",
    "    test_results.append(evaluate(rf, X_train, Y_train, X_test, Y_test)[1])\n",
    "\n",
    "from matplotlib.legend_handler import HandlerLine2D\n",
    "\n",
    "line1, = plt.plot(max_features, train_results, 'b', label='Train gini')\n",
    "line2, = plt.plot(max_features, test_results, 'r', label='Test gini')\n",
    "plt.legend(handler_map={line1: HandlerLine2D(numpoints=2)})\n",
    "plt.ylabel('Gini score')\n",
    "plt.xlabel('max_features')\n",
    "plt.show()"
   ]
  },
  {
   "cell_type": "markdown",
   "metadata": {},
   "source": [
    "Có thể nhận thấy việc thay đổi **max_features** không ảnh hưởng nhiều đến hiệu suất của model."
   ]
  },
  {
   "cell_type": "markdown",
   "metadata": {},
   "source": [
    "**min_samples_leaf**: số sample tối thiểu ở 1 nút lá."
   ]
  },
  {
   "cell_type": "markdown",
   "metadata": {},
   "source": [
    "Ta sẽ thử với các giá trị [10, 50, 100, 150, 250, 500]"
   ]
  },
  {
   "cell_type": "code",
   "execution_count": 40,
   "metadata": {},
   "outputs": [
    {
     "name": "stdout",
     "output_type": "stream",
     "text": [
      "Gini with min_samples_leaf = 10: \n",
      "Train: 0.466 \t \t Test: 0.397\n",
      "Gini with min_samples_leaf = 50: \n",
      "Train: 0.439 \t \t Test: 0.397\n",
      "Gini with min_samples_leaf = 100: \n",
      "Train: 0.427 \t \t Test: 0.397\n",
      "Gini with min_samples_leaf = 150: \n",
      "Train: 0.421 \t \t Test: 0.397\n",
      "Gini with min_samples_leaf = 250: \n",
      "Train: 0.414 \t \t Test: 0.396\n",
      "Gini with min_samples_leaf = 500: \n",
      "Train: 0.406 \t \t Test: 0.396\n"
     ]
    },
    {
     "data": {
      "image/png": "[encoded data removed]",
      "text/plain": [
       "<Figure size 432x288 with 1 Axes>"
      ]
     },
     "metadata": {
      "needs_background": "light"
     },
     "output_type": "display_data"
    }
   ],
   "source": [
    "min_samples_leafs = [10, 50, 100, 150, 250, 500]\n",
    "train_results = []\n",
    "test_results = []\n",
    "for min_samples_leaf in min_samples_leafs:\n",
    "    rf = RandomForestClassifier(min_samples_leaf=min_samples_leaf, n_jobs=-1, random_state=42, max_depth=11)\n",
    "    \n",
    "    print(\"Gini with min_samples_leaf = %d: \" % (min_samples_leaf))\n",
    "    print('Train: %.3f \\t \\t Test: %.3f' % (evaluate(rf, X_train, Y_train, X_test, Y_test)[0], evaluate(rf, X_train, Y_train, X_test, Y_test)[1] ))\n",
    "    \n",
    "    train_results.append(evaluate(rf, X_train, Y_train, X_test, Y_test)[0])\n",
    "    test_results.append(evaluate(rf, X_train, Y_train, X_test, Y_test)[1])\n",
    "from matplotlib.legend_handler import HandlerLine2D\n",
    "line1, = plt.plot(min_samples_leafs, train_results, 'b', label='Train gini')\n",
    "line2, = plt.plot(min_samples_leafs, test_results, 'r', label='Test gini')\n",
    "plt.legend(handler_map={line1: HandlerLine2D(numpoints=2)})\n",
    "plt.ylabel('Gini score')\n",
    "plt.xlabel('min_sample_leaf')\n",
    "plt.show()"
   ]
  },
  {
   "cell_type": "markdown",
   "metadata": {},
   "source": [
    "Khi thay đổi **min_samples_leaf** không giúp cải thiện hiệu suất của model."
   ]
  },
  {
   "cell_type": "markdown",
   "metadata": {},
   "source": [
    "Sau khi thử điều chỉnh các tham số, ta sẽ tuning với các giá trị tốt nhất của **n_estimators** và **max_depth** dược chọn:\n",
    "- n_estimator = 100\n",
    "- max_depth = 11"
   ]
  },
  {
   "cell_type": "code",
   "execution_count": 47,
   "metadata": {},
   "outputs": [],
   "source": [
    "random_forest = RandomForestClassifier(n_estimators=100, max_depth=11, n_jobs=-1)"
   ]
  },
  {
   "cell_type": "code",
   "execution_count": 48,
   "metadata": {
    "scrolled": true
   },
   "outputs": [
    {
     "name": "stdout",
     "output_type": "stream",
     "text": [
      "Gini: \n",
      "Train: 0.495 \t \t Test: 0.396\n"
     ]
    }
   ],
   "source": [
    "print('Gini: ')\n",
    "print('Train: %.3f \\t \\t Test: %.3f' % (evaluate(random_forest, X_train, Y_train, X_test, Y_test)[0], evaluate(rf, X_train, Y_train, X_test, Y_test)[1] ))\n"
   ]
  },
  {
   "cell_type": "markdown",
   "metadata": {},
   "source": [
    "Với bộ tham số này, Random Forest đã không bị overfit, đồng thời cho kết quả khá tốt: gini đạt 0.396 với tập test."
   ]
  },
  {
   "cell_type": "markdown",
   "metadata": {},
   "source": [
    "### Feature importances"
   ]
  },
  {
   "cell_type": "markdown",
   "metadata": {},
   "source": [
    "Trong nhiều trường hợp, một model tốt không chỉ yêu cầu độ chính xác cao mà còn cần phải dễ hiểu và dễ giải thích. Trong bài toán phân loại khách hàng tốt/xấu, việc chỉ ra yếu tố nào quyết định nhiều tới khả năng trả nợ cũng quan trọng không kém việc phân loại chính xác."
   ]
  },
  {
   "cell_type": "markdown",
   "metadata": {},
   "source": [
    "Ta sẽ thử kiểm tra mức độ quan trọng của các feature bằng feature_importances_ trong random forest."
   ]
  },
  {
   "cell_type": "code",
   "execution_count": 49,
   "metadata": {},
   "outputs": [],
   "source": [
    "feature_importance_values = random_forest.feature_importances_\n",
    "features = X_train.columns\n",
    "feature_importances = pd.DataFrame({'feature': features, 'importance': feature_importance_values})"
   ]
  },
  {
   "cell_type": "code",
   "execution_count": 50,
   "metadata": {},
   "outputs": [
    {
     "data": {
      "text/html": [
       "<div>\n",
       "<style scoped>\n",
       "    .dataframe tbody tr th:only-of-type {\n",
       "        vertical-align: middle;\n",
       "    }\n",
       "\n",
       "    .dataframe tbody tr th {\n",
       "        vertical-align: top;\n",
       "    }\n",
       "\n",
       "    .dataframe thead th {\n",
       "        text-align: right;\n",
       "    }\n",
       "</style>\n",
       "<table border=\"1\" class=\"dataframe\">\n",
       "  <thead>\n",
       "    <tr style=\"text-align: right;\">\n",
       "      <th></th>\n",
       "      <th>feature</th>\n",
       "      <th>importance</th>\n",
       "    </tr>\n",
       "  </thead>\n",
       "  <tbody>\n",
       "    <tr>\n",
       "      <th>0</th>\n",
       "      <td>home_ownership_NONE</td>\n",
       "      <td>0.000239</td>\n",
       "    </tr>\n",
       "    <tr>\n",
       "      <th>1</th>\n",
       "      <td>home_ownership_OTHER</td>\n",
       "      <td>0.000693</td>\n",
       "    </tr>\n",
       "    <tr>\n",
       "      <th>2</th>\n",
       "      <td>grade_G</td>\n",
       "      <td>0.002689</td>\n",
       "    </tr>\n",
       "    <tr>\n",
       "      <th>3</th>\n",
       "      <td>emp_length_8 years</td>\n",
       "      <td>0.003014</td>\n",
       "    </tr>\n",
       "    <tr>\n",
       "      <th>4</th>\n",
       "      <td>emp_length_7 years</td>\n",
       "      <td>0.003188</td>\n",
       "    </tr>\n",
       "    <tr>\n",
       "      <th>5</th>\n",
       "      <td>emp_length_5 years</td>\n",
       "      <td>0.003208</td>\n",
       "    </tr>\n",
       "    <tr>\n",
       "      <th>6</th>\n",
       "      <td>emp_length_9 years</td>\n",
       "      <td>0.003321</td>\n",
       "    </tr>\n",
       "    <tr>\n",
       "      <th>7</th>\n",
       "      <td>emp_length_6 years</td>\n",
       "      <td>0.003368</td>\n",
       "    </tr>\n",
       "    <tr>\n",
       "      <th>8</th>\n",
       "      <td>emp_length_4 years</td>\n",
       "      <td>0.003382</td>\n",
       "    </tr>\n",
       "    <tr>\n",
       "      <th>9</th>\n",
       "      <td>emp_length_3 years</td>\n",
       "      <td>0.003509</td>\n",
       "    </tr>\n",
       "    <tr>\n",
       "      <th>10</th>\n",
       "      <td>emp_length_1 year</td>\n",
       "      <td>0.003658</td>\n",
       "    </tr>\n",
       "    <tr>\n",
       "      <th>11</th>\n",
       "      <td>emp_length_&lt; 1 year</td>\n",
       "      <td>0.003745</td>\n",
       "    </tr>\n",
       "    <tr>\n",
       "      <th>12</th>\n",
       "      <td>emp_length_2 years</td>\n",
       "      <td>0.003759</td>\n",
       "    </tr>\n",
       "    <tr>\n",
       "      <th>13</th>\n",
       "      <td>home_ownership_OWN</td>\n",
       "      <td>0.004347</td>\n",
       "    </tr>\n",
       "    <tr>\n",
       "      <th>14</th>\n",
       "      <td>emp_length_10+ years</td>\n",
       "      <td>0.005658</td>\n",
       "    </tr>\n",
       "    <tr>\n",
       "      <th>15</th>\n",
       "      <td>home_ownership_MORTGAGE</td>\n",
       "      <td>0.009433</td>\n",
       "    </tr>\n",
       "    <tr>\n",
       "      <th>16</th>\n",
       "      <td>grade_F</td>\n",
       "      <td>0.010094</td>\n",
       "    </tr>\n",
       "    <tr>\n",
       "      <th>17</th>\n",
       "      <td>home_ownership_RENT</td>\n",
       "      <td>0.010116</td>\n",
       "    </tr>\n",
       "    <tr>\n",
       "      <th>18</th>\n",
       "      <td>grade_C</td>\n",
       "      <td>0.010120</td>\n",
       "    </tr>\n",
       "    <tr>\n",
       "      <th>19</th>\n",
       "      <td>grade_E</td>\n",
       "      <td>0.012490</td>\n",
       "    </tr>\n",
       "    <tr>\n",
       "      <th>20</th>\n",
       "      <td>grade_D</td>\n",
       "      <td>0.017274</td>\n",
       "    </tr>\n",
       "    <tr>\n",
       "      <th>21</th>\n",
       "      <td>grade_B</td>\n",
       "      <td>0.021167</td>\n",
       "    </tr>\n",
       "    <tr>\n",
       "      <th>22</th>\n",
       "      <td>term_ 60 months</td>\n",
       "      <td>0.036787</td>\n",
       "    </tr>\n",
       "    <tr>\n",
       "      <th>23</th>\n",
       "      <td>term_ 36 months</td>\n",
       "      <td>0.041905</td>\n",
       "    </tr>\n",
       "    <tr>\n",
       "      <th>24</th>\n",
       "      <td>grade_A</td>\n",
       "      <td>0.042164</td>\n",
       "    </tr>\n",
       "    <tr>\n",
       "      <th>25</th>\n",
       "      <td>loan_amnt</td>\n",
       "      <td>0.049156</td>\n",
       "    </tr>\n",
       "    <tr>\n",
       "      <th>26</th>\n",
       "      <td>annual_inc_log</td>\n",
       "      <td>0.063471</td>\n",
       "    </tr>\n",
       "    <tr>\n",
       "      <th>27</th>\n",
       "      <td>annual_inc</td>\n",
       "      <td>0.067978</td>\n",
       "    </tr>\n",
       "    <tr>\n",
       "      <th>28</th>\n",
       "      <td>annual_interest</td>\n",
       "      <td>0.088639</td>\n",
       "    </tr>\n",
       "    <tr>\n",
       "      <th>29</th>\n",
       "      <td>loan_income_percentage</td>\n",
       "      <td>0.092418</td>\n",
       "    </tr>\n",
       "    <tr>\n",
       "      <th>30</th>\n",
       "      <td>int_rate</td>\n",
       "      <td>0.188425</td>\n",
       "    </tr>\n",
       "    <tr>\n",
       "      <th>31</th>\n",
       "      <td>ann_int_income_percentage</td>\n",
       "      <td>0.190586</td>\n",
       "    </tr>\n",
       "  </tbody>\n",
       "</table>\n",
       "</div>"
      ],
      "text/plain": [
       "                      feature  importance\n",
       "0         home_ownership_NONE    0.000239\n",
       "1        home_ownership_OTHER    0.000693\n",
       "2                     grade_G    0.002689\n",
       "3          emp_length_8 years    0.003014\n",
       "4          emp_length_7 years    0.003188\n",
       "5          emp_length_5 years    0.003208\n",
       "6          emp_length_9 years    0.003321\n",
       "7          emp_length_6 years    0.003368\n",
       "8          emp_length_4 years    0.003382\n",
       "9          emp_length_3 years    0.003509\n",
       "10          emp_length_1 year    0.003658\n",
       "11        emp_length_< 1 year    0.003745\n",
       "12         emp_length_2 years    0.003759\n",
       "13         home_ownership_OWN    0.004347\n",
       "14       emp_length_10+ years    0.005658\n",
       "15    home_ownership_MORTGAGE    0.009433\n",
       "16                    grade_F    0.010094\n",
       "17        home_ownership_RENT    0.010116\n",
       "18                    grade_C    0.010120\n",
       "19                    grade_E    0.012490\n",
       "20                    grade_D    0.017274\n",
       "21                    grade_B    0.021167\n",
       "22            term_ 60 months    0.036787\n",
       "23            term_ 36 months    0.041905\n",
       "24                    grade_A    0.042164\n",
       "25                  loan_amnt    0.049156\n",
       "26             annual_inc_log    0.063471\n",
       "27                 annual_inc    0.067978\n",
       "28            annual_interest    0.088639\n",
       "29     loan_income_percentage    0.092418\n",
       "30                   int_rate    0.188425\n",
       "31  ann_int_income_percentage    0.190586"
      ]
     },
     "execution_count": 50,
     "metadata": {},
     "output_type": "execute_result"
    }
   ],
   "source": [
    "feature_importances.sort_values(by='importance', inplace=True, ignore_index=True)\n",
    "feature_importances"
   ]
  },
  {
   "cell_type": "markdown",
   "metadata": {},
   "source": [
    "Biểu diễn trên đồ thị"
   ]
  },
  {
   "cell_type": "code",
   "execution_count": 51,
   "metadata": {},
   "outputs": [
    {
     "data": {
      "image/png": "[encoded data removed]",
      "text/plain": [
       "<Figure size 720x936 with 1 Axes>"
      ]
     },
     "metadata": {
      "needs_background": "light"
     },
     "output_type": "display_data"
    }
   ],
   "source": [
    "bars = tuple(feature_importances.feature)\n",
    "importance = feature_importances.importance\n",
    "y_pos = np.arange(len(bars))\n",
    "f, ax = plt.subplots(figsize=(10,13))\n",
    "\n",
    "plt.barh(y_pos, importance)\n",
    "plt.yticks(y_pos, bars)\n",
    "plt.show()"
   ]
  },
  {
   "cell_type": "markdown",
   "metadata": {},
   "source": [
    "Tiếp theo, train model với số lượng feature được chọn tăng dần"
   ]
  },
  {
   "cell_type": "code",
   "execution_count": 54,
   "metadata": {
    "scrolled": true
   },
   "outputs": [
    {
     "name": "stdout",
     "output_type": "stream",
     "text": [
      "Gini when using 1 feature(s): \n",
      "Train: 0.390 \t \t Test: 0.322\n",
      "Gini when using 2 feature(s): \n",
      "Train: 0.464 \t \t Test: 0.377\n",
      "Gini when using 3 feature(s): \n",
      "Train: 0.468 \t \t Test: 0.375\n",
      "Gini when using 4 feature(s): \n",
      "Train: 0.510 \t \t Test: 0.386\n",
      "Gini when using 5 feature(s): \n",
      "Train: 0.509 \t \t Test: 0.386\n",
      "Gini when using 6 feature(s): \n",
      "Train: 0.508 \t \t Test: 0.387\n",
      "Gini when using 7 feature(s): \n",
      "Train: 0.507 \t \t Test: 0.386\n",
      "Gini when using 8 feature(s): \n",
      "Train: 0.500 \t \t Test: 0.387\n",
      "Gini when using 9 feature(s): \n",
      "Train: 0.510 \t \t Test: 0.391\n",
      "Gini when using 10 feature(s): \n",
      "Train: 0.509 \t \t Test: 0.392\n",
      "Gini when using 11 feature(s): \n",
      "Train: 0.507 \t \t Test: 0.392\n",
      "Gini when using 12 feature(s): \n",
      "Train: 0.504 \t \t Test: 0.393\n",
      "Gini when using 13 feature(s): \n",
      "Train: 0.500 \t \t Test: 0.394\n",
      "Gini when using 14 feature(s): \n",
      "Train: 0.500 \t \t Test: 0.395\n",
      "Gini when using 15 feature(s): \n",
      "Train: 0.502 \t \t Test: 0.396\n",
      "Gini when using 16 feature(s): \n",
      "Train: 0.507 \t \t Test: 0.396\n",
      "Gini when using 17 feature(s): \n",
      "Train: 0.506 \t \t Test: 0.395\n",
      "Gini when using 18 feature(s): \n",
      "Train: 0.509 \t \t Test: 0.396\n",
      "Gini when using 19 feature(s): \n",
      "Train: 0.505 \t \t Test: 0.395\n",
      "Gini when using 20 feature(s): \n",
      "Train: 0.504 \t \t Test: 0.395\n",
      "Gini when using 21 feature(s): \n",
      "Train: 0.504 \t \t Test: 0.395\n",
      "Gini when using 22 feature(s): \n",
      "Train: 0.503 \t \t Test: 0.396\n",
      "Gini when using 23 feature(s): \n",
      "Train: 0.501 \t \t Test: 0.396\n",
      "Gini when using 24 feature(s): \n",
      "Train: 0.499 \t \t Test: 0.395\n",
      "Gini when using 25 feature(s): \n",
      "Train: 0.504 \t \t Test: 0.396\n",
      "Gini when using 26 feature(s): \n",
      "Train: 0.505 \t \t Test: 0.395\n",
      "Gini when using 27 feature(s): \n",
      "Train: 0.501 \t \t Test: 0.395\n",
      "Gini when using 28 feature(s): \n",
      "Train: 0.502 \t \t Test: 0.395\n",
      "Gini when using 29 feature(s): \n",
      "Train: 0.499 \t \t Test: 0.395\n",
      "Gini when using 30 feature(s): \n",
      "Train: 0.499 \t \t Test: 0.395\n",
      "Gini when using 31 feature(s): \n",
      "Train: 0.495 \t \t Test: 0.395\n",
      "Gini when using 32 feature(s): \n",
      "Train: 0.493 \t \t Test: 0.395\n"
     ]
    },
    {
     "data": {
      "image/png": "[encoded data removed]",
      "text/plain": [
       "<Figure size 432x288 with 1 Axes>"
      ]
     },
     "metadata": {
      "needs_background": "light"
     },
     "output_type": "display_data"
    }
   ],
   "source": [
    "# sắp xếp lại các feature theo thứ tự độ quan trọng giảm dần\n",
    "feature_importances.sort_values(by='importance', inplace=True, ignore_index=True, ascending=False)\n",
    "\n",
    "train_results = []\n",
    "test_results = []\n",
    "for i in range(len(feature_importances)):\n",
    "    X_train_important = X_train[feature_importances[0:i+1].feature]\n",
    "    X_test_important = X_test[feature_importances[0:i+1].feature]\n",
    "    print('Gini when using %d feature(s): ' % (i+1))\n",
    "    print('Train: %.3f \\t \\t Test: %.3f' % (evaluate(random_forest, X_train_important, Y_train, X_test_important, Y_test)[0], evaluate(random_forest, X_train_important, Y_train, X_test_important, Y_test)[1] ))\n",
    "    \n",
    "    train_results.append(evaluate(random_forest, X_train_important, Y_train, X_test_important, Y_test)[0])\n",
    "    test_results.append(evaluate(random_forest, X_train_important, Y_train, X_test_important, Y_test)[1])\n",
    "from matplotlib.legend_handler import HandlerLine2D\n",
    "line1, = plt.plot(range(1,len(feature_importances)+1), train_results, 'b', label='Train gini')\n",
    "line2, = plt.plot(range(1,len(feature_importances)+1), test_results, 'r', label='Test gini')\n",
    "plt.legend(handler_map={line1: HandlerLine2D(numpoints=2)})\n",
    "plt.ylabel('Gini score')\n",
    "plt.xlabel('Number of used features')\n",
    "plt.show()"
   ]
  },
  {
   "cell_type": "markdown",
   "metadata": {},
   "source": [
    "Có thể thấy chỉ cần sử dụng 15 feature đầu tiên đã đủ để model có hiệu suất tốt. Các feature còn lại không có nhiều ảnh hưởng đến target cũng như hiệu suất model. Vì vậy ta sẽ sử dụng 15 feature quan trọng để train cho model cuối cùng"
   ]
  },
  {
   "cell_type": "code",
   "execution_count": 56,
   "metadata": {},
   "outputs": [
    {
     "name": "stdout",
     "output_type": "stream",
     "text": [
      "Final Gini: \n",
      "Train: 0.502 \t \t Test: 0.396\n"
     ]
    }
   ],
   "source": [
    "X_train_final = X_train[feature_importances[0:15].feature]\n",
    "X_test_final = X_test[feature_importances[0:15].feature]\n",
    "print('Final Gini: ')\n",
    "print('Train: %.3f \\t \\t Test: %.3f' % (evaluate(random_forest, X_train_final, Y_train, X_test_final, Y_test)[0], evaluate(random_forest, X_train_final, Y_train, X_test_final, Y_test)[1] ))"
   ]
  },
  {
   "cell_type": "markdown",
   "metadata": {},
   "source": [
    "## Model Explanation"
   ]
  },
  {
   "cell_type": "markdown",
   "metadata": {},
   "source": [
    "Sau khi xây dựng xong model, ta sẽ kiểm tra xem model có khả năng loại bỏ khách hàng xấu thực sự tốt hay không.\n",
    "Kết quả dự đoán của model (Y_score) là xác suất để mỗi khách hàng là khách hàng xấu. "
   ]
  },
  {
   "cell_type": "code",
   "execution_count": 57,
   "metadata": {},
   "outputs": [
    {
     "data": {
      "text/plain": [
       "array([0.05251657, 0.14342765, 0.04940011, ..., 0.22630194, 0.30611076,\n",
       "       0.09205844])"
      ]
     },
     "execution_count": 57,
     "metadata": {},
     "output_type": "execute_result"
    }
   ],
   "source": [
    "Y_score = random_forest.predict_proba(X_test_final)[:,1]\n",
    "Y_score"
   ]
  },
  {
   "cell_type": "markdown",
   "metadata": {},
   "source": [
    "Chuẩn hóa Y_score về khoảng [0,1]"
   ]
  },
  {
   "cell_type": "code",
   "execution_count": 58,
   "metadata": {
    "scrolled": true
   },
   "outputs": [
    {
     "data": {
      "text/plain": [
       "array([0.05896495, 0.18134058, 0.05476987, ..., 0.29289787, 0.40032873,\n",
       "       0.11219235])"
      ]
     },
     "execution_count": 58,
     "metadata": {},
     "output_type": "execute_result"
    }
   ],
   "source": [
    "Y_copy = np.copy(Y_score)\n",
    "for i in range(len(Y_score)):\n",
    "    Y_score[i] = (Y_copy[i] - Y_copy.min()) / (Y_copy.max() - Y_copy.min())\n",
    "Y_score"
   ]
  },
  {
   "cell_type": "markdown",
   "metadata": {},
   "source": [
    "Để quyết định một khách hàng là tốt hay xấu, cần chọn một ngưỡng (threshold). Ví dụ với threshold = 0.5, những khách hàng có Y_score > 0.5 là khách hàng xấu và ngược lại. Ta sẽ kiểm tra xem khả năng phân loại của model với ngưỡng này như thế nào."
   ]
  },
  {
   "cell_type": "code",
   "execution_count": 62,
   "metadata": {},
   "outputs": [
    {
     "name": "stdout",
     "output_type": "stream",
     "text": [
      "Predicted bad customers:  4533\n",
      "TP:  2000\n",
      "FP:  2533\n",
      "Actual bad customers:  13967\n",
      "True positive rate (Recall):  0.1431946731581585\n"
     ]
    }
   ],
   "source": [
    "# số khách hàng dự đoán là xấu\n",
    "pred = np.where(Y_score > 0.5, 1, 0)\n",
    "pred_pos = pred.sum()\n",
    "print('Predicted bad customers: ', pred_pos)\n",
    "\n",
    "# số khách hàng xấu dự đoán đúng (tp)\n",
    "tp = 0\n",
    "for i in range(len(Y_test)):\n",
    "    if Y_test[i] == 1 and pred[i] == 1:\n",
    "        tp += 1\n",
    "print('TP: ', tp)\n",
    "\n",
    "# số khách hàng tốt bị dự đoán là xấu (fp)\n",
    "fp = pred_pos - tp\n",
    "print('FP: ', fp)\n",
    "\n",
    "# số khách hàng xấu thực tế\n",
    "actual_pos = Y_test.sum()\n",
    "print('Actual bad customers: ', actual_pos)\n",
    "\n",
    "#tỉ lệ loại được khách hàng xấu\n",
    "print('True positive rate (Recall): ', tp/actual_pos)\n"
   ]
  },
  {
   "cell_type": "markdown",
   "metadata": {},
   "source": [
    "Model đã dự đoán có 4533 khách hàng xấu, trong đó chỉ có 2000 dự đoán là chính xác. Số khách hàng xấu trong thực tế là 13967, như vậy tỉ lệ loại được khách hàng xấu chỉ là 14,3%."
   ]
  },
  {
   "cell_type": "markdown",
   "metadata": {},
   "source": [
    "Nếu muốn loại bỏ được tỉ lệ lớn khách hàng xấu, ta cần giảm nguỡng quyết định xuống.\n",
    "Ta sẽ kiểm tra lại với threshold = 0.1"
   ]
  },
  {
   "cell_type": "code",
   "execution_count": 73,
   "metadata": {},
   "outputs": [
    {
     "data": {
      "text/html": [
       "<div>\n",
       "<style scoped>\n",
       "    .dataframe tbody tr th:only-of-type {\n",
       "        vertical-align: middle;\n",
       "    }\n",
       "\n",
       "    .dataframe tbody tr th {\n",
       "        vertical-align: top;\n",
       "    }\n",
       "\n",
       "    .dataframe thead th {\n",
       "        text-align: right;\n",
       "    }\n",
       "</style>\n",
       "<table border=\"1\" class=\"dataframe\">\n",
       "  <thead>\n",
       "    <tr style=\"text-align: right;\">\n",
       "      <th>col_0</th>\n",
       "      <th>0</th>\n",
       "      <th>1</th>\n",
       "      <th>All</th>\n",
       "    </tr>\n",
       "    <tr>\n",
       "      <th>target</th>\n",
       "      <th></th>\n",
       "      <th></th>\n",
       "      <th></th>\n",
       "    </tr>\n",
       "  </thead>\n",
       "  <tbody>\n",
       "    <tr>\n",
       "      <th>0</th>\n",
       "      <td>11752</td>\n",
       "      <td>50538</td>\n",
       "      <td>62290</td>\n",
       "    </tr>\n",
       "    <tr>\n",
       "      <th>1</th>\n",
       "      <td>689</td>\n",
       "      <td>13278</td>\n",
       "      <td>13967</td>\n",
       "    </tr>\n",
       "    <tr>\n",
       "      <th>All</th>\n",
       "      <td>12441</td>\n",
       "      <td>63816</td>\n",
       "      <td>76257</td>\n",
       "    </tr>\n",
       "  </tbody>\n",
       "</table>\n",
       "</div>"
      ],
      "text/plain": [
       "col_0       0      1    All\n",
       "target                     \n",
       "0       11752  50538  62290\n",
       "1         689  13278  13967\n",
       "All     12441  63816  76257"
      ]
     },
     "execution_count": 73,
     "metadata": {},
     "output_type": "execute_result"
    }
   ],
   "source": [
    "pd.crosstab(Y_test, np.where(Y_score > 0.1, 1, 0), margins=True)"
   ]
  },
  {
   "cell_type": "markdown",
   "metadata": {},
   "source": [
    "Trong số 13967 khách hàng xấu trong thực tế, model đã có 13278 dự đoán đúng.\n",
    "Tỉ lệ loại được khách hàng xấu là 13728/13976 = 95%\n",
    "Tuy nhiên để đạt được điều này, model cũng đã loại đi nhầm 50538 khách hàng tốt.\n",
    "Số khách hàng có thể cho vay còn lại 12441, trong đó vẫn còn lẫn 689 khách hàng xấu, tỉ lệ là 689/12441 = 5%"
   ]
  }
 ],
 "metadata": {
  "kernelspec": {
   "display_name": "Python 3",
   "language": "python",
   "name": "python3"
  },
  "language_info": {
   "codemirror_mode": {
    "name": "ipython",
    "version": 3
   },
   "file_extension": ".py",
   "mimetype": "text/x-python",
   "name": "python",
   "nbconvert_exporter": "python",
   "pygments_lexer": "ipython3",
   "version": "3.7.6"
  }
 },
 "nbformat": 4,
 "nbformat_minor": 4
}
